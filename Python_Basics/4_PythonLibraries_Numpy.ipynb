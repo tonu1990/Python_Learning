{
  "nbformat": 4,
  "nbformat_minor": 0,
  "metadata": {
    "colab": {
      "provenance": [],
      "authorship_tag": "ABX9TyPGrYESH7+af+6AIjzwO0GP",
      "include_colab_link": true
    },
    "kernelspec": {
      "name": "python3",
      "display_name": "Python 3"
    },
    "language_info": {
      "name": "python"
    }
  },
  "cells": [
    {
      "cell_type": "markdown",
      "metadata": {
        "id": "view-in-github",
        "colab_type": "text"
      },
      "source": [
        "<a href=\"https://colab.research.google.com/github/tonu1990/Python_Learning/blob/main/Python_Basics/4_PythonLibraries_Numpy.ipynb\" target=\"_parent\"><img src=\"https://colab.research.google.com/assets/colab-badge.svg\" alt=\"Open In Colab\"/></a>"
      ]
    },
    {
      "cell_type": "markdown",
      "source": [
        "### **Numpy Introduction**"
      ],
      "metadata": {
        "id": "iKPknvy7wRgV"
      }
    },
    {
      "cell_type": "markdown",
      "source": [
        "NumPy stands for **Numerical Python**. NumPy is a Python library used for working with arrays. It also has functions for working in domain of linear algebra, fourier transform, and matrices.\n",
        "\n",
        "**Why NumPy?**\n",
        "* In Python we have **lists** that serve the purpose of arrays, but they are **slow to process**.\n",
        "\n",
        "* NumPy aims to provide an **array object** that is up to **50x faster** than traditional Python lists.\n",
        "\n",
        "* The array object in NumPy is called **ndarray**.\n",
        "\n",
        "* NumPy arrays are homogeneous, so all elements share the same datatype .\n",
        "\n",
        "\n",
        "**Why is NumPy Faster Than Lists?**\n",
        "* NumPy arrays are **stored at one continuous place** in memory unlike lists, so processes can access and manipulate them very efficiently.\n",
        "\n",
        "* This behavior is called **locality of reference** in computer science.\n",
        "\n",
        "**Which Language is NumPy written in?**\n",
        "\n",
        "* NumPy is a Python library and is written partially in Python, but most of the parts that require fast computation are written in C or C++.\n"
      ],
      "metadata": {
        "id": "bWVEcci0wYp0"
      }
    },
    {
      "cell_type": "markdown",
      "source": [
        "### **Numpy Synatax and Usage**\n",
        "\n",
        "* **NumPy as np** - NumPy is usually imported under the np alias.\n",
        "* Checking NumPy Version - The version string is stored under __version__ attribute.\n"
      ],
      "metadata": {
        "id": "9abjLSCD6WXK"
      }
    },
    {
      "cell_type": "code",
      "execution_count": 1,
      "metadata": {
        "colab": {
          "base_uri": "https://localhost:8080/"
        },
        "id": "BlNlZIaIuoE1",
        "outputId": "cf9b3465-807f-4e5e-f303-381f99cfff89"
      },
      "outputs": [
        {
          "output_type": "stream",
          "name": "stdout",
          "text": [
            "1.26.4\n"
          ]
        }
      ],
      "source": [
        "# import and check version\n",
        "\n",
        "import numpy as np\n",
        "print(np.__version__)"
      ]
    },
    {
      "cell_type": "markdown",
      "source": [
        "Note : what is double underscore with variable name __ version __ ?\n",
        "In Python, double underscores (__) before and after an attribute or method name indicate that it is a special **dunder attribute or method**. These are built-in attributes or methods that provide metadata or special behavior.\n",
        "\n",
        "Few other common dunder attributes/methods in numpy are ; __ name __ , __ file __ , __ doc __ , __ str __() , __ repr __() , __ init __()\n",
        "\n"
      ],
      "metadata": {
        "id": "faXy9RFA7RHF"
      }
    },
    {
      "cell_type": "code",
      "source": [
        "# why to use NumPy when we have List\n",
        "\n",
        "height = [1.75, 1.63 , 1.58 , 1.70]\n",
        "weight = [70 , 98 , 87 , 77]\n",
        "\n",
        "# we can not do as below directly\n",
        "try :\n",
        "  BMI = height/weight\n",
        "\n",
        "except Exception as e :\n",
        "  print(e)\n",
        "\n",
        "# Intead we will need to do something like\n",
        "# LEARN THE BELOW EFFICIENT METHOD INSTEAD OF MANUALLY TRAVERSING USING FOR LOOP\n",
        "\n",
        "# approach 1\n",
        "height_weight = zip(weight, height)\n",
        "bmi = [w/(h**2) for w , h in height_weight]\n",
        "print(bmi)\n",
        "\n",
        "# approach 2\n",
        "bmi_2 = []\n",
        "for i in range (0,len(weight)):\n",
        "  print(weight[i], height[i])\n",
        "  bmi_2.append(weight[i]/(height[i]** 2))\n",
        "print(bmi_2)\n",
        "\n",
        "\n",
        "\n",
        "# NOTE: Both approaches are of o(n) time complexicity\n",
        "# However Approach 2 will be more better in terms of memory as it uses List compreshension"
      ],
      "metadata": {
        "colab": {
          "base_uri": "https://localhost:8080/"
        },
        "id": "b4pskK9dDsn5",
        "outputId": "3c9147f8-7faa-42f0-9c84-0269f35efaa5"
      },
      "execution_count": 23,
      "outputs": [
        {
          "output_type": "stream",
          "name": "stdout",
          "text": [
            "unsupported operand type(s) for /: 'list' and 'list'\n",
            "[22.857142857142858, 36.88509164816139, 34.85018426534209, 26.643598615916957]\n",
            "70 1.75\n",
            "98 1.63\n",
            "87 1.58\n",
            "77 1.7\n",
            "[22.857142857142858, 36.88509164816139, 34.85018426534209, 26.643598615916957]\n"
          ]
        }
      ]
    },
    {
      "cell_type": "markdown",
      "source": [
        "In the above BMI calculation approach - we can use numpy to do the same by directly performing calculation on weight and height lists, instead of traversal."
      ],
      "metadata": {
        "id": "i5-j0z0wLOFR"
      }
    },
    {
      "cell_type": "markdown",
      "source": [
        "**Create a NumPy ndarray Object**\n",
        "\n",
        "* We can create a NumPy **ndarray** object by using the **array()** function.\n",
        "\n",
        "* To create an **ndarray**, we can pass a list, tuple or any array-like object into the array() method, and it will be converted into an ndarray.\n",
        "\n",
        "* check the datatype using type - **numpy.ndarray**"
      ],
      "metadata": {
        "id": "T2kVRAgG8FrL"
      }
    },
    {
      "cell_type": "code",
      "source": [
        "import numpy as np\n",
        "# creation of Numpy array\n",
        "\n",
        "# using python List\n",
        "arr_1 = np.array([1,2,3])\n",
        "print(arr_1)\n",
        "print(type(arr_1))\n",
        "\n",
        "# using python set\n",
        "arr_2 = np.array((2,3,4))\n",
        "print(arr_2)\n",
        "print(type(arr_2))\n"
      ],
      "metadata": {
        "colab": {
          "base_uri": "https://localhost:8080/"
        },
        "id": "zC87cxLBRbfa",
        "outputId": "ec6f3911-92b7-4807-f4bf-4f697e25b541"
      },
      "execution_count": 31,
      "outputs": [
        {
          "output_type": "stream",
          "name": "stdout",
          "text": [
            "[1 2 3]\n",
            "<class 'numpy.ndarray'>\n",
            "[2 3 4]\n",
            "<class 'numpy.ndarray'>\n"
          ]
        }
      ]
    },
    {
      "cell_type": "markdown",
      "source": [
        "Note :\n",
        "To an extend NumPy could be used as a  Replacement for MatLab.\n",
        "\n",
        "* \tNumPy is often used along with packages like SciPy (Scientific Python) and Mat−plotlib (plotting library).\n",
        "* This combination is widely used as a replacement for MatLab ( a popular platform for technical computing)\n",
        "* Python alternative to MatLab is now seen as a more modern and complete programming language.\n",
        "* It is open source, which is an added advantage of NumPy.\n"
      ],
      "metadata": {
        "id": "_FZqHYBDTmBQ"
      }
    },
    {
      "cell_type": "markdown",
      "source": [
        "**Array dimensions**\n",
        "\n",
        "check dimensions of a NumPy array using the **.shape** and **.ndim attributes**"
      ],
      "metadata": {
        "id": "-lWwaEk5U4dL"
      }
    },
    {
      "cell_type": "code",
      "source": [
        "# 0 dimension\n",
        "arr = np.array(42)\n",
        "print(arr)\n",
        "print(arr.shape) # check dimensions of a NumPy array using the .shape and .ndim attributes\n",
        "print(arr.ndim)"
      ],
      "metadata": {
        "colab": {
          "base_uri": "https://localhost:8080/"
        },
        "id": "y1PtUSrMTa7D",
        "outputId": "a1b05a1e-373e-406d-9d8f-dbbdc86db3a4"
      },
      "execution_count": 37,
      "outputs": [
        {
          "output_type": "stream",
          "name": "stdout",
          "text": [
            "42\n",
            "()\n",
            "0\n"
          ]
        }
      ]
    },
    {
      "cell_type": "code",
      "source": [
        "# 1 dimenion array - An array that has 0-D arrays\n",
        "\n",
        "arr = np.array([1, 2, 3, 4, 5])\n",
        "print(arr)\n",
        "print(arr.shape) # check dimensions of a NumPy array using the .shape and .ndim attributes\n",
        "print(arr.ndim)"
      ],
      "metadata": {
        "colab": {
          "base_uri": "https://localhost:8080/"
        },
        "id": "CkyRziP-VA2a",
        "outputId": "38ca7149-4961-403a-8179-d4886f7814d6"
      },
      "execution_count": 38,
      "outputs": [
        {
          "output_type": "stream",
          "name": "stdout",
          "text": [
            "[1 2 3 4 5]\n",
            "(5,)\n",
            "1\n"
          ]
        }
      ]
    },
    {
      "cell_type": "code",
      "source": [
        "# 2d arrays - an array with 1d array as its elements\n",
        "\n",
        "arr =np.array([[1,2,3],[4,5,6]])\n",
        "print(arr)\n",
        "print(arr.shape)\n",
        "print(arr.ndim)"
      ],
      "metadata": {
        "colab": {
          "base_uri": "https://localhost:8080/"
        },
        "id": "q462mbjJV5F1",
        "outputId": "92120a03-c565-4021-c528-f5211f46561c"
      },
      "execution_count": 42,
      "outputs": [
        {
          "output_type": "stream",
          "name": "stdout",
          "text": [
            "[[1 2 3]\n",
            " [4 5 6]]\n",
            "(2, 3)\n",
            "2\n"
          ]
        }
      ]
    },
    {
      "cell_type": "code",
      "source": [
        "# 3d arrays\n",
        "\n",
        "arr = np.array([[[1,2,3],[2,3,4]],[[3,4,5],[4,5,6]]])\n",
        "print(arr)\n",
        "print(arr.shape)\n",
        "print(arr.ndim)"
      ],
      "metadata": {
        "colab": {
          "base_uri": "https://localhost:8080/"
        },
        "id": "0H5NwUZzWwvp",
        "outputId": "6bedaf12-b24c-4765-aaad-ddef46e0c1f8"
      },
      "execution_count": 43,
      "outputs": [
        {
          "output_type": "stream",
          "name": "stdout",
          "text": [
            "[[[1 2 3]\n",
            "  [2 3 4]]\n",
            "\n",
            " [[3 4 5]\n",
            "  [4 5 6]]]\n",
            "(2, 2, 3)\n",
            "3\n"
          ]
        }
      ]
    },
    {
      "cell_type": "markdown",
      "source": [
        "**Higher Dimensional Arrays**\n",
        "\n",
        "* An array can have any number of dimensions.\n",
        "\n",
        "* When the array is created, you can define the number of dimensions by using the **ndmin argumen**t.\n",
        "\n",
        "Note the difference -  **ndmin** for defining dimension and attribute **.ndim** to get dimeniosn"
      ],
      "metadata": {
        "id": "g6xV94C3XZZc"
      }
    },
    {
      "cell_type": "code",
      "source": [
        "# Create an array with 5 dimensions and verify that it has 5 dimensions\n",
        "\n",
        "import numpy as np\n",
        "\n",
        "arr = np.array([1, 2, 3, 4], ndmin=2)\n",
        "\n",
        "print(arr)\n",
        "print('number of dimensions :', arr.ndim)"
      ],
      "metadata": {
        "colab": {
          "base_uri": "https://localhost:8080/"
        },
        "id": "ZpbRXu2ueBHW",
        "outputId": "fd19a044-8312-4447-ac6e-034f1d3acd96"
      },
      "execution_count": 46,
      "outputs": [
        {
          "output_type": "stream",
          "name": "stdout",
          "text": [
            "[[1 2 3 4]]\n",
            "number of dimensions : 2\n"
          ]
        }
      ]
    },
    {
      "cell_type": "markdown",
      "source": [
        "### **NumPy Array Indexing**\n",
        "\n",
        "* Array indexing is the same as accessing an array element.\n",
        "\n",
        "* You can access an array element by referring to its index number.\n",
        "\n",
        "* To access elements from 2-D arrays we can use comma separated integers representing the dimension and the index of the element , like arr[0, 1]\n",
        "\n",
        "* To access elements from 3-D arrays we can use comma separated integers representing the dimensions and the index of the element.\n",
        "\n",
        "  * Example : Access the third element of the second array of the first array - arr[0,1,2]\n",
        "\n",
        "* Use negative indexing to access an array from the end.\n",
        "\n"
      ],
      "metadata": {
        "id": "isMux3-gfaaJ"
      }
    },
    {
      "cell_type": "code",
      "source": [
        "# accessing array elements\n",
        "\n",
        "print(\"Zero dimension arrays \")\n",
        "arr = np.array(3)\n",
        "print(arr) # zero dimension array indexing\n",
        "\n",
        "print(\"One dimension arrays : single element \")\n",
        "# 1 dimensional array\n",
        "arr_1 = np.array([3]) # single element 1d array - diferent from 0d array\n",
        "print(arr_1[0]) # One dimension array indexing\n",
        "print(arr_1[-1]) # For single-element array -1 refers to the only element in the array\n",
        "\n",
        "print(\"One dimension arrays : multiple element \")\n",
        "arr = np.array([1,2,3,4,5])\n",
        "print(arr[0]) # One dimension array indexing\n",
        "print(arr[-1]) # negetive indexing\n",
        "\n",
        "\n",
        "print(\"Two dimension arrays \")\n",
        "arr = np.array([[2,3,4],[1,2,0]])\n",
        "print(arr[0]) # gives first One dimension array\n",
        "print(arr[0 ,2]) # gives 3rd element of first 1D array\n",
        "print(arr[-1]) # gives last one dimensional array\n",
        "print(arr[-1 , -1]) # gives last element of last 1D array\n",
        "\n",
        "\n",
        "print(\"Three dimension arrays \")\n",
        "arr = np.array([[[2,4,6],[7,4,2]],[[9,4,7],[6,3,1]],[[9,3,1],[8,4,1]]])\n",
        "print(arr)\n",
        "print(arr.shape)\n",
        "print(arr.ndim)\n",
        "\n",
        "print(arr[0, 1, 2]) # third element of the second array of the first array\n",
        "print(arr[-1, -2, -3]) # CHECK THIS NEGETIVE INDEXING AND UNDERSTAND\n"
      ],
      "metadata": {
        "colab": {
          "base_uri": "https://localhost:8080/"
        },
        "id": "_ecvs01lgba4",
        "outputId": "f3491294-bc9e-4616-ff18-4dbda03a073b"
      },
      "execution_count": 77,
      "outputs": [
        {
          "output_type": "stream",
          "name": "stdout",
          "text": [
            "Zero dimension arrays \n",
            "3\n",
            "One dimension arrays : single element \n",
            "3\n",
            "3\n",
            "One dimension arrays : multiple element \n",
            "1\n",
            "5\n",
            "Two dimension arrays \n",
            "[2 3 4]\n",
            "4\n",
            "[1 2 0]\n",
            "0\n",
            "Three dimension arrays \n",
            "[[[2 4 6]\n",
            "  [7 4 2]]\n",
            "\n",
            " [[9 4 7]\n",
            "  [6 3 1]]\n",
            "\n",
            " [[9 3 1]\n",
            "  [8 4 1]]]\n",
            "(3, 2, 3)\n",
            "3\n",
            "2\n",
            "9\n"
          ]
        }
      ]
    },
    {
      "cell_type": "markdown",
      "source": [
        "**Note : Padas dataframe to Numpy array**\n",
        "\n",
        "You can also use this function np.array() to convert series or dataframes into a NumPy array.\n"
      ],
      "metadata": {
        "id": "zqVXoiGlMFvm"
      }
    },
    {
      "cell_type": "code",
      "source": [
        "# Pandas dataframe to numpy array\n",
        "import pandas as pd\n",
        "sex = pd.Series(['Male','Male','Female'])\n",
        "arr = np.array(sex)\n",
        "print(arr)\n",
        "print(type(sex))\n",
        "print(type(arr))"
      ],
      "metadata": {
        "colab": {
          "base_uri": "https://localhost:8080/"
        },
        "id": "AsqIJq_ZMLkz",
        "outputId": "0e3c9730-e234-4174-a310-0a364e85b35f"
      },
      "execution_count": 128,
      "outputs": [
        {
          "output_type": "stream",
          "name": "stdout",
          "text": [
            "['Male' 'Male' 'Female']\n",
            "<class 'pandas.core.series.Series'>\n",
            "<class 'numpy.ndarray'>\n"
          ]
        }
      ]
    },
    {
      "cell_type": "markdown",
      "source": [
        "**NOTE**:\n",
        "\n",
        "Numpy has got various other ways of creating an array as shown in below. Few of them will be discussed later.\n",
        "\n",
        "![image.png](data:image/png;base64,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)"
      ],
      "metadata": {
        "id": "68qDgFWDLms_"
      }
    },
    {
      "cell_type": "markdown",
      "source": [
        "### **NumPy Array Slicing**\n",
        "\n",
        "* Slicing in python means **taking elements from one given index to another given index.**\n",
        "\n",
        "* We pass slice instead of index like this: **[start:end] OR [start:end:step]** .\n",
        "\n",
        "* If we don't pass start its considered 0 , if we don't pass end its considered length of array in that dimension and if we don't pass step its considered 1.\n"
      ],
      "metadata": {
        "id": "2FjE8JObgPlS"
      }
    },
    {
      "cell_type": "code",
      "source": [
        "# 1 Dimensional array slicing\n",
        "\n",
        "import numpy as np\n",
        "\n",
        "arr = np.array([1, 2, 3, 4, 5, 6, 7])\n",
        "\n",
        "#  index 1 to index 5\n",
        "print(arr[1:5])\n",
        "\n",
        "#  index 4 to the end of the array\n",
        "print(arr[4:])\n",
        "\n",
        "# elements from the beginning to index 4 (not included)\n",
        "print(arr[:4])\n",
        "\n",
        "\n",
        "## NEGATIVE SLICING######\n",
        "\n",
        "# from the index 3 from the end to index 1 from the end\n",
        "print(arr[-3:-1])\n",
        "print(arr[-2:-4:-1]) # this also return the same elements but in different order\n",
        "\n",
        "# every alternate element from index 1 to index 5\n",
        "print(arr[1:4:2])\n",
        "\n",
        "# every alternate element from begining to end\n",
        "print(arr[::2])"
      ],
      "metadata": {
        "colab": {
          "base_uri": "https://localhost:8080/"
        },
        "id": "sZGYmjFipbj3",
        "outputId": "27c727c4-16e4-4c71-a881-fb67a52dcac2"
      },
      "execution_count": 87,
      "outputs": [
        {
          "output_type": "stream",
          "name": "stdout",
          "text": [
            "[2 3 4 5]\n",
            "[5 6 7]\n",
            "[1 2 3 4]\n",
            "[5 6]\n",
            "[6 5]\n",
            "[2 4]\n",
            "[1 3 5 7]\n"
          ]
        }
      ]
    },
    {
      "cell_type": "code",
      "source": [
        "# Slicing 2-D Arrays\n",
        "\n",
        "arr = np.array([[1, 2, 3, 4, 5], [6, 7, 8, 9, 10]])\n",
        "\n",
        "# from second element, slice elements from index 1 to index 4 (not included)\n",
        "print(\"from second element, slice elements from index 1 to index 4\")\n",
        "print(arr[1, 1:4])\n",
        "\n",
        "# from both elements, return index 2\n",
        "print(\"from both elements, return index 2\")\n",
        "print(arr[0:2 , 2])  ###### TRICKY LEARN THIS ##########\n",
        "\n",
        "# from both elements, slice index 1 to index 4 (not included), this will return a 2-D array\n",
        "print(\"from both elements, slice index 1 to index 4 (not included), this will return a 2-D array\")\n",
        "print(arr[0:2 , 1:4])\n",
        "\n"
      ],
      "metadata": {
        "colab": {
          "base_uri": "https://localhost:8080/"
        },
        "id": "TCLksNpprO3Y",
        "outputId": "4c58aa77-46fe-4ed5-b741-2c0bf256fa1b"
      },
      "execution_count": 89,
      "outputs": [
        {
          "output_type": "stream",
          "name": "stdout",
          "text": [
            "from second element, slice elements from index 1 to index 4\n",
            "[7 8 9]\n",
            "from both elements, return index 2\n",
            "[3 8]\n",
            "from both elements, slice index 1 to index 4 (not included), this will return a 2-D array\n",
            "[[2 3 4]\n",
            " [7 8 9]]\n"
          ]
        }
      ]
    },
    {
      "cell_type": "markdown",
      "source": [
        "### **Data Types in NumPy**\n",
        "\n",
        "* NumPy has some extra data types, and refer to data types with one character, like i for integers, u for unsigned integers etc.\n",
        "\n",
        "* check the datatype using dtype attribute of numpy array object\n",
        "\n",
        "* NumPy arrays are homogeneous, so all elements share the same dtype\n",
        "\n",
        "**type(array) vs array.dtype**??\n",
        "* type(array) - It tells what kind of object array is (like numpy array , list , set etc..)\n",
        "* array.dtype - It tells what data type the elements inside the NumPy array have.\n",
        "\n",
        "![image.png](data:image/png;base64,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)"
      ],
      "metadata": {
        "id": "-S4MUvh0tlLl"
      }
    },
    {
      "cell_type": "code",
      "source": [
        "import numpy as np\n",
        "\n",
        "# example numpy datatypes\n",
        "arr = np.array([1, 2, 3, 4])\n",
        "print(arr.dtype)\n",
        "\n",
        "arr = np.array([True, False, False, True])\n",
        "print(arr.dtype)\n",
        "\n",
        "arr = np.array([\"apple\", \"banana\", \"cherry\"])\n",
        "print(arr.dtype)"
      ],
      "metadata": {
        "colab": {
          "base_uri": "https://localhost:8080/"
        },
        "id": "TjlNh3-qt4-i",
        "outputId": "62dd5327-a126-4202-ff96-3e8b21aea838"
      },
      "execution_count": 94,
      "outputs": [
        {
          "output_type": "stream",
          "name": "stdout",
          "text": [
            "int64\n",
            "bool\n",
            "<U6\n"
          ]
        }
      ]
    },
    {
      "cell_type": "code",
      "source": [
        "# Converting Data Type on Existing Arrays - make a copy of the array with the astype() method.\n",
        "\n",
        "arr = np.array([1.1, 2.1, 3.1])\n",
        "print(arr)\n",
        "print(arr.dtype)\n",
        "\n",
        "newarr = arr.astype('i') # or use arr.astype(int)\n",
        "print(newarr)\n",
        "print(newarr.dtype)\n",
        "\n",
        "# float/integer to boolean - only zero is False , all other +/- are True\n",
        "\n",
        "arr = np.array([2.5,-3.5 , 9 , 0 ,1 ])\n",
        "arr_bool = arr.astype('bool')\n",
        "print(arr_bool)  # NOTE : Any int/float(positive or negative) other than 0 converts to True"
      ],
      "metadata": {
        "colab": {
          "base_uri": "https://localhost:8080/"
        },
        "id": "bXkKSAWUxdu5",
        "outputId": "07b0ae2e-0b4d-4cfb-b55c-a2ebc4a13eb5"
      },
      "execution_count": 97,
      "outputs": [
        {
          "output_type": "stream",
          "name": "stdout",
          "text": [
            "[1.1 2.1 3.1]\n",
            "float64\n",
            "[1 2 3]\n",
            "int32\n",
            "[ True  True  True False  True]\n"
          ]
        }
      ]
    },
    {
      "cell_type": "markdown",
      "source": [
        "**Numpy array creation with a defined datatype**\n",
        "\n",
        "array() function  with an optional argument: **dtype** that allows us to define the expected data type of the array elements\n",
        "\n"
      ],
      "metadata": {
        "id": "IKCJMiDctwZb"
      }
    },
    {
      "cell_type": "code",
      "source": [
        "import numpy as np\n",
        "\n",
        "# Integer\n",
        "arr = np.array([1.2, 2.2, 3, 4], dtype='i') # we can use i/i4 for int32, int for int64\n",
        "print(arr)\n",
        "print(arr.dtype)\n",
        "\n",
        "\n",
        "# string\n",
        "arr = np.array([1, 2, 3, 412], dtype='S') # NumPy converts each element into a byte string representation (b'' notation)\n",
        "print(arr)\n",
        "print(arr.dtype)"
      ],
      "metadata": {
        "colab": {
          "base_uri": "https://localhost:8080/"
        },
        "id": "U5gD2lo93Q10",
        "outputId": "73575724-8eaa-43c8-9d4d-7286aed406a8"
      },
      "execution_count": 108,
      "outputs": [
        {
          "output_type": "stream",
          "name": "stdout",
          "text": [
            "[1 2 3 4]\n",
            "int32\n",
            "[b'1' b'2' b'3' b'412']\n",
            "|S3\n"
          ]
        }
      ]
    },
    {
      "cell_type": "markdown",
      "source": [
        "![image.png](data:image/png;base64,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)"
      ],
      "metadata": {
        "id": "jNLfdk2kKFIw"
      }
    },
    {
      "cell_type": "markdown",
      "source": [
        "## **Other Numpy creation Methods and Approaches**"
      ],
      "metadata": {
        "id": "nRCq8BxoNKaB"
      }
    },
    {
      "cell_type": "markdown",
      "source": [
        "### **Numpy creation using NumPy arange()**\n",
        "\n",
        "* NumPy offers a lot of array creation routines for different circumstances. arange() is one such function based on numerical ranges.\n",
        "\n",
        "* It creates an instance of ndarray with evenly spaced values and returns the reference to it.\n",
        "\n",
        "* syntax : numpy.arange(start,stop, step,, dtype=None)\n",
        "  * The value of stop not included (half-open interval)\n",
        "  * You have to provide at least one argument to arange(). To be more precise, you have to provide stop.\n",
        "\n"
      ],
      "metadata": {
        "id": "gAJwwj-h4bYK"
      }
    },
    {
      "cell_type": "code",
      "source": [
        "# Numpy array creation using arrange\n",
        "\n",
        "arr = np.arange(start=1, stop=10, step=3) # np.arange(1, 10, 3) is also same\n",
        "print(arr)\n",
        "\n",
        "\n",
        "# stop slightly greater than 10\n",
        "arr =np.arange(1, 10.1, 3) #  creates an array of floating-point numbers\n",
        "print(arr)\n",
        "\n",
        "arr =np.arange(1, 10.1, 3, dtype='int') # define datatype of we need integer specifically\n",
        "print(arr)\n",
        "\n",
        "# omit step => arange() uses its default value of 1\n",
        "arr = np.arange(start=1, stop=10) # equivalent statements np.arange(1, 10) , np.arange(start=1, stop=10, step=1)\n",
        "print(arr)\n",
        "\n",
        "\n",
        "# only one argument = interpreted as the stop value, while the start is automatically set to 0, and the default step is 1.\n",
        "arr = np.arange(12)\n",
        "print(arr)\n",
        "\n",
        "# negative arguments (negative values for start , stop)\n",
        "\n",
        "arr = np.arange(-8, -1)\n",
        "print(arr)\n",
        "\n",
        "arr = np.arange(-8, -1 , 2)\n",
        "print(arr)\n",
        "\n",
        "arr = np.arange(-8, -1 , 2)\n",
        "print(arr)\n",
        "\n",
        "arr = np.arange(-1, -8 , -2)\n",
        "print(arr)"
      ],
      "metadata": {
        "colab": {
          "base_uri": "https://localhost:8080/"
        },
        "id": "sVgEMt5lFeMO",
        "outputId": "fee2cc6c-b64a-4d21-8c0b-59929018aaa8"
      },
      "execution_count": 119,
      "outputs": [
        {
          "output_type": "stream",
          "name": "stdout",
          "text": [
            "[1 4 7]\n",
            "[ 1.  4.  7. 10.]\n",
            "[ 1  4  7 10]\n",
            "[1 2 3 4 5 6 7 8 9]\n",
            "[ 0  1  2  3  4  5  6  7  8  9 10 11]\n",
            "[-8 -7 -6 -5 -4 -3 -2]\n",
            "[-8 -6 -4 -2]\n",
            "[-8 -6 -4 -2]\n",
            "[-1 -3 -5 -7]\n"
          ]
        }
      ]
    },
    {
      "cell_type": "markdown",
      "source": [
        "Qtn : How to get empty array using arrange\n",
        "\n",
        "Sol: use start and stop appropriately.\n"
      ],
      "metadata": {
        "id": "K0_rIs3NIq9M"
      }
    },
    {
      "cell_type": "code",
      "source": [
        "# empty array using arrange\n",
        "\n",
        "arr = np.arange(start=2 , stop =1)\n",
        "print(arr)\n",
        "\n",
        "arr = np.arange(start=2 , stop =2)\n",
        "print(arr)\n",
        "\n",
        "arr = np.arange(start=1 , stop =3 , step =-5)\n",
        "print(arr)"
      ],
      "metadata": {
        "colab": {
          "base_uri": "https://localhost:8080/"
        },
        "id": "zjDy1AuGI-JH",
        "outputId": "8ae648e9-93d0-4f6e-9af9-daba3302ca54"
      },
      "execution_count": 126,
      "outputs": [
        {
          "output_type": "stream",
          "name": "stdout",
          "text": [
            "[]\n",
            "[]\n",
            "[]\n"
          ]
        }
      ]
    },
    {
      "cell_type": "markdown",
      "source": [],
      "metadata": {
        "id": "8fIk2AHEMykN"
      }
    },
    {
      "cell_type": "markdown",
      "source": [
        "### **Numpy array creation using Linspace**\n",
        "\n",
        "* linspace() function is often used to generate evenly spaced values over a specified interval, making it a useful tool for tasks that require precise numerical ranges,\n"
      ],
      "metadata": {
        "id": "SEdnenwuNT-J"
      }
    },
    {
      "cell_type": "code",
      "source": [
        "import numpy as np\n",
        "\n",
        "print(\"Numpy Line space 1\")\n",
        "arr = np.linspace(1, 10) # start =1 , end=10(including value) , steps=50 default value\n",
        "print(arr)\n",
        "\n",
        "print(\"Numpy Line space 2\")\n",
        "arr = np.linspace(start=-5, stop=5, num=10)\n",
        "print(arr)\n",
        "\n",
        "\n",
        "# half open interval - end value excluded\n",
        "print(\"Numpy Line space 3\")\n",
        "arr =np.linspace(-5, 5, 20, endpoint=False)\n",
        "print(arr)"
      ],
      "metadata": {
        "colab": {
          "base_uri": "https://localhost:8080/"
        },
        "id": "9SZXKNsHOS_0",
        "outputId": "5c8b1e34-692c-4ac8-f7bf-7035911dd1ae"
      },
      "execution_count": 141,
      "outputs": [
        {
          "output_type": "stream",
          "name": "stdout",
          "text": [
            "Numpy Line space 1\n",
            "[ 1.          1.18367347  1.36734694  1.55102041  1.73469388  1.91836735\n",
            "  2.10204082  2.28571429  2.46938776  2.65306122  2.83673469  3.02040816\n",
            "  3.20408163  3.3877551   3.57142857  3.75510204  3.93877551  4.12244898\n",
            "  4.30612245  4.48979592  4.67346939  4.85714286  5.04081633  5.2244898\n",
            "  5.40816327  5.59183673  5.7755102   5.95918367  6.14285714  6.32653061\n",
            "  6.51020408  6.69387755  6.87755102  7.06122449  7.24489796  7.42857143\n",
            "  7.6122449   7.79591837  7.97959184  8.16326531  8.34693878  8.53061224\n",
            "  8.71428571  8.89795918  9.08163265  9.26530612  9.44897959  9.63265306\n",
            "  9.81632653 10.        ]\n",
            "Numpy Line space 2\n",
            "[-5.         -3.88888889 -2.77777778 -1.66666667 -0.55555556  0.55555556\n",
            "  1.66666667  2.77777778  3.88888889  5.        ]\n",
            "Numpy Line space 3\n",
            "[-5.  -4.5 -4.  -3.5 -3.  -2.5 -2.  -1.5 -1.  -0.5  0.   0.5  1.   1.5\n",
            "  2.   2.5  3.   3.5  4.   4.5]\n"
          ]
        }
      ]
    },
    {
      "cell_type": "code",
      "source": [
        "# creating higher dimension numpy array\n",
        "print(\"Numpy Line space 4 : higher dimension numpy array\")\n",
        "output = np.linspace(start=[2, 5, 9], stop=[100, 130, 160], num=10) # creates a 2D array (10 rows, 3 columns).\n",
        "\n",
        "print(output.shape)\n",
        "print(output.ndim)\n",
        "print(output)\n",
        ""
      ],
      "metadata": {
        "colab": {
          "base_uri": "https://localhost:8080/"
        },
        "id": "5hX8JAvNSjiO",
        "outputId": "4491f553-0e55-4741-e704-f20fd522f114"
      },
      "execution_count": 144,
      "outputs": [
        {
          "output_type": "stream",
          "name": "stdout",
          "text": [
            "Numpy Line space 4 : higher dimension numpy array\n",
            "(10, 3)\n",
            "2\n",
            "[[  2.           5.           9.        ]\n",
            " [ 12.88888889  18.88888889  25.77777778]\n",
            " [ 23.77777778  32.77777778  42.55555556]\n",
            " [ 34.66666667  46.66666667  59.33333333]\n",
            " [ 45.55555556  60.55555556  76.11111111]\n",
            " [ 56.44444444  74.44444444  92.88888889]\n",
            " [ 67.33333333  88.33333333 109.66666667]\n",
            " [ 78.22222222 102.22222222 126.44444444]\n",
            " [ 89.11111111 116.11111111 143.22222222]\n",
            " [100.         130.         160.        ]]\n"
          ]
        }
      ]
    },
    {
      "cell_type": "markdown",
      "source": [
        "## **Numpy array/matrix creation using np.zeros , ones , random**"
      ],
      "metadata": {
        "id": "AovChF87T-4B"
      }
    },
    {
      "cell_type": "markdown",
      "source": [
        "https://medium.com/@ayeshasidhikha188/numpy-functions-empty-zeros-ones-full-eye-identity-1b4f8a524d7f"
      ],
      "metadata": {
        "id": "y6zHJJItUWnB"
      }
    },
    {
      "cell_type": "markdown",
      "source": [
        "## **Best Numpy Methods for Data Science**"
      ],
      "metadata": {
        "id": "zs2KV0rtMqTX"
      }
    }
  ]
}