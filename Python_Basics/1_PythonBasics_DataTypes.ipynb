{
  "nbformat": 4,
  "nbformat_minor": 0,
  "metadata": {
    "colab": {
      "provenance": [],
      "authorship_tag": "ABX9TyOC14IC67U65jqotZKS7CgS",
      "include_colab_link": true
    },
    "kernelspec": {
      "name": "python3",
      "display_name": "Python 3"
    },
    "language_info": {
      "name": "python"
    }
  },
  "cells": [
    {
      "cell_type": "markdown",
      "metadata": {
        "id": "view-in-github",
        "colab_type": "text"
      },
      "source": [
        "<a href=\"https://colab.research.google.com/github/tonu1990/Python_Learning/blob/main/Python_Basics/1_PythonBasics_DataTypes.ipynb\" target=\"_parent\"><img src=\"https://colab.research.google.com/assets/colab-badge.svg\" alt=\"Open In Colab\"/></a>"
      ]
    },
    {
      "cell_type": "markdown",
      "source": [
        "Python is **interpreted programing language** and at the same time a **scripting language** .\n",
        "\n",
        "\n",
        "1.   A high-level programming language that is interpreted by another program at runtime (interpreted programming language )\n",
        "\n",
        "2.  Python is a scripting language -  a type of programming language specifically designed for automating tasks.  But remeber python is not a client side scripting language because it doesn't run directly in the browser, as like JavaScript run on the user's browser. However Python is a powerful **server-side scripting language**.\n",
        "Server-side scripting refers to scripts that run on a web server, often used to handle user requests, interact with databases, or generate dynamic content for web pages.Frameworks like **Django and Flask** make Python popular for web development, enabling database manipulation and dynamic content delivery.\n"
      ],
      "metadata": {
        "id": "Ic6VXJVwnR_v"
      }
    },
    {
      "cell_type": "markdown",
      "source": [
        "**Python comments** - Single line comments and multi line comments ;\n",
        "\n",
        "\n",
        "1.   Using # , which is the appropriate one for comment\n",
        "2.   using string literals - A string literal, whether it spans one line or multiple lines, is not ignored by the Python interpreter.\n"
      ],
      "metadata": {
        "id": "abTkqzHetPXK"
      }
    },
    {
      "cell_type": "code",
      "source": [
        "# this single line comment using #\n",
        "\n",
        "\n",
        "'''This is an\n",
        "examaple of string literal comment\n",
        "using single quotes '''\n",
        "\n",
        "\n",
        "# This is an\n",
        "# examaple of multi line comment\n",
        "# using #"
      ],
      "metadata": {
        "colab": {
          "base_uri": "https://localhost:8080/",
          "height": 35
        },
        "id": "mRyDdEKaulpD",
        "outputId": "fdd1baad-c679-45da-b40d-e01c107fd07e"
      },
      "execution_count": null,
      "outputs": [
        {
          "output_type": "execute_result",
          "data": {
            "text/plain": [
              "'This is an \\nexamaple of string literal comment \\nusing single quotes '"
            ],
            "application/vnd.google.colaboratory.intrinsic+json": {
              "type": "string"
            }
          },
          "metadata": {},
          "execution_count": 4
        }
      ]
    },
    {
      "cell_type": "markdown",
      "source": [
        "**Assigning values to Variables in Python**"
      ],
      "metadata": {
        "id": "1W3K7eNRNXSh"
      }
    },
    {
      "cell_type": "code",
      "execution_count": null,
      "metadata": {
        "colab": {
          "base_uri": "https://localhost:8080/"
        },
        "id": "WQHQJ9MqK-fo",
        "outputId": "736737cd-d23a-4e7e-caf2-2e1da6e9a4c9"
      },
      "outputs": [
        {
          "output_type": "stream",
          "name": "stdout",
          "text": [
            "Dublin\n"
          ]
        }
      ],
      "source": [
        "# assign value to site_name variable\n",
        "\n",
        "site_name = 'Dublin'\n",
        "\n",
        "print(site_name)"
      ]
    },
    {
      "cell_type": "code",
      "source": [
        "#Triple Quotes in Python -  write strings that span multiple lines\n",
        "\n",
        "mul_line_statement = \"\"\" Hello All ,\n",
        "this is an example of ....,\n",
        "Multiline Statement...\n",
        "Lets print it now ...\"\"\"\n",
        "\n",
        "print(mul_line_statement)"
      ],
      "metadata": {
        "colab": {
          "base_uri": "https://localhost:8080/"
        },
        "id": "fMvn96_tmqm-",
        "outputId": "fbef87e7-b765-43b8-f385-d92d5a4d8060"
      },
      "execution_count": null,
      "outputs": [
        {
          "output_type": "stream",
          "name": "stdout",
          "text": [
            " Hello All ,\n",
            "this is an example of ....,\n",
            "Multiline Statement...\n",
            "Lets print it now ...\n"
          ]
        }
      ]
    },
    {
      "cell_type": "code",
      "source": [
        "# Assigning multiple values to multiple variables\n",
        "\n",
        "a, b, c , d = 5, 3.2, 'Hello' , \"Tonu\"\n",
        "\n",
        "print(a)\n",
        "print(b)\n",
        "print(c)\n",
        "print(d)"
      ],
      "metadata": {
        "colab": {
          "base_uri": "https://localhost:8080/"
        },
        "id": "0rT_TC8Pzrcb",
        "outputId": "59ce2310-78b2-4a0b-a5dc-bb2d67b0d52e"
      },
      "execution_count": null,
      "outputs": [
        {
          "output_type": "stream",
          "name": "stdout",
          "text": [
            "5\n",
            "3.2\n",
            "Hello\n",
            "Tonu\n"
          ]
        }
      ]
    },
    {
      "cell_type": "code",
      "source": [
        "# concatenation operator + on variables\n",
        "\n",
        "print (a+b)\n",
        "print(c+d)\n"
      ],
      "metadata": {
        "colab": {
          "base_uri": "https://localhost:8080/"
        },
        "id": "P_O7i_58z8bP",
        "outputId": "683416f9-c4d4-4c04-a161-b6d22f4f84df"
      },
      "execution_count": null,
      "outputs": [
        {
          "output_type": "stream",
          "name": "stdout",
          "text": [
            "8.2\n",
            "HelloTonu\n"
          ]
        }
      ]
    },
    {
      "cell_type": "code",
      "source": [
        "# concatenate + with string and integer\n",
        "\n",
        "# this will give error\n",
        "\n",
        "print(b+c)"
      ],
      "metadata": {
        "colab": {
          "base_uri": "https://localhost:8080/",
          "height": 176
        },
        "id": "Xox90D3O0Sr1",
        "outputId": "56d2e113-f856-41a9-a0bc-b0db1556c827"
      },
      "execution_count": null,
      "outputs": [
        {
          "output_type": "error",
          "ename": "TypeError",
          "evalue": "unsupported operand type(s) for +: 'float' and 'str'",
          "traceback": [
            "\u001b[0;31m---------------------------------------------------------------------------\u001b[0m",
            "\u001b[0;31mTypeError\u001b[0m                                 Traceback (most recent call last)",
            "\u001b[0;32m<ipython-input-10-47d27f90e239>\u001b[0m in \u001b[0;36m<cell line: 0>\u001b[0;34m()\u001b[0m\n\u001b[1;32m      1\u001b[0m \u001b[0;31m# concatenate + with string and integer\u001b[0m\u001b[0;34m\u001b[0m\u001b[0;34m\u001b[0m\u001b[0m\n\u001b[1;32m      2\u001b[0m \u001b[0;34m\u001b[0m\u001b[0m\n\u001b[0;32m----> 3\u001b[0;31m \u001b[0mprint\u001b[0m\u001b[0;34m(\u001b[0m\u001b[0mb\u001b[0m\u001b[0;34m+\u001b[0m\u001b[0mc\u001b[0m\u001b[0;34m)\u001b[0m\u001b[0;34m\u001b[0m\u001b[0;34m\u001b[0m\u001b[0m\n\u001b[0m",
            "\u001b[0;31mTypeError\u001b[0m: unsupported operand type(s) for +: 'float' and 'str'"
          ]
        }
      ]
    },
    {
      "cell_type": "markdown",
      "source": [
        "**TIP about error handling **\n",
        "\n",
        "In tutorial examples like above, if we want to show error/exception but still without effecting remaining program work flow - use excaetion handling in python.\n",
        "\n",
        "Use try: ... except:"
      ],
      "metadata": {
        "id": "qDF0AHaAIvak"
      }
    },
    {
      "cell_type": "code",
      "source": [
        "# previous code with exception handling\n",
        "\n",
        "a, b, c , d = 5, 3.2, 'Hello' , \"Tonu\"\n",
        "\n",
        "try :\n",
        "  print(b+c)\n",
        "\n",
        "except Exception as e: # or use \"TypeError as e\" if we know the exact error\n",
        "  print(e)\n"
      ],
      "metadata": {
        "colab": {
          "base_uri": "https://localhost:8080/"
        },
        "id": "F365zeI-JgwN",
        "outputId": "7be6555a-9eca-4e6a-ff52-23c030b4b0f2"
      },
      "execution_count": 24,
      "outputs": [
        {
          "output_type": "stream",
          "name": "stdout",
          "text": [
            "unsupported operand type(s) for +: 'float' and 'str'\n"
          ]
        }
      ]
    },
    {
      "cell_type": "markdown",
      "source": [
        "**\"*In Python everything is an object*\"**\n",
        "\n",
        "It means that almost everything that you use: is an instance of a class and has attributes.I say \"almost\" because this doesn't hold for keywords (such as for, if, def etc).When you define a variable, Python creates a pointer to an object in memory. This object is an instance of a class. You can use the function type() to see the class your variable belongs to.\n",
        "\n",
        "NOTE: You will also see similar sentances like ;\n",
        "\n",
        "\n",
        "1. **Python is a dynamically typed language**- *You don’t need to declare variable types explicitly; the type is determined at runtime*\n",
        "2. **Python is a strongly typed language**- Y*ou cannot perform operations between incompatible types without explicit conversion (e.g., adding a string and an integer will raise an error).*\n",
        "3.**Python is an interpreted language** - *Python code is executed line by line, without the need for compilation into machine code*\n",
        "4. **Python is platform-independent** - *Python code can run on multiple operating systems with minimal or no modification, thanks to its interpreter.*\n",
        "\n",
        "5. **Python supports multiple programming paradigms** - *You can use procedural, object-oriented, and functional programming styles in Python.*\n",
        "\n",
        "6. **Python uses automatic memory management**- *Python has a built-in garbage collector to manage memory, so you don’t need to handle allocation and deallocation manually*.\n",
        "\n",
        "7. **Python supports list comprehensions**- *A concise way to way to create and manipulate lists in a single line of code by iterating over sequences and applying conditions.*\n",
        "\n",
        "8. **Python supports first-class functions**- *Functions in Python are treated as objects and can be passed as arguments, returned from other functions, or assigned to variables*\n",
        "\n",
        "and many more.."
      ],
      "metadata": {
        "id": "0zHL3fwRYJEh"
      }
    },
    {
      "cell_type": "markdown",
      "source": [
        "**Datatypes in Python**"
      ],
      "metadata": {
        "id": "ZyrUAfTZ0hyx"
      }
    },
    {
      "cell_type": "markdown",
      "source": [
        "As already mentioned everything in Python is an object and what every newcomer to Python should quickly learn is that all objects in Python can be either mutable or immutable. Simple put, a mutable object can be changed after it is created, and an immutable object can’t.\n",
        "\n",
        "\n",
        "The data types in Python are divided in two categories:\n",
        "1. Immutable data types - if you can’t change the object’s state after you’ve created it.\n",
        "2. Mutable data types - allows you to modify its internal state after creation.\n"
      ],
      "metadata": {
        "id": "D6ufy9yOVqDr"
      }
    },
    {
      "cell_type": "markdown",
      "source": [
        "Immutable data types in Python are:\n",
        "1. Numbers\n",
        "2. String\n",
        "3. Tuple\n",
        "\n",
        "\n",
        "Mutable data types in Python are:\n",
        "1. List\n",
        "2. Dictionaries\n",
        "3. Sets\n"
      ],
      "metadata": {
        "id": "_AgCYn2ZdCDA"
      }
    },
    {
      "cell_type": "markdown",
      "source": [
        "##  **Immutable Datatypes**"
      ],
      "metadata": {
        "id": "JjlzKNPeTNxs"
      }
    },
    {
      "cell_type": "markdown",
      "source": [
        "###  **Python Numbers**"
      ],
      "metadata": {
        "id": "2UMInM_Kd8GP"
      }
    },
    {
      "cell_type": "code",
      "source": [
        "# Python supports integers, floats and complex numbers , boolean(which has value 1 for True and 0 for False).\n",
        "\n",
        "# intergers\n",
        "x = 3\n",
        "\n",
        "# float\n",
        "y = 3.14\n",
        "\n",
        "# Complex\n",
        "z= 10 + 3j\n",
        "\n",
        "#bool\n",
        "b = True\n",
        "\n",
        "\n",
        "print (x , type(x))\n",
        "print (y , type(y))\n",
        "print (z , type(z))\n",
        "print (b , type(b))"
      ],
      "metadata": {
        "colab": {
          "base_uri": "https://localhost:8080/"
        },
        "id": "V7MwFRkseOXX",
        "outputId": "8d799b0c-08a7-489a-c0c8-cf2dc972801f"
      },
      "execution_count": null,
      "outputs": [
        {
          "output_type": "stream",
          "name": "stdout",
          "text": [
            "3 <class 'int'>\n",
            "3.14 <class 'float'>\n",
            "(10+3j) <class 'complex'>\n",
            "True <class 'bool'>\n"
          ]
        }
      ]
    },
    {
      "cell_type": "markdown",
      "source": [
        "*Q : Can we add an Interger and boolean???*"
      ],
      "metadata": {
        "id": "aoF6cieVfsnI"
      }
    },
    {
      "cell_type": "code",
      "source": [
        "# add integer and boolean\n",
        "print(x +b)\n",
        "\n",
        "# add float ad boolean\n",
        "print(y + b)\n",
        "\n",
        "# add complex and boolean\n",
        "print(z +b)"
      ],
      "metadata": {
        "colab": {
          "base_uri": "https://localhost:8080/"
        },
        "id": "6ro-RzInfm10",
        "outputId": "17c9003c-a0e8-48ee-e139-4c33f19262b7"
      },
      "execution_count": null,
      "outputs": [
        {
          "output_type": "stream",
          "name": "stdout",
          "text": [
            "4\n",
            "4.140000000000001\n",
            "(11+3j)\n"
          ]
        }
      ]
    },
    {
      "cell_type": "markdown",
      "source": [
        "We use the id() function to check the memory address of an object before and after modification. If the id changes, it means the object is immutable, as a new object is created for the new value."
      ],
      "metadata": {
        "id": "yy0tjRiohn48"
      }
    },
    {
      "cell_type": "code",
      "source": [
        "# checking immutability of Numbers\n",
        "\n",
        "# current x value and address\n",
        "print(x ,id(x))\n",
        "\n",
        "x= x+ 1\n",
        "print (x , id(x))\n",
        "\n",
        "# now again bring back the value to same old value\n",
        "x= x-1\n",
        "print (x , id(x))\n",
        "\n",
        "# lets assign a different variable with value 10 and check its address\n",
        "n = 5\n",
        "print (n , id(n))"
      ],
      "metadata": {
        "colab": {
          "base_uri": "https://localhost:8080/"
        },
        "id": "G5qHw_B3hWkd",
        "outputId": "54b0d01f-cf59-4537-8396-a982ca958d15"
      },
      "execution_count": null,
      "outputs": [
        {
          "output_type": "stream",
          "name": "stdout",
          "text": [
            "4 10750952\n",
            "5 10750984\n",
            "4 10750952\n",
            "5 10750984\n"
          ]
        }
      ]
    },
    {
      "cell_type": "code",
      "source": [
        "# but there is a difference if value is not between -5 and 256\n",
        "n1= 257\n",
        "n2 = 257\n",
        "print(id(n1) , id(n2)  )"
      ],
      "metadata": {
        "colab": {
          "base_uri": "https://localhost:8080/"
        },
        "id": "9YAK0mRbkf4o",
        "outputId": "f097ec79-e3ab-4cb5-edf8-3ba97cac97eb"
      },
      "execution_count": null,
      "outputs": [
        {
          "output_type": "stream",
          "name": "stdout",
          "text": [
            "134124338244624 134124338238000\n"
          ]
        }
      ]
    },
    {
      "cell_type": "markdown",
      "source": [
        "Note : in above , **Caching Behavior**:\n",
        "\n",
        "When you assign a variable to a commonly used small integer (like 4 or 5), Python checks if it already has an object with that value in its cache. If it exists, the same object is reused, and id() returns the same address."
      ],
      "metadata": {
        "id": "bjqVedBGi2nA"
      }
    },
    {
      "cell_type": "markdown",
      "source": [
        "In Python, integer caching is managed internally by the interpreter, and the range of cached integers is implementation-dependent. By default, CPython (the most common Python implementation) caches integers in the range -5 to 256.\n",
        "\n",
        "In CPython:\n",
        "\n",
        "Numbers between -5 and 256 will have consistent id values for repeated occurrences.\n",
        "\n",
        "Numbers outside this range will have different id values for the same value if reassigned."
      ],
      "metadata": {
        "id": "ItQWPEmQjgYr"
      }
    },
    {
      "cell_type": "code",
      "source": [
        "# Check cached integer range\n",
        "for i in range(-10, 260):\n",
        "    obj_id = id(i)\n",
        "    print(f\"Value: {i}, Address: {obj_id}\")\n"
      ],
      "metadata": {
        "colab": {
          "base_uri": "https://localhost:8080/"
        },
        "id": "7FB6VuIbi7WY",
        "outputId": "2ca022c2-5ee8-4156-9b90-49eda237848a"
      },
      "execution_count": null,
      "outputs": [
        {
          "output_type": "stream",
          "name": "stdout",
          "text": [
            "Value: -10, Address: 134124338235760\n",
            "Value: -9, Address: 134124338234832\n",
            "Value: -8, Address: 134124338242288\n",
            "Value: -7, Address: 134124338241968\n",
            "Value: -6, Address: 134124338234832\n",
            "Value: -5, Address: 10750664\n",
            "Value: -4, Address: 10750696\n",
            "Value: -3, Address: 10750728\n",
            "Value: -2, Address: 10750760\n",
            "Value: -1, Address: 10750792\n",
            "Value: 0, Address: 10750824\n",
            "Value: 1, Address: 10750856\n",
            "Value: 2, Address: 10750888\n",
            "Value: 3, Address: 10750920\n",
            "Value: 4, Address: 10750952\n",
            "Value: 5, Address: 10750984\n",
            "Value: 6, Address: 10751016\n",
            "Value: 7, Address: 10751048\n",
            "Value: 8, Address: 10751080\n",
            "Value: 9, Address: 10751112\n",
            "Value: 10, Address: 10751144\n",
            "Value: 11, Address: 10751176\n",
            "Value: 12, Address: 10751208\n",
            "Value: 13, Address: 10751240\n",
            "Value: 14, Address: 10751272\n",
            "Value: 15, Address: 10751304\n",
            "Value: 16, Address: 10751336\n",
            "Value: 17, Address: 10751368\n",
            "Value: 18, Address: 10751400\n",
            "Value: 19, Address: 10751432\n",
            "Value: 20, Address: 10751464\n",
            "Value: 21, Address: 10751496\n",
            "Value: 22, Address: 10751528\n",
            "Value: 23, Address: 10751560\n",
            "Value: 24, Address: 10751592\n",
            "Value: 25, Address: 10751624\n",
            "Value: 26, Address: 10751656\n",
            "Value: 27, Address: 10751688\n",
            "Value: 28, Address: 10751720\n",
            "Value: 29, Address: 10751752\n",
            "Value: 30, Address: 10751784\n",
            "Value: 31, Address: 10751816\n",
            "Value: 32, Address: 10751848\n",
            "Value: 33, Address: 10751880\n",
            "Value: 34, Address: 10751912\n",
            "Value: 35, Address: 10751944\n",
            "Value: 36, Address: 10751976\n",
            "Value: 37, Address: 10752008\n",
            "Value: 38, Address: 10752040\n",
            "Value: 39, Address: 10752072\n",
            "Value: 40, Address: 10752104\n",
            "Value: 41, Address: 10752136\n",
            "Value: 42, Address: 10752168\n",
            "Value: 43, Address: 10752200\n",
            "Value: 44, Address: 10752232\n",
            "Value: 45, Address: 10752264\n",
            "Value: 46, Address: 10752296\n",
            "Value: 47, Address: 10752328\n",
            "Value: 48, Address: 10752360\n",
            "Value: 49, Address: 10752392\n",
            "Value: 50, Address: 10752424\n",
            "Value: 51, Address: 10752456\n",
            "Value: 52, Address: 10752488\n",
            "Value: 53, Address: 10752520\n",
            "Value: 54, Address: 10752552\n",
            "Value: 55, Address: 10752584\n",
            "Value: 56, Address: 10752616\n",
            "Value: 57, Address: 10752648\n",
            "Value: 58, Address: 10752680\n",
            "Value: 59, Address: 10752712\n",
            "Value: 60, Address: 10752744\n",
            "Value: 61, Address: 10752776\n",
            "Value: 62, Address: 10752808\n",
            "Value: 63, Address: 10752840\n",
            "Value: 64, Address: 10752872\n",
            "Value: 65, Address: 10752904\n",
            "Value: 66, Address: 10752936\n",
            "Value: 67, Address: 10752968\n",
            "Value: 68, Address: 10753000\n",
            "Value: 69, Address: 10753032\n",
            "Value: 70, Address: 10753064\n",
            "Value: 71, Address: 10753096\n",
            "Value: 72, Address: 10753128\n",
            "Value: 73, Address: 10753160\n",
            "Value: 74, Address: 10753192\n",
            "Value: 75, Address: 10753224\n",
            "Value: 76, Address: 10753256\n",
            "Value: 77, Address: 10753288\n",
            "Value: 78, Address: 10753320\n",
            "Value: 79, Address: 10753352\n",
            "Value: 80, Address: 10753384\n",
            "Value: 81, Address: 10753416\n",
            "Value: 82, Address: 10753448\n",
            "Value: 83, Address: 10753480\n",
            "Value: 84, Address: 10753512\n",
            "Value: 85, Address: 10753544\n",
            "Value: 86, Address: 10753576\n",
            "Value: 87, Address: 10753608\n",
            "Value: 88, Address: 10753640\n",
            "Value: 89, Address: 10753672\n",
            "Value: 90, Address: 10753704\n",
            "Value: 91, Address: 10753736\n",
            "Value: 92, Address: 10753768\n",
            "Value: 93, Address: 10753800\n",
            "Value: 94, Address: 10753832\n",
            "Value: 95, Address: 10753864\n",
            "Value: 96, Address: 10753896\n",
            "Value: 97, Address: 10753928\n",
            "Value: 98, Address: 10753960\n",
            "Value: 99, Address: 10753992\n",
            "Value: 100, Address: 10754024\n",
            "Value: 101, Address: 10754056\n",
            "Value: 102, Address: 10754088\n",
            "Value: 103, Address: 10754120\n",
            "Value: 104, Address: 10754152\n",
            "Value: 105, Address: 10754184\n",
            "Value: 106, Address: 10754216\n",
            "Value: 107, Address: 10754248\n",
            "Value: 108, Address: 10754280\n",
            "Value: 109, Address: 10754312\n",
            "Value: 110, Address: 10754344\n",
            "Value: 111, Address: 10754376\n",
            "Value: 112, Address: 10754408\n",
            "Value: 113, Address: 10754440\n",
            "Value: 114, Address: 10754472\n",
            "Value: 115, Address: 10754504\n",
            "Value: 116, Address: 10754536\n",
            "Value: 117, Address: 10754568\n",
            "Value: 118, Address: 10754600\n",
            "Value: 119, Address: 10754632\n",
            "Value: 120, Address: 10754664\n",
            "Value: 121, Address: 10754696\n",
            "Value: 122, Address: 10754728\n",
            "Value: 123, Address: 10754760\n",
            "Value: 124, Address: 10754792\n",
            "Value: 125, Address: 10754824\n",
            "Value: 126, Address: 10754856\n",
            "Value: 127, Address: 10754888\n",
            "Value: 128, Address: 10754920\n",
            "Value: 129, Address: 10754952\n",
            "Value: 130, Address: 10754984\n",
            "Value: 131, Address: 10755016\n",
            "Value: 132, Address: 10755048\n",
            "Value: 133, Address: 10755080\n",
            "Value: 134, Address: 10755112\n",
            "Value: 135, Address: 10755144\n",
            "Value: 136, Address: 10755176\n",
            "Value: 137, Address: 10755208\n",
            "Value: 138, Address: 10755240\n",
            "Value: 139, Address: 10755272\n",
            "Value: 140, Address: 10755304\n",
            "Value: 141, Address: 10755336\n",
            "Value: 142, Address: 10755368\n",
            "Value: 143, Address: 10755400\n",
            "Value: 144, Address: 10755432\n",
            "Value: 145, Address: 10755464\n",
            "Value: 146, Address: 10755496\n",
            "Value: 147, Address: 10755528\n",
            "Value: 148, Address: 10755560\n",
            "Value: 149, Address: 10755592\n",
            "Value: 150, Address: 10755624\n",
            "Value: 151, Address: 10755656\n",
            "Value: 152, Address: 10755688\n",
            "Value: 153, Address: 10755720\n",
            "Value: 154, Address: 10755752\n",
            "Value: 155, Address: 10755784\n",
            "Value: 156, Address: 10755816\n",
            "Value: 157, Address: 10755848\n",
            "Value: 158, Address: 10755880\n",
            "Value: 159, Address: 10755912\n",
            "Value: 160, Address: 10755944\n",
            "Value: 161, Address: 10755976\n",
            "Value: 162, Address: 10756008\n",
            "Value: 163, Address: 10756040\n",
            "Value: 164, Address: 10756072\n",
            "Value: 165, Address: 10756104\n",
            "Value: 166, Address: 10756136\n",
            "Value: 167, Address: 10756168\n",
            "Value: 168, Address: 10756200\n",
            "Value: 169, Address: 10756232\n",
            "Value: 170, Address: 10756264\n",
            "Value: 171, Address: 10756296\n",
            "Value: 172, Address: 10756328\n",
            "Value: 173, Address: 10756360\n",
            "Value: 174, Address: 10756392\n",
            "Value: 175, Address: 10756424\n",
            "Value: 176, Address: 10756456\n",
            "Value: 177, Address: 10756488\n",
            "Value: 178, Address: 10756520\n",
            "Value: 179, Address: 10756552\n",
            "Value: 180, Address: 10756584\n",
            "Value: 181, Address: 10756616\n",
            "Value: 182, Address: 10756648\n",
            "Value: 183, Address: 10756680\n",
            "Value: 184, Address: 10756712\n",
            "Value: 185, Address: 10756744\n",
            "Value: 186, Address: 10756776\n",
            "Value: 187, Address: 10756808\n",
            "Value: 188, Address: 10756840\n",
            "Value: 189, Address: 10756872\n",
            "Value: 190, Address: 10756904\n",
            "Value: 191, Address: 10756936\n",
            "Value: 192, Address: 10756968\n",
            "Value: 193, Address: 10757000\n",
            "Value: 194, Address: 10757032\n",
            "Value: 195, Address: 10757064\n",
            "Value: 196, Address: 10757096\n",
            "Value: 197, Address: 10757128\n",
            "Value: 198, Address: 10757160\n",
            "Value: 199, Address: 10757192\n",
            "Value: 200, Address: 10757224\n",
            "Value: 201, Address: 10757256\n",
            "Value: 202, Address: 10757288\n",
            "Value: 203, Address: 10757320\n",
            "Value: 204, Address: 10757352\n",
            "Value: 205, Address: 10757384\n",
            "Value: 206, Address: 10757416\n",
            "Value: 207, Address: 10757448\n",
            "Value: 208, Address: 10757480\n",
            "Value: 209, Address: 10757512\n",
            "Value: 210, Address: 10757544\n",
            "Value: 211, Address: 10757576\n",
            "Value: 212, Address: 10757608\n",
            "Value: 213, Address: 10757640\n",
            "Value: 214, Address: 10757672\n",
            "Value: 215, Address: 10757704\n",
            "Value: 216, Address: 10757736\n",
            "Value: 217, Address: 10757768\n",
            "Value: 218, Address: 10757800\n",
            "Value: 219, Address: 10757832\n",
            "Value: 220, Address: 10757864\n",
            "Value: 221, Address: 10757896\n",
            "Value: 222, Address: 10757928\n",
            "Value: 223, Address: 10757960\n",
            "Value: 224, Address: 10757992\n",
            "Value: 225, Address: 10758024\n",
            "Value: 226, Address: 10758056\n",
            "Value: 227, Address: 10758088\n",
            "Value: 228, Address: 10758120\n",
            "Value: 229, Address: 10758152\n",
            "Value: 230, Address: 10758184\n",
            "Value: 231, Address: 10758216\n",
            "Value: 232, Address: 10758248\n",
            "Value: 233, Address: 10758280\n",
            "Value: 234, Address: 10758312\n",
            "Value: 235, Address: 10758344\n",
            "Value: 236, Address: 10758376\n",
            "Value: 237, Address: 10758408\n",
            "Value: 238, Address: 10758440\n",
            "Value: 239, Address: 10758472\n",
            "Value: 240, Address: 10758504\n",
            "Value: 241, Address: 10758536\n",
            "Value: 242, Address: 10758568\n",
            "Value: 243, Address: 10758600\n",
            "Value: 244, Address: 10758632\n",
            "Value: 245, Address: 10758664\n",
            "Value: 246, Address: 10758696\n",
            "Value: 247, Address: 10758728\n",
            "Value: 248, Address: 10758760\n",
            "Value: 249, Address: 10758792\n",
            "Value: 250, Address: 10758824\n",
            "Value: 251, Address: 10758856\n",
            "Value: 252, Address: 10758888\n",
            "Value: 253, Address: 10758920\n",
            "Value: 254, Address: 10758952\n",
            "Value: 255, Address: 10758984\n",
            "Value: 256, Address: 10759016\n",
            "Value: 257, Address: 134124338234832\n",
            "Value: 258, Address: 134124338239216\n",
            "Value: 259, Address: 134124338241968\n"
          ]
        }
      ]
    },
    {
      "cell_type": "markdown",
      "source": [
        "Note : \"is\" operator in python for identity comparison\n",
        "\n",
        "The operator a is b returns True if a and b are bound to the same object"
      ],
      "metadata": {
        "id": "yP4Bu9Gl_I8s"
      }
    },
    {
      "cell_type": "code",
      "source": [
        "#What will be the output of the following code?\n",
        "\n",
        "a = 256\n",
        "b = 256\n",
        "print(a is b)  # Line 1\n",
        "\n",
        "c = 257\n",
        "d = 257\n",
        "print(c is d)  # Line 2\n"
      ],
      "metadata": {
        "colab": {
          "base_uri": "https://localhost:8080/"
        },
        "id": "iNT_x5Yz_bK8",
        "outputId": "ec61acec-fcdd-440d-95d0-5cccf4088c7c"
      },
      "execution_count": null,
      "outputs": [
        {
          "output_type": "stream",
          "name": "stdout",
          "text": [
            "True\n",
            "False\n"
          ]
        }
      ]
    },
    {
      "cell_type": "markdown",
      "source": [
        "Line 1: True (256 is within the cached range of -5 to 256 in CPython).\n",
        "\n",
        "Line 2: False (257 is outside the cached range, so separate objects are created for c and d)."
      ],
      "metadata": {
        "id": "OMSLU4lT_qy_"
      }
    },
    {
      "cell_type": "markdown",
      "source": [
        "Additional Notes:\n",
        "\n",
        "Performance of Integers - Are Python integers slower than integers in languages like C? Why?\n",
        "\n",
        "Yes, Python integers are slower because:\n",
        "\n",
        "-They are objects with metadata (e.g., reference count, type information).\n",
        "-They support arbitrary precision, unlike fixed-size integers in C.\n",
        "\n",
        "However, this abstraction makes Python integers easier to use.\n"
      ],
      "metadata": {
        "id": "Pox-sWO5BPOh"
      }
    },
    {
      "cell_type": "code",
      "source": [
        "# represent integers in different bases (binary, octal, hexadecimal)\n",
        "print(0b1010)  # Binary\n",
        "print(0o12)    # Octal\n",
        "print(0xA)     # Hexadecimal\n",
        "\n",
        "# example addition\n",
        "a= 0b1011 # number 11 in binary\n",
        "b= 0o12  # number 10 in Octal\n",
        "\n",
        "print(a+b) # sum = 11 + 10 i decimal"
      ],
      "metadata": {
        "colab": {
          "base_uri": "https://localhost:8080/"
        },
        "id": "svZqyoy7mbHm",
        "outputId": "9da855df-8f2e-4a5d-f028-4313c30ba202"
      },
      "execution_count": null,
      "outputs": [
        {
          "output_type": "stream",
          "name": "stdout",
          "text": [
            "10\n",
            "10\n",
            "10\n",
            "21\n"
          ]
        }
      ]
    },
    {
      "cell_type": "markdown",
      "source": [
        "**Qtn** :  What happens if you assign a very large integer in Python? Will it cause an overflow?\n",
        "\n",
        "Python integers have arbitrary precision, so they won't overflow."
      ],
      "metadata": {
        "id": "eY_Mt9bfnTYA"
      }
    },
    {
      "cell_type": "code",
      "source": [
        "# Type Conversion and Integer Operations\n",
        "\n",
        "print(5 / 2)    # Division  / always returns a float.\n",
        "print(5 // 2)   # Floor division // performs floor division and returns an integer (or float if one operand is a float).\n"
      ],
      "metadata": {
        "colab": {
          "base_uri": "https://localhost:8080/"
        },
        "id": "vkyhhX6knlkK",
        "outputId": "4f862316-2522-4389-aead-329aaf172120"
      },
      "execution_count": null,
      "outputs": [
        {
          "output_type": "stream",
          "name": "stdout",
          "text": [
            "2.5\n",
            "2\n"
          ]
        }
      ]
    },
    {
      "cell_type": "markdown",
      "source": [
        "\n",
        "Python offers the **random module** to generate random numbers or to pick a random item from an iterator.\n",
        "\n",
        "Python offers the **math module** to carry out different mathematics like trigonometry, logarithms, probability and statistics"
      ],
      "metadata": {
        "id": "2lhBvtqnoZK2"
      }
    },
    {
      "cell_type": "code",
      "source": [
        "import random\n",
        "\n",
        "# Random float between 0.0 and 1.0\n",
        "print(\"Random float (0 to 1):\", random.random())\n",
        "\n",
        "# Random integer between 10 and 20\n",
        "print(\"Random integer (10 to 20):\", random.randint(10, 20))\n",
        "\n",
        "# Random float between 5.5 and 10.5\n",
        "print(\"Random float (5.5 to 10.5):\", random.uniform(5.5, 10.5))\n",
        "\n",
        "\n",
        "###########  Generate Random Numbers from Distributions   ##########\n",
        "# Gaussian distribution with mean=0, std dev=1\n",
        "print(\"Gaussian random number:\", random.gauss(0, 1))\n",
        "\n",
        "# Exponential distribution with lambda=1\n",
        "print(\"Exponential random number:\", random.expovariate(1))\n",
        "\n"
      ],
      "metadata": {
        "colab": {
          "base_uri": "https://localhost:8080/"
        },
        "id": "CtmogDkdoy8J",
        "outputId": "2325d9f5-6b0c-49db-8f85-b0b2f1251eec"
      },
      "execution_count": null,
      "outputs": [
        {
          "output_type": "stream",
          "name": "stdout",
          "text": [
            "Random float (0 to 1): 0.509355978915773\n",
            "Random integer (10 to 20): 13\n",
            "Random float (5.5 to 10.5): 7.714991043940374\n",
            "Gaussian random number: -1.857230923917967\n",
            "Exponential random number: 0.7598524181709091\n"
          ]
        }
      ]
    },
    {
      "cell_type": "code",
      "source": [
        "import math\n",
        "\n",
        "print(\"Square root of 16:\", math.sqrt(16))\n",
        "print(\"2 raised to the power of 3:\", math.pow(2, 3))\n",
        "print(\"Ceiling of 3.7:\", math.ceil(3.7))\n",
        "print(\"Floor of 3.7:\", math.floor(3.7))\n",
        "print(\"Absolute value of -5:\", math.fabs(-5))\n",
        "\n",
        "print(\"Logarithm base e of 10:\", math.log(10))\n",
        "print(\"Logarithm base 10 of 100:\", math.log10(100))\n",
        "print(\"Logarithm base 2 of 8:\", math.log2(8))\n",
        "\n",
        "\n",
        "angle = math.radians(30)  # Convert 30 degrees to radians\n",
        "print(\"Sine of 30 degrees:\", math.sin(angle))\n",
        "print(\"Cosine of 30 degrees:\", math.cos(angle))\n",
        "print(\"Tangent of 30 degrees:\", math.tan(angle))\n",
        "print(\"Convert π/6 radians to degrees:\", math.degrees(math.pi / 6))\n",
        "\n",
        "print(\"Factorial of 5:\", math.factorial(5))\n",
        "print(\"GCD of 48 and 18:\", math.gcd(48, 18))\n",
        "\n"
      ],
      "metadata": {
        "colab": {
          "base_uri": "https://localhost:8080/"
        },
        "id": "zGmetti2pEVK",
        "outputId": "5b5b74a5-8536-449d-edaf-47e1759a1adb"
      },
      "execution_count": null,
      "outputs": [
        {
          "output_type": "stream",
          "name": "stdout",
          "text": [
            "Square root of 16: 4.0\n",
            "2 raised to the power of 3: 8.0\n",
            "Ceiling of 3.7: 4\n",
            "Floor of 3.7: 3\n",
            "Absolute value of -5: 5.0\n",
            "Logarithm base e of 10: 2.302585092994046\n",
            "Logarithm base 10 of 100: 2.0\n",
            "Logarithm base 2 of 8: 3.0\n",
            "Sine of 30 degrees: 0.49999999999999994\n",
            "Cosine of 30 degrees: 0.8660254037844387\n",
            "Tangent of 30 degrees: 0.5773502691896257\n",
            "Convert π/6 radians to degrees: 29.999999999999996\n"
          ]
        }
      ]
    },
    {
      "cell_type": "markdown",
      "source": [
        "### **Python Strings**"
      ],
      "metadata": {
        "id": "JQ4hwUTdlBaW"
      }
    },
    {
      "cell_type": "markdown",
      "source": [
        "A string is usually a bit of text (sequence of characters)\n",
        "\n",
        "A string is nothing but an array of characters so we can use the indexes to access the characters of a it.\n",
        "\n",
        "Python supports negative index.  Negative index is used in python to index starting from the last element of the list, tuple or any other container class which supports indexing.  -1 refers to the last index, -2 refers to the second last index and so on."
      ],
      "metadata": {
        "id": "v_7TuVWiBH9a"
      }
    },
    {
      "cell_type": "code",
      "source": [
        "# string\n",
        "\n",
        "str_1 = \"Test String Python\"\n",
        "print(str_1)\n",
        "\n",
        "#printing 4th character\n",
        "print(str_1[3])\n",
        "\n",
        "# negetive indexing\n",
        "print(str_1[-3])\n",
        "\n",
        "## printing other 't' s in str_1\n",
        "\n",
        "print(str_1[6])\n",
        "print(str_1[14])\n"
      ],
      "metadata": {
        "colab": {
          "base_uri": "https://localhost:8080/"
        },
        "id": "4miadv7jBlx9",
        "outputId": "bcdc2ecc-360c-4310-d2ba-0a77369e685f"
      },
      "execution_count": null,
      "outputs": [
        {
          "output_type": "stream",
          "name": "stdout",
          "text": [
            "Test String Python\n",
            "t\n",
            "h\n",
            "t\n",
            "t\n"
          ]
        }
      ]
    },
    {
      "cell_type": "markdown",
      "source": [
        "strings are immutable sequences of characters, and their characters are stored contiguously in memory as part of the string object.\n",
        "\n",
        "However, each character in a string (e.g., s[0], s[1]) is a separate str object when accessed individually, not just a pointer to a location in the contiguous block."
      ],
      "metadata": {
        "id": "FgqLdLQgEbqN"
      }
    },
    {
      "cell_type": "code",
      "source": [
        "\n",
        "# checking adddress of string\n",
        "\n",
        "print(\"address of str_1 :\" , id(str_1))\n",
        "\n",
        "# checking indiviudual locations\n",
        "\n",
        "print(\"address of 4th char :\" , id(str_1[3]))  # id of 4th char 't'\n",
        "\n",
        "# print id of other 't's in str_1\n",
        "print(\"address of 7th char :\" , id(str_1[6]))\n",
        "print(\"address of 15th char :\" , id(str_1[14]))"
      ],
      "metadata": {
        "colab": {
          "base_uri": "https://localhost:8080/"
        },
        "id": "lQeYJCKVDGLS",
        "outputId": "96d2d670-ca6f-46dd-f161-dc99fe57ba76"
      },
      "execution_count": null,
      "outputs": [
        {
          "output_type": "stream",
          "name": "stdout",
          "text": [
            "address of str_1 : 138471490274768\n",
            "address of 4th char : 10797960\n",
            "address of 7th char : 10797960\n",
            "address of 15th char : 10797960\n"
          ]
        }
      ]
    },
    {
      "cell_type": "markdown",
      "source": [
        "The entire string is stored as one immutable object in memory, and its address can be retrieved with id(str_1).\n",
        "\n",
        "Individual characters are not directly stored in the string's memory block as pointers but are represented as separate str objects when accessed.\n",
        "\n",
        "Python interns single-character strings, so multiple occurrences of the same character (like 't') point to the same cached object in memory."
      ],
      "metadata": {
        "id": "pt4uyDpHSwk-"
      }
    },
    {
      "cell_type": "code",
      "source": [
        "# checking immutabality of string\n",
        "\n",
        "str_1[3] = 'z'\n"
      ],
      "metadata": {
        "colab": {
          "base_uri": "https://localhost:8080/",
          "height": 176
        },
        "id": "zVZIgh1FTxhA",
        "outputId": "fe4e68d1-3d42-49f5-cf32-15c11fa9666c"
      },
      "execution_count": null,
      "outputs": [
        {
          "output_type": "error",
          "ename": "TypeError",
          "evalue": "'str' object does not support item assignment",
          "traceback": [
            "\u001b[0;31m---------------------------------------------------------------------------\u001b[0m",
            "\u001b[0;31mTypeError\u001b[0m                                 Traceback (most recent call last)",
            "\u001b[0;32m<ipython-input-15-30c393530b25>\u001b[0m in \u001b[0;36m<cell line: 0>\u001b[0;34m()\u001b[0m\n\u001b[1;32m      1\u001b[0m \u001b[0;31m# checking immutabality of string\u001b[0m\u001b[0;34m\u001b[0m\u001b[0;34m\u001b[0m\u001b[0m\n\u001b[1;32m      2\u001b[0m \u001b[0;34m\u001b[0m\u001b[0m\n\u001b[0;32m----> 3\u001b[0;31m \u001b[0mstr_1\u001b[0m\u001b[0;34m[\u001b[0m\u001b[0;36m3\u001b[0m\u001b[0;34m]\u001b[0m \u001b[0;34m=\u001b[0m \u001b[0;34m'z'\u001b[0m\u001b[0;34m\u001b[0m\u001b[0;34m\u001b[0m\u001b[0m\n\u001b[0m",
            "\u001b[0;31mTypeError\u001b[0m: 'str' object does not support item assignment"
          ]
        }
      ]
    },
    {
      "cell_type": "markdown",
      "source": [
        "The error TypeError: 'str' object does not support item assignment occurs because strings in Python are immutable, meaning their values cannot be changed after they are created."
      ],
      "metadata": {
        "id": "odSa2jLkUBwE"
      }
    },
    {
      "cell_type": "markdown",
      "source": [
        "However the variable that points to the whole string is mutable ."
      ],
      "metadata": {
        "id": "qSWTSyVvVv_f"
      }
    },
    {
      "cell_type": "code",
      "source": [
        "#\n",
        "str_1 = \"Test String Python\"\n",
        "print(str_1)\n",
        "print(id(str_1))\n",
        "\n",
        "str_1 = \"Test string Python\" # 'S' changed to 's'\n",
        "print(str_1)\n",
        "print(id(str_1))\n",
        "\n",
        "# Now assign the initial string to new variable and check its address - if same as initial str_1 address\n",
        "str_2 = \"Test String Python\"\n",
        "print(id(str_2))\n",
        "\n",
        "\n"
      ],
      "metadata": {
        "colab": {
          "base_uri": "https://localhost:8080/"
        },
        "id": "UWold1m5WCa5",
        "outputId": "b6c12908-05fd-4572-858f-07d100aeff88"
      },
      "execution_count": null,
      "outputs": [
        {
          "output_type": "stream",
          "name": "stdout",
          "text": [
            "Test String Python\n",
            "138471427350304\n",
            "Test string Python\n",
            "138471427347104\n",
            "138471427346304\n"
          ]
        }
      ]
    },
    {
      "cell_type": "markdown",
      "source": [
        "#### **Python String operations**"
      ],
      "metadata": {
        "id": "Wgl22tsyUcG9"
      }
    },
    {
      "cell_type": "code",
      "source": [
        "str_1 = 'Hello'\n",
        "str_2 = \"Hero\"\n",
        "\n",
        "\n",
        "# length of string\n",
        "print(len(str_1))\n",
        "\n",
        "# comparing two strings\n",
        "print(str_1 == str_2)\n",
        "\n",
        "# concatenating strings\n",
        "print(str_1 + str_2)\n",
        "\n",
        "# Repetition of string – Replication operator - * operator to repeat a string by specified number of times\n",
        "print(str_1 , str_2*3)\n",
        "\n",
        "\n",
        "# String Membership - 'in' and 'not in'\n",
        "print ('r' in str_1)\n",
        "print ('r' in str_2)\n",
        "\n",
        "\n",
        "\n"
      ],
      "metadata": {
        "colab": {
          "base_uri": "https://localhost:8080/"
        },
        "id": "Ktp3mqxVUxdu",
        "outputId": "4e5b8e9d-809a-4f01-d55c-73175ffcdc8f"
      },
      "execution_count": null,
      "outputs": [
        {
          "output_type": "stream",
          "name": "stdout",
          "text": [
            "5\n",
            "False\n",
            "HelloHero\n",
            "Hello HeroHeroHero\n",
            "False\n",
            "True\n"
          ]
        }
      ]
    },
    {
      "cell_type": "markdown",
      "source": [
        "**Slicing operation in strings**\n",
        "\n",
        "The general Python List Slicing Syntax :\n",
        "\n",
        "***list_name[start : end : step]***\n",
        "\n"
      ],
      "metadata": {
        "id": "CdPbB1k8qy8Z"
      }
    },
    {
      "cell_type": "code",
      "source": [
        "# string slicing - concept same as Lists\n",
        "\n",
        "str_3 = 'America'\n",
        "\n",
        "# different ways to get all characters\n",
        "print(str_3[:])\n",
        "\n",
        "print(str_3[::]) # When step > 0 , The default starting point is the beginning of the string\n",
        "\n",
        "print(str_3[::1])\n",
        "\n",
        "# different ways to reverse string\n",
        "print(str_3[-1::-1])\n",
        "\n",
        "print(str_3[::-1]) # When step < 0 , The default starting point is the end of the string\n"
      ],
      "metadata": {
        "colab": {
          "base_uri": "https://localhost:8080/"
        },
        "id": "YibCmebKrxOK",
        "outputId": "aa28dfc1-0c4b-476e-cb8f-3a4a2804c6ae"
      },
      "execution_count": null,
      "outputs": [
        {
          "output_type": "stream",
          "name": "stdout",
          "text": [
            "America\n",
            "America\n",
            "America\n",
            "aciremA\n",
            "aciremA\n"
          ]
        }
      ]
    },
    {
      "cell_type": "markdown",
      "source": [
        "**Relational Operators on Strings**\n",
        "\n",
        "The relational operators works on strings based on the ASCII values of characters - comparing ASCII values **lexicographically**.\n",
        "\n",
        "ASCII value of a string is essentially the collection of ASCII values of its individual characters.\n",
        "\n",
        "Python's built-in **ord()** function to get the ASCII value of a character\n",
        "\n"
      ],
      "metadata": {
        "id": "JcvXRdzMZKH1"
      }
    },
    {
      "cell_type": "code",
      "source": [
        "# ASCII value of Individual char\n",
        "\n",
        "print(ord('H'))\n",
        "\n",
        "# ASCII value of a string\n",
        "string = \"Hello\"\n",
        "ascii_values = [ord(char) for char in string]\n",
        "print(ascii_values)  # Output: [72, 101, 108, 108, 111]\n"
      ],
      "metadata": {
        "colab": {
          "base_uri": "https://localhost:8080/"
        },
        "id": "LhDLptJBZOCO",
        "outputId": "873832fc-d56b-4f7b-bfff-362eb78b8a76"
      },
      "execution_count": null,
      "outputs": [
        {
          "output_type": "stream",
          "name": "stdout",
          "text": [
            "72\n",
            "[72, 101, 108, 108, 111]\n"
          ]
        }
      ]
    },
    {
      "cell_type": "code",
      "source": [
        "str1 = \"hello\"\n",
        "str2 = \"hero\"\n",
        "\n",
        "# Equality and Inequality\n",
        "print(str1 == str2)  # Output: False (strings are different)\n",
        "print(str1 != str2)  # Output: True (strings are not equal)\n",
        "\n",
        "# Lexicographical Comparison\n",
        "print(str1 < str2)   # Output: True ('hello' comes before 'hero' lexicographically)\n",
        "print(str1 > str2)   # Output: False ('hello' does not come after 'hero')\n",
        "print(str1 <= str2)  # Output: True ('hello' is less than or equal to 'hero')\n",
        "print(str1 >= str2)  # Output: False ('hello' is not greater than or equal to 'hero')\n"
      ],
      "metadata": {
        "colab": {
          "base_uri": "https://localhost:8080/"
        },
        "id": "_iSx4hmoaeVA",
        "outputId": "6db8cb40-a00a-432c-b619-e46da4f91c34"
      },
      "execution_count": null,
      "outputs": [
        {
          "output_type": "stream",
          "name": "stdout",
          "text": [
            "False\n",
            "True\n",
            "True\n",
            "False\n",
            "True\n",
            "False\n"
          ]
        }
      ]
    },
    {
      "cell_type": "markdown",
      "source": [
        "Python compares strings character by character using their ASCII values.\n",
        "\n",
        "Comparison stops as soon as a difference is found:\n",
        "\n",
        " **\"hello\" vs. \"hero\":**\n",
        "\n",
        "* 'h' is equal to 'h'.\n",
        "* 'e' is equal to 'e'.\n",
        "* 'l' (ASCII: 108) is less than 'r' (ASCII: 114)\n",
        "* so \"hello\" is considered less than \"hero\""
      ],
      "metadata": {
        "id": "kKvXnRtGarLI"
      }
    },
    {
      "cell_type": "markdown",
      "source": [
        "Various string class methods present in Python."
      ],
      "metadata": {
        "id": "jyRuIsFFbaNf"
      }
    },
    {
      "cell_type": "markdown",
      "source": [
        "upper() -\tConverts the string to uppercase\n",
        "\n",
        "\n",
        "lower() -\tConverts the string to lowercase\n",
        "\n",
        "\n",
        "partition() -\tSplits the string into exactly three parts: before the separator, the separator itself, and after the separator. **Returns a tuple of three elements: (before, separator, after)**.\n",
        "\n",
        "\n",
        "replace() -\tReplaces substring inside\n",
        "\n",
        "\n",
        "find() -\tReturns the index of the first occurrence of substring\n",
        "\n",
        "\n",
        "rstrip() -\tRemoves trailing characters\n",
        "\n",
        "\n",
        "split() -\tSplits the string into multiple parts based on a specified delimiter (default: whitespace). **Returns a list of substrings.**\n",
        "\n",
        "rsplit() splits from the right.\n",
        "\n",
        "startswith() -\tChecks if string starts with the specified string\n",
        "\n",
        "\n",
        "isnumeric() -\tChecks numeric characters\n",
        "\n",
        "\n",
        "index() -\tReturns index of substring"
      ],
      "metadata": {
        "id": "nkJhUxlobax-"
      }
    },
    {
      "cell_type": "code",
      "source": [
        "s = \"  Python is Programming which is Fun!  \"\n",
        "\n",
        "# Uppercase and Lowercase\n",
        "print(s.upper())                # Output: \"  PYTHON PROGRAMMING IS FUN!  \"\n",
        "print(s.lower())                # Output: \"  python programming is fun!  \"\n",
        "\n",
        "# Partition and Replace\n",
        "print(s.partition(\"Programming\"))  # Output: ('  Python ', 'Programming', ' is Fun!  ')\n",
        "print(s.replace(\"Fun\", \"Awesome\"))  # Output: \"  Python Programming is Awesome!  \"\n",
        "\n",
        "# Find and Index\n",
        "print(s.find(\"Python\"))         # Output: 2\n",
        "print(s.index(\"is\"))            # Output: 22\n",
        "\n",
        "# Rstrip, Split, and Startswith\n",
        "print(s.rstrip())               # Output: \"  Python Programming is Fun!\"\n",
        "print(s.split())                # Output: ['Python', 'Programming', 'is', 'Fun!']\n",
        "print(s.split(\"is\"))                # Output: ['  Python Programming ', ' Fun!  ']\n",
        "print(s.rsplit(\"is\"))\n",
        "print(s.startswith(\"Python\"))   # Output: False\n",
        "\n",
        "# Isnumeric\n",
        "print(\"12345\".isnumeric())      # Output: True\n"
      ],
      "metadata": {
        "colab": {
          "base_uri": "https://localhost:8080/"
        },
        "id": "eEaBAnK2bKYB",
        "outputId": "3f721891-ecd1-458f-d28d-703938b07180"
      },
      "execution_count": null,
      "outputs": [
        {
          "output_type": "stream",
          "name": "stdout",
          "text": [
            "  PYTHON IS PROGRAMMING WHICH IS FUN!  \n",
            "  python is programming which is fun!  \n",
            "('  Python is ', 'Programming', ' which is Fun!  ')\n",
            "  Python is Programming which is Awesome!  \n",
            "2\n",
            "9\n",
            "  Python is Programming which is Fun!\n",
            "['Python', 'is', 'Programming', 'which', 'is', 'Fun!']\n",
            "['  Python ', ' Programming which ', ' Fun!  ']\n",
            "['  Python ', ' Programming which ', ' Fun!  ']\n",
            "False\n",
            "True\n"
          ]
        }
      ]
    },
    {
      "cell_type": "markdown",
      "source": [
        "String join() Method - The join() method in Python is used to concatenate the elements of an iterable (such as a list, tuple, or set) into a single string with a specified delimiter placed between each element."
      ],
      "metadata": {
        "id": "77lryztUwOi2"
      }
    },
    {
      "cell_type": "code",
      "source": [
        "# join in python\n",
        "a = ['Hello', 'world', 'from', 'Python']\n",
        "res = ' '.join(a)\n",
        "print(res)\n"
      ],
      "metadata": {
        "colab": {
          "base_uri": "https://localhost:8080/"
        },
        "id": "Dagce29WwWic",
        "outputId": "91b380ea-5e30-41e0-b949-77b02929d4e2"
      },
      "execution_count": null,
      "outputs": [
        {
          "output_type": "stream",
          "name": "stdout",
          "text": [
            "Hello world from Python\n"
          ]
        }
      ]
    },
    {
      "cell_type": "markdown",
      "source": [
        "#### **Python String Interpolation**\n",
        "\n",
        "String interpolation is a process substituting values of variables into placeholders in a string.\n",
        "\n",
        "\n",
        "\n",
        "*   f-strings - literal string interpolation\n",
        "*   %-formatting - Strings in Python have a unique built-in operation that can be accessed with the % operator.\n",
        "\n"
      ],
      "metadata": {
        "id": "lpJI8zGWdNq9"
      }
    },
    {
      "cell_type": "code",
      "source": [
        "# f-strings\n",
        "name = 'World'\n",
        "program = 'Python'\n",
        "print(f'Hello {name}! This is {program} - f string')\n",
        "\n",
        "#%-formatting\n",
        "print(\"Hello %s! This is %s - percent operator\" %(name,program,))"
      ],
      "metadata": {
        "colab": {
          "base_uri": "https://localhost:8080/"
        },
        "id": "WoeMmsgTlNNB",
        "outputId": "159b68d5-d242-4e67-9ebe-762c68da55f2"
      },
      "execution_count": null,
      "outputs": [
        {
          "output_type": "stream",
          "name": "stdout",
          "text": [
            "Hello World! This is Python - f string\n",
            "Hello World! This is Python - percent operator\n"
          ]
        }
      ]
    },
    {
      "cell_type": "markdown",
      "source": [
        "**String tricky questions**"
      ],
      "metadata": {
        "id": "NSHzE6VVnIWA"
      }
    },
    {
      "cell_type": "code",
      "source": [
        "# Output\n",
        "\n",
        "s = \"abcdef\"\n",
        "print(s[::-1][::2])\n"
      ],
      "metadata": {
        "colab": {
          "base_uri": "https://localhost:8080/"
        },
        "id": "lYGqS74YnFwv",
        "outputId": "8635b4e7-7eba-4d78-f8dc-c0b9e4d83a0e"
      },
      "execution_count": null,
      "outputs": [
        {
          "output_type": "stream",
          "name": "stdout",
          "text": [
            "fdb\n"
          ]
        }
      ]
    },
    {
      "cell_type": "markdown",
      "source": [
        "s[::-1] reverses the string to \"fedcba\".\n",
        "\n",
        "[::2] picks every second character, resulting in \"fdb\"."
      ],
      "metadata": {
        "id": "pIrMFADJpog2"
      }
    },
    {
      "cell_type": "markdown",
      "source": [
        "**How would you reverse the words in a sentenc**e?"
      ],
      "metadata": {
        "id": "tuZ2_82BvJMZ"
      }
    },
    {
      "cell_type": "code",
      "source": [
        "str_4 = \"Python is Language\"\n",
        "\n",
        "rev_str = str_4.split()\n",
        "rev_str_f = \" \".join(rev_str[::-1])\n",
        "print(rev_str_f)"
      ],
      "metadata": {
        "colab": {
          "base_uri": "https://localhost:8080/"
        },
        "id": "So3R0MSXvL7Z",
        "outputId": "03d145e3-7055-4168-c166-355ed56f63ce"
      },
      "execution_count": null,
      "outputs": [
        {
          "output_type": "stream",
          "name": "stdout",
          "text": [
            "Language is Python\n"
          ]
        }
      ]
    },
    {
      "cell_type": "markdown",
      "source": [
        "**How can you check if a string is a palindrome?**"
      ],
      "metadata": {
        "id": "kj6tr8aVyfwb"
      }
    },
    {
      "cell_type": "code",
      "source": [
        "# logic : reverse and compare string\n",
        "s = \"malayalam\"\n",
        "\n",
        "print(s== s[::-1])"
      ],
      "metadata": {
        "colab": {
          "base_uri": "https://localhost:8080/"
        },
        "id": "l247ccK9yjXa",
        "outputId": "e38e5249-9cf2-4f00-f599-097565b15f18"
      },
      "execution_count": null,
      "outputs": [
        {
          "output_type": "stream",
          "name": "stdout",
          "text": [
            "True\n"
          ]
        }
      ]
    },
    {
      "cell_type": "markdown",
      "source": [
        "**What happens if you split an empty string?**"
      ],
      "metadata": {
        "id": "-ob1-p26zGqP"
      }
    },
    {
      "cell_type": "code",
      "source": [
        "s = \"\"\n",
        "print(s.split())  # Output: []\n"
      ],
      "metadata": {
        "colab": {
          "base_uri": "https://localhost:8080/"
        },
        "id": "8lc6EJm2zDYB",
        "outputId": "f2f4a38a-49d3-4446-b30d-af6b50880a51"
      },
      "execution_count": null,
      "outputs": [
        {
          "output_type": "stream",
          "name": "stdout",
          "text": [
            "[]\n"
          ]
        }
      ]
    },
    {
      "cell_type": "markdown",
      "source": [
        "**How does Python handle slicing beyond the string's length?**\n",
        "\n",
        "Ans : Python gracefully handles out-of-range slicing and does not throw an error."
      ],
      "metadata": {
        "id": "LTk04hLzzLvB"
      }
    },
    {
      "cell_type": "code",
      "source": [
        "s = \"hello\"\n",
        "print(s[2:10])  # Output: \"llo\"\n"
      ],
      "metadata": {
        "colab": {
          "base_uri": "https://localhost:8080/"
        },
        "id": "XLc2EPfbzIVW",
        "outputId": "f437fd44-01d6-4ba5-b506-73dd70c134f6"
      },
      "execution_count": null,
      "outputs": [
        {
          "output_type": "stream",
          "name": "stdout",
          "text": [
            "llo\n"
          ]
        }
      ]
    },
    {
      "cell_type": "markdown",
      "source": [
        "**What is the time complexity of String concatenation using .concat and + ?**"
      ],
      "metadata": {
        "id": "MPw6VjxV1fkp"
      }
    },
    {
      "cell_type": "markdown",
      "source": [
        "* Operator + : Each concatenation creates a new string, as strings in Python are immutable\n",
        "* When concatenating multiple strings in a loop, the time complexity increases because each concatenation creates a new string, and all characters are copied to the new string.\n",
        "\n"
      ],
      "metadata": {
        "id": "xOcILSdi1rhV"
      }
    },
    {
      "cell_type": "code",
      "source": [
        "strings = [\"Hello\", \"World\", \"Python\", \"is\", \"awesome\"]\n",
        "result = \"\"\n",
        "for s in strings:\n",
        "    result += s + \" \"  # Creates a new string in each iteration\n",
        "print(result.strip())\n"
      ],
      "metadata": {
        "colab": {
          "base_uri": "https://localhost:8080/"
        },
        "id": "U_VTrRio2CLr",
        "outputId": "ba8fe3be-e2cb-4d9e-cfd2-de1717e6a76d"
      },
      "execution_count": null,
      "outputs": [
        {
          "output_type": "stream",
          "name": "stdout",
          "text": [
            "Hello World Python is awesome\n"
          ]
        }
      ]
    },
    {
      "cell_type": "markdown",
      "source": [
        "In the above each iteration creates a new string and copies the existing content, resulting in quadratic time complexity (O(n^2) for a large list)\n",
        "\n",
        "Iteration 1 - Hello + World\n",
        "\n",
        "Iteration 2 - Hello World + Pyhon and so on.."
      ],
      "metadata": {
        "id": "iocDn2b92VQK"
      }
    },
    {
      "cell_type": "markdown",
      "source": [
        "**str.join() for Concatenation**\n",
        "\n",
        "* The str.join() method concatenates an iterable of strings using the specified separator.\n",
        "\n",
        "* The str.join() method computes the total size of the resulting string in advance, allocates memory once, and then copies each string into the final result."
      ],
      "metadata": {
        "id": "dCZe0cGo2mgZ"
      }
    },
    {
      "cell_type": "code",
      "source": [
        "strings = [\"Hello\", \"World\", \"Python\", \"is\", \"awesome\"]\n",
        "result = \" \".join(strings)  # Allocates memory once\n",
        "print(result)\n"
      ],
      "metadata": {
        "colab": {
          "base_uri": "https://localhost:8080/"
        },
        "id": "7Mwja62p23Ip",
        "outputId": "0798d5d1-c956-4df6-b736-67d7823df296"
      },
      "execution_count": null,
      "outputs": [
        {
          "output_type": "stream",
          "name": "stdout",
          "text": [
            "Hello World Python is awesome\n"
          ]
        }
      ]
    },
    {
      "cell_type": "markdown",
      "source": [
        "The key to understanding how str.join() achieves O(n) time complexity lies in its implementation in CPython. While Python does not allow you to create a mutable string-like structure for direct modification, str.join() internally uses a highly optimized mechanism to precompute and allocate the exact amount of memory required for the resulting string."
      ],
      "metadata": {
        "id": "QzRgAMiD5pcF"
      }
    },
    {
      "cell_type": "markdown",
      "source": [
        "**What does the following code output?**\n",
        "\n",
        "Ans: \"\" (an empty string). Multiplying a string by 0 results in an empty string."
      ],
      "metadata": {
        "id": "XIx3v91K53d6"
      }
    },
    {
      "cell_type": "code",
      "source": [
        "s = \"abc\" * 0\n",
        "print(s)\n"
      ],
      "metadata": {
        "colab": {
          "base_uri": "https://localhost:8080/"
        },
        "id": "Q4vBmM9B55rz",
        "outputId": "eb4f4040-4fdc-4e69-e543-b3d544b9ca70"
      },
      "execution_count": null,
      "outputs": [
        {
          "output_type": "stream",
          "name": "stdout",
          "text": [
            "\n"
          ]
        }
      ]
    },
    {
      "cell_type": "markdown",
      "source": [
        "### **Tuples in Python**"
      ],
      "metadata": {
        "id": "R2R6jxXE6FDi"
      }
    },
    {
      "cell_type": "markdown",
      "source": [
        "A tuple is a **sequence of immutable Python objects**\n",
        "\n",
        "* A tuple is similar to List except that the objects in tuple are immutable which means we cannot change the elements of a tuple once assigned. On the other hand, we can change the elements of a list.\n",
        "\n",
        "* tuples are comma separated values , and usually written inside parenthesis - using parenthsis is not required but the parentheses improve your code’s readability\n",
        "\n",
        "* parenthesis must be used for creating empty tuple.\n",
        "\n",
        "*\ttuples use parentheses(), whereas lists use square brackets[].\n",
        "\n",
        "* •\tWhen a tuple has only one element, we must put a comma after the element, otherwise Python will not treat it as a tuple. If we do not put comma   then python will treat as an single variable rather than a tuple."
      ],
      "metadata": {
        "id": "-Jcs9DK66NON"
      }
    },
    {
      "cell_type": "markdown",
      "source": [],
      "metadata": {
        "id": "cYffFm6_J8tD"
      }
    },
    {
      "cell_type": "code",
      "source": [
        "# tuple creation and usage\n",
        "\n",
        "# using parenthesis\n",
        "tup_1 = (1 , 2 , 3)\n",
        "\n",
        "print(\"Details of tup_1...using parenthesis\")\n",
        "print(type(tup_1))\n",
        "print(type(tup_1[0]))\n",
        "\n",
        "# no parenthesis - only comma separated\n",
        "tup_2 = 1 , 2 , 3\n",
        "\n",
        "print(\"Details of tup_2...using parenthesis\")\n",
        "print(type(tup_2))\n",
        "print(type(tup_2[0]))\n",
        "\n",
        "\n",
        "# empty tuple\n",
        "\n",
        "tup_3 = ()\n",
        "print(\"Details of tup_3...empty tuple\")\n",
        "print(type(tup_3))\n",
        "print(tup_3)\n",
        "\n",
        "# hetrogeneous elements in tuple\n",
        "tup_4 = (1 , 'Tonu' , 5.4)\n",
        "print(\"Details of tup_4...hetrogeneous tuple\")\n",
        "print(type(tup_4))\n",
        "print(type(tup_4[0]))\n",
        "print(type(tup_4[1]))\n",
        "print(type(tup_4[2]))\n",
        "\n",
        "\n",
        "# single value tuple - use comma , at end .\n",
        "tup_5 = (\"Tonu\")\n",
        "print(\"Details of tup_5...creation of single value tuple without comma - NOT CORRECT\")\n",
        "print(type(tup_5))\n",
        "\n",
        "tup_5 = (\"Tonu\",)\n",
        "print(\"CORRECTED Details of tup_5...creation of single value tuple without comma - NOT CORRECT\")\n",
        "print(type(tup_5))\n"
      ],
      "metadata": {
        "colab": {
          "base_uri": "https://localhost:8080/"
        },
        "id": "t9RD5xcgFg1h",
        "outputId": "ae37570a-7419-4e42-b697-d0814c5a0625"
      },
      "execution_count": null,
      "outputs": [
        {
          "output_type": "stream",
          "name": "stdout",
          "text": [
            "Details of tup_1...using parenthesis\n",
            "<class 'tuple'>\n",
            "<class 'int'>\n",
            "Details of tup_2...using parenthesis\n",
            "<class 'tuple'>\n",
            "<class 'int'>\n",
            "Details of tup_3...empty tuple\n",
            "<class 'tuple'>\n",
            "()\n",
            "Details of tup_4...hetrogeneous tuple\n",
            "<class 'tuple'>\n",
            "<class 'int'>\n",
            "<class 'str'>\n",
            "<class 'float'>\n",
            "Details of tup_5...creation of single value tuple without comma - NOT CORRECT\n",
            "<class 'str'>\n",
            "CORRECTED Details of tup_5...creation of single value tuple without comma - NOT CORRECT\n",
            "<class 'tuple'>\n"
          ]
        }
      ]
    },
    {
      "cell_type": "markdown",
      "source": [
        "Note that once you’ve created an empty tuple, you can’t populate it with new data as you can do with lists. Remember that tuples are immutable. So, why would you need empty tuples?\n",
        "\n",
        "For example, say that you have a function that builds and returns a tuple. In some situations, the function doesn’t produce items for the resulting tuple. In this case, you can return the empty tuple to keep your function consistent regarding its return type"
      ],
      "metadata": {
        "id": "7Ix-aMd7JItf"
      }
    },
    {
      "cell_type": "markdown",
      "source": [
        "**Tuple Characteristics**\n",
        "\n",
        "Tuples are:\n",
        "* Ordered - They maintain the order of elements.\n",
        "* Immutable - They cannot be changed after creation.\n",
        "* Allow duplicates - They can contain duplicate values.\n"
      ],
      "metadata": {
        "id": "kqwMlCerNFmg"
      }
    },
    {
      "cell_type": "markdown",
      "source": [
        "**Opertions on Tuples**"
      ],
      "metadata": {
        "id": "WheXYL-SK9Ph"
      }
    },
    {
      "cell_type": "markdown",
      "source": [
        "For tuples, parentheses () are used to define them, but square brackets [] are used for indexing."
      ],
      "metadata": {
        "id": "mbp4CUWSSSBU"
      }
    },
    {
      "cell_type": "markdown",
      "source": [
        "Note: **Square brackets []** are used to access elements in indexable data types, such as lists, tuples, strings, and dictionaries.\n",
        "\n",
        "Also it is important to note, Square brackets [] are also used to **define a list in Pytho**n."
      ],
      "metadata": {
        "id": "LG5nF59aSTrN"
      }
    },
    {
      "cell_type": "code",
      "source": [
        "# Accessing Tuple Items\n",
        "\n",
        "languages = ('Python', 'Swift', 'C++')\n",
        "\n",
        "# Accessing items using index\n",
        "print(languages[0])  # Output: Python\n",
        "print(languages[2])  # Output: C++\n",
        "\n",
        "\n",
        "# Negative Indexing: Access items from the end of the tuple.\n",
        "print(languages[-1])  # Output: C++\n",
        "\n"
      ],
      "metadata": {
        "colab": {
          "base_uri": "https://localhost:8080/"
        },
        "id": "xz0ZlzQxPHOX",
        "outputId": "81780eb6-a003-4fab-f1bd-49fb88b5e018"
      },
      "execution_count": null,
      "outputs": [
        {
          "output_type": "stream",
          "name": "stdout",
          "text": [
            "Python\n",
            "C++\n",
            "C++\n"
          ]
        }
      ]
    },
    {
      "cell_type": "code",
      "source": [
        "# Immutability of Tuples\n",
        "\n",
        "cars = ('BMW', 'Tesla', 'Ford')\n",
        "\n",
        "# Trying to modify a tuple will raise an error\n",
        "cars[0] = 'Nissan'  # TypeError: 'tuple' object does not support item assignment\n"
      ],
      "metadata": {
        "colab": {
          "base_uri": "https://localhost:8080/",
          "height": 176
        },
        "id": "sorTYlFCPS72",
        "outputId": "105606fd-1167-4d80-846c-68f450aff970"
      },
      "execution_count": null,
      "outputs": [
        {
          "output_type": "error",
          "ename": "TypeError",
          "evalue": "'tuple' object does not support item assignment",
          "traceback": [
            "\u001b[0;31m---------------------------------------------------------------------------\u001b[0m",
            "\u001b[0;31mTypeError\u001b[0m                                 Traceback (most recent call last)",
            "\u001b[0;32m<ipython-input-14-19305f5f1f89>\u001b[0m in \u001b[0;36m<cell line: 0>\u001b[0;34m()\u001b[0m\n\u001b[1;32m      4\u001b[0m \u001b[0;34m\u001b[0m\u001b[0m\n\u001b[1;32m      5\u001b[0m \u001b[0;31m# Trying to modify a tuple will raise an error\u001b[0m\u001b[0;34m\u001b[0m\u001b[0;34m\u001b[0m\u001b[0m\n\u001b[0;32m----> 6\u001b[0;31m \u001b[0mcars\u001b[0m\u001b[0;34m[\u001b[0m\u001b[0;36m0\u001b[0m\u001b[0;34m]\u001b[0m \u001b[0;34m=\u001b[0m \u001b[0;34m'Nissan'\u001b[0m  \u001b[0;31m# TypeError: 'tuple' object does not support item assignment\u001b[0m\u001b[0;34m\u001b[0m\u001b[0;34m\u001b[0m\u001b[0m\n\u001b[0m",
            "\u001b[0;31mTypeError\u001b[0m: 'tuple' object does not support item assignment"
          ]
        }
      ]
    },
    {
      "cell_type": "code",
      "source": [
        "# However, if a tuple contains a mutable object (like a list), the mutable object’s elements can be changed.\n",
        "\n",
        "nested_tuple = (1, [2, 3], 4)\n",
        "\n",
        "# Modifying a list inside a tuple\n",
        "nested_tuple[1][0] = 99\n",
        "print(nested_tuple)  # Output: (1, [99, 3], 4)\n"
      ],
      "metadata": {
        "colab": {
          "base_uri": "https://localhost:8080/"
        },
        "id": "r8ncSOVTPaFE",
        "outputId": "cebd8aaf-0a49-4a96-fa29-c715a390f179"
      },
      "execution_count": null,
      "outputs": [
        {
          "output_type": "stream",
          "name": "stdout",
          "text": [
            "(1, [99, 3], 4)\n"
          ]
        }
      ]
    },
    {
      "cell_type": "code",
      "source": [
        "#### Tuple Operations ###############\n",
        "\n",
        "# Slicing Tuples\n",
        "numbers = (10, 20, 30, 40, 50)\n",
        "\n",
        "# Slicing\n",
        "print(numbers[1:4])  # Output: (20, 30, 40)\n",
        "print(numbers[:3])   # Output: (10, 20, 30)\n"
      ],
      "metadata": {
        "colab": {
          "base_uri": "https://localhost:8080/"
        },
        "id": "TFnDgr1tPkgQ",
        "outputId": "78d00d94-44f9-4a28-b06d-57570818a79b"
      },
      "execution_count": null,
      "outputs": [
        {
          "output_type": "stream",
          "name": "stdout",
          "text": [
            "(20, 30, 40)\n",
            "(10, 20, 30)\n"
          ]
        }
      ]
    },
    {
      "cell_type": "code",
      "source": [
        "# Membership Test\n",
        "colors = ('red', 'blue', 'green')\n",
        "\n",
        "print('red' in colors)     # Output: True\n",
        "print('yellow' not in colors)  # Output: True\n"
      ],
      "metadata": {
        "colab": {
          "base_uri": "https://localhost:8080/"
        },
        "id": "9_EKB2mjPuup",
        "outputId": "9925ddee-093e-42b8-e455-02df7c4354c6"
      },
      "execution_count": null,
      "outputs": [
        {
          "output_type": "stream",
          "name": "stdout",
          "text": [
            "True\n",
            "True\n"
          ]
        }
      ]
    },
    {
      "cell_type": "code",
      "source": [
        "# Tuple Length\n",
        "\n",
        "cars = ('BMW', 'Tesla', 'Ford', 'Toyota')\n",
        "print(len(cars))  # Output: 4\n"
      ],
      "metadata": {
        "colab": {
          "base_uri": "https://localhost:8080/"
        },
        "id": "0FrWimU0P8wR",
        "outputId": "55509b05-ee4a-4c74-ac53-1973126bedaf"
      },
      "execution_count": null,
      "outputs": [
        {
          "output_type": "stream",
          "name": "stdout",
          "text": [
            "4\n"
          ]
        }
      ]
    },
    {
      "cell_type": "code",
      "source": [
        "# Iterating Through a Tuple\n",
        "fruits = ('apple', 'banana', 'orange')\n",
        "\n",
        "for fruit in fruits:\n",
        "    print(fruit)\n",
        "\n",
        "# Output:\n",
        "# apple\n",
        "# banana\n",
        "# orange\n"
      ],
      "metadata": {
        "colab": {
          "base_uri": "https://localhost:8080/"
        },
        "id": "5qG57dYDQAZE",
        "outputId": "72dcc247-b991-4b17-f036-f30511095428"
      },
      "execution_count": null,
      "outputs": [
        {
          "output_type": "stream",
          "name": "stdout",
          "text": [
            "apple\n",
            "banana\n",
            "orange\n"
          ]
        }
      ]
    },
    {
      "cell_type": "code",
      "source": [
        "# Deleting Tuples\n",
        "\n",
        "#You cannot delete individual items from a tuple, but you can delete the entire tuple using the del statement.\n",
        "\n",
        "animals = ('dog', 'cat', 'rat')\n",
        "\n",
        "print(type(animals))\n",
        "\n",
        "# Deleting the tuple\n",
        "del animals\n",
        "print(type(animals))\n"
      ],
      "metadata": {
        "colab": {
          "base_uri": "https://localhost:8080/",
          "height": 193
        },
        "id": "-itn9-tLQRBX",
        "outputId": "c85bb448-bed2-473d-a24b-dd5c5d6c6d2d"
      },
      "execution_count": null,
      "outputs": [
        {
          "output_type": "stream",
          "name": "stdout",
          "text": [
            "<class 'tuple'>\n"
          ]
        },
        {
          "output_type": "error",
          "ename": "NameError",
          "evalue": "name 'animals' is not defined",
          "traceback": [
            "\u001b[0;31m---------------------------------------------------------------------------\u001b[0m",
            "\u001b[0;31mNameError\u001b[0m                                 Traceback (most recent call last)",
            "\u001b[0;32m<ipython-input-20-f66427ebd3e3>\u001b[0m in \u001b[0;36m<cell line: 0>\u001b[0;34m()\u001b[0m\n\u001b[1;32m      9\u001b[0m \u001b[0;31m# Deleting the tuple\u001b[0m\u001b[0;34m\u001b[0m\u001b[0;34m\u001b[0m\u001b[0m\n\u001b[1;32m     10\u001b[0m \u001b[0;32mdel\u001b[0m \u001b[0manimals\u001b[0m\u001b[0;34m\u001b[0m\u001b[0;34m\u001b[0m\u001b[0m\n\u001b[0;32m---> 11\u001b[0;31m \u001b[0mprint\u001b[0m\u001b[0;34m(\u001b[0m\u001b[0mtype\u001b[0m\u001b[0;34m(\u001b[0m\u001b[0manimals\u001b[0m\u001b[0;34m)\u001b[0m\u001b[0;34m)\u001b[0m\u001b[0;34m\u001b[0m\u001b[0;34m\u001b[0m\u001b[0m\n\u001b[0m",
            "\u001b[0;31mNameError\u001b[0m: name 'animals' is not defined"
          ]
        }
      ]
    },
    {
      "cell_type": "code",
      "source": [
        "# Unpacking Tuples - Tuples can be unpacked into multiple variables.\n",
        "\n",
        "person = ('Alice', 25, 'Engineer')\n",
        "\n",
        "name, age, profession = person\n",
        "print(name)       # Output: Alice\n",
        "print(age)        # Output: 25\n",
        "print(profession) # Output: Engineer\n"
      ],
      "metadata": {
        "colab": {
          "base_uri": "https://localhost:8080/"
        },
        "id": "wA5oc5wIREpG",
        "outputId": "e16273b6-06b4-4235-c3e5-f9f97da4b941"
      },
      "execution_count": null,
      "outputs": [
        {
          "output_type": "stream",
          "name": "stdout",
          "text": [
            "Alice\n",
            "25\n",
            "Engineer\n"
          ]
        }
      ]
    },
    {
      "cell_type": "markdown",
      "source": [
        "**Tricky Question :**\n",
        "\n",
        "Suggest a way to add element into a Tuple:\n",
        "\n",
        "Since tuples are immutable, you cannot directly add items to them. Instead:\n",
        "\n",
        "1. Convert the tuple to a list.\n",
        "2. Add the element to the list.\n",
        "3. Convert the list back to a tuple."
      ],
      "metadata": {
        "id": "_0aDXiZHQfi2"
      }
    },
    {
      "cell_type": "code",
      "source": [
        "def add_to_tuple(original, element):\n",
        "    temp_list = list(original)\n",
        "    temp_list.append(element)\n",
        "    return tuple(temp_list)\n",
        "\n",
        "tup_1 = (1, 2, 3)\n",
        "result = add_to_tuple(tup_1, 4)\n",
        "print(result)  # Output: (1, 2, 3, 4)\n"
      ],
      "metadata": {
        "colab": {
          "base_uri": "https://localhost:8080/"
        },
        "id": "jsbu8jkyQvid",
        "outputId": "09472ffb-f67b-4bd3-8bb9-633d156fc77a"
      },
      "execution_count": null,
      "outputs": [
        {
          "output_type": "stream",
          "name": "stdout",
          "text": [
            "(1, 2, 3, 4)\n"
          ]
        }
      ]
    },
    {
      "cell_type": "markdown",
      "source": [
        "**Qstn : reverse a tuple.**"
      ],
      "metadata": {
        "id": "Dtr191E8RN6X"
      }
    },
    {
      "cell_type": "code",
      "source": [
        "# reverse a tuple\n",
        "\n",
        "person = ('Alice', 25, 'Engineer' , 155 , 'India')\n",
        "\n",
        "print(person[::-1])\n",
        "\n"
      ],
      "metadata": {
        "colab": {
          "base_uri": "https://localhost:8080/"
        },
        "id": "h2cK9iK7RSjh",
        "outputId": "59cff092-c49f-4dbe-c016-fd3e335bb9b6"
      },
      "execution_count": null,
      "outputs": [
        {
          "output_type": "stream",
          "name": "stdout",
          "text": [
            "('India', 155, 'Engineer', 25, 'Alice')\n"
          ]
        }
      ]
    },
    {
      "cell_type": "markdown",
      "source": [
        "![image.png](data:image/png;base64,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)"
      ],
      "metadata": {
        "id": "W8Ldzu0Rki5p"
      }
    },
    {
      "cell_type": "markdown",
      "source": [
        "![image.png](data:image/png;base64,iVBORw0KGgoAAAANSUhEUgAAAsMAAAHXCAYAAABZI1dSAAAAAXNSR0IArs4c6QAAAARnQU1BAACxjwv8YQUAAAAJcEhZcwAAFxEAABcRAcom8z8AAP+lSURBVHhe7J0FfBVH9/dv3BNiJBDc3YoW2uIUh+JtsUKxosXd3d3d3d3dgrsFJ+6u33dm773JTQhF2ud5+n/ZXz9TbmZnR86cmfM7s7OzGlSoUKFChQoVKlSo+Mrg5eWFn58fKhlWoUKFChUqVKhQ8dVBJcMqVKhQoUKFChUqvlqoZFiFChUqVKhQoULFVwuVDKtQoUKFChUqVKj4aqGSYRUqVKhQoUKFChVfLVQyrIKkpKTkoP9bhQoVKlSoUKHia8BHybAhLTIkTWlDYmJi8m992v8VUpWsq5Nh3f4JpM4rdRmfFxIV2aWV338SsgxRXGrEx5OQkJBcj/8L0NdSL7eUINpg0A79v18T0jZZkYny74dlocjuv6iHKlSoUKFCxb8Bf0mG3zeoWqKhJ28KcUr+LYiUIFMJCf97UpWa5yWSIIhevAj/yTrpZZNWPn8VtKRN1C02NllmMvw3kJTkx9GZvWlVrx4tf5vN2ZBw4gz67t8K2X3p9WAq3VTaoAsGuvi/0sf/BdI2NTE+7r1xqchE+aWDkF9CXBzx/3IdUKFChQoVKv5JfGRl2I9j8wfQuGxFvq9Wg2rVqlO1akqoUqUq1arXpF6zDvSftJqT914TJoidJHfxcf9Z8vlXiHl6jIldf6RsuYpU7DKby8+CRT0SkgnxP4VHO8fSpl55Kv3wvmw+HqpQqUJNmndagGdMtJBZjJBZ3H+RhDxnSatCWGs0WLm1ZoN3IDGiDnE6Yv7vRhJRgU84t2UxAzq3olGdWopMq1StSc3aTWnbZxxrTtzGLzRaOEKCBP4fXPX+24jw5uC0NnxbtiwNu47n8DNBfBPFuBSySCHBSYTf2US3+jWpUKYWv/Zaye0kMUZ0OvDVyEqFChUqVHzV+CAZ1trBV2zoUws3QZg05uYYGxmj0RilCcaYmNuRwdWDnIWr02vuIZ6HxJAQKwjef3g19kOIurGGn0uYirqJepfswr6b3qJBccQKI/9P1ufy7GbkshRlvCcTEYxMMTWzxNzcElMTWRcZbyg/eZ8pmYr34mB4OLGREcn1++/gBSs6lCOThRXueTuy8aU34RHhREdFJROmfyOSYvy4snkszSuXJE+WTDjYWGKSrJfiXyMLrBwykiVXIcrW786CfbcIjBTkLi7F2fgaSF5SsBcrfi+g6JlruV9YfVNExmt1TCG62lQEnp3IN9ZSF03I8e0wTieI69FRxP1XHTMVKlSoUKHif4cPkmGtHXzFpoGNyKWxxNbRnSw585I3XwHy5c1PPvmvCHnz5iWHhzuOdjZYWFhinbkGo7ZdIzAulriY6HRXmOTfHwofQ3r3GAaJyHu76Ne4CJkyZyVboxEcu/1OcOHoFCKgS2eItPmklyYtbq3pTY0Smcmeq2CyPJSQvwC5c2bH3dmZDI4uuGXOQa688lp+IS+97PKSPUtBKtUfw4ngYKLCw4iJTl9eenyoXvp4/TXDvw2DHvJnEs9Z/puWDLvl/Y31Xm8ICQshKjIyXTKcNi99+BjSu0eGz4W8IzHai23Dm1HCwwELM3PMLBxwyZSdnLnzJetlnlw5yezqiJWpOaaW4nq2b+m95DTvwgUZFg6anuQZ1iFt3dILn4IvuS9tOsN7PyekRUKQF6u6f4O5sYYcP7RntacYj5FCz3TOTqJySyLBnotpUrIgHm6FqdpyOhejBWEWOvAhxyy9smX4ENJLlzZOH/9XSO8efVChQoUKFSr+Dj6yMvySjQMbklNjgoXNDwzcfIzbz5/w+MEDHj9+wtOnT3h07zrHN87k95qFcLG3x9LMiop/LMfztSAf0eE68vFpBku//zg9A/fRHAz2i8YIQx4ZGUVYWBiBgQEEBQURLldf/4IMv4+UuqSXXl6LjgwnwN+Pd+/e8eLFS0WYz54959XbZ5zZNIo6WS0wNnGjcofpHLzlxdOH93j48CFPFNnJdN74+weKegYTFhpKdDpk+L2ik2Wk+zsZiSR8UM5Jilz0bZH3JuLFMj0ZzvMb6569IjgkmMiIiJRH6e8XkgpJyr7c92X0sfsk5L1Jor6flFYmiQ/i8LRfKe4sSLC5FXYZc1G6VkfGLd/F6Su3ePj0KU8fPeTWpcOsmtiDBmXz4+pgj5WFDRly1mbsrtsECZ2IFTJW2qfNOhmJCaIdut9p8aF2Sihxut/pQtkXnkY+un/1SBBlp991ot/SlJcupO7L+hvWL9qbDb1LY2akIWflDqy/JeISopR2JCMhXuiwGCeiz0NE3wcFiLEiHLMI8beeDH9K+2TZqfIVSK+NH8znL+T7MfxV36hQoUKFChWfgo+sDAsyPEBPhqsyfO8lXoYEEODrqxDMkJAQQgWJC4+O4O6eyTQqaIuJqTnZGw/n6B0fEgQZjomJ0RrLuCgCvF/w4PZ1Ll+6yLlz55Rw/sIlPG8+4KVfhNZYJsYrezzfN3BJhHk/5+71q1y4cEF7v7j36vW7PHvjT0y8TJNAbFw8cZGBeN2/zunTZ7hw6zHeAXLFM+0jYoGkSHyeP+T61cucPy/rc56Ll65z98krQZyUDEmSdUmHQMu/RbOUl41iY2ME+Y5UCHdYWATR8aHcOTiFBtnMMTJyo1rX+Zx7IciGnyS/AQrpDAp8w/1Lpzh2/BQXbz4lULcybLgqK/9NTAjG64YnF85f4tr9N4QJ50J5wSk+Er/n97ks5HD2xmP8ImSHJRDi84x7QkYXz0sZXeTqzUe8DY4SbRZ5iXtl+2XfJialIcNPRZtDgnRkWDowShUEYvB7IWR05aJORhe47HmHp95BxMlqyhcADcizruoiPhJfrwc62Z5XZHv+4lWu333Em4BwbZqklHv/Gkn4nZlP0+IumJhZYpepEE2GrOPSszf4+vkKh8SfYEHipD6GiH8loXtz/zAT2n5HZlsbzK0c8Kjan6OPfImMEoRY9lfwWx56Shl5cv9lILK3k4TevHh4iyuXtPp14fI17j8X98iLiULuaeqa8jORYO+n3PG8opW7aO+Fy9d5IO6NSpCJErQ6rcgnifgwb+4KuZy75MntF4FafRS66PviAZ6i7POyT8978uRtsHCQogjyecXjeze5evmSTpZi3IhyLnve5skb0Q/K/bpxkxBHlP9zLh3byYjmhbAyMyNr6QYMX3Ga08cPc+LECTEuTnP27E1eBIYKIuzN/csXRNwFrtz1IiAsVHk6kLyCLvMWiAh4yYObnjq90vblnSdvCI2ViqJ98S7BYMwmBL/ihqdoo0h3/02okkdSdDCvntzmmjL+hYwuenLvuR9R0lmQL2/K+ifnodwiEIvfy8cir5S2X7h4het3HvHaTzi4Momub+S9KlSoUKFCxefio2R4gyDDORQyXIVhey4qZDhIkA+56ioJoBIEWQjw3ESnKhmVfZv5W0zgxL0AYiJClVXa2LCXnF46hk4tfqRsoRy4OGbAytoWa2sb7B0zkrVARRp3Hcu6Q9fwjZAv4Gn3d8rVJImE0Nec2z6Xfj/Xoli2TNja2mFlZYtNBjey5itL7V+6M2HxDs498tYStBeHGdIgn7JfMluzCZx9GkqSIOOSBOlX4EJeXGLTvOG0qVmWHG5O2NrYiDwdcMqYl9I1mtN3whJ2nrmPf6R8rPz+o3UJGSeNsCTZkvTLld2oKFF3Irl/eBoN05DhYEGGg4MFMY8RBOfNMQaWc0Rjkonyv6/imaxfVAoJ0SM+9gi9CntgorEjb+PZ3ImKJk6+3xb7kPV/1sJe7j0u/wcbj1/j9oHl9G9fk+LZM2JvJdvjhEf+Svw8cD5Hbr8lStRVbl2JixfkRZLh9umT4dg4bfkhr2+za/Fo2tUWMsrooPSXlZUjLtlKUr1tfxbvvsSbcEHF4rTbDxIU4gehL6+xfcEw2lUvI2Tror3Pxh5756zkK12NX3qMYOG2szzxDVVk+1eEWImO9WL9gHp4mJhhYZWJSn8u49pzH4IDBBEO8BcOWYjiiOj1MSJCOCZR8QTe30XP2gVxsLDA1rkAHZZdISBYOl3ReJ2eTePMcq9sfn4etxXPp+dZN7YX9SoUwM3RVrTTBgfXHJSp15UZm8/xKiSWpHS2WcQEPObkxrn0+rkyhTK7YCflbm2Hg1teKtTvxMTVx3gWECn0TrRTOGqSGIdenkVlVxs0NjmpOfEEcf73Obh8DO3qlMbD0R5rC0tMrQrRfcUxTm5bwqDfGvFdyXxkdnEUshTjRpRha++IW44SVG35J3M2n8IrMEL0q1CMmDCer+qAq4MdlraOODm54uTohL0YMzY22mBtZYmFRQ2mXX3MO/8ttM7kgMbInTK/LeOx0M1Y4TDIFykVLYjx4+ahNQztVJdvcrrjoOiVLbYu2SlR7RcGzd7M1ad+xAqZJMhxK5wtiehDwynkboXGITvNF1zi7e3TrJ3WlyY/FMJDrthb2mKXIRsl63VhytbLYtwLR1BurVJItZIFUd632btoDO3rfUvOzBl0Y9QWBxcPcpesQotOI5i76QD334lxI+r7aY6VChUqVKhQkRqfvTL8OiyIMLnHVVlhE0RXYZ/w6sQ8GuczQ2Oclebjd/HAV5ATQVLiEuMIfXOY3sVtMRJE2cjIRCHMKS+UmWBsaoG5uQU2WSvTZ8UlfCMjBLkUxlHUIS7kKTtGNiS/g3wJzUTJI+UlNPlbBkFqbHNTf9IJpS54HWJY48JKfO6WEznzOIjEGJFnbJwgQvH4XFtHr/qFsTE1x8zM8MVAfX7ytzkZK4/knG+wIBmxyqqVoaGVv/VBkiO54ipDvKw0cTw+PpNG2YQ8BBmu3nUBF16HEh4cIEibIC0J8YT5nmJIxYyC9GSjYueVPI4KV/YNpzye1pYTF3OEPiWyY2XiRMGmM7kREkq0XI2LfMC6fnVwln1TrBatmv5IiUyCfEhZ6NtibI65JFYmGShQcxA77vgSmxBJdFScaNPTdMlweLh2FTnk0WFGNCiJk5nMx0wnd20wEn8bG5ljm6UcPZeeEv0lSIzciyrqG/r0IOObFsPRXKbV97VhkHGijrkaMOvwM9lChQB9iMTI2Jj7O+hRw0M4DpY4FPiFRSfu4i9kKR/rS6dMOiIyD0mGZJC/o6NjBPmP4+6aXpTNbo+ptTP5m8/izjt/UWIET0/NoUl2U6F7+fihXjPqVyuAjSI7vfxMMDGz0uqlxzd0XyjaKRy1GOGwKH0k6pXod5lFfWqQxVa+xCd0M9WLfGaYGhtj6lCQhiO38SBIEGKhR4kJsQRdmk01D2dMHXNSvs0gJv5eg8ymhmXLf935ZfYKhjcqgZOJ+NvI1ED3tbI0MpHjxgwzUUaTkTt4KMogJogni37G0lRct3DA2Tkjjvb2mJuk3KfNvyLjz93jtc8m2mV1wcQiK+U7LueR0MNo4RApT1rifDi1pBulPOwwEbqkfRFUl4dsn6nQAwtXitcdyp4b0tkS84F8EiQ8zohDI4RT5oSFczYq/dKDtlXyYZXcPhmEfM2tsRL6aZn5B/pvvExQuJCtvF84DOGvzjO1VUVcTI2Evhnqkb4dWj2yzFSMofuCtE6ezlFRoUKFChUqPgefRIaVlWHrGow/eR/lAXcq4hKL931BgH4tj5PGipzVB7DV8xlBYYGEhYaRkBRP8OsD9CyZieyFKlKrya/81vkPuvfqTa9evfij6280rVYCD0cHLC1scC3Rlk23vAmPipFLwtzaNISyTsIAmruQo0RlmrbrSo8evejVszc9u3WifdsW1K1QFKcsBak1+qB2NUsQsqE/FVGMZp4WEzj1wJ/YSLl/OZawZ4fpVz2nIAsWWFhmwKNIZZq170L3HrI+3en8e3uaN6hKyTw5yVppICfe+gsSLVetPkzYDKFNksjTE7NorJDhjFTvtpBLbwTZDQ0STkS0kEmiIMOnGVrJDXOb7FTstJwHocGEC+chZd+wkh2x0cKRKJkTGzMXCjWZjmdgEBGCzBJ2l7X96uJqYivIjrVCDKzcC1OlURt+/0O0pXcvOrdpQIUCmbGxtBJkx4PqvZdxJ1CQhohI0abHggyXTbVnWG4viBaEJvzNGaa1+AYnI40gOy7kKSPIdoc/6Clk3qvnH7T7qRbFsjpgamSBc6FGTDn6TLmPyOes7S2InYUggbZZKVG1EW07dVf6qlfPnnTv0oFfWzaiSmEPjPPXY/KeB7KFyQ5A+kjiyb5J1M0jnCYza4p3nMu5h36EB/kpW3QkEZby0q/W6oM87zpGLlq/3UOnCvmwMbYlU+HfWHv3DZFCrx4dn0XTHDZYOzoKR0OQNGNH8pSrzc8dutFT6ma332lc4xs87G2UffAuxZsy6+Rr4mPCiIoW/RP2hHUDa+NhJ/eFW+NW+Aea/NqJP3r1UdrapXVDyubLjLUgoSZuZem76iL+0fEkxkbif34m1bNnwsHBiQwZbDGWjlfBH2iq6KG4v1dPIeuRrDq6i5H1S5AnZ2Eq1W1Gm45dRP5ST3vTo3sXWtevRL5MzlhbWmKRqSrj994lWDhUb8+tZ1CvztQpmx07G1vc835DvdYi3x7d6d69Bz17iNBzJgcePufVy/W0zZ4RM+GUVei4lAfhIUSERQgZhnB30zC+y+YgiLAZlo55+K7er3QSutWzp9Ct1o2oWNAdK3NJkp0o3noqZ4TDlyTaFyvGStj+4ZTI5Y61bQbsLQSJNrIlS/GqNGvTWYz9vqIOnWleuSgeTvZYWlnj+m0/jjx9R1SccCojXrF/UgPchXNh7uhBoQoNaCP0qIcc8yL80akj7Vo25vsSOcmSqzD9t/sLB084mbFaXfiUcapChQoVKlTo8QnbJBoJMmyOtUMharTpSv9hQxk6eAjDho9ghAiD+3WjWZViONs4U6z+MHZcfk6QspXCj7BwQUDj44gIfsKxdavYcuACt569xT8kjMiYaEFkogQB9OXJlQNM6VBZGEYbbJzz0H7RVQLC4ojz9mRJt/KYCjKe+ZumjFp/BS9vf2V1Ve6vjQ4PwtfbiztnDrBq+TI2nrwnjKkwhMlk2ITcLcZz4p4vMYIMR4W+49C4OnhI8pAhE4Xr9GLhznM8eRdAeEQUsTERhAT64HX/Mke3rWPJmsM89g8iWq5Sf+Kqk9YOf5wMh/qcZkgyGV7G3eAAQoPk9ahkMiyzio5MIcMFf5rGFT9/QsOjIfQOa/sKMiwIqbVbQSo36caEJdu5cPcFgeK6JPAhvo84vmwodYq6CUJngl3xFsw8/EzIPVKU85Al7bRk2F2/MhwaQULkS47MakMeeWScfR6+bzGUNcev8dxX+zQgJjoMP68bbJvZk2p5bISTkoUqnRdxN0pw4WvLaVMxG8ZGVhRtPJx1px8q+7Xl1gW5ohoZ5s/bF/e5tG89c5Zt5IwgpnGinh8iw1pZxnB5ZW8qZjDG2DQLzcfu4o53GOEhgUq+H1pV1hJiQbWTbjPjp1JkNLXEJXttpp96SVhsMA+OzuCnHFaYW7qQ+5tadBg6i01Hr/LCRzgEgmDHRATx9OouJrST+46tMbLKRe1eq3kiVy8TI3iwsR8VPGwwNrancN1uTN98hscv/QkT/RsTHUnIu0ecXjeaxqVzYSWcshxNx3HqUbCoUDjeZ6ZTTZBhOys7nDPnp0q7ISzaepJH3oHC0YkR8pCkLp6oMC9ObVzOmo0HRL8+411AMBHKuIkmKjKYNw8usmZoS4oKx8TMzIFqg7Zw73Wwdo9z6EvW9SyFme40iTWecaLooOSV9ISEWDEmQnj7dA1tJBm2zEr5Dou5J7fKRCUR8XgXvWtmx1xjhm2uSrQevIzTd16KcRmp7GMO9n7Mha2TaVujGE7mphi5lKP3otP4RYv6y+t7JRnOiIVVBtxzlKNZ7wms2C1k9MafiOg4odchvLi6ll41C+IsnDUH54qMOvSAYKELAcK5HvhDBjQmrhSp1ZNlZ+/x1k+0XfS3dBYjxFiR+6svHtnCyqVLOHJb6IJczdY5RioZVqFChQoVn4NPIsM55dFqzhmwMtWfl2sYTDA1t8JS7v+r1pw+k9Zw8u4rQYQFCZIvhQkDFS+Ns4JE5RxbSWYjBPmUxFA+zpYvAEVcnsOPBTJi7pCZH8fswyc4itBHJxnbLKdSTta6/dhxO4y4EG98vOWLaP7KSmZoaJhCIBQjGCfylpk9k2RYbpMQZLj5OI7f9SE2KgS/p7vpViyjaIcdHiV/Zs6FF4SFBhLg601AQIDyEpbMLzxSkD65/zJREobPM7LaJB8mw/KUi4SkhNRk+Pel3A0SJPejZHgql339ksnwakGGXYRsjIv9zMLDDwUhCCHIz4fAACEb+YJjuDxO6xm7JjUhl5k5GsuSdJi5n9exQvbh91jUNmVleK0gwyGiPwLv7GNwLXchOwfhLAxh+x0/IsID8RcykjIPCBD5Rgq5BD5kc79qOGhMyf59B9bfjcXvyGTqlZAkxpryA7by6F0oYQHv8PHxUeQbFBxCaFi4cIREJ8kX7xRSrj3TNn1CK/8fwLE5HShmKsiwWWn+WHqUZ2EhhMtV7ORV9PfvlZCP6+MTgtnc5zuy2ZmSIUsZBm9/Rkh0EPeOSDIs+keTk3r9V3NbkKmIQD8C/HwJDAwUdQ0lSvT76ysbaV0yA+bC6ShQsydbHoi6B19g6i8VcDY2waH0ryw5+YRQQSIDhez9xWAKCAgkMFT0Y3wAR2Z0pHgG4Vh4NGbOsbuEx4fz7tQ0qmVxxcwuM9+0FQ7OU29CgoVs5cuAyXooZBcmdC9BbsOJF+NGvqAZIZw24VSIfpJjJ0Y28uU+etbML+pnTpGO87n+xFs5DSLk1R2WdC6pbI/I8V1rlpwJIsj3Nb6+vkr+YaIfooTz5ytXhnPoyPBvi7kTHCQciDCurenPd24ajEwzU6X3KjzfiL4TjqKfr7Yvg8OkUxfD3V3jqZnbCmONFd+0mcIpL+FQRUcQuHeosk3CzN6Dqr1WcftNAGFCx+XpK9oTXsT8kBDJhbntKZHJUswfWflt4Q18xZzx0nMlbfNbYaRxpXKHeVwNkduK3iSPe7nvXtGjaK0TFS8cNPlipLpNQoUKFSpUfAk+nQw7OSmPXOWLRe8HW2ysbTA3M8PCMSvf1OrNunOPCRYGSq4SxcbGES/fXEtKJNzvpfKm+/r5Exnavw+du3SifevWtKxfmXzuLti5ZKXOmL288Qsh+q0nq3pVxlYQERv3gtTqNIGd5+/jGySIiiAHMSJvSa4jBWGVK0OSWEVLXvT8cMrKsEKGfYkND+DlwRGUdnXExC4XVXqswSvQH38fb4U4SgIhyZUkvjLI3zLIVUu5D1X/GP5j0Cb575DhNXJlWKPBuNzvrDv5gIggX4UsyNU/mY/2ZT65f3keP+WSeyw9qNdvFdcDRNvC7iSTYbkyvPbpayLiArlzaAr1XAV5cyxH1wWn8RWENVSQH0nOZJ5a2cSLugVze98wyhprMC9cm3F7nxN7fwO/V86DmbE1zvkr03niGs7fe6k8upf9JPtL9pvsK7mqK+WrJzAfJsM+7J/ahvwaSYYr0HvdSV5GhxIREqLU5a/Ij7w/ITGB/cOrktPRCLtMBemx5inBkYHcOzxdkGHp3BWk+chN3I0UZFaQdkkUpS4ouhSXRLTvI1Z1+0YhlS5lmzHntCDhnkv55dusom8dqDFiP098wgkTZFbeq6yCKzokdEfU4d3JuTQvZSPKKU6PVWd5ExmO98kpVPVwxsgpLzVG7iXU3xtfQfT0RwAa6mFMnPx6XhIxYX7cunCEbcunM25YPzp37UrH9u1o/dOPfJMnGw7WthT7fR7XHr9TSHPo67ss6yrIsLEgw9+3ZfmFUMKFfuj7UY7JhKQ4At9uTCHDHQQZDgknUejGhkGNyGpkhKl7LcbsuMrbYOk0+igndujlEylX3l+eZcovxTATemj3XRc2nntJYkw4fruGUCybI+YuuWk2S+iR91tBxFPLV+72ebF7GBXzZRCOgRut53ryNigKv/tHGF47k3CybXDNVYE2I1Zx+s4LguS2GN24T9EjbV5ynH6qw6pChQoVKlQY4hPIsNwzbIqlXVnaTlzIxt072b51Kzt27GDnzl3s2r2LbdvWMX98HxqVzYuTpYXywlbBVtM45+UnjJRcsYkh6NFxFg5sT60fvqNU0YLk8siIg62t9gUv+YKMsSU2dvbYu2WnriDDr976EhHuz/19U6if3055mcnG0YN8JSpStXYjWrTtwYhpy9h9/ibeQfLFG+3jY4UMvzjCMAMyfEyS4VA/Hq3sQjZnGyw8itF6/nmClVXUAMU4642pJFfyX33QE7VPNbLaZP9dMmxUtgNrTjwUBDdQISuSTOlfJpPd+O7KVjqWk8TPinLtZ3LyaSzR4TdZ2KYMmSwlGW4vyPBbImJfc3Fzf8oLWVu75qRwuSr8WPtHatb8kVq1avPjj3WoXVuEH+tSp15tqnxXguzWFmhyV6X/6qskRb9k15gWFHKxxMzUGofMeSlRoQo1GzSnfdfBTF2+jTN3vAiJ0H6QRb4s9XEyrFsZNpN7hovy+7xDPJXbbMI+kQwnvWN15wp4WJvjlPV7Ru8T5UcFcjeZDBeg6YiN3IsKISwwZeuFIj9ZfthLDo2qh6WZKWb5azFix2P8jk2lXgknTCydyFeqMtVq1qFWzVpCRj+myEiGOvWp9X0Z8mRxwso8N21nHsErKEwQZC0ZNnbMTdWhOwjQ6aEkwrLsZL0Txcf43mHHtN78VKMqZUoUJW+2TDg72GEhnBgzE+ngmGNl64iDQwaKCzLs+eitQobD3txlebcUMrziknD2QlPK0J79LVwa7820MyDDt+V+YZ9LLOpaHUeNESZlfmfNqYeEh2ifNkj91NdROXQk4iHr+9fHSaQ1yt+MmQduExkTgd/OwToynIsmU4/h7eNLUBr5yh1NUadnULWIG6a2GWkzz5OXPqJvg15wcmEnijmINlrY4JAxJ8XK/8CPDZrQuusAJi/ayGnP5wRGCAdLbrPR6ZFebipUqFChQsXn4BPJsDxNojqjD1/nXVSYcpqENKrSMMr9g5GRYcpWgyfn19KrTgmczM2xcKzE8O03CYwM5/Xppfz2QyEyCeNmZGSKuaUddg7OODlnxMXFDdeMmXDL6IZzBgfsM2anzug9vHrzjsCgYMJC3nJt5yR+/qGg8lEPeSyUqTwFwsKWDK5ZyJGvKOVqt2PyzuuEyJViebKT1+FUZFiuDEcH+3BySiMyZ7DEOltxOi65THCAn/KxAUkepSH9J/C/IsNrTz4iNkLbL5IYGBJ4X88ddContwQYU+LnyRx9KMhwRBoy7PVO1O8px+f8Rh4LezJkyIC1ufae1EG/PUaeZiBkKV+OyvodfZZfJDYyFL8X19g57XcqFchCBuHsWJpbYCJfVrTOgEvmHOQt9A01249i5/U3xMULEiOIjCRGHybDMVxd05fvnOXKsAt1hmzm1psIosKDFTKsldX790ooDyOSrjKudnGcja1wzdmQ2edeKGRYu01CkuH8NBu5kfsxgoTpHAl9nsoQiHjNsTH1FTIsSf+gzfd5tGUQVfOYYWHnjK2lOcYflJEIxhZYWgkHzDQrP089yNPA98lwcKB/Kj3UNyfW6xijWn5HLuHAmQhdliultvZOODrJcZNRjBt33NzccXFywcHegWId53L14ZsPk+GwAIWMauUtSxBk2GdLKjJ8RxBMnh1j8q+llTLNvu3K5jOPFUdLrirr93cnyyfmKZsGNySjaLdxlrqM2eFJoCDD/noy7CzJ8HF85V533Wq+bKM8c1mOuKSLc6lR1D2ZDL94J59CBBPi/ZiDs3tTs0hmMggn2dLCXBn35tYOuLhnJ1+h0lRvMYCNl14TKeQmCfGH9EiFChUqVKj4K3wGGa7CsN0XeBHsT6C4Qa5ASuIlV1UV4xshiE1SFKdm/8Y3bsaCrDry0+QTPHx2jTnNC+NoaYmVrQtZ8pejfvu+TFm4li07D7B/3yFOXLjCpV0TqS3fvs/gQZ0xWjIcFBgg8o0kKiKEd173ObV3HVOG9OKXepX5plBOsri74WBtJYykNa5FfmTolttESFv49ECqbRJyZTgmxJerc38li5M1llmK0X7RJUIDte342Arj50Bri/8HZPhUChlOSwp8r22nUxm5imjP953mce5FNFFh6awMR7zgzPLuFJeky9mdzFlzkitnLnLkSAk5xd/6oMR5uJOhRANGbPQU5YcQEhZOaIA3T+9eZffaOQzp1p6GVUpTMHc2Mrk4Y2Nhgakg23nr9mPrNR8hd6E3BgTLEPq/35yYR7PiwpEytSRH4zHaPeCCeEtZfZhIywPiIOH+GlqUzC7IqD1Zyvdh9+M3hMUYkuECggxv5kFsOJHCydPrgrxf0YjItxwdUxdzExOsi9Zl3P4XPNs1kpqFbETfuZApS04hh9x/LaPs2fFwL0GXBSfF+AnH+1QKGa42bCchQQEKGU6th/7sHVKXXHZmmFk5kjF7USo36cKoGUtYt+0A+/Ye4PDpK9w8vZIuVYtgKxyTor/PU8iw3A8st0l8ERkOiyTx7QXmda6MvSC4puU6s+H0I+VlVbn9RruqrK2jkkXsM4UMy73rRnl+YsqeG8LZCMN3x6BUZNhPkOGwMO3pH3r5SjKceGFOKjL88l2gkEeQsjc6IjSA5w+ucmjTfEb06UDDat9SNGcOMru6YKvokRP5vuvASk/vlCPvkuWnQoUKFSpUfBo+SoYNzxkese/ye+cMS+MogzRy8t21G6t78102I0yt7Gk45jBXjy6kQXZnLCxdKfJjXzaev8czr+e8fvsO+TW2QGH4goUBDrm5gqaFs2JtnzmZDAcHBSrkLkq+oR4XL0ixXIH24c2rF3g9e8i1UzuZ2rUmedxsMTFy5Zsmk7gQJSrxeB+DG6chw6F+PN3Qi3yu9pg45qX2kB34hgYSZrAa+E9ASzI+TIZTjlY7xeBK7liYZ6Hcz3PwDAkQ5DwwmQzLx9gyq5jYY/xZMlcyGb7k4/vJZDi5LsemU9dDkuEcNBq8jpsBgmiEvE+Gw2PfcWXHUL63MEKTuRLdZu/jwZP73L55kzt37nD//n0ePHiQHOTf9+/f48GjJ7x6q91PKsuPjIoR9Y4lTLRX7hV99eI5Tx/d4cz2ufxRtyiuynFkhWg7Yz+v4uNIiNY7AEqFU0FZPXx1VHkh0tTYHGvXKgzdepmA6EhiIrSf2NaTK0NoKVE4xyY1p4CrJea2bpTpsZanr32JjAni3tGZHyXDEglBj1nSoagglcZkqtCKBeeD8T02jQalXNCYutNwxGbO33zAvVs3FBnduyfk8Z6MpNwe8eKND8EhQbw5NVU5Z1hPhoOF02folCkl+x+h93f5BMm1IVPJVszcc5lHT7149fqtssqqvOQXGk3c66MMrlcKW42Flgw/kivDejJcQiHDOX9ox8rLkanIsHZ8v79N4o48USTwOiv71CGTJMPZGjJlv3zCE0p4eivDQbdY3KUClkIPLcr9xuqTTxRHxcdgZbjpNEGGxViXnxz/KBn2FmQ4WDfuY+Q55rFEhIUIPXrHS6FHXo/ucn7/CvqINme2s8I4Q25qDNulfMFR7kv/kHOkQoUKFSpUfAifTYbfhAvCpSOQ0vDIr8Qpj6OVu0I5MLElhZ1MMbfKzM/TjnB5/VCKu9lj7laQptNPEhLkh5+Pt1Ko8lZ7RDSxwipG3FlBk0IeWjI8dq9CluVb48rX1gQS5bmxoky5sqp8YUy+WS9++z6/xLi6mbAytiHfd13Y8lRU/PEeQYZTTpM4dsdHOSrr1eVFNMohiLmpI3m/78HWx/7EyU9GR0mC8IG9q7q4TzWw2mSfQobPMewHd6yMHClSYzCH/UKJEiQgQpCAOEH89aVF+myjY9FsWJu7JpPhkDDB+A3JcPnObD7vRWKUIKNh2g93JCh7QgXiXrB9aAMymxijcamkfCTDW5CV0OBbLJJkWHmBTpDhJ/I0iTCen11BhxJWot7ZqNljEZd9Q4kQToNC2ER/SdImgzx1IywigugYIbf4WGXbQnhUrK7eiaINIk6QE3kclv7pQaSIe3R0Pi0KSRLqSq3ey7nuF0t8VMrWjrTQfo3Mj8NT2lLYxhwzKzty1enL1ssviJb3JMgPoqTsF9U3G+J5cWQqdYtlFg6HJXYelRi96y7e/qIP4oJ5cGwWTXQv0LUct4OnSVFC/tqVeYUs6nJ5d3UpLQvYY2zkQMnGwzjwXDhmD7bR+8dCWBpZkKfpWI7eeStkJJw65ZQEISudnBQZyXZHy/3o8mQSQbgjQnl3evrHyfCtFTQukRUTCydK9lqH11tf5aQQP92n0MPCBbmVY8PnGIPqFcdG1KXo7/PxfCz3DKdeGc76XRuWXxJOkiDD8uzvWP2gEiUFvduU6gW620HCIYjz5eT8rpRxMMLYPDc/jdjK/YAIYoV+yJfXpH7q5eN7cQW/lLTDSGNGgWYjOXA3QJDuoC8iw63nXuXFW7lNIky5JvVIHmko5xqpR+E6PQoXcnx3eznNc7hhbpGJksKZvBUiHHThHBmuXKtQoUKFChWfgs8gw/KjG/cE3RUX0hqbpHjCA15zbedkmpTLgZWpGZYedZh26BoPDo+lgpswig7ZqNBpLp5P3iqP0hMly5FHRgW94f61M2yc/juls7lg7ZRVS4a9/QjyfsGjW5fwvPcM32Bh/OXSswES4iJ47rmfvtXdsDC2p0DlXux6HQ8PdjOokcHRane8la0WQd43WdS6CPbyq1cuean6x3xO330mSKB87z8FsRH+vLx/k8s3nhIYrdvjqDPgH8PHybDcJpEk2v2Uea1yYmNpgXO+Kgxc64lfqPxUsPb+2NC33Lt4gNk9apPbzQFzm0wUbjyFi94+aciwMaZFmjB1ywX8AkOEY5HSN7Ehzzm6fCDVs9thamyFR7U/WH/lFVEhQSKPu2lOk3hJoCg/+t0NVv1ZRfnMs1X272g/Zg1nbjxSznmNFiRRC0FkYgQ5CfTh6b2rXPa8wUu52uzzlFs3PLn79A2BYYI06jmXgiRio0O4vGk8dfNLEupB3QGruR0YJeStJfDpyVfKXWYT8WgPvWvlFP1sgbWtM4Xq92HhrjM8fhOI/CBfCmIJevuYs9sm06JCHjKI9plbZ6bM7wu4+vwtwYJIxiSG8/jkHEGGzTAyzknN7nM5/cZHkK1oXR4CCZG88tzHmJbFcbAyx9ypBL9OOsQL0YehEa84NL4lBe3NMLXLT4O+s9h3/hYv3vkL4qsn9aLe8dHKi2dvntzi4sXrPH0XSHSscODOzvg4GfbaTOvSuZTtHdnrDWb/1ScEhIQqZE94AMRH+OF1/xoHVg6nbqnswlmyoZiODMttElE+j9g+sAqW5uZY5/5OOEHnCBaOmPK8ISGM13ce8To0BF9BhlOtDAcFCKcmgXcXltGmrKOiN3Y5a9F/8UEe+QQJ3ZWVE0iMxOfuQSZ0qIybGO9GNgVoPX4njwNCRZuD8NWdJmH2mWT4pU8A/qL/bl+6xJ0nbwiQ5zqnUYu4iADunJpKfTFfmAmnu3T7RTyUT5F0jqBKhlWoUKFCxefgk/YM59SYYWVXilbDp7FswzrWr13Hxo2b2LJlC5s2rGXJ3GkM7dyQ4sI4WZlbYCbIR4UeS7j2/B0+93fQ9Rt3YZRtcMxchB87j2LekhVs3LCR9WuWMWt4J2oWccfYyAxra3scdKdJvPEPJfDeMcb/WoJ8FRvRdcA4psxdwep1G9i8eTMbN61n2bzxdG9cnsz2VhhbZKN6r3U8FOQ16V46ZDgshKjwELyOTKVKTkEu5dnIdpkpWr0do+YsYe2GzaI961m1dAlTRnbjp29FuTVGci4gjARB2j/0GD8ttEn+mgzLI4yTYoI5PacZWWxssLB2Icc3Dek3dbFSjw1rFjFtYGu+zemirLhZ2ztg7ZBZkOHJXHznnUyG5TnDroKs2GbITJHvm9Bj+FSWrF7Lpk2b2LxqEaO6/UTRTPZYmJkJMvcNnWcf5UVIMCGB8gMG95M/uqE9Z/glAYIoRsaG4nV6Ea2LumAi+sTC3oNvarRhwPjZLNX1+8YNG1i5cDbTR/SjZfVilG3Qia2PIOz0dJpVLUyZuu3oP2omcxatZsMGURfZXxtXM398b5pUyIe9mTEmLj8wYO1F/GJCRd9o96KmJ1+FNAl5JRLJ7R0TaFzACXMz7UtpDpmLUr/jMGYsXMH6zVvYsnEjqxZNplfL78nlaIulpTVmgkzmrdKbzVe88BekMzQ4lHiieCI/x5zDSjh5DmTMXZp67fszZd5y1on6btm8jqVTh9BKkGkHa2tMTW0p0GAge+75ERrgI4h+NKH3d9G7bj6sTOQLoU7kqdSEP4ZPZsHS1aKtG9m0cR2rli9k6vhh/NH8B/KV+IW5p54gD7vz+xQyHPeAWS1KIV9GtcmQjXLN+zBp3lLWr9/AxvVrWDR5AC2/z4e1iYkYbw5kMDhNQr6oFhf+mkvLOpFD9K+llTN5yv/EgFnL2SDqtmbecFqWbcucKw945beV9noyrJwzLOsSTkLUK/ZObE0+O7k31xqHrOVo0WsMi1bL8beR5TMH8fP3+clgLZwNY2s8av7JZs9XRIZqV3YD9gz9AjJ8jbfBwTy7tIzfS+WjQp32/DlqIrOXrRLjYgubN20W881qFk4eQvNK+XCytsDctTi/LTkvdFrkH5ayjUOFChUqVKj4VHzCynAjcinnDDtiI49BMzHHxFQEEzNd0L7lbWoqjKaRMcYO2Sj/82QO3X5BYHAQQf5vObXwN0pltMDYTBhmYZzNBJmR9xqL9PIzwvJLZ9/WrErRrO44OGfVkeEwgh4cY2R9V20aI9Pk8lLKlnmYYGThRLGf/mTjpRfCIEaR9HBvyjaJFuOUL9BFy8f4cotF2FuOz+tIpVwZFKIpSbGZmWyTPk9TES/K0xjjWHEYp32CiY2LIUHZZ/lxI/s+GXaj+h+LuPQuMoUMCzacJEhRyJMD9PkuJ6bGFlhZC1IsHAlTWQd51Jysg3VWytSpRdlsHtjZuFGo8SQdGdbuGVbIsImtIEK2iuxle42Nde2QJ27I/MTfFhny0HDwEi489Sc80I9gQXaiYx6xNNXnmF8TFBJEqJBffJQfntsm06hoFqyM5IkIZro+Ti17I3lN1NNZEKuNj0WVTk2iRl5tnxop9UidXitbQd6cclNv0FKuPPNXZJLyUlf6zoaUe2xcEolJYVzfPo32VQQJsxB9L/I3l200rJdst5klZsammNpnF/LrzopT9/EJkC9mBSqrvyI3np6eS9Mc1srnmOWJEMrJD0LHjJV8RFtlHkIvjE1tyPJ9R2buu02g7ngxufIanRDD05ML6VarAA7yC2xSP5NllFIfqZ9KXzrVZ4bcTyv+U8hwFj0Z3iUIujypIYUMy5MWpKZ5HZ1Ag0IOog/NlaPUpBMg8zc21o0bM3eKV65G+SK5cRTOgTxnWJLhMLndIzYC7zvb+KO0m3JsobWNrXCKtPplLD+zbVyFSRcFGfbeRDvlc8zalWH5BTr5TkBETBKR766ysE8tPGzNRX9KfdKe5KId81I+cmXdmkzFWjFtuyevRTvkyrv8AEbw3mHCOdaR4ekn8Q/4OBluM+8670JCeX55Ca2yyjGo16P3g5GQq5ltLmp3msOZZ0KnRd/K7TjqNgkVKlSoUPG5+CAZ1vKS56zuURVHaXgl6UwbBGFUSKq5Ay5ZC/Bt3Z/pOW4NZ+6/JlgYxiBBQORpEOFBT9k/oycNvy2Ik5UgiDriYStIUenqzek5eQNnDs2kdnYHcc2a74ftVh7LB799xLHVY+jYrC7lC+XA2VaQaIUoSjJgjqVdJvKUq0nb/tPZecVLexZqRDw83kWf6h6KMXWuO4Lj9/2JiwpT9hrHCNIVF+3Dxc3T6dLiR0rlc8NWPuZV8pSrfC5kLf4tDX7tzujFh3gSoH1Z8EMrl2mhTZLEk6OTqG4nDboZ5X6byyWfGGLCDfZaJwrCEx+D17kV/NHoe3I62WAiSIoktKa2mShYsQFdRy3lyPU1dMzlosRnrjmWi36C0EbEQthdZZuEi3ypLO+31GvciB9L5cXZxkqk1crHyjEnRas0o//MDVx54UdokJ/y1T75glt8wmPmNyuAhZCRhWtLVnm9JUTUT+5ZjowRZD0unIenNjK6eyuqlylEZoVwa2VvZCRl70L2whWp+VMbhs3exLW3kQQ/Oc2KiT1pVvN7CguCZWcp+1rWRd5jha1bbkrVaE7fGZu5+syXyFBJAvWfB/7rlXd5PTomnvjEGF5f38fMYV1oWq0COd0zYGUmt11IXTTBxMwelxyF+a5Ba/4ct4qTd14puqgQ4XD5NUG51SMBr7PzBBkWBM8yO6V+aEDjn74jf6YMWOjaaGJuT5a8FWjYeSQrjt7HPzhA6LP2nF55nnVMTBxxSXGiLvuZObQLjb4rTQ43eyxMte2V+m1q6USmPCWoWq8V3Uas4PTjd8TEReJ7agJlbaQj4UzZ/tuJEETY8BG/QhSVvfghXNk4gd9qfyPkL7/IJu8xwdI2MwXL1qbNkIUcO76WHtXzi3gN2X6ZhecTHyLDhOMnT3eJDObOobm0q1WWLPbyfjmOhQNoI/qu2G+svPmEV69W0dReys+OQq3mcy88VPRLKFHCQYkRnDLy7TXWTu5Dwx+KkiWDNaZKHYTTa5EBj/wVqNduEMv3X+NtkBivAULHwiKE4xJH6K5+ZJf6b+TIjxNPKI6x1C3DNiqU9ewUymWVzogpTWZe502gPJ7vMhsn9qZVg8oUy5UJewvhACjOnggmlti4Zuebys3oNX4l55/4ExKoPbbtn3wRVoUKFSpUfD34i5VhYawSQ7h7cgcLJk1l8rTpTJkyhUmTJqcKEydPYdqM+SxZu51Tt58THBpORIhcIdJ+aUoaqJhYQWLignl08QDL589kirhv8pRpzFuyiSNXHuMviEDI80tsnD9D5DeD9Sfu4ucvjFxYpNawvr7P6X1bWL5gNtOmTtWVPZ1Z81aw7eRVXvpJAx6kvLgUHh1LXMATTu1YoaRbsP00T94GCeMuSYw8xitOWWWU+3aDX9/h6M7VzJ8xQ6nTJNHOGbOWsG7/Se69DBB1jxDE4q+P8EoPSUmJBL7wZMfCaUycOIv1B67wIjCcaF0dJBmQRjtOfmpXpA16dpVtyxcwfaqow+SpTBft2nXmDr5CliEBN9mzcDaTxk9n4eYzvAgSpCJaELrwe6yVZFgQHOOKXVl18AI3D21i0ezpyfKZvWgjB648xE+Qm1BBGKR8ZFuULwLGB3LzwFrmiX6dvXAPN3z9CZNv5Iv+koRFvhgnt2jHhL3j5qm9rFk8n+m6/p88eRqz5i9hw66T3HzmTbj8AqDo89BIQfJjwnlz7zL7Nq9iwewZIq3+npnMW76ZY9fl3tdwwpXH8SGf7GhoCWKCQkIln42LDuLZtTNsXb2YOTOmacsRYer0eSzdsIuzd18I/YkQuqj9vLF8AUvKPl75kkaijgxL4luEViPXc+7xGbYvm8sMRXaTmTpjHmu3n+LeG7kXNUj5YISWCGvPs5V1iRV6LfdFx4u6PLp0gi2rFjJr+hRRF20/Tpu1iFVb9nHpzktCxViQp6FERoQT/ELq+hwmzVzIOqHr8pSGlFMe9GRY6Ieoa2JSDG/vnmHTsnlM07Vx1rxV7Dxxi1dBQqf87nJgzUImjZ3Awl0XeOkdIEinKEe2N1YQ6sQ4fO6fY+OSuWL8inqJcTdr/nI2HTjPE28f/Hyus3PeLBE/lxV7rvBOkGFJhKUOyCPvpKwTY8J4cu0IG0Qe05X+nMKUmQtYveMkd1/Kz3WLsSdXfsOEfKK18ol6cpYVQm+nzFrA1nNPCNER7FRtFP/Gv/Zk0/J5TJo2i50XX+Lrr3upNj6Kd4+vcnDbWhbOEnOGrLvsm6kzmLtsPUcuPlTGR7jQO6lHsr2f6rCqUKFChQoVhvggGZaQn4E1NC3SkEmDoxhK8a82SKMZI4xgpPJVsNAQYcwEadCTHHmPDPINdvnFKoWKSCMo42KjlHuC5TFRIRHiuryaRHxUGPKAf0mm5SPXaEmmxTVlNVV3rzz9IS42mmhBMMJkmYJQK0RPkJVUL24lxSlvmct8ZH0kyZD3y6O/okXCeFEnSYy18bI9oi2C3IWHBit10BtZvQH/FEhHItX6VEKMQoSidKvCMh894ZFHxsUI0qO0XF8PIVPZLrmaGSQIT4wiF4H4aCKlbAWZJ/KBQoblaRLGZX9j5fFHooxQ5Pmssn/08pHyDQmW2x+08kmRgWFbEpVjygyvK3UT+UQJ5yImXvwt6hCv3KeXfQzRUYJsivzl42/ZV/L+6BiZXpB9KVcpB4N7YmOiiBJkS68jknjrZfup0NdLrm4n64UoTF+O1Ed5OkiE/HCDTi/05cg02qKS8DqjJ8MFaDJ8I3eiJLHS9pFMq80nXOiWkJ1OD2S52jx0K5uJQqdF2mgpI6Hf2vbq66LTJTkuRJv1MooWZFFZnNZDkD4Zn3Z13FA/pD4b6oeUvexruU82MFi0T3c6RGKM6A8dEdbqgNRzIfdU98u+iCVWOHrhoaLvwuW2ER0SokW+2rrIe7Xt0Och7hWZSAKrxEsdjZRjT+uEyjboy1T6QZelRFKsPP1F60jIe/VQ2meghgnRQt7C+dTqknCiRbu04z6lf+XpEvLrhVKmoaJc/bjX968KFSpUqFDxufhLMiyNpzRACikSBkcaKWnUpAEyDDJOBq2x164syvv0pCHZiCvEQR6Ppj1uSwb5W+atEClxTQb5WxpOmY+WmGgJuGEdDMvUp5dlynJkufp7DPNJrz7yur4+hnnKOHnN8L5PhUyrr4PMQx/S5qVPJ+str+vbpy9f/m0YpGxkOuX0hKiHrO2nJ8MdWHX8PhHBfgQEaFdc9e2QQd6btk/kv1IGehmlrZ8+pNf/H5KTTKtPb9jPhvfIOHlNptH31edA1kne9yXlaNuk5JKKDDcdIchwhCB1+mPLdDqdtn0yH5mHHvK3zPdT6pJWRvK3vEfGy39lXFpZ6Nsq08p0+j7QB0O9kEH+NqyrzO9D9+vlI+MNg74uWln9dfv0dZDx+jIN7/uUNurTpa2DjNPHf0imsmzDfGW5KlSoUKFCxefiL8mwhDQyMkiDI4PeSKUX5HW9EU5rmAyNpD4vfZD3pA36cg3vk/EfKlMGfVp9ev09hvkYQv6tvzdtnjJ86L5Pgf4+ff4yfCgvw3Sy3LTtShsUOhHzmHU6Mqz/HHNMuHYVU5ITPUnQ56Nvix76uuhlZJhGny5tGn3d0spKXje892Pp06vP50JfjgyfUi89tD9Tk+FmIzdxPzqU8EDtS1h6Mibz0Oejb1t60NclvTanl4c+vf4e/e/0YJhen7++DPl3ekGmNSxLBhlvWDf5O+09hsEQ+vJlSJuHDB+7J22d9ND/bZgmbVr527BMw7I/lK8KFSpUqFDxOfgoGZbQG5tPCZ+C9O5LL6RFemn0IT381bW0MMzrc+77GD4nP8O0hve8Fy8jYx+xpndN5TxgTYl2rD31hPgo7SNmSRYMSYIMf4XPSZNe+BDSS6sP/yTSy1+G9KCNFmT49BwaZpIvLOai8fBNPIyXp31oTzuQJOtj+XwIhvcZhg/hY9cNYZjfX4UPIb206YW/QnrpZfgQPnZdj7/Ky/Ba2qBChQoVKlT8XXwSGVbx74JCAeK82D76Vwq6ueH2Y192XHpBYrT2sbWezKn4MF5dXknH0plxc6vE79P24JUYTUx4ymkHKlSoUKFChYqvAyoZ/j8ISXTli1Dy5TVfHx/eevsSoDu9w3BlU0X6kGRXvtgWFODHu3c++PoHKi8YRgtHQq6qq7JToUKFChUqvh6oZPj/KJQTK0SQJzxoT3bQvqSl38Op4sPQOhOJWvnFxwliHCXkF60c46c6EipUqFChQsXXBZUM/x+FJGyS9OpfLkr7QpGKD0MvOykvwxeyVNmpUKFChQoVXx9UMvx/GJK46YOeyKlk7tOgl5NeZoZBhQoVKlSoUPH1QCXDKlSoUKFChQoVKr5aqGRYhQoVKlSoUKFCxVcLlQyrUKFChQoVKlSo+GqhkmEVKlSoUKFChQoVXy1UMqxChQoVKlSoUKHiq4VKhlWoUKFChQoVKlR8tVDJsAoVKlSoUKFChYqvFioZVqFChQoVKlSoUPHVQiXDKlSoUKFChQoVKr5aqGRYhQoVKlSoUKFCxVcLlQyrUKFChQoVKlSo+GqhkmEVKlSoUKFChQoVXy1UMqxChQoVKlSoUKHiq4VKhlWoUKFChQoVKlR8tVDJsAoVKlSoUKFChYqvFioZVqFChQoVKlSoUPHVQiXDKlSoUKFChQoVKr5aqGRYhQoVKlSoUKFCxVcLlQyrUKFChQoVKlSo+GqhkmEVKlSoUKFChQoVXy3+/WQ4IZJ3jzy5cPMJAVG6OBX/YyQSHeDFlUvXeeAdoYv7/wGRvL5zncuezwiOS9TFqfinEBv2lrsXLnHvRSBxuri/hcRY/F/d586rEF2EChX/HOIi3nL7wlXuPA8iQRf3TyEpLpJXdy7geec5IX+ReXzYG255XuORj2r8/n9CUmw4L25d4Nrdl4SppuZfgY+T4cRgHl05xf79+z8aDl68wz/OjcKvM62RI5q8rdj4IEkXqeJ/ixiebuyIhSYTNadf08V9PiLf3uHMwf1cexFCvC7uP46EaF7fOsrBU5d5Fa6LS8Z1Rpb2wMS5Awe8o3VxKv4pvDk9gfIaIyr23IaPLu6zEePNg3uvUaaZeG/WDq5MsUHHlUuE+/Dy8QtCvuJpIik+mAenD3P8zAOCdHEqvgRJeF+bSHGNHaW77yJMF/tPIcH3JoNLanAs2YWjodq4xJAXXD0p7KinF2E6bzHozCgKObhSf8E9bcS/EtG8vX2eg/sv8yIkVhf3aQh8fJ5jh/Zz/XU0/99xQsGdHl8+wf7T9wiMSt26uNcX6FVQg0v5Pzn9/9N60v9hfJwMR52ke0lrNBrNx0Oupqz9p8ds+E1mNnNDU7g1mx+qZPjfgRiebe6CnXkO6s66oYv7fDxZ3YZcQm/qTL9IsC7uP47wFyxtYY7GoyIL7uriknGTMd/mxCpzZw75qGT4n8bbs5P5XmNB5T934KuL+2x47+WPWvVoN2o3T/392D+lMT/OvkHC28tMblmbZh1ncfO/5ln9+5AQeo6e2YxxyNGDM7o4FV+CJHxuTKGMxplve+/958mw322GldPgVq47x3VkOPrsOEqZCDtafgRX/bRxwefGUsI1Cz8tuq+N+FfiFat+LSo4QCVmXv68kX24l4fCHarMeSGsyv9niL7AoEpOaLJ34oRXaich7s0l+hbX4PH9AM6qZPhfgY+T4fgXHFo6iT///DM5dGteAQcza1zLNk0VP2T5Ed7+03xVkOFZzTOhKdKGLSoZ/tfAd3cPMljmpJ4gIl8K/729KGmp4eeVT3Qx/w1EsL2LK5aF6rL5veXJG4ytmAsbjy4c8v03MapEwp6eYs3SNVx6q4v6P4iwa7OoorGkSt+dX06GI19zdFE/6lb4hhpNOtLp54p827YvPRt9xzdV2zNj+zWCv+pp4j4jizqSrfgI/s1rif9+SDI8lbIaV4UM/9N8RZLh4eU1ZCrfI5kMJ7zzZOvCiUzachH9rojgc+Mo6ZaVJov/zWQ4jD09KmGhqcfqZ5+3vvvq7CrmTBvH9hth//hWlP89HjC5Xk40xQZyO403JclwvxIaskgyrO6A+Vfgy/YM35pGfvvMlBnnqYvQIvb+PmaNW8Cxx6n38MUEX2X5kLHM3Hwd7ZPpaJ6cWMWIwUs499wf3zsHmT9uMIMGDWbsnK3cCjQYUH9FhoMesGfZJIYPGqTcO3npfh6/N2vF8vLcNuaMGybSiHTDxjB7/VEeBXze4xxDhD44xILhg1l32Y+okCfsWzxOyXvMktP46Kse/YITa6YzQqnbIEbN3cYtv/eHu9+tfcyfNJLBMt3g4Uxetpfrr/WNCOHqummMH7WJRzHB3D+6iknDZH5DmL7uJC/SaUL828tsnDeOoUp+Y5m//TxpeZ3vlQ1MHzaSfUJYEW8vsWbqSKWOQyYv59ij9NZA4nl2ch1TR8qyhzFx1mIWj2mCtXVu6n8RGU7i7ZUdjG5YkoymGgrUaEsfRU5DGLvkDD56MSUFcH3PYsYNltcGMXr6Gs6/+BsrtrFhXF7Vm7pFrTB1yknt37X5Dho0lR2X3wjK+YAJggzb5ujD+eAQnhxdwThF3kOZteEUr9Nbuoh4zpF10xmp5DOIcaKfbwTqrv1jiOfFtk7ksM/B0FO6qH8IcW+usW7+VEYN1ctCynk1Zx6n3kMScG0jk8eNYNfDOCJeC52ZMkJJO3TiUk6mqzPinpu7mTNmqJJuzIzFLJzag280tlT7O2RYh8hnJ5n9R2VcNcaiL/PRZMxOHry37eULEfyQvcsn6+aVEUxfc5inaeYV70tiPAwfw6GnQfg8PM6KiVp5jJqxlguv0ptbQrixbwUThmtlPHziIg4/SC23d1e2MnXwJA48CyYi+Dqbp8lxOYQJu+4SG/EOzx3zGTt6mHauEGHoqCmsPf1YzKZaJMU/ZueYzpR3scTOtRytdekGjV/C4fspc3LQvcMsn6yt76CRk1l75GFqspfkx6VNMxg8eSfPQ6II9NzJ1BEi7ZCR7LynHQQJPtfYPGcCw5SxOZjR01Zx/M67L17dS4p7zeHZ45g6+wgvw55xfNV07Rw2aBQL994Q0pOJfDm7bS5jlPiRzFh/Fn8DkxD14hzLR41kzWmvVPVIin/LsbljmTBlN8/SmJB4b092LBivmy+HMWXJdi690LJT35tTKaNxp9rwk0RHPWHvgjFamY2Yxg7Pt39ra1e6ZNj7BtuXTWftqWfJ+0g/RIZD7x1i1p89GbfpAr4GG/Ajnp1gxXSdPRk0hoU7rxKgu/blSOTNpW3Mn6DTmcGjmbV2P/f85bUALm+fTMMSmTHR5KRmu57aNENGsPyCL/HhvhxbMIjJy0/gHR/Pw8NLtf03ajWXXkfz7vpWls5dwaU3Oi2O8efi+hGMXLhdGXMvTq9hkm7+n7rqJK/Sm/6FrT22YpKubmNYvPsA25bOZMykzdwOMNAEYU88dy5g/IghStrBIyex+uA1vA3JaGIst7aOZvDQkcw54qWL/AKEP+HA0p5UyumAxqU0v3Ttry1zxFhhd5OIe3eV/oIM5/hxLDdiIrm1e76OK4xi7u7rBKXnGQTeY8/iScnjf+Kyw3glD9wEHh+YzqjxMzj9RhdlgJC7e5kr7llz9mXyfPE5iH11WnC7Scw9KnTz2WlWTh+ulfeoOey/pSgCST6X2TJHy4UGjZzChvPvhKV/HyF3j7F0su5+wceW7LtHpO6agqQIvC7uYtqY4br5RchN8JU5606l7n+pKxtGMGLBtvd1ZeUJXn6mk/FFZDjo9Gjy2LlTcohur56CJC5PrYudJh/9977QxWkR8mwe5TRi4DdYyjslJpj9w6pjrDGjcNVaVCkgFEa/1ULjQPnWU/DUPzf/ABkOvbmGng2Li/L098ngRNlucziTvHoWzPlF/ameI802D1M3qnaczc0vNJ6vtveksMgnW9VWtGpYOqUO+YcrqzGRz08xoWl5MunjlWBN4VrDOf5UZwCTonm6fwQ/FnU0SCNDBgq2mMKF13KGe8uCHzOKOFe+b16NQs4G6Sxy0Hj8Np4YdHjk7XX0qp8fS8P8bHNRo8csTrxOcTBuz62Lu7iWo2oT6lbKnpJWEIvs9fux66nB7Jr4kj0zulMhm5lBOg1WjnYY2eSj0dybuoSfgyQuTm0oiExKfskh71BuyqpGPWfPyDoUcjS8bkKub5sz6+STLzO6oa+Z8oNhfvpgSoMp54jjOdO+y4uNbUl+almbEi4GaWxy0XbyAQznmejHuxj+azlcjQzSaawo9Mto9j/7J1eW43m1509K5ijJ+PO6qH8ESQTt+APr5Lrrgyk5y3dl5dlXyfv4Hi+pr+h51iq/UrdcjlTpc9YZxp6HhtNZJJ7LB9IgjW4b22TASuhy7QF/nwz7em5hWKuKZLGzwNI5L7V7zufs27+/tpTw+iBDWpbH2aDeGmM3yrUez+57KeT1+owauIhrOSvX4ftiLgbttKBAi9EcfG5Ql+AbLB/WlIIZDPIUIWP5dkKXvXWJ4OrcZriJ+JJNf6Zpg9yCXOjStlyD/7P99MiZ+n4ZLHKWo+vKi/hLdUvYTdM017UhD102vlbK8Dowk9al3FNdN3EvTevh63ikn0uS7jKjUTY0RgVp3qoV9XJaJqdttcGPgIcH6FWtYOp5RoRMRduw8tq7L1rhS4y4zIC8Mp9sfFfnm9Rzg1s52vUbSJ921cliYRBvU4x2sy/qFljA/+QEyor4yiOPasmzDklRl+knZGeeoS2Hk01IAi/PrOWPKgXT2BBrClSbyI34OPzvz+F7IzuyVWhE67rFsDVI51S4KSs9/b74RdD0yHD0hSlUsNfg3m4DT3X+VHpkOOndOUZ+54qpcHiG7LpNkDLVxPN4z1halBW20qCeGrt8tJq0nSdfwoAURHJ91UBq50ljQ42c+LbrAu77vWTuT6nnA30oPPYGUd63GVxc/O1Sll+7taBI8nxehklnAjkzoaSYf2zpc0g3I4TcZ2YDYzRmmajWrDWl3VPy05jlpPb4oxjuYIvwOs3kFhXJrE8jg7UjdnK7iX0zNj7WjtnE8Gds71+XAnYG6WRwKUDbuad5p/df48NZ9ZP2WvbeR3SRX4B3u2lfwjR1WbrQeqcgw943GfatBvvslWj6ax3yWRukcSlKx7U3CE82IYn43dpKj2rFsDfIR6PJSLk2i7nuI7UwkUeL6mIk7E/1abe0tyUjgD1/VhDpczJg9zO+ZBkw/MI4cssys39LnVKZDeogdLjCz/Qf2I82VXNibhBvV7IZc68YvrkQypUtY6lX1C3V/RrHUsK2niJAPzajH7KyU6HUaWSwyEnldiu4E6obdSEPmNXIROiFcFiFrpRJpSs5qDXuSGpH5yP4R8nwtXmtyJGhHKMOv9LFaRH6Yhk1TZwp/Ota3YszIRyd1IqsstKCrNX+fTwrt21n+6ZFDKwr9xBlpN6sa1pDHHHLgAwrN4sMrzGmvhiA5gXpOGYpW3ftYteuLczs00AQUBtqDTuoGNvE+8tplMsEmwq/MW3VDnbs2MH2DYsZ2v5Hqn3Xjm1aZv7ZeLN3GFUUwZuRt1pbxi7byvbtO9l/9imRYtCt+z0fpiYe1Bs4ny1K3XaxelwLclpZkqfzBt5KJhd6nO757bHM0YDxKzdr67ZpBdP/bEiuKp1Ye0FO5/6sbJVfS1Ycv6H9yLls2C7ktGIsLUtbCGNQjhH7nit1IuSKkElOUSc7avSaqk23YQ7d62QVcVbUHLJHUGst7i/7hSLKpGBGoQY9mLlum6j/cka0LSniHKk1/ESyMfHaOYAy0gBlq8uAOetFuu1sXTmD3j/lR2OVmwZzv2ybRPDz66zvU5PsZhoqdJzMWllfIcN9Zx4TnhjK7dVtySImNNdSvzJ1o7y2hYWDG5DVWBDxPN05lLx6/hmIj8br9HJ6VLHHzKME3WbLfGU4zHWvYKHB95n8Q17MFL0sxq9D5rBFXN82fwgNcgvSkL0BC2/oCFHMQxa0kfvkstBiwFw2Kf28jYUjWpPH1JSyndfxPD23+IuQxJt9fSmVoxQTLuqi/iHEvvZk53bR/zt2snOnbMNGJnWqqZCRwr8v57FuMvFa24ZsOp0pULc3s9ZJua1g+C9lhFNrQ/0xR5NXoCJvzKNGVpHWTMh40gq2SRmKsT20bWWchLNbq//fIMNhT9gyujXli5ejxR+jGNG9GtV7TWFyhxoULl6bgUtO4/fFcn/C8jalRHs0FGszllVyTtq+jIHN5LgwoUSnxTzUyePOwmY6A+bO9+2HsFjR0eUM+aWEiLOj1pADaLd9hnB2cgshTwtK/zqMZVu088GGeYOpJeYQ58p/clInjJvLOlNCOKRyDJZo/Aez1spxuYtDt94SE/6Wa/u3iL93iH7aqeSxcUYXyriJOmTtIBxYSQn9uLFjOo2y2uCcrRETFN0WYf8Z7nnHEvNgO51KS1JThDYjFivXtiwbx89FZJm5abf0jm618yELfysvnACRt1NhmvSYpozPHbv3c/upF2s65MTCJj9tp6xR5q0d2zaweHIPqmerxuDtnl+0pSAx8jrjv7UT9ZBllqHL5JVK/ZYNEU6EjZSzCPZFaTloLptF/Pq5/flWxFvlbcUe3TwedG4mNextaSgMq45fKkiKvsbIUs5kyvUHJ3S6EeN1hKHfSWfNnepdp7NRymnrWmaN7ET1Ah3YEx2G78NF1JTlij7JVKol45ZvEnXaxqJeNcgoHGD339fxJdOQRHpkOObKXH7MoaFQ9+08f48MP1D+Tnx3nqn1cuCStxrjTr1NdjxiHq2nWUFzTLLVY9j89Yp+7Nq1nMFNi2FmWZA/N97/sgWEZxtpkt8Ci+JtmCzs3E7Fhi5jdMdq/FDvZ9bei+X1zR30qZEPM6MS/D5V22/bd+7m3NMw4nzvMbGmsTKm7HOUpt3YpWyS1/dexCsojrPjhENrm51hx7Wri4Q+YmkH4YhJuWcoQOP+c7R9s3oM9XIL3bWtztJbupWyqHfs6F1Ama/z1R8kxpZIJ/pn6eQOlPMQ9jFTe3Z4yQGbxNudvchmZU6BZmNZu1XLBTYsm0GPOrmp1nMZ1/WLb/ERrGsl7hXjvcBAQ37zmYjx5c6pOTQv4SrGZ13GLdqsyGXH7n3cFuM97u01RlXR6rWFRxk6TlypzJMb53enrJOIz9KVg++0k01c4BUmVXXDyKYgbSetZKfO1izoXQNXCweqjj+O8jDd/yjtclvhVuZPrhjoZeKLbXQoZoF19YlcTmacn4eIa7P51lZbX5dy7Zm6Ssp6FYN+KoWV7CsRHIo3YvC8jSJ+C3P6VhW8xZQCrTeid/f9riymkasJlsUbM2rZdkVHd25ayqB6WTF2LsHQo7p9i/GheHkeZquY63bo5rqt62bTrrQcry702qdzuIUtWN5Rt5jnkJ/G/XS6smYs9aXzZluNxTeCkhd0Pob/HRke34gMmvz8MvcEfgbsPfLxCho4WeFeegTKmmPkbWbryfAjJQlvdnahYIa8dFzhmXp5Pe6+4qW6lOnMMTHBROz9g0LCYFUYeyb1o4GoAN48fc6X7pR4s3cI3woPvkSbmVx4m+Zx8uXp/ODsRvXxJwhMpXehbO1VHPtsLdnxKoLoZ/MpLTzivL+sT208EoN5+vw1AWHSLL1jedO8OFp8y6gTj1O19dmugZQ2MaV8d62y+e7qQn6hrIU6rE1Z4RGIerqXHpVMMS/civVPtGpxb2lL8luaUnPgFu4ZCCH8znLqZjAiX50p3JERsXeZ9lNuTByqM+Hg81SrIM+3dMT2b+4Z9t3Tk5JWGn5ervdytEjwOc/QUqZY5KrH0hsGr9bF+3FwRBVhiGz4ZeWj1H3/yRD90NkVq0J12fje/tubjKuUC0unekw7/oiw5P4L5vjYGpgYF+L3Ndq6Bp8aQVnnLDSedCzFo1Xwhs2dS+CUrxHr/sZTttQQk7mODE/8h8lwuvA5Tt9vbTGu0IvD2gVFnq4WzqujKT8M3M2jgBRNiLouxmsmDTmbTeemMsgC2fNHWewFueq67noq3fY9O5lvhWP2t/YMe++jT5N2DFlyEd+wAHZPqEeVqZ5iSnnC2r7t6dRj3he/QBd5eSKlXTRkqD+JazrbLBHvc5YJjbJg5FaLWRe1+nh7wU/ktrCm/thDvIhIUYD4p/v4vZgGu3KdOCC3y/jspm2JjBT+eQ63Uu2KiOfWsl/FfFmYnvu1+2puLv2NApJI91/PXf9PmZxC2NH3Wxw1xRh16qUu7i4jlD3Dw7VjOBmRnBlfX5ByexpNPoqfgYXwvbiAhqLdHj8M4YrCmKSjV0wYmO8ZvOk6Bt0ths8V+hfQ4FT0d04Yxov2+D1+ztug8C9bGY70ZEQpB5w9GgmH81XKfB19kbF1s6BxrMKorXcISa53EJsEabLKVDjZQQw6/wlkWImJ4saKjmTWZKBa/628TDWRRPL20UuCE+PxuTVD6KsDRX6ayqWXBp0XfphupTOiyd+bM8lLip+HzyPD2Wi+SvRv1BPWdSmIdcbS9NvzwmA+juPUyG/J6FGLGedSnjRIJL3YTfviTuT/ZT5Pv2BcRBzuTx5BzvIPOJaaTEf78ubFM3wU2YWwq3slLIzqsfJxKqUgwfc2IyuKMZW/PrPPvnhvzj4zshweacjwwlYZMM1RkVF7nxCU3N9JnJ9Qg0xmFrTboH3yHHpnCdVsTMlRaywXU+0FfMj02vkwd/iZrcq2ungujy0nnKkcdN5l+MxAXAl4yvM3/oTrq52UgN/D85w+c45rz1On/XzcY5KyZ3gAN9NkFffmMgNLC2JZvAVLr74SGqlHMOs7FsdBU5hxF7XzwssdPcnrnI3fVqXZzhT/kNkNc2Bbtj/nlRWAKM4NL4upQ0G67dbrQQzXF7Yjq7EzLRZeIjyVrfp0RFydSgmHDGRrMoPbBh5g9AWhsx5iPqjejx33AlOIZ8B+2nnYkrnYYK4oEe/Y0rscznnqsyD5sb8WCS830CKXIwX+2P2XNj18Tx9yu5hSaqSOz0U8ZfHPjkJXvmXkHqEryRNPEhcn1iKzmTlt1j375G0h/zsyPK4etpqyjDqWZnk23od5taxxydmELXKpKTqFDG9VyHACx4ZUwt3Yisz5ClO4UAHy58tHvnz5KVg4P1mdzETaZqwSaRNeb6BlSSdsXPNRv+NIlu44xe03AV/0mMAQb/YOppwgcXWnnk+zChLJwzXtsNNY4pyjEMUK6+uWj/yFipI7o3zcWJn5j4KIixaT/7cZsHDIzg+tBzB/4yGuP/Ul9Qksr1nWJC+u1j+xLe1hhM/300UYXVdhuG8JJbgwrJIgibkYdDLtW2HBnBz9g/CSyjF4n/bavaUtyGdhye+bn6fymuLfXuDPIhqyVh3CJTlovNbRvJAxLk0X8CiVRsXxYtsff/sFumcbOlPMUkPTuVeERqQg8P5CqhhZU+znFcleZTKuTaV8dhNy9tzDJ/GFtIh4xap2Lljmr8my995Jual9gS5LD86k8nHiuLu1G5k0OWk1/7oSc2PGT+QyNSNjroIUTu7n/BQQ+pjTzQpN9h+YdO5Th2EaRFxm/M9VFb3Rh1wejlgIQ+CSLSVOhhLtp3DuC59waJFAwOMLrJ7Qi18afM+35ctQonBu3DOYYlm5Nwd0Dx6ermpJNmdzWm9MsyH69TH6lBOTYe2RnJedmHCB/mU9MCv0J5dTz3l4X5hGlb9LhuND8H4XoiUCcT5sGl2Xb0fpNlLHhRPoG0DUF074d+c1JIuNOS3XeInZzBCxXF/+iyCd+fh9pfYIkrsLGgsybE/3XTpvQY+4l8LZyoUm548sFn5T/PnxVM5ihE2m3BQqUogC+bX9lr9AIfLldMXEPDc/LdQ6WDeXtiOPxp1uW1M7h3rECcN9csN4urVqSLVvy1GqRFFyuTtgpinN6JM6zyvsIgMKZSBLEWEgtTFaJD1kTvOCaJwasvZe6llLWGaWt8iAZd5arHgmIwQZ/kWk9fiVXY9TU9uk6Lds/7Mk5pYZKFStHSMXbeHULS+Co79Q6DokRl5lmCBtHgX6cVkXp8UbNnYuiyZLG/Y8M6xLLI/m18EmWxHGntPGfDIZTnrFlp4l0GSswaxLHza/2tMkMvL9wGNpCP4jZv5YAAvnNux6mUaWn4jPIcPfZMlLs+n72dy3LE45StNjq5cBeZJ4zIwaObA2dyZ34SIUKpBfNz8UoFDBXLgKW+XRYBQX0ozHT0HCm120L+mKpXN2fuwwnEVbT3DreWAagvGG9b+XF2S4FvM9dcdg6JDge4thZTVkrtiX86l5soIzo8q/R4bnN7PBongzdqSZ17y3/U4BVw31FyhKitfanzG3ykXL5WlfwH7GgoZFsXRoxRYv2b9JvD0yguLW5mTIXYn2Q+ay9dh1vAIi04zzfxjRlxlZKzuawj05k+YFH+UFuuLS1g7HM00lrkyuQlZLN/odlLKM4dz479GYWpMpbzGKFCyg61thawoXJKuD4Dse7djxVKvHYfcW8oOlDQWbLEZxj4MvMa6uM5q8rdn24MuZT8TlKRRxcqfQwJO6GB1e76NDaSOytV/Dc0MyEfOWObWkUz6AS/LvwAuMbeSGxsaV3IILFSqgs2H5hY4WzoWTiTnudedr6ywRF8K94xsY060pdap/S+lSxSmWJxOW5haUGXlcq/+CDC9obotFsSZsT7Ow5bO9MwWFg1937oNPflL1z5Nhx/KMPpLaQKRPhuUexG8EQdMqdjKig1ja1Brn3A3YIAfDe2Q4nG1dyuKqMcXCygJzc3ODYIG1XQZcq3Zm433ZM7G8OD2HVt94YJ/BBfdMmcmUyY085X9h7qmXukeCnw9Jhstba/hx3HEMFpCECEK5M6cRGmNjzATZTF03c6xsHXB0bMryR5JQJBLiuY4eVXNi7+CMm6ybuzsexRoxdvs9IhXFeqOQYRer+qz1TjNpvzxMTzGZZqgzjhtipj7WtxwumnLMvJ16MpIrdWcnN0BjWYZ+u7ROip4Mt1t1L5WixL4SZFgZoIO1BunGfGqLyTl/962kPhkmhmdbuuLwN8nw0/Wd0iXDvre0b3FX6LE3eT9gMu4uoFIeazJ32Yzvl3BNQYZXtnX+azIsT5NIdbRaDHcEGc4qyfA8bXtPDq9NNo2JIAUWWKTqZwttP5dpypy/MLR/ibBT9K2SzyBPc8xMTTAyMsJEeLuG8U61B3Este/5GYjgysLWFM7kiL2dLTbWllhaWon2mGFirMGmel8O6rb/68lwq5WvU4+bV0fpXUGDY+0RnJdGPXw/7Yu5oqk2hWdpDvx9e3YKP/xdMmyIpAQiQnzxCflCpyMNLk+pJoyQE/32vkszN8Rwc11n4Qzlpu0Sbf/fU8iwHZ02przApiDuBbt6F0GTrSYL7wkJHxxARTEpmwm9sLBI3XcWVrZkyFaB31Y+Vm7Vk+Hf1914bzXD78pSWhV0J4O9HbY21lhZir4S+ZmZGGOkqcC40zqvJUw4IwXTIcPxN5jcIDeaXL9z4EmaB+aRbwWZccMsbxUWKU/jJRkuJIxsSzbdem8EEut7gVmdKuFu54CLeyYyZ3LHPWtp2k3Zz6s056l+KvRkOHO+nqR+R9SXnb2+xzyzqMtdw9kqiqcLGmGbrRjjdA3Vk+FGU06nOgrtPTIc94gVbQRJyd+M1Xc/RIdSTpOo2Cft0WoPmVm7AJZOrdnxHybDIRenUMHFgayFi5FRkFrzfI1ZrVUXA1xm2DfZMTM2F+M3tY6ZW1hh6+DIN+2nceULyLAQFq/PLqV9+azYCRvqlimTYqdylGvJjMNPiVXE95p1Hf+CDAtnOVP5nsntNES6ZFgSnKKN2fBUG6XHu22dyS/IcL0F0vFL5OGsmsKhKUT3PWlt3mPm1i+sJcPPdD0XH8y5pb2omMWBDC5uZMqcCXf3zJRuMYoDT8M/+VH6ZyH6EiP+igzL0yR+GPje0WqXJRm2ykjfg0ImSRHsGyDmE8EpzMWYT9W3Or7jWKI3+5/rxmnEC+bVs8I4a3UWP00k6OQYyptoqNBnK2/+RiMlGS7q5EaBPgd0MTr4HuWPipZk+WUR9w3NXaSP6AMnspUcqF0Zfn2MgTVtMDIV855FGt4mdNQuQyaK/7JSaJIcGxeZ3rYYLo4O2NlaY20l7ZK4x0zaQDMqjD2VQoZb2GFRpCHr0+iK9/auiuNUZ87/iAx7zm1JdrvS75HhWN+11E6XDJdmqH7pSY/Yl0yrao1L7hbskJwxKi0ZjmR399KCDJdk/OVXRISHERIcRFCQCMEhhIZHEhUbR4JBxydEBfH6yQ1ObJvLwObf42ZngWupX9j6IrW//6n4IBkW1O3O3HpoHArQce1jIiNl3YJ1dQsmJCyCqKhY4pMMJuCYMAJe3OPc3pUM7VCb/BmssczVguXKxnM/litkWHS2Xxrz+Gw3vxXS4N5oKvdEdueGVCSjJi9DT6ddSw3m1Niqyv7iQXu11z5Mhs/Tp5h2ZVghw3eXUD+PRvH6nqUay4m82d3zb68Me23qSnErY1osuJbK2ATcW0BljS3Ff12t0xcDXJ9OhRym5OixC78vcXQjX7Pmt4xYFqyFjoMY4MNk+LYg/1kMVobPj6lFZk0u+uy7T2hE6n5WdDBG6uCHDO1HkBRPVFioNj8l+HNnwx8UE4Z/2CF9nDYEh0fxpR/LS/RaR0MPa8xcK9Br/nbO33zEs7fBhL09xcg6zhiV+ePjZPjlEXoJo66sDEtjF3WELiXdMSo9CoP3zRT4X55F1X+SDP/DuD2nPlmtLfh13fM0K4Gx3FjZGmdNPjqu0G4+0K8Md9ksCIESo0OcF2vbZUOTuy7LxQQddWwwZe3kS10HeRUeQViITk+CxHwQGk6kmA/idJPVjQ+Q4aSI1yxrlRFTIzcqd5vDnovXeeL1TswnIRweUVPoYSGGntCT4csMKuJI1qKDUq+wJt1nVrMCaFx+Yn3aleHYt6xo5Yhl3hpKnT9GhhUkRRPs78XN07uYP6ANlXLbCYJegJ4bbnzRo9iPkWGLdMjw4/kNUpHhwHMzqG5nTYPJqcmwfFw9vrRLChmOf8a6TvnRZPqRuZdTr7Ea4sNk+AEzfhRk2LkNO//DZDj00hRKmpvgVLgaPcYOobKjNfkajuRsoKGG3mRUuazYZ/+NvS9DiBBzR7DOJgYHhxIeGUVMXDxfOh1JJEaH8e7ZHU7umMeg1pXJZm+FfalWrLwrZwMfNnaugKVJHRalOUrnnyTDb7d2Ushw/YVaMvx4Xl00GfLz+6a0xye8ZHGjoljat0whwzpEhwTgdeccO5cMo3W1AtgJolWg/UJu/ifOY4y5yugfcwju0ofzr1K7139Fhi9NkmRYrgxLmURxsF9+jDOXZPTxEKIiDPtWy3eipa1J5hQxPNrQAXujLNTrN4+FfctiYluZScffs6Sfhb8mw1bpkOF3zKlrQIZ9TjHge2NsvusjbEq40NEQgvU2LEToaEQUsYqOhnBlSTsympqSq+YfLNx/kdsPnuMdFErkiZEU8LCl6JCjHyXD77Z1Ucjw/2xl+OaStmIyz0CTBZdFl+iQGMa9Q8MpbexEkdbrdEZQT4aLM3BvajL89sQYypqZk63GLLTc99Z7e4afrP6ZHFYmVBUG5l1aPpsgSERgoLKyGhvkjbd/YBrDFsyBP/OhcSrIgCNprPUn4sNkOJ53p8ZRxMSG4u1XGBx7okcMAX5BRIpOT4gK4PWbYO3j3mTEcXpCAxw0Wei25YEY7sGsEmTY2bIOq7wNTW44F+a1IafGnOqD9yKnn3dbO5LPRkPRrhvwMrCksYKsDKhqgWnBZqx+oJXEp5DhC3LsBh2n13dOaPK1ZsMdg5SJgVye00zZM/xlR6tpEXhoMOVczKgyLrXxivc+w4BiJsI4N2blHQNjnBjCyfG1yGRiSfOln67kqRDnzcH+RTDK/j0zU58MKGBwzvAHyfBVJcZn758UtzOiZI/1PHlvATiSkEB/Qr+ErH8APgf7UypnKSZpN2D9I4g90AsXe1tKDk5zXpvvCQb+kAFNue6fR4aVF4efMbduXqyMKjEx1f6NGO7t6Mc3Ghuq9ft3kuHwc2Mp6aLBufE0bhi8BJ0YeIUZLXJi5FqdaWe1F24pZNiG3zY8SbWq5HdxIY0yashYdQDnpF48X0/zQqaYVx3EcT3DSUYSEcG+BEZox+WHyHCs/0m6ZTXCvURvdDsCdAhj78AfhBNciGGCDCvmMMqLKVVtcMvfgUOpigvnxOg6gtBnoNn0U6neZwi8sZLm7hoyVxrABcXKfJgMJ8SF4/vqDWFp5t3Ag0MoK+bEEn338jq13f8k/BNkOPTifOoKA1io7XJS/NxE/B9uoWM+B9xydUf7kDeMi3NaYa9xoe7wvXinWigXc/QrH8LlnuGb0/7nZDjk3DiKOWemxnTphIt6Cx1xtbSmTNt53FXeK5EI44B8H8UsBz2FkTTUHQURwQQGhupWcT8PcSHevPYPTvOkJIjDw8uisSxKj+1yVTaWgwOr4WJelvFnU4/s/wgZnv9U0XXfo0PIobGnRKf1qeaT+KDzjKqSG3PHX9jqJfU3kXC/17xN+3W8yHMMqirmubwd2fc45VpSdACPrt/glvxU9hcuNGjxkLk/FUaT9Rd2e6XO6FPIcN8DslVJPN/wG7bGLlQbfpjAtFtNksLx8Q8RRDKlc6NfH+XP4tZY2LnhamdMvmaTuPZlapqMv0OGlS398V6s7VpMEPNKDNn1/okWidHB+AQJzY17wY7u0mn/nklnUmty5IEB5MloRbGhx/7tZBj8T0+mqjz+q2RbZmw+wYnj+1k+pjWFlLcQ7SnebkMKGZ7YBFd5jNqvQ1m99xgnTpxg37qpNBGTgca2CD126XaPpHeahN8Jev8gjwey4oc/prB+n/b+E/s2M61bLX5sM4BDIfBidWca1alFvxkb2Xf8BCdPnuTw5jm0LaTBokBTNqfZofGp+DAZFoM/6AELmmbCSGNG0SbDWb37qFK3Ywd3sHRkG8pU7s/+54GEeM6gRqlG9JyylF0Hj3NC1O3U4SV0le2yr838K3LDdACrmufD3jgb9YfMZNthkU7ktWX6H1QUMjXP3oqll3Tv8AeeZXCNLEImGag/dDH7pTwOrGZws7wizozKfbck78f5JDKsaFsAh4fVEeRcg0fDAazYJ/t0N4tGt6O07FOr3F94tJoWMdfnUCObyKfQr0zfpJXTac8XRCYEc21xM+XIskwVfmfJQVHuiaNsmPgzeS1Fu7N0ZLf+sdDnIikYz1l1MBH6WKbdDA5JOR0/z/3XoWLaucP4TyDDyrQTdpVxjaVsNXzTZgTLd2nrf+Lgdub2b0qdpu1Ynf7Wzy/Af+Zotfjb86noaopFofYs2n2EkyeOc2jHEga0/FaMTQ1mVT9hm8R7ZFiYgJU/k130nXHx35m//YiQ72E2TOtFjXxGQl6CgPwDR6v9R5D4gHlNiyh9WrrrLHYek7qxjfHtK2KmMRIkazZ6n/D2wqbktRLEpUl/Fm47zHHR90c2zqRjeQs0JvnpuNhTaI2EN3uH1lfGkEulDkxev0+rJycOsG5KHxo2qM3gvdrVtA+R4YTw+8yoZSvmxfz8Pm+v6CcxnxzezsIhrSjpLmValnGnvbSkPDaYjW2FgTdzpf7ILdqyznjyxC+OqNvraFPMHI1xKbpO2aRcO7p1Lp3KyHcZstNy7jWdkRJz2AfIcMTbI8JRKkGLP2eyds8hZd46eeoAM9qVxUb07W8rbqbar/up+CfIMG8O82cl0Ra7b+kxe49o33F2Lx3JjzmtlD51yfcnp3VJw+/vpkdxIVMxphsNWMpBKaeje1k5vS/1S3RhnzxN4v5Myv2PybD+NImmS3UrQfEv2TWmOk6mVlTsuAb9sevR1+ZQXdpO4wK0GbuEvUeljp3g8I7F9P2pMq16L+XeFzgprzf3oHL9BvSZvIY9h7U29OS2uXQoa4px7p9YfleysySuzWqqnA5VuM1YNomyj584ybVX4cT76tv5D5LheY+VRaQ43+P0Kyj620a0efo2pb3Hdq1gYKMSynjTZO3ILkVAkRwZVYOSP3Vn5sqdHFK4wCkOzP+DMo4aXJvM5GbygnYSfkcHkEljjNt3o7mdzj7nT4cvmzuXx1JjQx1hkw+I+h0X5T4SJjvu7RX6l/wIGd73VrE1sT6nGFJSnqTgSKVO09l6QMt3juzfpJygVaDpZG68MvDoEvw5ObW29pQHs3y0n+f5voP0mfjbZFjg5Ynp1Mwg5ivncnQcv1Y75k4cY+/GOfRqVZPvBh4VE0EgF2bUF3OJA991nMXBkyLNsYNsXDSMRkWcBa8youzok/8eMhx4bCDOGnNy9jqki9Eh8j4rB/6ImzySR3aEDK75+a5eGWxFI7L+pH8hSpDhSc3xEGQ2QwbtRKUPxhlL0Wp8yjFNhHkysbYwMB6NWSv3A+gQcGkhv9Uqopz1aXi/xtKNyt0XcFvoRsipqbQo5aIc62KYxjpHdXovufJlK4sC8pzhAiKfCkMOpWvUQ+7vY3Ddb8gijKVhuRqjDORtMJWrgdHEeG2l7TdZsTC8LoJZpqJ0mHsQ5Zhh3rGyZQEcjK1wck59zq9j3jqMWH8t1duXIVcW81uV7NqjwfTB0oMK7camOvf29tw6Ctlpsuh2qj25sS9O0SmrBptvenFal3H8s32M+LmQdnLRBXP3ApQrJs8/dqbylPeWVz8dUfdY2qt6qjNdjcqO54Hs5rCHbOz7PblSnQtphEfxHxmX9pDuz0Ii/vc20a6Ak0G+TvwsSG4CjxlZWBAJq1/ZozvWRotorq9tjbUYoPWmXkxeCYy4s57eTUqR2dywjiKYOFLml9Gc+scYn/zoRmdy2uf8hz+64cuR4Q3JY6inRi6ULleGXNLZKS6cDt17WfIMS3nOar2FafbaP99HxwIi7bf9OKkftGHXmd2pBplMDfJ1zE2J0rkVfa/QbfP7L0b+SxD7dDs96qU9z9OJIo0GseF6ynKxPFpNnt5i72RvkE4Eh7w0H7aex4ZC8r/I7F71KJQx7bmjZmT+rg1Lrml1zXNuE2VebbX8qnayT0acMCSTqZIr9VmvmUpUonRuG/E7FwOPPtH1SxyvD4+krIfBfGFakn67tBJ/sG0sjVPpvhhzTgVp1HtRyley5DnDDTKJcVCX1ddS08C4kBvMay7mXbOU+5VglZWy3ZZyxfsLGJdAYsRF/hSOsaXrbwiTaABvNncsLuYxUZdUxDySB9MrCwchK0OSx0QgF5cLp9HFoF7GbhSrWoMCQhctXDtwJNmExPH4wBxalsqW6mxUjSAuBX4Yw9X4WHxvjSe/IEWFO21PQ/DvMr6CPCu1MZu/0ClP8LlOXzFuLAq0VxZuJPTnDGcyOGc46OQQcprZUGO2wdkgUXJuLKPMR1X6bccrRMo8ljsbB1C/VPb3bIqJsyBE0w990ZgLvjCLZmXdUs681gXrrN/Tc+4p5amkRNS9jfSomvr86ooz7hHtc5sBBWU7f0tupyGODyggSJsdfxqcMzy9trg/SzVW6vi/Hq/X/UxGwS1+mHpfN/9H8ejgaL7LJ+bs5HKNyFKmHMUyO2GatQM7FTIcx40V7SnslnJetjaYCrLWnmWnXqTMaUnRnB5WAo21O03eezHv8/H6yGR+yi/HqL5MM/44mKSQ4e45hRxLdOdEGhU6N7KUIIOmdNnxSiH9Qlt4d3kV7SsWxsWQW8lg5U7Rbqt4HpL6UY3ftaXUE/OTZYm2gih+2Zg0RPj50WQRdXLrtEsXo4P3AdoWFu1oMCt5oUBBxBsmf6fBNmd3zuqi5Pg8s2IQ1Qq7v6dP5h4laTlfyyUivI4yunrOVDzG2K0wNcrmUn7n7X9I2//hj5hRR1z3qMKKNLryZv2vCg/9bsrd9987+gC+iAxHPt7PiN4DmbA7naWvsHvsnjeMrl260KXHMBbuv4VvyDUW9RjAmJWXdZOKIMPjG+KoKUL7cXNYNGWgNn2v4SwURCcVSY15zYml4vrYVVzzSSHDEglB99i7YDz9uot75f19BjF97SEe6T/JkxjDqxv7WDJ+AD3ldRF6DprCujMpHxP4EgTf3sWUXl2Ze/DhhwUd85wTa6cxsHtXpdyuPfozfvFObrwO05Udh9+DE6yeNpze3XT1/3MUy4/cMzCEb1jWLD8ulpUYvmkpUwb1UtL9MWgyOy77pNn+oUXU81MsndCPbkp7+zFx9dH3vtrz7twyRvboweqL71I9rogPesbWcV0ZMms3zww94oBrbJw6SNuOPmNZfewOr+7upL/or/kn0rxN/5lICrzO5umDte3v9ifj1l5MOU4n/h3nN06lv9KWLvQZMf8DX8j7XCTw5upmJvTR9k2X7tPZfVM+7vPj8NTh9Bq8gXv6g70VxPPm2kYGdx3GcjFxptLCCC+OrRT93FNbxy49+zNx2S5uv476WzqWGokE3d7GhGETOPiFTzM+iLi3nFgxll6KjHsxatkR3vm85LSYtLpM3Mg9nbXzu7icIf26s/xCmnMbA++zZUpX+s7bm/orbTEv2L9opHbcdR/Mgj1XefL4HAu69mTGtptpVtr+XYj3vcmmWUPoocikJyPm7+BempeP5NFqea0s+Gn0YuZMGaZN230gc7ZeTnHkDZEUzJ0Dyxjdv4dWT4Ssh05byYk7vslj8PW51YzoOpB1l1/rjKAhBCE+u5IRurmuz6jFnHkRzNPjyxjWdRS7HwYY9Es49/cvYJB+Xhy3nNPPUjrH99pOZg7pqb3WawgLd94kVfOSvEX/j6br4OV4vkm1h0AgkUjvu+xbMZlBPbtp8+gm5pk1J0n3w3ufiKTYF+wZ15dBI7cYbHGQCOPmlun0GCTqkuoYszh8Ty+k95BxqcdEUgBXts1kgCLjHoxfdpSnQd4cnTaQwcM38ii1CSH82SmWT+ivtT9dujNs+iauiDlaufbmKJO69mfq1ttpVta8OTZ3FD36reJm4Jc1OjH8DXvEuBk4ZTMPdZnHvzjJ3GFdGb3pBgE6/hL19CATBgxhydk0VFbMm2vHdaTtwJVcMZBL6NMzrJo8iJ5dZXu60GPAOJbt9eRtxJfORjG8vXGYpZMHJ9vQHgPGs+5E6q/8SQRc2820wVqd6NZ3OOuvBZMQ/o59Sju3JLfTEE/2TWFw76HseaizpNG+nF7amx5jF3E1zXtxIdfWM6p/VxacShkzytx8RczlvbV16z5yOVf8bzLvpxJY5uvOybfakZQY48+dw2uZPLS3zjZ2of/YZZxKs8ctKeY2I8vY41jgVw6lfez7RYjm8dEVjNTVr/fQKRx7IeoT+pIdE7oyeMbOZMdHj+eHZzKk5wC23RHy08VJJPrfZc/i0fyp4wvdeg5l6vqjPPZPK1hhL64soZqjLd9236Y77/zvIfb5Ecb2HcCordrTdJIR9oBNU3syeMUZUu3kjA3h5Py+DJmwk7QnjAbeO8TS8XqO0o3egpOtPHaTAINjgCKfnWHxKN1c2Wcky088I/bFcSaO6MPYXQ+082OsH6eXSV1ZyJW0unJ9g6Ir8096p+I4f4UvIsN/H9o9w7aa0gzXH7SsIh3oT5NoxOYvefaoQoWK/wi0e4bt6bo9nW+fqlCh4n+GiOsLaJDFjGxtVvA89SOWjyLuyWKqurhSfuDpNE9n/g8hzo/9g4tj6liJsWe+6AiRrxL/QzIszxku9f7RaioMIMjwT3lwtqz3/tFqKlSo+J/h1oJG5DK35fe0R6upUKHiv4QY3l3ZxJDuPejRsyc9RejRrS018jugMS2qnFSVdvX6r5HEoyVNcc3xIwvv/p+lwkR67aFNZjNyNJzEg88TwFeN/xEZDubg8GpoNAX4c9ff35fz/y9es7BOJiw01Vjx7kt3OKtQoeKfxo1ZP+Km0dBmzUOVDKtQ8T9BFA829SKzwd5SGawK16PvqitfcA59En53jrHz6D3SHJH+fweJ4VyeXQsTTVbar9KdMKPik/A/IsPxBDy7zrFDF3hs+C1mFWkQw5sbZzlx9DrvYtLbIaxChYr/BcJe3eDMkWPc845MvYdahQoV/yUkER30ihtnTnD0yCEOHTrE4SOnuPrYN+WFuK8NSbH43T/N/tOXefFl73Z+tfgfkWEVKlSoUKFChQoVKv73UMmwChUqVKhQoUKFiq8WKhlWoUKFChUqVKhQ8dVCJcMqVKhQoUKFChUqvlqoZFiFChUqVKhQoULFVwuVDKtQoUKFChUqVKj4aqGSYRUqVKhQoUKFChVfLVQyrEKFChUqVKhQoeKrhUqGVahQoUKFChUqVHy1UMmwin8p4nl3YyODfh/E4mNe6le+/o2I8+Hi6iH8PnQ+516rPaTif4Twl+yf3Yk/Jq7hVrAu7t+KpFge7BpN9/7D2PNYF/c14/EehvXvzuhdD4hVvx2sQiD23Q1WDPqd4YuP8ea/aFa+LjKcGMX1NT1o8VsPttzXxf1L4H9rMwMbtWDUOk/CdHF6RF1cQNMWLfl96VVdzNeAWO5s7oCdxo7ak87zf/9j1GGcndeHNo2GcfBdmu9kBt5j3dD61O82lRMvdRbh2V4GdGpGx8UXCI3TRmkRi9e5hbSv35yR664Qqov9nyDyPktbOKFxrsp8z/9rH0CN5sH+afzaqAeLz77Wxan4j8L/FssGNOKX0eu5/9mfio3iyrKBYvz0Z6dXMKl4k+9lhlbUoCnQiu2vdHF/F0mReO0cSaM2PVl+9fNH2Zvzy+jZ6Bem7L0vam6AxAgO/ZkdjaUrA47p4r5mHB9ARisN2f88RITs1KQgbqz+k0a/DWH7/Whtms+A/6XV9Gten25i3vRONW+q+FLcWNWTdj93Z9vDSF3MfxYRdzbT2E6DW+1J3PwvGv6viwyLCe5A7yxobLMw/Kwu7l+C10eHUUSj4dt+e0m7uBG6pS0ajRHOv+/UxXwNSODR7l5k12Sn+ezL/x+Q4SDW/5wLU01pZj9JY1xfn6R/WWHMszRg2S2dK3x9KoWdNDh02ExgqsZHcW19O+yFrlTquwNfXez/BFGPWNMhN5o8jVj+35y1/hFEcm5mA4w1Weiw7oEuTsV/FK+P0rmwBqOK/TkToov7ZESws3MRzDQFGX/DTxeng/81xtc2xrr87+x9o4v72wjjxvjyaMyy0XV3oC7u0/FwY2eyiTm77tQzQtMMkBjJ8WHFsc2cj1GndXFfM86MIr+HLcWHHdfJyYeDvfIKG12KMWdilJjPwcutvSgs5sYsHTby5PO5tIp0cLBHNiw0Hoy6EKGL+c8i8v5O2mTXUKD5bO78u8lwEglxscTGyhBHfGJ6zzYSiVOuixAXn9qLl0hKJD4uhjj9EnhivC6/WBLSy06PhJR0sfGppZSUmCDy1F3ThTRJSIwJZF+/gthkLsiok4bpElPX0aA+cfFp1+mTSEyIE9f0mScll/t+Wgl9+pTy0spE1t3r4EjKa2yoPmg375LTJZAkEiYGv+T6jRvceZ3OCsVf1lUgKYG4mBS5JiXXJe7Lth6IvkuIS92e9MrVtlm/Wpgio9h0ZaSHqGtynlHc3dnzs8lwkpCHzENfSlK8rq5CGVLJ3ECX4uJT9b6CxHgRL+Sv+yulXn+hoKnzNGynGDPx3qxrXxwXzffMueeTkk7mFxfO20eeeN7zIlBO4LLPrkyjXA5LsnbZxJswbVqpN1JTo4JecsvzBk/ehvDeeqyu/e/XQQdl7Ilr+kvJ+hP312MvPejJcN6fWH1PRhjIKR2ZJsNAZ6WOp4WiowZjRK87acdpgr5v5bW/Uqt0kJgQzKlZzXES5KrL2lvJ+UiZpar5x8aXAQznxc+W5ScipQzR5lRliDEWE0WUHOu6mFRIjCUqKvp9/TXQF2W+0UUbImXOSE8GYn6T/ZCiUOmPFal3XgfpXk6DY43BnPDWlanI6mPCkmUEsaN7eTF+yjDpyitiDMvQk+Fvu3BQeody/OiupzsEdGNAW75BPgZIjPfnyqSqaFwK03Pnm5R0afUjHcg56O6G7oKUOdJk2gkC9OXIOUhPhj3yM/aCkpr45Ot/pV+izvp0Yl79a01MDzq7HaevfUo/iWFlAIO5WvaNLvY9GNpiZV4ygLBnMu/3uIFe7oZzcSoyLPo57iX7+pZEk7kS408EJZfxno3+AGKD3/Dguif3XgUTk+YGw/niY2M5PUg7nTxWlCDk8/nZKPphKFtpa5T80uNKyTDU2bT9otMNMQZT3S/lnU4dlfEqdegTBCrT7v+zMBkdCjD2tL+ufDleZKbSrom/09hWCf2ckVK2Pq0u5V+M0Y+R4VT88xPa8Kn4LDKcGPGKUyv6UrdETtxcXHDJlJsKLf9k7cnnhOsqFed/g1WDW1Ayu7gu0mQpUI0/FhzmaahBq14eZ1DdbJT8bRZHLpxh4q/lyS7Surrl5sdui7nkn0YCiXG8vria/k3KkkOW6+JGzgp1GTT/CM/lM6ikYE4v+o3SeXKQKaO2XFf3HJRpMozN1/y0AkuKY9+A4rhZmWBkbIJ1Bm06F5dC/Dr+EFrfPxbvGzsY3Ko8OV2113OVbsr4Aw+JTO6wQI5N/oWC2Rox4+B5jizoyrd5RFrXjOT97hfmHnuO4dOZiPsiv+aFyZrRDVelvIxkK1SVLnMP8CxaZprAs1OTqeZgjZnGCHNre5yVdCI0mso9X0F3zo6nQsVKdNnwSJupggR8rm9kaLNyZFXSu1Oo8m8sOPKQCAPlCryzlrY589Gw31ou3lpPz5qFlLxdM5ei5bjteEV+njY9OziK2qUK4KGTsyw3/w+/MX2fKNeAmV2a3oCyhSsy8dA1Di36g0o53UTajGSv+CvTDz99b39YbMA9Ng9pQtHsriKdGwW+q0m9RuVx1uSl1WeQYa+DY6mVrSidlxzh0uWF/FY+t1LPrB3X4K+sFMTx8swa+tQthbtSfxdyf9+RhcdekWwnhK7sHVCOUmUaM//EaZYPakyxzCKt6OMSDfqz8VZgmvrE8vrSWnrV+YYsOrnk+74ds44+J0bpixes7lidTJamGGvMsHV0VtK4ZC5Eg/n3IfQWs9sWoky7KVyV+nx1OvWK22BqYoSxZYo+5CvfleNCZ7wOjaZyoVoMSrXXJ4mQhwcZ27oyeTLJ9K7kq/ALE3bdJMhQ2F7b6VA9H0W6LufS2d0Ma1ISD5G3q1thGv65iptBaWamv4Ikwx3zKCvDC49cY8eY5hSVZbu6U6xWXzZcC0gzOSfgf3sHY375VjeOXfAo0ZhJO2+hPCKVSAzh5rwWZPumLhP23eKSmG8q55U6kZV2c07hL9PEBXJ96ygalculnYdcslO+5XD2Pw7+RJIQyLkFHchqa4GRxgRLO0elLjKUHbSdt4qeJOF3bQcjW1Qkq5u8llHR81n7Hwg9T6O88b6cXz2Q2iWyace4R2Hq9p7LuRcRn6y3H0NS9FtOrRpC7ZJZdHXNzg+/T+fE6xidjMO5ML0JhXPmoensi6kfzQdeYEKrYuSq9Cc7HuhXd+LwubmDIc2+I7dOX3KWqEWPWbt5EKiTYmIMr88to3vd4mRRysxEASGDxWe8SFmze8nWQXXIVqojK/YeYsPgphTxEGldPShevy87b2uXgGO9TjG0mgNWphqMzK1xcJb5ydCQBTfefaTf3rC5Vz2yWpmJ8WOKTQYn7b3u+ag29RoE32JiXVNsy3dg/bmbLO5Zk7zyumtmKrQazyHFSOggbMX1NQMokz87Hkq/iuCWhVJ1+7DqzFvtHCAI69mptXCxMUMjbIWVvW68ivb/NHybaPFfIZrb24dQ3s4KEzGfW9g4JI9f9zbLeB0o+mnMN9gJMjxk1yMOzu5EBcVWZiRPxXbMO/7q/bnR5xrrRzbnm6xyDhVps5ah3aQdwvZ9hnbF3WZO20pkqzqY4xfOsnVoU/KJ9rvmKi5IjnbiTgh+wLYpHaiQR443UY57YZqM3MidUIPeEXPjm3NrGdCgNFl08stUoBJtx6zh+rtoRRcTTo+nUrkS9Nnln7pfpd2vk40SHeZxQ78XUEeGS446R1xkAAeGl8fBylTI3QwbB73cs9N+9knSPA9IFz7Hp9GiZCG6Lrua8oQ1zpszK/tR6xv9fCH0uHJrxm66jH9UGmF/CJGPWD+8FQWyueGm4wZuWfNTs+MMjj2OSj3P/SXi8TkxntIFvqXlrGM82juN5mW0Yzpj/h/os+QcAWnml4SQx+yZ1p4Ked218nAvwk+DVoi5Wm9wn7G4ZXlKVBzKOQOe9fLYJKpnK03nxVeFhdLjIfOaVaRIg2ncNuzXdBHE7j7VyCE4k7GRiRh3+v4oTIOx58U4uc/ctkUp1n4uN1Pt7YzjypwGFPqmApPO6uoTcY/l3cqQrZbgiweOsbBXTfJL/XHNRvmfx3HEYBn/Q2Q4MfINp4U9qFM0m64e+agq5sALbz7/CUJ6+HQyHPuY5R3LkEEoqZ2jK27u7ri7ueJkb0exusO4KPolMewCY5sWxdTcCntnN9xFGldHe8xN7Cjaah739O19tpvO5TRoNJY4ZcyKW6ZMZFLSWonJzp6S3bbiq+8nMfjuberPd46mWFg7CKMtynWXxNKRDE7lmXZFKGKcH7uHf49H5kxKmUrI6IilqRnm+dux8W6YUNYkDgwqRSYbU4xMxMTppEvnXpQ2E48QKsyW78ER/JDDGntHoejKNVGOo5jA3YrTff1jHcn1Z9eAWspjagtBqDOLdJkya8uzERO9Q76fWP0ohQ4HnFtA23KZlfYp5bllxNnBAmMzF8oPOiKMSpIgZ9Oo4WirJcM2jmTUp20yXSHDCXs6YWlrR5UZ13W5irqem0Pz/KaYW9rhrMgkI062ZpjY5qDNQk/0Js/v6kIa2AhZmzrgJgayu5C1zNtZpNWYOvLTvMt8dEwkI5Hby1tTILthe5yxtTTHxOkHhm1/lGz8Tw//BkchI0tHJ5xlukwyrSPW5iaYlGjJkqtyHUCLxICTDKmaEzNjS+ycMir5ZvYQdcxgjZFRQX6d8+lk+NGWPykpys2QKTu5Cop8dO3N1XkjIbHRggsOpLi9BXbOGVP6OIMtVu41Gbf/mXalNSmWLR3dhTHTYC2MdkaRh+xn94wOWJia4FC5F7se66eXBJ5u6UsxN6E3TrpxIYKSZ5YqwuAJks071nWuhYeY5I015tgLw6fILmtRGi8UhNb/PAMqaDAt351jkjtcnUnDknaYCTJsYp2BjEr/ulOw4h+ciI7n3obfhJOQmebzribLMObBen4t7oKxhZ0YUzK90Ad7QajNctFw9EEC9AJ8tIq6BS2EsbHGySWzSKcde8721qK9manWbycBn6oPggyv615K5GWBY8bMuLnp5OSaAQsjIxzLDuRscsGJvDw6mXoeVmJSddW2X8re2Q4rm0L0XH8brV8WxOWJ1USe5mTMU5jsMk+pO+656DDvLCGCqBwZWR0PW1sc9XIUbXW0s8a9vBjrDz5lYgzk/KLfyW5vqZAr6Rhr83GnwpBdSP8z8tYymmQXhMbcXpAlXRk2lpiZ5ReG+UzK1pXEYI5PrIubhTFWIh+l/12FngvHx758e9bcikjuoy9G9Es29i2PnYUtzsKpVuoq5t4MttZk+nEQB5/HiTKSiH61n26F7TFzrsKcK7qnSIk+7B9SU8xNBeiy8hqRCttL4M3+kVTMZomplYOufe6CKDhgk+17+myRG2/jub2mK2XcxFyerNeCjDnaCSJXgdGHfXRj8ikrOpUVc7kYK45uZHUXc4PoLzchAysjDRlL/8FhIayEl2cZXkPIxUwjdNRWp6My/MSim94fIcNv2dqnIdmtJRkW9keMXeVej4LUnC7mREGGpzd3wcjUSsw12URdtTrt5myLqejfLE3mcz9M1wtx7zg1tRlZDGyFW0ZnUS9hX5zqs+RGkKhLnHAsauNmZy70UOiHo17PstB05PaPkuE7O4byrZi7TDXGwtFySp7PPdot501QOJcnV8JKzIP2wmHIKOQg5SXnRisxt5gU68Cm26HJOhP37hhDvnfHwlbk46bre2FrbMW8UKX3ah7HfuJgjb3CqFo50VgI0p1FzI2in5Q6FSjNxEtCI/wvM7F5LqySbayUiwt2VpYU6bCUu6GyRkl4n5tDbQ8boRN6mYgxLPra1tKVVtNPaBeVDvcms4stLdek6denu2lfWIPdj2O4qGeqacjwwZEVxTgTtsnEXNgCXXvdc9Nh7qlPIsOvtvemuNDFamNPaB1nQYlPTaiDh4N9qrHjIuZnc2GrZ534lFwFgi4xvWMF3VykbXdGZ2EPhH5k+uZPTgR96iiP582BgWQTddTYuJA1Y0bR/1IX3XAQc4aJaWlhMx4QrcsuKfga05rlwlr0i0ty/UW/WFtRrM1MrofIURjPod6FcbAtw6xbuk05Sf4cnfSjMi4L/DKHe3re7L2dZrltyfTLap3T/1cIYk/fmuQSnMnYSHImfZ8Xo/H4C0I5rzGymiVWNUdzKdXezlhOjyyBWQY3+h7WTZTh15jZSuifqI+DiwfumTMrtsJNyNBM5J2txliu6PJIlwzHebFGzDMuVqIfXfXjwAUH4XTmrt6PIz5/f4P4J5LhBLzWdSCvtTBw5f5g+3VvYuLjiY/0xXP7EqZPXcm9pGjOTxOTjMaK/G1mcPplDPEiTcC9/fT/PiMaq1z8tt5LO8i99tHje3OMbV35oeMUDj4IIk6kDX68i3Z5rbFxrcva51ptiHu2j57lBEm0L8Ofy87iGyfKjY/A9/4ZlgwfzuZbIWLAya0IgjSm0sd37BhQkwxiUDVf4Km8aJSUEMT+/gWxEZPoaOENy/rJkJAo7g88Qf+quXAp+AtrLnhrsxCI9DpK/7KueJTuypEgGRPAvqH1cRXtdC3ZkinbrhEo6xT+nP2DvxWOQEaqTbmSPJnJRysJaZ4DBN/fQFNhaO2zteegJD9JiTw/PErZJlFj8B58dPXSPxoK2dFFGH5XfpxzU7k/MfAq03/KhLGQafsZh3ityCSEu7tH8X0mE8wytWD7K60WBVxbRlNHI2GoCyrepOe7SCVvn7OT+CGzGUbFh3A5WD9SPg65FSB1cyK5vqoX+Sw1lOqykqc65T07ugIZhTPiUrgRE7Z74hMr7ovxYseY2lhqnGk0/hjaNaMYzk+ohbuJFflaTuf001ClfnHhT9k5uRF2mlyftTL8eMdgvjU1xi5jBTrP2MWjoNhkWca8OcAfhTOQvUp3tj5McWWjbq/jtxLCqag/gWvKpJbA9q5ZhTNlTf7a/dlw5TmRMo/wO6zs/T1Wxg40nXFKW3+/Q3QulpnsFbqw7a6iIArCb2+kcxEHPH4cxhlhIRIT/FmvbJP4gbn3/bR1EkHqHm/PMvgHYSR+6MNR5TFvIglXZ2i3SXTdzLsIbdp45XFUNDc3dCKzkMuvi65p9Sz+OYtaFhETsyO1x+zhcYhMG8Hjo/NonM0aTa46zLykc4+erKVxCXuM7DNRrecCTj3Rytv78jp+zm6MTfEWbH6uTfpRCDK8vnsJNGZ25K7ZjYXHnxEl6xn4gAUt8wjHx5E/dmqNTYLfRcbVE4Sy6K8sOpOy0znR+5gYd1mxLdST4woLD+P6jDrCGFriUvInRm+5QWCkXlZiLJwZQ4Xs7pRsu4BrvnqtiOfxntGUdnTm+17b8NEPvr9AUmIIZ+a0ULZJdF13WydfEUR/JEU/ZU4dV9Gu7DSechRv4YBIed7bMZY6HpZo8rZm3W2tPCMvjucbR2Os8/3MyiuviZV5+N9kzcAq2AniV6HXOp59+vBKB4mCuA6kkEMWqvUS5Cf5xbN4bq3tRTE7OxpOPom/bkwGX5pJBRdrnKtN5GZQFC939+Mbc2u+67sJ3ZQqRHyaPuXdhDHOzW8LjvNKp18hT44yZ9Z0Fh7zFyRsB+3KCkNd8U923k6xdCF3NvFLbhdyVBnLDaVdz1j9RyXhWNuRr9EgNl54qYyVmKBHbOhaDHNTZ2pM8xQjSsyxLw7TQ26TqDmEU8Lj0Mo84dMe1yYEs7NHeTHvlmGy5xvFXmh1QtzsLwhDU0eMrDJQsslgNnq+U+xTjM9ZhvyQGXPjEky9GqKbk9OzFaGCMDUms6mG7yecJ1hcS0oMwnOycMpcC9Nr1ztdXWV5n7BNQozfext7KNsk5DwRpLtXmc+FM3dqbHlBesxxL91CeSoSIOfvmGds6ldNzHc2tJh3UTc3hnFsRCWcMpei81JPXZxA4jM2D6iMg01FRh96+RFHQodYT8Y1LIhGjMmCDQco/RShq5eU7fnZzXG1z0+76YcNSGcgR0fXJ6tlTv7c+5aEhEh2/ZENYyGTQcd0OpGUQNDry6we1ocZGy8rBDTpWH9yZXGhzXqf1HUTtrxTKQ2uDSZwWd+YNHuGk+Jfc6BfSTQe3zHhVIiB3D8mdS1e7+pPWSsNdSaeFlROIGQXP7s7kOGbQVwM0BKmpNgQnp9bzZ8jprH5go8S91HIOVnoTapahD1h+S95Mbd154/dAbrIjyGet4eHksfYDGuP8nSevo+nwXGijdHcXt2dYtYa3IXT9ESZXuK4sbipIIwFaCnmoXfJRjCAoxNFvFVeemy8q9jG0N3dyC6cpZ/X6Fw1XzHf/pJTOGN2uJdpyYrb2kko/sxISmR2punSh6mfHn0ASQkJHOhbGDeHAow7G5i6P4IvMbpOBpzqjedKsnJKxHJ2bDns3bMz6Kiu0uE3mNsmn3DGMlD+1wnsuuWrzJUxPjeZ2zS3cMoz8su6F0rS6Ae7UsiwokAJvNjclaIebnzfZwsPkk13KNfW/UFOm2zUH3/GYPX7y/BpZDjJi4U/FcLaqjILb6ZqdQoCzzCkhhNGOdux/UFqlyP81nwqWjmQr8lSFJr5fB+dxaBwavD/2DsLuCqa9Y8v0t0dAnYndmB3dwd2d3did3ci2N2JCYiAgCLd3Z2//2wcOOeIiO/13uv/Ot/383xe2Z2zOzvxzG9mZ2ZJIkoMrxfg4YJq0DSojNWv+L+/XJkNa0YdPdY/LnEGPyQTkYG+8Pzogvdv3+Dh3gmoo8ug6fInwkKjTDxeWouI4VrY+I47UEz0nQWw0dRBl4XH8fjVK7wqtgc4TgSQlkVzbH7L5kwSbi/tBBWmOTY8j+R/LJDmtRs28nqoO/HKd6v8c5Ij4Of5CW4f3uHNy8dY1VUb2ka2OPqVPx/1fANaEEfYZeWD756zRAx/5v6OfbsL7RVkUXvMYXyT8hGeOzpCT0MNI8/zgj7R/RC6VVBAk/HnSfdAnADs7lwJmir94Rj9q6tEC5AQEQDvT6748P4tXl+yR68qDIz72UM0IPViVROYqFfESuLQxEn6cBDdiLNqNOksOM2V8wpzm5IGy2oqnkSJ9+4KicCZA8tfnDP87ep81CPp2HfLC0guWC9EmNNEGGsbEyF+Syx/WbuPbUPrQ81iCBx8uXk3cLIzhZ5hKxwR8kdEgc9ZDK0qA91Be+BNgqbfmIiKusbot+EyXkhc8w62j2lMOjx9ccSdraaZcJrYgIjhdjgcKFHovxfDLJ570dxaCRYzryNJ4uElxTBLgc8RdK6kCJXOO8UcBUsuaZSnwoAxQu9NL/lX29/OonctRagNPYJg8WzPJ53HmZXBWLTB1nfldCuiOcOV+hJnK1kQE69Nhqm+Kjrs8CR/FSHm1UY0UTVAixnHxNKItzPzWsJIsxm2fWJbgAx83GwLRq8eaYClG5gc3J1rAwP9llh+/oHkde6fxNTWBjDqvBRvSpla/z2ZeH9wGBHDtTDTSXz6EbkLqcdN1DRg3vMwJPeZyMX7PcNI2utj3JlP5K8CPF9UD9qqhph6U6pRTXyDVZ1VwdS2w7Vv/4Iazk/EpQnWRBB1xuY7Ys/LPfN+DK6rAcvhB+BTnO9ZcDvYF/pq+mgyYj4mtdSBSfc1eCu2Biz13nxU15NFrYX3UfqsmEJ4nxiHamrmGLLeAS/F7/niDnaPqQONKt1wOogNG4QzpFwzBv1wyl30PoonN9wBfTQ0YdlpFwlFiHqBuc2JGO66Cm/LlUfiZJK8b0HEcFPs8JIqF0QMb+pWAUpNJ+COpJODx+7OMNFUhZ1TDJEh4uQgNtgXXp9IW/HuDZxPzUVdU3nS+bwEfpApE147OhExXAfz75V0csuL/9W5qEPE8OC9byVFBzdnuD5UTapgFdfGlZD2chNs9Rk0XHAHUWx1ynqKGdX1YdB2Ia6/FMsDYo8OT+c6f/23v/xuwXWpEDG8vrsVqauT8TBIahQt3g3rbDVg1MAOJ8Tuwdml5WhuqoKWa98gLTMDN6aYgNGojjkXvBAcm16qX859+M/FMGnd8GRJIyKG22Lr219//S0uhrl0ibuGwcZKUK4/g3TqgpGQ/i/URRYipMO/ecL94we8e/Mad9f1gqq2Prrv59vmn0PE8N0FMFI2h+3mD8IxgaRHmNJcB0yzFfjE9Sr8Yd9OFwZ1xuHkM6l8cWDfYquh+eLbfOc/7Ay6Wxig9tx7XJonvN6B/m3aYtziZejfoBbGHPPmjn891BdW+q2x0zX+p506EU8W1yFiuCbsP0jphF8Uw7sHGYOpOx7XA/lDInI9dqKehjYqjnHg2qicryVi2JuLZCiODa4D1Yp9sOPyE8l0uL4fw2qqo/bAffhS3gf6AeUTw5kvMKcJqQSNV+JT8WtPKfycMLIWKeiDdknNHyH9m8TnmFVRBZY2q/CJPRB8lxPD+n02Q3LXmjy83dQMmobmwrYzqXi1pSdk5JtiUZnLhLMQ/u4iti4YARtLLe71NjscL7LOG54LYjgNDxbXJGK4Jta/5g4IFMFt/yjUlpP8nYSp1cCcO2xhSBbEcEtsfC4Zp7Swk+gsq4s6I89B1DTmxnzFo5PrYNezAQxlJa+patINp4S9JsOfrENzIuI6L79L+n2SlIhhdpVSEb7emk1EoilxhG+lHDypao8WwthACy3Zd1+EpE+sGFZEswkXpMRwDM4MqQFdBdKoRUrKxrJI/vIQpzbOQOcGFlAVexbWaozcXpyfvBi2wqoXSRKVLt3jIgYZM0TIHwX36P4n0LmKMnTGnEGURB8qF77/YAHdt6vzUJdhR25fSYnhbLiQxk1BKs4SVqEbDn/kG77Lghg+5Ct15/inmGerDsZ2GVyIwPDZ1R5GCqVcS2RaHbH9GXvNDFyyq0/EsC0OfpNqXEsTw+670cyKiOHpVxAn0SZ8L4bTHixBA0MGzdY4QzTdU0Tchz3oxCig5XRHviMqiGGN4UcQJJ5ABTF4ttwGjHELrHsuVYF/hEgMV+5HxLDkjQufLIGFkRaabXQhf+Xiq9NsWJWWPsVmhqXPWI+axYthgwZY9EBahPhhb886pO6V9nveVFpMxm3JPuoPSMeb/UOJGK6J6Q6S+yym35wOXT0dtNr2/VaG0fdWoIUKgy7rX5BucRpO97eCrkpPnI+SbrhDcGFqYzC6PXH4/a+LKRFFWb7Y1lGz1GcVmVyPTXATf9ub7Y/zdg0gR84pVRuEQ58kleen3d1QUVUTM66GC1O/pEnG/dX9YS51HwnTrYOt3KytEjEsvQVZfupbLKquAbPai8A1+xFPMbsZEcNdVsBZTJyXjzTcmt2ciOEmpNMUI9mQixbQNZ+Eu1JiOOD0EJjpKmD4mUjBh+QgyvMWdi21Q5uq2pCXeq46868JYjgNn7Z1JGK4NubeLuerdDHY8l6biOFBu53JlcTgxDC/m8RaqR2Nct0OoJsV8aMzroHbtjvkFLrrK0vET9o6rSLCmf952bBiuBsRw9Wn4VmwZK6nB90horv064vMYtYNpBYUIuH9PnSookaOycG6aR/YLV6P/Weu4CX7tku43r8khguj8HBRQyKG28DeWbJzVR5KxPALoR1NwNN1vVGJHGOULdGm7zgs2bQPZ268xNe40kt/qeTFwfvJaaya2Ad1jeQk00fZAP2PcCuIy4EghlUs0G4L6xvFyHqLpbbmYOotIPWZlPD8x5hiRjrU4veSshrTHBHEJfxXbG5rArM2WxBSmIJ3O4egbpPZeOHniQ2dq6D+yONgJ+zdndoQRjZz8CKq/OOoDxfWJmK4BjZJ92D/iRgmwv6q1P7aeek3MFxLDxad9nBTkHK/3sQYkRhmAxS8xpJ2VSBTyvOLzLzTSrz/F4eGyyeGkx5iciNDMC3WwUe6tRUo+nIJw2swMBq2D8IbxGJyE19griURw0RMc/5TJIbZSiHRrc3F6w1NiRi2wOKn7N+JeLqW9M6VW2L5vZKpC5IUINXjFHqSxGMYDdRt2wsDho/C+MmTMaF3ExipMmiz+lmxGL63sHopYrgQb7YNhDWjhUa9RmDKlCnf2dRlW3HrC1t5EgUx3AIbnkpuapkachydWDE86jz/qik7EteX20KLZJaqWSN07T8Yw8dOwOSJE9CxmjI0TTrhhDAoFfaYnybRecXPxfCXGzNJQ2WBwbtdJJ0NoeDxEhgbaqPFJn7oWySGm9qdh6R0j8KpwdWhq9gdZ8orhuNfY4Et6bmS57Fs2AF9hg7H6AmTMXl4N9TQI8eGbP1ODK98liARx7RP5zHQiDQ6Y4/xYtjnINpUUoAJOyLzG8XwgO0vJEfni7LwYq0NVNQ00XTAzNLzeNFxvItgx3EKhZHhljjoLdXdSHiGue1JY2C7nBPDHzc2Jb18bTQfQPK1tGuuPIIXAew1k3GRmybRDgf9yyGGP+5EE0vFconh1HuL0MCAQeuN778b6Ytz2YsurBiedolvNEVieNhhBIi30vnReLKUiDeTllj/4lfFMLu1mmQ65T9axInh5ptZQZkN71NjoUbqRo3OozCttHSasQH3AkgBKEqDGyeG62PhPema8Bn2HapDWa0ueo+b+N01pkyZiqX7r8BXymeXThpe7xtC6mYpYvjaVGjr66Ldbq7rLkHM/ZVoSXxK53XPiRhOxck+VtBT6QfH+O/F8MVpTcDo9MDhd/9cDBdmumJ1Yy2oazfEgJlTS33mxSeeIVzC5ybj5YaunNDTqDMV1yMk8+b9lvawUNLGvFuRPxDDcbixuAtJG3O07D8GU7+75xTMXr0DL7hOh0gM98VxyRYRBenvsYSIYfO6i8A1++FPMKspA50uK/+BGE7FjZnsbhJNsc3jB2K4lK3Vvp0cTMSwIkac5duPdP9rsKsjS3yYCqq17o4BQ0Zi7ETiwwa3hrGGLCrPulIsht1JOv1TMfzFcRZqMToYtOfHYlh6a7Ucl33oasmg5szrvBj23Y+W+hpQr9cD06Z+nwdTps7B0Ye+372FLBWRGK42FU8CJctqqr8jRunLQc+6HUZNL+0+U7HhumhOfwHC35zGiiljMKh3ezS21ubaA9W6/XH8fRQ3slfwiBfD4y5JLaArlxiOxIMF9X+LGObnDBNyI/Hs+BpMHzUYPW0bw0KD1QrKaDTuED5814ktjWyE3F2LZrrkd8omsOnSD0OGj8HESZMwrnNNKGgYoPchTraVgxIxbGvPD1gVk/kai9uagam/iIhhknK5tzBcRwsaVu0wZlrp+bL1mocwAJKDZ0tsYGw1GE7eHtgzognq2l0lR8nxVR1h1XA87gS6YmdXK9QZdw6hP50vXMKD+TXLFMO6vTfDTaKQlyWGx+KK5Is45KeT5yRi2LzzHiLYya+lxXDWU8xqQToJJs0wfFwp6UB84IajDxFaXpHwA8onhklFWtmmIuT0B+NmxA/uGHUfM1soQa7BPDyT6qoWRVxGHy11WHXayb8uK48Yfsz+nY0PR4ZDnTHDqCMe3wk/nlS8XEMaHRUjDNr4AF9jRaurCX4H0NGCQaOlomkS6SSsDVQtamOzVKfsy8mxqCanhVGOZS+PIJ63XGKYbf5yfc5jWBUGho0n48y7gOIdN1iezCRiy6Rt8TSJmFdbYSunjG4rH5YxTYKvcOHP1qExo4Tmc5y+W1QQc24IjLSV0etQAPf37xTDMU7jYKimgAZ2R/EhIKmkIc3+gPnNGeiRSvHLYjjKAf2ra0KF9AoDpXp2IY8Wkw6KBWlQfocYzoX33i5Q0LHGtHvCsR9RlANHVgwbtS7OHxH5X85hsDUD7YG74U0cSsih7jDQMsSkhxIvQ0shEzdnNYahbDscC5ISm6WJYZ8jaFdZDZVm34TklO7vxXCeyza0tJCD4bBziJRKqIjHK1CNdPI6Lr3Hj5T/p8XwJnZMsABBN2fBkNTjQQelElSawkS4bPqRGI7GiSE1oKXRFVd+WUxJkw23o6NhLFMLs5z8hWM8WW/XoqqaFqqNv1q8EFXEtwvTUE1GBYMOvEcWqQG3JlWFlmpVrBbNyRaR74u9g4nztxqK816/0PJIkxOC3Z01oVt5BB4Kh35G+P1FaGGsg3pdeqGBtiIqjzoMbzE/G3RqGCpqyMB2p8d3b5Z4cvDSvg8MSBlb+lTaG0kTiNOsGDYcgNNS0yQKQy+im4EmzDru4P1+jDMWtZWDZvdVeFcuBSdODh4tbUPyqwl2exXLHJ7yiOHzbFnKheeBvlCSN0K35Y7wiC5ZxIsER3SuoQzjyQ6CGM6A197eUDSohwUPyjURQYKgm4vQUEYTw/ZK7ezxK2I43gG99XVg1vfUD/LpFyhDDOeEPcU04tPMO2+GZE34CYVpCP/0BBfWjURNbfL7MUf5vX2fLIC5iQ56HedyvYS4F5jVmG0nyhDDRXF4urIlZM1sse0fDPWVKobFKEgJh8vDi1gxsCFUGStMOOlJStZPyPmKI2NrgNFrgNnHXyM4TczJOi+AtgEpT/t+cZrEz8Qw2w4UvMVM0gaYt1xDatnPKELszTmoXoXdEGAHRjasCTsHXoglPViBplWaY9nm5ejXpAFGHvr+w15l8XJ1Exjr1ME2bqsjMZLeYm03TSh3WIm3Uq760/YW0CxNDNezww2ph8nx2or6mpqwHH2Ri5eEGGYraMEnrOtgCTmLKXAtT9/lH1LOBXQZeL2mI3QZVTSedASfxQY6Er3f4MHt5wgviMON+a2gxpii27q7CBPV3vRvODutGZQr6KP79o98pQ4S6yH+SAw/4iVUitsR9DZloFt7JE68FXv/mRGBtzeu4cO3UFyfTRpkvVqY/1Cs8uSE4eHmQbBQZdBi1TNhUU0Wvu7rAUbdHEMOS1b7XL/TGFhNGSo1emPXk68Sr9gzg9/h3o0rIB1fQkK5xDD7WJnvD6MX6U0aDdkP8bGnJN9bmNxAFRqGHXDCj3fHqa4n0Y+EtRi0G5+lPF/yVZEYZudfkrhGPMKipsqQNW2LDXdL3jmkfbmBKU21IKfWHAc+81I14ePB3yaGvx7uBU0NJXTaLf6eIxWfL69Ac30GZoN+bWSY6yAW+GF7N2vIKdXEDEffYseUG/oe+yc3IB2hyhj+O8QwcRYZXofRWo2Bls1YnHodITG6lBH4AqevPkcQ9+osH04TTKGtWx/rnMUKe7IXTkxrCE3GEEP3vOGEUsHXA2irLwu1+qR8OodKONa0r89x9fZ9eEXzsX+5ujmMFAxhd4VfKFBMRCliOMIJA6rpQKPFKrhL6JFSFtBlfMQKW1MwanUx55IPCcGTHfwEyztagtFpgiV3hQv/p8XwxrdcHLOCb2JCZfKMlfpg+11vCYGQHe2BOydvwCOVpF5RKlx/KIZJP/rMCFgoyKDWAHs8CRB3HrkIeH0Ht26/RXhxL60sivDlErtBP+korL0vWVZSPmBhXSXIaDfHkpslDXq69zXMaWUCRrcTdr3hm9rYG5NRUZHU267rIBwiJMP19DROIFgN2wmP4uoVjcc7lmP+zEVw+lzOUa+iAnge7E4abhU0HX8AbyLFHy4b/s/P4coLH8QKBa8g8DKG1teCfrdN+BgRiycr25A6pI9BRJSJnrEg5Cx6VVRChco9sft5SEn9zAnCsyf38NArA8luO9HJmO3IT8Spd0ES9S/e7zXuXLoDH+65gnBmUiNS9tpi60Oxt3fpX3BkdF1UqKCF7nu8eb+f6gb7vrqoUHEIzhUvby8/H7Z1gjnxr0PPSI7kl0sMX2B7T+n4sL4FGOUamHpRfMQmAe/3j0UlTVlYzriMGK4ZyYHfBTuoK5igt/3bHwzE/JjYp/booFIBNSaf49dGiCjKxJOfieEZV4VRrgic7G8GGfkqGLHzIcLEnUtuBF5dvIpnniHF9b1MyhDD7BvMq3NrkXQxQ/+118TmnxPyE+Bx7yRuuicgPSMLH28cxR23YEmB/420XUS8qA3YC29W0XrYo5aWKoy770KQKOGSP+PGuiGopUfqyuAtZcwZTsa73X0ho1wJdsel8rkciM8Z5vrLMR9w6ewDuIZKduq8jo4kftwIw/e/I57jJ6S7YfsAQ24q0El+DTtHYeo3XJ7RFApquuh58HeODC+AC1eV0vBgXm3IVDBCj5VX4CvxCIn4ePMS7r8NKK7XWcHnMMBCE9qVqqJJzaFwFBXxxMeYZ1sXVpam0LAcjL1EyIi3fT/Dc29X6GnqYZD0ApocT+wZXpm0L62x9YnI+eUh6PEBjG5iAAVdKyx/KhQAIob3DCFtlGV/HHMRK7GJH2Dfm1xDzhhjL/MrNLLFd5Pgfp6Jdxu7ks65BppMPAQ3iW0w0uD98A5u33fj85sjDPf2rsOs6Stx60tyubVDOcUw21Y+xsJW7CtyVdRu0xODhwzBkIG90LpmRdTvOBcvyR0zA50wrp4GGEVzNOk6GENImD7t65NCx0Cj6Ww8ihGiFXQbE+sTgdtr4/dieL0N1PXNsOih4CxzEvCQJIQRuYamdTP0Yu87ZCB6tW8CK4NGsH8djW93l6FWBSJyqrbGAPb84IHo0a4hzDUVuFc47dc9RwyXqAWIfb4SVcgxJdPG6MtdaxK2OriRyp0MtwMjYUGuo2BWF+17D+LiP2RgH7RvaAWLum2xm6sICbi1pCOUmOZY/50YPoaOMtqoNfIc1ystTHGBfT+S0cqmaNyJv97Avl3QooYhKpA4KBt2xslvfGHJD3+Cxe1I2hGHZNOVjdcQDF57GSHJBci9PQ2aOrroskd4bVuUAV+nmWhAKr2ySX10556jH9rVZfNHFs1m3xKel20nDqArIw+b8ee+E8MnB1WFtnz55wxn+RxHdxMFyBg1QLd+bP4ORt+urVDdhMSbPE/l4WJzhlc2hpFqRaz4TgyTCmvAoNaYo7wYJmfDLs9AdSUGDLlu5/78s3RoVIk04uzrrBoY9Sti+Mpc1GbU0X+btBgmyVYYj2eru3LlUbFiU/IMfJ4MJuW4XX1TyDWegUfclmlFuDrVAipySjCt2xo9BvD50bdtLeiQ31p0WIWXMaLmIImbk8ZttVfRBp37lpQb2zqm0Gk1GueE+bQxlyfCmohxpUqt0HswCTNiElbfCgXi3mJpGwaqbebgkUgM53hhPTt/jNFFw459uWvazdmLT7l58L40CcaMJUYcEsQwScOoB2vRQoukl0E9dOrHxncgOjWyhAwjh1rjjsBPpL2+nUGvGvJQG3roOzH8eElDkgctsO4XxPCZ8aSBte6D49Ji+OFCmBlooNmG17wQyk+H24lRqEbSSU6/FjoWp1NfdGxWDfqKPXA8nG0OSbiNbUnnti4W3P1eDCPVCzuGW3PlzaxBW/QZxOfNoL6dUN9CB00GbILrT1s3npR3B9DHnEEFw5poJ+TxrBNvkFJQiPBbc1GXXUNAfExP7h4D0L42aRC5NzKOCOJbbpIG/jg8ugY5XgHWrbrzfrFPW1TRIb81bIWNDyNKGtsoR3QnApmRaYPjfqIL/JzC+PdY2cWAu4dl0y7ox8VnMAb26oh6pgqwmX0J31h9k+OLfX2rQVazA3YKK5MLiLBf28kUMvptse15qFBeUvF+11DSuBBfZ2mDbgP5Z+/XqSFMq7bExDOks1YUhzvrOkGfhFG3aoSuXJkiNqAHWta1QOVaQ3GZey1FxPCMVpAlYt2idiv04a41GL3b14Ua+a1u5xUli/fyw3F5UVviO1VQuUk3/nqD1+B2QGK5Gueku3NQm6SffMXmfJ4Ms8Piy/6kQf2EjV1JvWo6AbekxfCJQTDRlsfws9xQG6Kfb0Qz4jc1LJsK/p+0JZ2awkqbbyuqz72KGE4rFiLWZQ/ayJN6bVgH3dn6OmQY1p1xFt4ylk2u32VMaKQERqMyWvZkfzsEQ7fdR3xaBpxX14OKUWWs/k4M70UXCxKH6Vcgmtab5L4ffcxYP2gEm069MIiLM0nfzjYwV6qJKaS8lst7EzG8rmtFMFWm4LG0GCbpkubjhOH12ekjmqjdTnSfgejbuRWq6VVA7wPfkJScgoN9FaFTuRE69OjPl3ViXRpZQEm2Giad+MRPpchywfJm7PQJAzTpPpCLb89WNWAgrMmpMlRcDK9GFWMV1FlOxDBXCPIQeG8l6pJwGhUbozd3j9HYccOzHAvoiRi+vgCNSee02yZhAd3nXWihb47KjduiV39ekwwZ1BkNzJWhWHMEznqXw9cVpuLVziGoyCiiYoOO/HMP6otOLWtAj10HpKCLPod/Yc7wnfkwUDJDW2FdTzFEDC9qQzrbdefjvfAGPifgKsbUY/NFA7Vtuxfnf78erVBFSw8DNz3i14IQirK/YUd7RRKW+Pzhp4uPs23UzcVd+Pa05Uq8jvy1jmjK06WoqkrqnVkTwRdOxpoz7qTUZMJl/2iSLqTTXEvQXv2IHzbk51TL6FYi7b/QchMxvH9MNTCyWqjUsD36cvVpEHq0rsytbag8bC9EW6Bn+l7DKOKXq7IDg8LP82OfY0UH1gcqo0rTTujH/X4IBvS0RU3DirAdc6yk0xl0Bt3I7xnlbrjonVrujmy5xTBLsu9d7JzcAaZsogqmXrcn1jm8F+at5CHyoyPm9aghtohNH60nb8cdLzGHF3AL42uTwt5tfcl+gxy5eLW2AZS0jDD/QUmGFSQH4/H+WehgwTsszlQqo/f8Y/BMKkBhbhyebBmLmqyg4s5XQLW+i7Fr+XDUJAKh0dLHEAbnkJ8dimsr+sK6eDGbNnquEXZwyIrA68ubMNyG9GBE9yGmZN0cU7ddgx9Xb+Jxc6Eteb7GWPtYckpFavAR2DJqqDb0jLCALp/7yMCsTpYl19OsjzErD2FOO3Ui+lvjyBchqwrT8e3hZvSpLrZgov16+MQXovD2ZKioa6DDLrE5jKST4OawBL2qq5SE12mMSduv4ovYe/U4t33oSM41GHNGamV8JI73syYNViecjCifGGZ7aD6O67ipJ6J76jQdhfVrF6GrFf/6S7SbxLNl9aGnYIqlpMcoIYbdz6APadCqjTyM4n5mbjSenpiPVkai68qh3qAZWDy3F3QZcwzY+a7cYtjv8ixUJ4Kl95Zn34lhlqLMcDw6vBz92E6b8AysqdXsjBlHngkf5sjHlSkVoa2uh4at2JFgUTgNtBi1CU+C2L1IxcgMxZNTqzCgvq7ENTWqdcSMQ48QKtI9aV9xfmlPmMmIwmih494vpH/1FotbEmHSYiYeFm9KkI/oF4cxshE/J481pcrj8KSgAL4OE4hIMcOQA25iIiINXjd3YHA9fk43Z6p1MHStA9w5kSngdwrdqpAGfuAB+EuI4Sg8WliXiFAbrHlWXjH8FafGEMFu0QNH+X22isl/MI+brtNonbPYdJoEuDtuwshWrMgXpQF5LuOWGLv6GhF0bKqm4MP6lqSe1MTcO6W96CRFP8IVFzbaoUlxeWFNHtZtR2H3He/yiQOW7Dg4H56AxqxAFa5TddYV8GtL0uB2dg361VQvuYd2Y4zbSPxArOTrwvzYdzgyvxvMSEdaFNa8/QQcfPwViWLJEnt9Kiy1ZVBj5l2+of4FMsNf4ODSoaijXnIPhjTOtbpMwrFXkcgm/73a1BGGMsoYuOuj2GhhEZLf7UFnE9LZajgHt0S9ohxSD04uQfcqYv5D1hwdZxzE6xD++YqSg/D05HL0rqMldk9S52t0wfxDjxHFPVsgTk9rARllKzRpWBvGxX5VBy0mbMP9IPER8EKk+D3A0t7VuMEAPlw77P4UXS4xjIxAXF43ANbFC1ZV0Gwzu8+wBzZ0YiDbcBxuSjo5+B3rBwPSAR18KorzIUW58fhwYAps2M6KEAeTdlNwcMNE1DKSgclkB0QLiVeQE41nW0ejBhHPorC2Cy9z8xp/Sn4KPK4sRceKFYp/K9f/ICKSMvBmVW3I61lixXMhrEDOh93oQPKp8pTLCCrWq/mIenMeq0a1EPNDxOQs0WHcduKL2K1Fy0GuK9Z0JO2a1UQ8CpAWwyx5iPO+jg0TOsJM/D7yemg1dDFu+GSioLAAX25twPA25pILkY1tMX3/S0QXTx8oQMzLgxhtU+K7dJqNgb39SvSuRP7dg7T7ImX7YgWs9OVRY8nj4g9b5aUH4fqyfvxevJwpof920b7BZRN2bS7qk3rYacNzfu1N+lc4rh+DZmakY1J8PQZWHSbhzJvgcvuKvERfOJA6blJ8DXU0GbECB+d3hqK6Drrs9RJC/ox8RNyeA21ZI7Rk9+oVJ/MV5rcggq/mHLwtfr1ViMTPt7BlahdYkI5ZyTPoo+ngJbjuEVfiXwsy8HQZ6ZgrG2PYGcn9MSNJJ4EdPLOY6sh/qOxXyA7DtfUDYV28wYAW2ix5yN03P/Ezzs3pDGNRvBStMWDBHmwdWxVKuqZY+EgoE0QM7xtZBYxBVTSuV4P7BgF/LSN0mnsQb6OLnwKZPlcxzJiBdb+d8BJr+FO/PcfxxQNRVVP0W9bUUKfLbJx4GVj8VjbcYRJqkjrfYNEDSH+/rSx+SQyzFKZH45vnR7i4uMDF9RN8wxK+m3OTFRuMzx/JeRLGzcMPkelS1TUnGcHeLnD/FoUMicgWIT3SBx8/eSCc2+RbnExE+3vDjb2viyvcfYORwH3BTaAgBUGf3fh4uXsjNJlcOC8RAV4u8A5PLfm6GKEoJw7fPISwLj4IiRP/UlQhksP9ue3ZuPNu7vAJjER68fBOPjn/lcTDF5GpkkNQBUSUf3Vxx+fAhJICSkiP9oeHEG9Pvwjua1tZEZ749OkL4sRH/EkTFhvwWYgXCRscB/arz0XJIfjo7g6/GOnRpBzEBXnjoyj8lzCJecks7F7QfuScT1CC1OugPMQHeMHd1Q/xpXwS98fkIOqbJ1zZe7p6wC+KuJOiHET7ueCjWH6mRfjgk5snIlIlRVJBZgL8P7ngc1Cc1Ou9DIR/9eCvS/IvPCUbuVkx+OziAf+Y8n+4IDspjPzmI/yj08oQ0HlICPUl8WPTzQWurp7wDYlF8QedinLhaGcGfcOm2PE6FF+F8u76yRcRKZLPU0IeEsO+4tNHVz7/3DzwJTgGmdLBSf35Kip7n0jZSyK5kp+O8C+krnwJRap4wSFPEB9C6gMb1sUNn/0iSS0oQlZiMD65eCIwTro85CMx5AvJU/65PvmEoPgjRSKIIP322RUfA+KQI55ARXlIDfchcSLlWnxOXFkUZiMhyBMunt8QL/Ulw6LUMHh8+ghfUj6kziAlUqp++UehpJjkIyPqC1cGwn6Y1oSCNIR/88JH4VldP3kjMJrUc+F0uclNQYiPyJ99xLeoVLFPfJI6EuxbfA8PUr9++IGarFiSrsJ1SLlny58kWbg3txH0dZtgu9s/XFCXm4QQX0/BB5Jn9vRBKPFdfJQKEPvlA94Tn8y/5hejiPhOv/dwfu8jVR9zEBtIypfwfO6fAxDz3dZTJA1ImfIQ6orLRw98DYkT+8olO2e4IRj9Xtj/wBcB3nwauBHfFvGDxMqIDYCn8AwfPVk/Xs7yxkL82TcvIZ3dPyMogbQ+BZmIIv7HzScYyVLPnh0fAA93VwQmsB8mEShMR5ivO38NklcB7ArVwjQEkHLwKTix5FPlLHnJCPQStRVeCIpJIyW0nBRmINKP1A/2t6RseYclcXsNp0eSduyTFyKkikhRRgz8PIhvDEkSvlxZQn5KJL4QP8T5R+LPPbwDEZP2C6W9SIiLVwhSpb9TLEZhWgz8vYS0Ifdx9/ZDVLL4fQqQEh0Ab3dRmrjB81s08UvSFCKp2Hd94tsJ4i+4dsJPrN1Pi4DXJzd4R0iO4BVmxXFpwd+DtOcJRIwL58oiNzkMPqSs+kWJ5VNeCiIDfOBeXIa9EBhT7i5zMVz+ePLXcPX4iii2sc2OIu04eb7iN4U/o4hEJ4y0PaR9iJKaKkXKZfgXD7h4hyFD6jOERRmxpG65F+e/+2c/RCSLrY/iKERmjB+J22dESAmBoswY0u64wJek8y/7SJYcUu9Euo/45qDYkja5II1t0/h0+Uh0GVsHCxL84C6u49LYOcMmYOqMwmnnUJKOfDvp5ukH6Z1dC7OSEEiu5xUQg+8+EJiTiCCSRiIf+NHDF6EkLiVlIxHXZjSHpkob7HEp//ZxLL8shimU/3k4MczuJtEKR8WnR1Mo/5TsV5hdzwiVhxz7pZXcfz7CAjqD/jjtUdqII4VC+evhxLAxt8/wDaklM7+TooSHmNLYAFWGn8C3XxwBp2KYQpGGiOELI7Whot4Qe4Qv91Ao/xLeR9GvaVcsvxNcrhGu/z8E4Pjo6mDUuuKw5DdZKRQKhSf1I7b11gRTeRgufRGO/RvI/rgf/Vv2wIrbAb/sZ6kYplCkKcrD/RVt0bzVcDj4/29JF8p/iYJcZGXlSH0G+H+BMFxf2R/VW87AFa9yzjWnUCh/FxlfcHZOa1TvvRQPJacz/1aKOD+b+4/8LBXDFAqFQqFQKJS/FiqGKRQKhUKhUCh/LVQMUygUCoVCoVD+WqgYplAoFAqFQqH8tVAxTKFQKBQKhUL5a6FimEKhUCgUCoXy10LFMIVCoVAoFArlr4WKYQqFQqFQKBTKXwsVwxQKhUKhUCiUvxYqhikUCoVCoVAofy3/XTGcn4m4yGAEx6Qgt1A49oeQmRCO0NBIpOT+ynf9CpGbGo2g4DDEpOYKxygUCoVCoVAofyr/XTEcdh1jm6hDue92eCUKx/4IinBzZlUYG9pgt3u2cKwcFKXAa6stGMYQnXZ8FA5SKBQKhUKhUP5U/rtiOPEhxjVSgEzfvQj+lQHY/wCP5lhBV7shDvoLB8pFFsJur0O/wZOx/laAcIxCoVAoFAqF8qdSbjGcHfER92864UMkUa1Z0XB9dB1OTk5wuvkUPlE5QihxipD0zQX3rpMwJNzVOy/wWSxcUUoIPjgsRBtrBcg2GoltJ/lwV64/xbfkAiFUaeQg1vcDnt68wt+ftSs38dQtABlCiPKQGf4Jj29fFa5xDfff+CA2g1XkuQh5fx/LuhhCQ90Ko+3PC2Hu4JVPIlCYiM8vrsHppR+yi4qQ+PUNbpLzjlefIiAxC2khbrj39DW+xOfxNypKwbe39+B03wup+UBG4Hvcvcpe7wruvvFFSqmdgBR8eXMfl9n7Xr2FJ+998fn1Hdy654yQdCEIhUKhUCgUCuVfptxiONJxHMwUGVQevBILx3aEDsOA4UwBDYbvwNMw8ekEOfhyYyfG2BgKYViTQ7Xu83HuRSBYmVjkvh+dTEXnxM0ca96Vpfi+4UCPat/9TsaiNeYdvI+w0nS5OEV5iPpwBHYdK0peQ60Geq64hrC0UJzqriF5TrDas18A+W+xoKUcGMteWLZmOfpVVxTOm8P+RQjc2WkSSpaYdDWGv1+hB7b2sgAj1wjTFi7AqAbqJdfUa4J5h1yJ9C2hIN4bt7aNRH3NkvsyGlVRXZ+BnG57nKADzhQKhUKhUCi/jXKL4ZgbM1GbCDJWnGlU7YAx85ZjxQoi7jpXJ8e00X31YyQJYRNc96OfmQwY1foYNHUxCbcCc0Z2hCX5rVKtcbgYkAXEeeDKliGoYyyHClU6YNL8FVy41RuO4l2UMKpaKjF4eWIXVi3nw7O2dMYItDEjcdO2wdoXoliUTk7scyxqpIkKhs0wdt5S7vfLF83C6K61odx4Eq57RcLv5gGMaqwNFWUjdJqwRLjPdpx5Hg6kv8HKPkRIVyACXLsK2gychmVcvI/BJSwOnju7gjGog9m3YvkbFnpj7ygbXtTK6MKmhx0WkbgvnT0azfSIwDXvjlPfhMV2RfF4vK039EhY/fo9MX0pe9+lmDmiGyqpy0DTohfOB/NBKRQKhUKhUCj/OuUXw9enoyYRb1X7rMEtT0HoEbI8zqC3EQPzrqvxgRscjsDp0XWhwFTFmGMfSqYu5Ebi7oauMGB00WnlM6Sxx5KfYGJTFcgPOIAwLtA/J+DyOJgypui26TU38lw6RYh/vx7VGU3Un3ZXOMZTGO+NB6/cEBqfz/39dEEVGOo3wdEg7s8S4p5jWXdDMGatMPfkW0RIjESnwXN7Jykx/Bl7htUBo9kIE3bfR0DxMHAmXq9qAUbDDENP8jfJ8D2PkZXloW0zHhe94rljHDkR2NlNAzoWXXE2UDhGoVAoFAqFQvmXKbcYjr42DTX0GfQ6GiocEYhzw9r2DNRaTsdDdkeI5JsY21ATTIMVcE/lg4jID72P0SYMKnXfDE92rmzENYxqpAz5Xlvh+Uu7SRQhyecZzu9dh9kzp2Py+DEY0KMxdIkY7rLiEbKEUN9ThAx/JwwzrQDVSh0xZ9tpPHH1Q8J3G0YU4cZ0a+jrNsTOj1In419gaUcNMK2W4p30IHRRaulieFBVMBXt8CicP8RThLh786GjaoH2W9idJ4rgc24qKpPOwqD9LuAluUBRJs6P1IFexa44Q8UwhUKhUCgUym/jl8Vwt93ekJjRG+uCtV0YqDSfgvusoA09hz61FaA87BACpMRwXtgbzKvLwLzDCrxnxXDkPxDDmZ9xdMFg2FQzhbqcMKe22CzRc/VTlLkZWkEGvjguQUd2WgWjCiPL6mjYtDU6j1qJK59Eo7E/EcOdiNhvMQ/PpIezfySGB1cjYngUrvtm8sc48hF5bxGMVSzQdjMrhnPxes8gaDF1MPfKNz6IiLwUnBqqTcUwhUKhUCgUym/mXxfDMR+wphMD1RZT8YAVtJEOGFhXCbK9duKr9MhwmDNm1WBg0WkVXMTFcJ/t+Fz2VF+BIngcGY2qMgwUavbDol3ncPP2Q7x1+YC7J6egMmOMzquelC2GOfIR4++O1/ev4Ij9PPRuYgY5Rh76tsvwOJD/9U1ODDfC7k9SK/LExPDTf1UM310AIyKGbe1ZMZwD592sGK6F2Zf9+CAiCjNwdjgVwxQKhUKhUCi/m98qhu+z+q/ABas6VASj1gcnPkkq3PAX9mgmp4hGY0+DmzGQ9BQzW+lBpdMGfErmgvyEMBwdWAvyTDvsfBctHONJcFmH2owROv1EDBcV5CFXYg4CkJcejAvTW0CRqYalD/gVas6rbWBg0AD2LlJfkvu3iGFX8ncRvl2ehzqMLDouuw3h1zy58TgyUAu6EmK4CAW52UhPS0NGdh4KS92ijUKhUCgUCoVSFr9XDHP6tAAf9w9HlQoyUGuzBNddgxEZGQmfh4cxro4sGE0bzL0WSqQcIecj1nWzBCPTFKudXBBBwkVGxSH9h59AjobjpOZQYXQx7tAT+MdEIyoqCO73TmFeVxNUYEzRfVVZ0yRyEf1yD0YMWIzDd9/gW3AUomNiER/2DGt6W4FR7Ih9H+K4kL4HukFNUQmNZzvhcxiJV2Q04tlPLCe+/DeI4ff8kS9OmFCPAaPdGWsvu3PpEf7VGedX9IeFAgN18544V7ygLxWvD05FLQMDNF9wHl/FL02hUCgUCoVCKRflFsNRjuNhrsSg7VYvficIEdFvsbQFEXD1xuF2pHAs1xdHxrWBkZKcxJxeRQ0r9Jp7AQHF39TIwMutI1GDCD1RGHmtNtjn8SNlV4Sk17vQv54qEb6i38hDw9gClhZq5N/asF3ysAwxXIB45+1ora8OxQol92QYGShpGaH7Ckewu76xZHsdQ7dK4vsNW6D7RhfybG+woEUF8rzT8DCED1tMUQrcN7UAo2yFyddE+wx7YltPUzA6A+HkLf5ZkHxE3JwBVRJnm7VvhGMpcN4/FfU1RHsXE5NRgq6xJQzUZaFt2RsXirdWS8aDdb0gS8LoDd8Hj7K2ZqZQKBQKhUKhlEq5xXDCy+0Y3qMF5jsGSe7WkOiDE3NaoMPkbXiXIBxjyQjG430L0LudDWxsbNCq21hsdHKX+MAER1YIbmyfim7NmpBwTdF54ArcD5eamiBBAcJfHsH0vrZoQq7brP1wrLr4HJ9cT2FMi96Yc9wVZf0a2Qnwun8Yi0b1RKtmfNyadRqCFadfIk7ih3kIfLILdt1ac/exaT8S624QJZrngyNzuqDF5L1wk5jLQCjKQMDFOWjRYxR2vxamiBQGwmnlULTovw4vg8VlOhHmb/ejV/t+mHHORzjGkoZPTpswqjObHjZo03cOTr74hKODDGFSaQRuFC80TMfHi2vQs0ULDN16G0FlzQ2hUCgUCoVCoZRKucUw5b9I1F1MrqMJ0/ZbIbW0jkKhUCgUCoXyL0DF8B9GwtfXuHHqNM6cOYOzZ8/i9JHtmNWD/XS0KYae+iKEolAoFAqFQqH8DqgY/sPwPDoWlYvnKQumWRcD553GFzovmEKhUCgUCuW3QsXwH0ZasAtun9wJ+y1bYG9vj6079+Hig88o185zFAqFQqFQKJRfgophCoVCoVAoFMpfCxXDFAqFQqFQKJS/FiqGKRQKhUKhUCh/LVQMUygUCoVCoVD+WqgYplAoFAqFQqH8tVAxTKFQKBQKhUL5a6FimEKhUCgUCoXy10LFMIVCoVAoFArlr4WKYQqFQqFQKBTKXwsVwxQKhUKhUCiUvxYqhikUCoVCoVAofy1UDFMoFAqFQqFQ/lqoGKZQKBQKhUKh/LVQMUyhUCgUCoVC+WuhYphCoVAoFAqF8tdCxTCFQqFQKBQK5a+FimEKhUKhUCgUyl8LFcMUCoVCoVAolL8WKoYpFAqFQqFQKH8tf6wYzo31xsv7d3D79m3cfuaKwMRc4QxFRFFaBD4+v40n7iFIKxAOUv6zZIbj/ZOHePAxDPlFwrH/TxTmIdTtPh4+dUFElnAsMwaer27joWsAkvOFY7+bvAT4vnvC1+/b9/DOPw55/zT98tIQ6HoX9165I0r0DJTfS1E6At48wsNHHogt/P9Y0CkUyn+aouxk+L68jcdvfZH4h2uUcorhFPg8uYnzp0/jtMjOXsKdTzHC+d9JETJCn2D5gGpgGEawBlh4K1I4/xsgjaffyws4d+MpAtOEY/8qRfmI+kjSyOk6PP4dyVIKhZ9Po48ZA61+e+GZLhyk/Gf5dhSttOUh2/sIkvOEY2VShATvB3C45IgP4f8upfkL5CRgXzcGCvrtcSZYOPbtCkZWYaDUZT3epwjHfiekA/F4/0jUUhHVbwZm0y8jrsz0y0fkxwdwPH0LnnGZJBXFSPTE5s7kOlX7wSFIOEb5vRR6Y10jVSipDsWt7ELhIIXyGyBtZ6CzIxycHsAvRaqjVZSIz8+v4fSZx/gaT3u6/9/IC3uDGZUZaDaejed/uEYppxj2xMq6amLilDf9afeE87+R/HjcnFsbFRg9tBw+DQsWLMCCtYfxwPc3tsqpftjdkzyDWXsc/yoc+1cpTMe9ORZglA2x5Jlw7N9Moc8FDKtOhMSIw/DOEA5S/rMEnEYXcx1oDT2FlHKJ4UK8W9cQjLwC7K7+AZmWk4gjA9Sha9ULF0OFYwE3MbE+qd/9tsI1VTj22yhC9IO1aKXDwLBRL0xm6/eC+dh+2xsZZY4cZOD2rEZQYCyxzDmUpKIYSd7Y2VcBSg1G4EqIcIzyeyn0xZY2RtA3God7VAxTficFGTjZXwGyyg2xz0eqbOW9w5JmckRv1MKGlxHCQcr/F/Ii3mNBPQambRfD+Q/XKOUUwwlwvXwCOxYNRlUNZSiadcTsTXtxxjlMOP878cNaGzVYtN+IAOHIb6coAefHaEKp3iBcTxCO/Qber28ANbOa2OYpHPg3w4nhGgzMqRj+7xHlgO4VdaFdbjFMSviBTtA1Msail8KB/yacGNaAnrWUGG7AwODfIoYBt90DoaVgg82vf22k583azjBmGmKHr1Rh58SwIpQbEjH873BJFEEMG8PAmIphyu/n5kRj6Jt1wkXpt6qFCfB8chnHj97D59hM4SDl/w0pnljSkIHZ/44YFki+ht7mOtBotg3iAzDZoW9xcK4dNjp6ICEtCDd3LYLduHEYP2kBdt3yRnnToDDvM05N74ca2irQqtwOoybaYdy4mdh2wQ1ZyIXPnWNYM2MCxo8fR44TmzQL6w/cQWBpdaQgAe8u78aiaXzYSTPX4vB9D0THxeLprqFoYS0PWW0LtBkoXGvcMpx/G0zu8k8ohPu5eehdTwdyKppo0F10zTnYfdUb+YjC7e0LMXfPfYSJJ0ZRJgLvbIHd3LW48lk4URiG+/uXwG6lE/wjQuHisB1zJpJrjZ+KlYfuIVxMcJUlhuPcr8B+0RSM5+IxC/bnXyFaeuQtJwSPjtljzmQ+vuOnL8Xei68RnlW+yT358V9wfrkdlh16hqisZLw+uxZT2fvNPoq3EaIIJcPNaQcWTmHzkj23Hhdfh0u+5iZkBb/AkU3zMZmL7zjMWLoDl94EI5uLShGCnx7GIrsluOYbjmCPq9gydxIJNx7Tl+3Fo+Bs7hoSpH3D7cOrMI273kTM3ngcb0Mlw2UFO2P/bFJunTyRmBYoVm4XYvcdn1LLbeKnm9i+cAIXx8kzV+Hg3tloZKwLvRFnkFoOMex7bQ2GNzOCopIyanYczafJuOnYdOI16XIKZEfi6dlNmDOBPWeHGSv24P6XX1SlhRnwe34CK2bNwEQ7Pk3HT5iGZXtv44v4S5bfKoZzEPLiAtbN5dPHbvpyHCTpWFI9k+F5cxt61jNBBSVrtO0/lkvvcYvO4lN8jhCmNFLgcsEe/esaQ5nRQcOeQ/h0s5uGFVf9yGV9sbufIlSbT8C98Hx4Xd+BeayPGE/K5p67pfuHZB9c27UEU7j0H4fpa07gbVgp5einZOHLzb2YP4W9zngs2LQXJ84ewuJJS3DkSbBkOc8Nw+PjmzCLrc/kntMW78BtH/HMKIT//f2Yb7cStwPjEPPlJuznTeauO3XJXjzwL21OVwo+XtuHRVP5a06cuRJnnMMhXoNj3Z2wxm4Wjr8NRXLqR5xdPYsLO/nwK6SkReOjwxbMmzWZzwti4yfPxbbLbxErPovnn4rhVH/cP7QWMyaN565tN2sFDt50RYxUPyg3yhVntszDJC4Odli41QGfkoST4uRH4IGoXtvNwfr9Z+B0dA0mL9yCu9+EMhTvgkOrJ2PlxU9IFH8GUtbfnJyDycu241WUcEwgM+Q5TqydI/jLKViy5zoCxMtNZiBu7Z4FO/vrCExKgefVbZjDhh0/BSv33UdwKf26wiRPXN27XPBBEzBj9U7ceh+KdPHMSf2Cm3uWFpfDaauP4XXoP5gOkB2Ch0c3YKZQtmavOoIngZLvpbO/3sbm+Xawvx+EaP/3OL6ePA8JO37Wapx7GfGdT2aJcb2MbQumcNccN2k2Np9/i3ix7C+KdsXxlSS/Tn1ATHIyXp5aybUBE6cdh3taOkJcLmDt3JmYJPigcXZTsGjHVXjGixIhHi/2zkenyspQUjFCywFCuHFLcPAh65ASSLuyDUt2XMe3BMlpZVEujti4gK0fJPyUxdh70w3Ssyy8Lq3AvDnr8SI6C+Fvz2HlNLYdIu3G+lN4Eybtc3Lw7dExrJsjXHP8dKzccxEu4Vmlpo0k+Yh2O4+545fhyCvxKZ2RuL99KaatvYbgNFHCFSDewwmLpy3H0dfRwjGWNOIfD5LjfBpMmLEcJ16EoJxjLBxZsc+xZfpC2N/xF44I5Abg2raFsFt9Cf5ilSI/2g1nNy3GFCF/pszfhAtPfZEiUcULEelyifgioRzYzcM2x/fE83xPbvgzHFoxkwvH1nX7jfYYVIVBxXZL8Lq0BvWHFCDinSM2cO08udZkNn89SAsiRlYMnh2ahqkbTsArsQC+d/ZgAfsc48dj8c4b+PqLTeavieHAM+hqqg31xmvwKbukeKS6HEcvbQYyJjZo37E+dMSmUsia2WD+jaByFCby+Fk3MLhCyW9FVmfURaQjDPsH1vjuHCNvDNvRu+AmnjOx73B4TgdUInESDytXsSkm77+D9a0lj/OmieGH3pRbuEuSD4cRSqVck0GTaTdJFfuMZTaqkG+9Bq7iI9FFiXi9oj55BivMuCmcyHfDus6m5LeGaNbMBlXUxK6nWBF9F19BmFBQSxfDGfh4cjraV9Uu+R1rauS3ay7iq8jPprhh96ROMFUUC0NMRqMGRqy9g1ghWFlk+z/CBCsGFUyaou+Q9jBXEl2nG456kmKb/wUnpnRHFU3Je6hbdcV6IkBF0iPZ5SjsOlSEvFgY1jRq9cOmB7yzeLutNwzIMRObZmhUU1MsnBwqdZuFm0FiLiPiBXZMaAwDefHrKcG6xSBsfVbyqi3l3RF0J3GTMWnyfbk1b4r5N8UnoKbA7cpadKyuL3ZN8ltVVSjIK8Fw7HmklcNr3Z1pIvF7kVXpfQDclN0Udxyc0wXm4vnOyMC4QV8sv/KFlLRykhmGC1Mtxa4hmKwR6g3bg3ei1XK/TQyn4t3RBWhXUV3ifnKG9TBk8SUEcG1fOC7PaylxnjOlwbj0razJ++E4NbLe978jpjPtEUmzrzgwXA9yepXRtmtPVBOv93ImaLfqHqLEdG7S5xuY376mRH4zjCKsm8/BLV8Jd1s2+cG4vGw4GuhXELsOAyU1RfJ/I/Td+rZ4OkdR+GOsHdsKJgri9yRpbDMKO5+KGsR8vFjXGVrkuFVrWzSvqysWVg6Ve87BPVEesaR44PjSPqiiLSMWjoFKpQ6Ye9G3uKx8dZyBquS4Zevu6NmzEpREYbvuQXDoa6xrXPLbYtOpjF4brqJYf/8DMZwX+wFbB9jAWE7y2rJ61THt4Csig3ji3u7DqLaVoSIWhmE0UHPEejwIFlOOEY+wdkwbGEvUa2VoKZP/azXEqmeC+PM/i64WDIztnBAiPrqRHoIjA2XB6Ntg/2fhGGmZAm5vx8jGZlCUuL8uWo/egnciQZ7ojGUdVEn9sUCr9u1RTdynEf/dbek9xAlBWeKJeJjfqQZ0ZMTCETOoMQRnffnCmOJzC4s61IKu2HmGUYBV05m4/jmRC1Mu0j5i18QOUr5cAWaNhmLT1a/FHaO0x8tQT4P4a8uWaFavkoS/1ag1APaPxKchJOH14UXoUFlL7JrE1Kqi/wJHhIqKgM859CdtAFOpLbr36C4Wh95wiAjFnZV1JX/PmR5q9duMZ1wPIhS7WiuXEkYF7da8J+d9sbE9qQc6Q3DdV9Q7yYf/9UWwrSYZNxn9qui25AzcxZLu1nQzyBL/WadjZzSoKH4fNdQYux1viztFqXDePQktTdm6W3JNthw2HLEWL37aIBYi/Nla1GRk0XTuXSJrBaKvYVAl9jpdcdZPJFLS4L6rMxgFa8y+IzjYdG/SSR2AanqkfIrdX6lia0w/41XuQbrkr7tQnzxb3WUvhCMCma8wpxEpvxaT8CKEb6jSv93EjPY1oCZ2P9bUTDtiwy1foX1OgfOeSWhTSdKvM5qVMWojEfhiriD8wTaMamUh2Y7LqEGV+LzKHZfidWmDEqWSBo9ra2BbSTp/a6DL7Av4miaoyZQv2NNfHkwFHTTp3Au1dMXuW8EQLRZfR+gvCLrfIobT3C9iTE02EjIwbzkC9o5P4ezsjBuHJqG6LANtm/X4VI6l9kWFSfj65DCGVNGBeduFuEqu4ez8Dp8DE0lRy0S4jxteOr/B27fv8O7dO7y4ewpzWpAMJiJx6g1RqY7BI/v+UCcJYtRhCg7dZq/hjIfXjmLluC4YuvcDwl2uYHEnImKsW2GlA3/e2dkNAbHpxY3Xr1GEBP9X2DOaNDR6FrDbL7rme/iEJKMo1w2rOprDsMcWfBL3cUVJeL+xLRjDBlh8XziR74Ftg4lAJvFXrtkLS/ZfxXNyrWfXD2B8LdLo6dhg2RPe7Rb5iolhoaClfdyL9uaK0G40EQevP8P79+/x/t1N2I9pAmWl6pjr4Ms5x28nh8NaTg4tZu/H7Zdv8Ob1azy5cQQL+/bB4HEH8IW/XJnkBL3EomakkLJirWEvrDh1j+QPee4PfojLzoDL3j4wVVCFzeRduPH8HReXtzd3Y0RDVSjXmojLX9hKGYpjg2tBXqEB5h++jldv3uD166e4cXg5+vTph0lHfLh7uewbg1psIVeoin7zd+P6s1dwfn4Lu6c0IGmljpZz7oBLwaJQXFvekWtY6wxegUvP2Xx4jNNrekOfHNNtMg8vhH5HqttZjKwulNtWI7BFKLfXDtqhKmnEdJpsgIfQkiR7O2CsJal4Kg0wbssV7jlfPb2HU+v6w0pTCTojz5ZrZDg55CNOT28ADW0dDNzyWCgn7+D5LZY4vAQ82zYMBqRDaNx9Hk7eY889w8UtJD5seag9BJfLu0CsIBsxfu9JPF/jzdu3XH159/wCZndgBbI+ppFywDm7vN8jhmNe7kIfI+LIDTpj6bE73HM9ubQDI2oQoUjybLwDO1KRi8RQF+yxaw4l9eaYf/Q+//yu/kjkXwH8gFzEB7piz8iGRMBWxoTD1/hy5vwWH0NIA5Pkg4Oj+U6GknkLTNruhGfs+dt7MLCqGhjl9jjqJTREyd44NNgUchq1MXbHVbxi6wex+4cno7a2IszHnkZwORfVBjlNRk22A1htGLZefMQ9y8s7xzCvf1USl6oYuc9F8CeRuDKzDdRkDNF32RHcf83f8+HZtehhzMCw82K84qp0Ad5sG4wqbDlnTNFhqj2uPCXl/Nl1bB3DDgQYofs2F0HcpOHdnjEwlVNC03GbcPU5f80Xt45gUn1lqNYYgIvfuIAIuL4crRVkSD3VRaPB83Hizgsuru/8YpCTk4Jgt1d4JeZXnS9vRt/aJC9VuuPAe0Gy/rIYzoP7/p7QVlKF7ZJzeEquz/qYh9cPYXa3lhi9/BK4saskZyxsZwpZ7eZYevg2nLn8eInzG0ajUgUltFtwjXSFWCJweXZbKJO0qTp0Fc4+ZPP/FR5d2IpJLUijadEWm18JYjjIEYPqKqDmrBsIE1cRGWE4PVYfilU74rgvf6jA/wamN1OBjBnxXyfvc2n4/s1DnFrdG3pyxui87iX/ZiP5HTYPqcKVMXnLtpi24zJXBp9d2YuB1kTgG7TGER+hjYt1w47BBiS91WE7YTtuvWLjSnza8c0Y17E39rhmoCAtAMeHE+GgVh0jtzrhJffc7/Hg6DTU01GEyYhjCJAe5iyVFDxe2Z0bKDDtvVxIl6c4u34MKrH1odlkXA/kr5P+YgNsSVxZodl4+HKcuMWWgyc4v3k0zElYi26r4SqU/XjnbehuLAetFhOx99oLPl2e38C28bWJIK6DKU6BfEC/y7BrLocKxF+aNBmG1afukrLkjDfvvyExNxsJpN6+EPdBLx2xpBdbltUx+pgbKcV5iPF1xpquOtDUa4BFF15yZdPZ2RVfIkh+FnhiW9/KRGzbFY/85/qeRU8L3hfPOXqTC//q5l6MbalNOivGmHDUhUhbnkeL60CDPBurEfosPsTnxbOzWNDLioStihnnfPiRV99T6GYtB9UWs3Hy9ku8efMazk9uYP/Cfug1eBzOlqNBLIh4jgUNFVGppz08hbYg/PJM1Ddl01wbdue+CD43EpcmVYNO3VG4ydX7TLgengBLBUU0HLUeTs/4svDy7knMsFGFatWeOPOlfMokxf8Q2qpboPWGN8IRgay3WNbeHEzduXjHDVxn4uZsIoSVK2LM3ut4wbW7z3H7gj1G2/TAnENPuZHf5Jfr0Ma4AnRazsYRki5cOSB5uG5ELVRQtsGiG8Jk1pgnmGXLdt4NMWDZUTxg8/DVE1zYNgfNScfRsv2Sck+TiPc4g2EGpFNi0BwzD97j8vflzYMYU48dBNPHyLM+fEc/3R8nJliQYwwUjW0w3t4BT9j73j+AEXWIT1BsgT0uCeXWdL9JDJ/DYDOi/vusw/No8ZYkANs7GUFLuzvOlXflfJ4bljYyQvWhZyWHxEslF8FO02Csqo8ma5y5IwXBtzGlgTzkm06C01fJ1M9Pi0UMq1jyY3FmNDtneCCu/MadH96sbUB6VTVg/1E4ICL7PVaWWwx/wtZ+pDG1GIgTb6IlXpEE3Z5LGkptNJ11mx/B9r1YIoa5gb4M3J5TD3oW/XDULVqiN5np64gRtbVRe8Jp0qwAzktsiLAwwoJ7krt0FKWnID42CWW9tBaRE/Qcs2qTxrzZRDj5JRaPQHBkPseM2oawHLQLn+LEhuWIO/C+QESEViVMPsc6VHcsbGAAxmwyHsdKOv+0lHjEJrMxKSRieBisSXyH7nuGWLEHK4h4gum1ZaBbbwKekTQo+HIBwytVgKrtAtwLFUu9/GjcWtgYssRR2F3mm9c0t9MYYMKgSl/2NZp4uf2GLe0NoKXbA+e5PlYSXm3tCSUixEbse4/it10swafQyULnl+YM++7rCF1DkvZPhQMiQu9gWlPi5OuMhaOPWJoVJhKR1BOySqboue9zud6ylE4hwq8tQAPSg2624ik/klXwO8RwJJxmt4QcUwPTznuIlbsiRH/YjQ6KirDqtAN+XMRz8ca+N1R1+uCU9GKZn/BqdScYMQ2xTSRsRSR5Y1d/FchX74bdztFi0zKAtxs6wFBBBROc+M5yrPMGNNUyJqLyJeJEb0lYchPgOKs+tMwG4VKA5OvlUin8jM2dLSGv1QP730WLOdwieDtOIvG0JGXVhT/iexxdK+mi2awL8BPvMRUk4OX2PjDWbYoVz/iEfr21HxEmJhh1gJ16xB3iSPLciZaMGmoPPg7uSUjjM7slqV+91+F1tPgT5yHg1jzU1ayIIaf5yWwBNxahoYwS2s48C9+k8owxpePJ5p4wZipiupM374N+VQwXZuHmNHPIaVfGileS3qQgNR7xCalcOQl2GIsqmtUw9aybRP0pSPPEvkGVoGszCffYzmvQafSsIgv5dkvxQnyuGCnFjxfXB2PaCpt+WQznwnXXYJjqNcZ8R1+kiTVR+XHuWN/VBCZNl8GVPZD6Hht6Ez9VYzCOOMeiJGvy8W59KyhrG8HOie84hD5YhcbyDBqNPwKfdPHaWoj0uBgkZ+cj5t1WtNAmYnsz8WdZYmFI5/TKvIbQMumHc+V5zxt+DcNqkw5fram4GyBWYAqicW9dD8jLWmPkYU/OZ2S9WI9WRJjVmnAGn5PEHjb7G06MsoKMcStsfM0mWCwuTWkK3Ur9cfBdrERbkPr1KkbV1ECtkef5kX0ihkfXlYFWh3m49TW5HMKjCLEP1qGFIYM6c64Vv+W8ZmcEfdOOOCe9Ri7fHVsFMXzPn833Irxa0xiqSloYfNBLLB+IP3c9gn7VGCh3WQtRH+7+/BrQU7fGrEu+Erv9BN9cjPqMDNovvcU9R+6TRaiiw6DagnvFQpqjKB1J8bFIKU+DmB2IcxOtoVh3GBy513xJuDK1JZr1G4kBjaui/tgTCGOTPdUdy1vqoUa/Q/x00/hXWNTOGGZdluF5ZAaXVzz5CHm0FI20zNDvSPlW+v9cDM/Duyj2DmHY2V4Z6kbdcJ5vDovJjo9HQjLpsBG/fnEU6UxUH4Xz7nFiWqQIqZ9Oob+VNppMceQGoYLPjEMVeRl0XHFLss7FfMD8Or8wZ7gwFk/Xt4c8aWtHHnCVzF/PI+huogaNVvbwYdMxKxCHh2lBrpIttjyL4jWRgNuOHjBXlCPCOaD4DfTP+E1i+CwGkMLdYOI5iL/FIzUSVydZQE+/OfZ/FndgPyY/6RXm1TdE1QFHSHaJU4Sc9FC8ubQHcwe1R6N6tWBtbgQDXQ3IKRii6epXXKjY55vRRlYGrRfxhbxUSK/88FANKNXug3NSU2v+MYUZeLysLlRNqmEtH5USsj/8mhjuWwlM1Wl4Vvwuiicr7DqGayqhWrdd4PrlxWKYOF2u1HhhQ0tTKMqpQs/IEPp6utDVZU0PBvpa3GtAi8Hb4U4qdvqTpWhmpghV7froP2Mtjl1/Bs/gWGSWs8/CkhP0DNOrM7DqsYncWQqPXWhqpAI5VV0YGRpAj4sHMT3yby32dZUhhu1+TZqjXDxc1AEmiqrQbdgTM9cfwo3n7giOzSh+zcs2Ii77hsKSscCc2/5izoKQF4dLdgZQtLbFaeJI4+4vQSNGHp3XPCKuSJKUF8tRUd0AjVfwr5DSPp5CX30GDSdfkCpr+bhsZwo9g5Y4zI6uZfrhwBAd0hAOwUXpVZ1B7CvZX1lAVwjXbbbQMTDErNuS742SXm5HRyJU681wFEbDSsgI2I/mMnqoN8Hpu+f6EQVpofhw6xBmDeuKFvWrwdrCDEa66lCUZWC79hm4fuDvEMMpb7G6mz5pkCfjXrBE7pBCG4ItbWWhX2MUbnMVMhWP13aHinYPHPzwC1MSiMR9sKQdDJl6WP8uXLLRZRfQ9VGAcuMxuCXVuQ27OBrWujIYcIJtZfPhd2oElBk5IsYNYWSgJ9QPYvpG0GZftzO22O8r/sL7B5B871FFHZoDjyJCQl/mwff6TFiIieHoKzNQX08Gilr6MDTUF7unPnQ0FMAo1caE83ziv97aF2ZMFSx9JulJM8NuYLSWEqp33cktLM5+fxD9qzKkfmnDwEi8fulDX1eVPIcemq//wP024MYC1GM0MXjPu1I6uUXIjPLFw5MrMKaXLRpWrwJLcxPoapK6y9TEXCdPTrT++shwAUKvz0Fl8nzqJo0xZKY9Tt95Ce+wOGQV/zyH1P0WMKwgDw19Qxjql+SHPskbDfaVe61BOB9Eyv+92airwaDLdhci1cUoiMGTZY1/XQxz2iIUZ6e2hRLpKGhx9xfSkL0/yRt1OQZaVUfgFttPTnuP9T2ID2gyG08kxg+IuLswCsp6JhhwklVA6Xi9oy9pzOthztUfbW2SCb8zY6BKyqGK9vflUIcrh62x0ytG0teVQtqzlWhkxKD2gkdIlAoc9247WjHKaD3rCidYcokYbkk6/01WO0v5kEx4HhkMGcWaGH+JVKACFyzvaQ0ZOTXoEj8l3o7o6+tw02ys2m4Gl4REDI+qxcBk+GFwL/qkKMiIgPv941gwqidaNaiOSpZmpPNH2l6Stk0X3kAIN4KSiQujDaFnYoujX6XKFtce8mL4fgB7g0js7ULSSK8nLnw3kPUF+4aQsOYjcFkYTLg3rwYMdOpip+gVn0DKuwPoocXAZoYDJ0iL4u9jejMzKJL61LTfDGw+dh2vPIMR9ysNIsl718PDoa/VjHRuyf2znmBys/oYsP0VHuwYgMpVhuBqXA4phhfQ28wCnba6cvmb+fEEhpJ2XFZV6/u6rMfu4qWJhqukpj38gPKMDL+NYNM4Fx/29IaBkjJ0SX2YsHovHJ+4ICAqma/vLFmvML+pBSrIq0PfUEpP6GpCgZSD2kP2I5j4vDszmkGdaYndH8UFDsm+KBcsIm1JucVwig/2DiTPXL0/zgtvtkoIwd6ultDWHIzr7LWyg3B4sBrpfPTHZalOVMy1KahB2vYe+75IiOSy+G1ieCCpkPXGnYBk/AtwZTIRwwbN/mUxnBNwG3O7WUFRRQ3axHEZGRnDxMSYa9xlFQ3RfC2f+cF3l6Iho4reG/hh/lIhYvjQEPXfLoYfLa1Tphg26rUNHuJe6IdimFToyhNx/5tknyYz/DbG6yqiWqft8GMPiIthLqgzFtQ0IZ0DbRiZmsDY2LjETMxgYWmNzgtOgVurV5QCd4fl6FavIswtzGFmpA9NVQ0itBfi2uckyVHeH8CJYXJ/y65r4Srdyr5cg2pGClAkzt7URDIuJsQRWBLxuuisKzeKV5jsgwtL+qJORXNYmBPBRoS7qoY1eiy+AJ8UNiYiMWyO6Ve8JRv0nDhcmW4GBevWOEG8WsStOajDaGDwTmfJRpOQ8mYjqqobo/6Sx9zfrBjuZ8Cgvt0p/pWtiKI8OE0gYtiwBQ6zJ5I9sambDJSa2eF28RwzAXZrtV8Uwy5b25YqhmMeb0BbNSJUl93lhaoYqaHH0YnRRd2xFyTmJpZOEfKiXmFNT1MoK6lAW4809MZGMGHLBKkvCkQMt1/3nJ8X/jvEcPwLLO6gAabVQryQHtlJj8SeHhWgV2MornFp90/FcAbuL7b9sRgW7SYhpT9CL46FlW4F9D/BKphcfN7dA4ycAjQNTGEiViZZM7OwhJXVOFwMlHTopfJpH1pYK8Bk2mWQ9k2MHHhfmQ5zMTH87eRo1FaXgYauEamH4vc0gal5RVg16odV3D7qRYIYrowF97+JjcSQZAy+jtG6vBhmZ8qkPN2G7mYMVDT1YWwqfk1Sv0zNYVmjJYYf4re1YcVwfdKgDtj+QnLUi5D06TiGVCUCR1mDEz7GxK+y9VVfUxmyTC3MuyzMV/wnC+hI2Xp9ag7aVrEQfIwuNFS0UHfgSjwMyiJ5mI4rkxpBl1GBLkkXyfwwgVlFK1TpOx93SJmKdhiLGgpyGH3ys2S9zo/CoyWNShXDtefcklhwLCGGeQeKA2NsONGnb2gieX+SBubk/s16LsIzVgynsmJYF0zjabgrMVWpADHnRxMxbIr+J9nCl4DHqzuAUWmNVQ9/NNE0Dd77+nDlUENf6r7E+HI4Bme/JfxUDCfeW4gGxIe13eyCJKnAsS570YVRQMtpl7i6LhLDjZc+QbSExsvA5xOjIatQE2McSCXNfI5ZHY3JM2gRv2EqETcTE1PSjtRElzHHuHJYLIaH7IWHlMMtTHDF1oGVoEIEl5auAeeDjFkfpKfJdcibLbqJUEEMnx9FRGC5xHAAtpJyqK8/FvfER9Q5/HB4ZB0wxkNwyYv3rZwY1q4N+/eSkUt6Q8SwLhHD0x34tRqkNMa5O2BOt3owNyfl1cwIeppEa1TrijXXSJkrT4NIiHm5FW20TDH40FdEu65Dy0ZdsOVlEooCDqB1xUqY6uSP4HvLUN+iPlY858c9E1/tRR8LBsoaP6jL1Zpi4D7u/cRP4cSwRkW02fROOCIgJobfhPGVoig7ENc3jkADK6INSP000deGmqoJ2k07hE9JJEzafdg1MCHlQJuUUSk9YWqGilaV0G+BA+meJOH8yAZQUOiPM1JrLrit1er/ghhO8MKWHrJQbDwKN6TbEoTjaB9r6Kv1gxObnawYJjpOkei4C1KDVNFXp6I6EcPd/xwxnI/L7Miwwb86MpyEB2tJL6aCBuqMWo3Lb/wQEZWCvKJCpLxej0pqxmi8kt+nKooIipakojWff/3Hi8DSA3FshDbpUfSDg+hDA/8qhZl4trIh1MyqY6NUOWSnSSzvYAadzlvgKdElz4HX9vali+EqU/AoUHxYg5TngHPooabKvV7hysl3YvgjljUwglbV6XjFvfUvQkFBAW8/bL8yERfmhWfnd2N2v8YwUpdHzX72+PT9ENJ3lCmGXTajrqEGas25z7/qIHklisuPolKUmYBQr1c4t3MB+jY0gZp8JQze4caNEH8URoZnXf8iIRLY1eXHB+pBpVJXXCQqMf7BcthUkIXtivsluzMIpDxdBHN1AzQR3iL8WAznwpEdGTZsyYvhdB/s7qcC2bojcFl6sCfyEnpY6v2SGHbfyU+TmPdAMn9TnHehM6nANSdfkHrDQnLJbw8aV9BDvUlXftzJE1GUAc9D/SFPGttafZbj0ktfBMUlIJNU2Zw3m9HalG8Qf5sYTnuPtT0MwVQdj1uBUrlLHNbGFnLQrzEGd7ki/k/FcDYer2gPI6Y+NrtI9UjKEMMhF8ZwYngAJ4bz4bOfiGGNmph2hb9GUaFQP0gF+ZnwkMD3KNpVUobO8LOIlsr3gDvzUJGpWCyGIy9OQg1VOfQ58ImvC8X3LJC6Z34ZYvgaRumUjAxnvtmNLqSs1J99hTRGhDLql//1H4jh/CRcHG8BOVlDdJxzBI88/RAbn8p1hL2OjUYlxgRTLv0LYlhEQSZigj/hydktmNq9PnRVGTScchKBpGI/ndsYejINsNWLLwtFwjOw+SFOiMMk1FKVQa/97lwHuoQkOK9uIimGAx0woI48Ks28jgjxRCxMhONE8ZHhIBwfWw+Mbi+c/sT/tlB0f+mv7CW9w7ofiOHoc+zIsCkGcGI4FS+29uQ6EjNF82q/IxO+h/pCRqMaJjrwLf4/LYcZL9agsbEMqs26+52/i3u7FU1JR6PNnGvclMPikeEVzxEnkbwZcNneGYxabUy7ThqonLdYaKsDptECvOR65T9uR4q+OmFkqWI4FwFnR0FdVg6VuszHuSdeCIiNRwb5feGng+hmRfzczKvFYvjSeFPom3bASek3b9+J4Rgc6G5EOvhdcEr69VkR8dMDLcFUHIUrvnyD9GMxvB/ddcTFcAnp8WH49PwCtszpjzpG6lCq2Q+Hy9MgEorCH2J2Y0O0mL0bh9YOhk2nOXjKpaE31thao/H4I7i3qRcs6o/FTWHEI/3DIfQ0ZFBr0nne75ejrfwRKf5EdCuZo9UaqZFheGBtZwswdVgxLNnuFOYnI9z3Ha7tWYbhrStCU0EP/bY8Jx0AN8xpaATZxivgwzmOH5WDaJwfbwMV2XY4JD2FLcETyxv9ghhOIx3UIZpgKvfBaWFefwlB2NnJEppaw3CTdQJliOGoK1M4MfzvGxlOvIpe3NZqW/heocC/Xwx/xaGRNUll7YIjbuKjpXn45jAFxiqGaLzqOX8k+Dam1lckPaBhOO4m6R6yYgPxLZokTU44bsyqRipNB+x1L831kF7iF2c8e/oQLuVdTUMaa5/dXSCrZ40ZN6R+k/sR67pVAmMyEE5fS9IhM+ItDowhz2XU8HsxXHEMbvuJlbiCGNxd2QkVGEN02yZMShabM8xPk0jF3Zl1oCJvgclnPL8TTVkxoQgNTyASvBAJQV8RGiWldNI/YqUN6aES0ceP4pVNmWI45QWm1dCCvPUoXPCWnrCSjeiQUEQkkkgXJCHoazCiJSbikif5sA0NGUU0GncJbGp6cGLYCBMvFS8DJxQh/OlG2Cqxm3qvA1t3Cv0vY2xNecg1Ho9LPmIOMCsAZyfVQgV1kj+3eS+U5nbyp2L4ILdwIhb3V7SEnEItjD/hITaPKQ9Rj9bCxkAd2sNPl2sBHUvEmWFQ1zXA0JNSXd+ox5jTWgWMdV8cfC/Wa8qLxL1ltmCUzTDgGDekVTZ5Cbg23Zx0supB0icWIuTKXNTTIw3i8qe/TwyTK91c2B5KRAAO2+3M5RdPPoIerUYzWXZRyUGh0Un5h2IYcN3ZAxVlzDH9ppTiLY8YPhbGiYx4Z3s0kFNEjaF74BUn9QqULYsB4UjKLser0YzXmN2IdACMBuCs+NqEnGg83NEH+ow1hhMxzHmXL8dJ4y8L1Y6L8dhfyjUXpiEqLBBR3BuQgnKJYU7HRT/B3DakrNQajpPv47kOYwn5SIj0R0gCXyl/JIaLcj5hRT0V6FiMwD2J9jENj9Z3hzHpfE5z/IdimIi7uMDPJA4ltYUj9j6mkbLFtFqEV6SIx10fBysVBs3mXIK/pF4hDx2J0FCSHyQC2V770LmiPLS6rsHbuBKfnRvrgoPDq4Ixa10ihiOuYkQDVTDNlhTPHWV9ReLn21jQUQ1K1ToJc4az4LpnKEwraKLXqhsIlVTZKEiJRYh/BD8SXR4xfJxvkbk5w8Qn1Rq4FR/ixXMmj6TJN0Sn5yH27U40VlBA1YE78SlGynGQchhMymFiecph9D2MrU/Eg+UQnPUQq09EKFyaR3yGfFWMP8XPN80UxHC9+Q8l3jxl+d/AlCYM5Kr0ximuAY/GpWnNoMDUxfQzLuCKphhZ8REICE3gyucPxTA7bXBxddLRqIR5jyTLS/S9VWhGxF/t2dcQwj1iNh4uqg0No8bY8E7qmb+bMwy4bG0NVXkVdFn/XGy6RyFin29Dp4oMNHtvxkfhRHnEMOsy8uKD8CU0SqqjlYEnq2yI362L2eVpEFly/HB8Yn1UrFMfDavZYvDSyyQ1WQrwZn17mFnYonv7Sqgx5DjfiWWJe4klHdTAVB2Aw69jJeo9+1xJkQEIKefX91KDT6GrjAoq990l9p2GHIS5HcOQenpgGi7EW+51SQbCv34hfkeqLnscRk/SPliOOk5+n4Hr42pBuUI9zHPy+k5UpkeEET0RT+KbD/cd/WAuq4QeGx6LTU8lOsr1IoZUYmBhW04xXJQA5609oMKYouemxxJTf2Kct6GtnhK0O+2GP1tMsgK5N/z/YTGcBr9XD3F133TU11GFcqVB2HrxBh578y9s0//tYjgej9f1gBqjhJZjV+OUkxMcL53GnhWT0NZCFoycPpoWz02IxcvdQ6Enw0C90SCsPeYEJxL+9MH1mNyjIXrsIEIyPwUuO7tBjlFDo6Fr4UDOOznehVuQsAis6Bu2tmK3EtHA2GvSY3Q/ggij61NIHGVgbDsTx9lrOt3Ay0/hpDFJwP0FtlBlGDS1W48T5NylY/aY2M6M3IM0DKZNsOSBUHtZMTywNhhFK/SevAEnHRzJdc5j37Jh3IpflSZ2uCE44yLxrdWEWpzlcQhdLNk5Z1YYuHgbTjvwz3/u6AaMbdsAA+dfIJU/H9emtoWt7VAs3XUcF7i4OuHQmjGoSeJfY/hBfCtHdpUphsk9Pu4bQBp2EpdKPbFk+0khnS/gyPoJaF2/NxY5ktKS+wCT2tii/YgF2HPiAhcPJ6ejWDWqERgZK4w5xi/j/bhvJKqy20t1tcPmExfhyD7TgdXcSm5Gvi6mXRKJxCg8su8LbXJfi44TsYt7/rPYMr01txLdqP3qYoGXWh4x7M3WxiJEvNyO1urkXhZtMGuPA3mOSzhiPxPtLfiteHTHXSjX1mosGS+WwkRGBqqN7HDgAhu/q3jyPpA44lR8ODwRFvIMVJuPwqaT7LkL2LWgLxEmDDRsJuBBsQctg8JMuB3sCw3SmagxaA3OsWl66QIObJiK9lV1uPi2+53TJAiJricwwoqd/9oYduuPc/l4bvdidGNXUqvUw+xbotr8z8VwhKMdqhCRodN+NvadJ8/keBV3PchTJPtgV7+fiOGjwaREElL9cWqUNelUMqjUeRZ2n7zExdXh3FHYz+yF6jYzcT3wp2PvhFS8WNWJ2wbNrM8CHGbz0fEU7Kf1RhVuzmdNjN77gTQHLJG4saAzV/+1Sb6uPniWu6eT42nsmDcEzTt2x/rHrMsua5pEiRjmawQpK0emwJKUlQpVumLW9hP8NYmvOLB2OrrZNsH4c3yG/nCaRH40Lo63IvVMG92XHOLqp6PDcW5ErJ4xu11bLcy//A/FcG4azo6rhCa97LBuzylc5OLmhIML+8FahnRyZ11CKHvhtPdY3pV03IjfaTRyKfad5vPD8cxBLBveHK0Gz8NNrswH4ujwWly4pnarcZINc2o3ZvWtw81dZCq1x+ZXQrOX54c9g9jP+Rui78LduOTkiLN7l6B/TX5rLfXaXXFC2B0gP/AuFrRlV6nrwnbsChzh6qMTLpzYhdkDOsK2/Upw4/vJ7344TaJEDAs+KN4T+0eZkzImh/r9F+GoI58vhzfORa+G7bD1fQby08NxnqSPHImPZYfp2HWS+BRy30vnjmHL7N6o0Xg6LvuJdYh/SAbebx/CtQ1qLSdh2yn+Xttm9eR2mNBoNx+iHdPSiBhuQ8Qiu2Xl3O2ncImN15ndmNmD3YlFDd2W3uEXZxLY7e4GmpG2VbY6Bs3ZidMkbmz8zuxfhbFd2qHd5Iv87j0/miZBfOiXMyOJH5aFZa9lOMX6YUcHHLafha61SSeSxK3polvgd/nKx+eD3UlaVEClvqu4vHW6dAevv5DnL/gstpsEPxBWEHwdI6qzW5laYtj6I1y8HA+vQK/axBcrWGPO+c/FAuinYniGA7c+I95xMprY2mL80l04KZQBp0NrMYA8m3yN4bhYngaRIx1v2N2IyPMxSu2x9k6Q4ANIe+lij3rsJ+hJ56vLrk/CUZY0fDw1i/NtjFVHTN96gmvf2Hw8tGEOerVrhFEnyzEIQshLcsPapsQPq1TCiE2sn3HE6a1T0NxS2DKuLSnP0aRNK/LA2nbV0X7IfGw9eobUEXK/yxexaXxraDJaGLDTmXubkPZuMzqxPlymFkYt24kzl/i0OUPa3mFNW2MI0ROs2C/0PYn+lYnPkK2PieuO8vfdtRADGrI7TDCo0qn8W6sl+13FJGvSmVWpgSGrTnL3u3RkDXpayZF4VMS0awF8mqb74+B/Xgx7YlU9qX3miBkIn2NOdz2GzsQpWwyU3pIrH+eHkYeSrYFtn8pXmPITn2JSRTnoddrDr7QUyA54iE0DqvOOTzCVys3QsxPpfZJGv9pCfh4oR5IXLq4ZgHpEoIvHV61qeyy/w1818ctVTGZHdorP62HMSVfe8YecQkcDVSjVXghXidXAZZMd/wbru0nGseXsq1zvNfuzA+Z2YJ2+6Jwsqrfqg0FNNIjwrYQZt4T+FLe1Wj1SqXVgoikvFp6I3jZjsOtZSQ+10PMEepAetkqvXWKOKA/fbq7H8DbVuIUO4r9XtmiCBaf5bWe8js+CrSW70EY8jDKq916A867lccLkmfwfYgy5v3rzxXgnOb2ZJzcY11aPR6sq0mVHAZbNpuOsG3ufbzgyoysqsk5CPIyKNfouOgp3LipFcNk3CjVk5KFrrAVZsXCyxs0xYfMDyTm28R9xenEXbsSp5JoaaNB7Ok6IvS1IeXcQHWQZVBx8iB9tE0Ec+dnBxNnK1cIOD6HcZobi0b5hqE8qWPE1Fa3RoVsT4jwYyPQ5Wu7dJPLTPbFncGNu+z/RtWoOPc53/rL8cGnDCNQU3zOR7QR0mIjdT8rbMSN5E/MB2/vXk9i7Vd6yFfp0qMuJstrzH/AjFgUJ2NOJnNdqg1Oi94WkgRtKOlSyHdbgXXl0IUc2Pl/ZjIF1JPdhVrJuhxnbHyKyWD8l4+5idq/hVtjxpnzlrJjol1g/oh7XqRFd32zec04M23cgf1v1wgWpN9OBJ/tz+dNpb8mq4oygF9g6qj2qaJRchzM5IzQaxc6X47zAz4l1xia7NtyWfaJryFs3Qod29YhIro6RB9z4kWGWhA84uGgQGhpL7iPKLo6p0X8JbnBDHQV4vqYd92GRKTclpwOlBTigLwlv0HwjvIVjyPLH9R2T0baq+L7brMnBvPVIHHjPS18/xymoSI53Wvf4u7dFKd4XMLqFkcTvTWy6oWMTViDpYNw5d0EMf8bqugqQVRiIGyUr4H5MYS7e7huKhmbsp3TF46aNun3W4f7nkrxP/3wBC4a3hBmpixJh1S3Re+lZeAuvGlLcT2NOt0pcR0YUxrRmS7StT/y4pS02iw09hT3ZiWG1iG8tDquLJp0HoCO756tRU5TsM0wazlensKBXI+hK7QnMaNXBoMVX+MWsSc5Y2oocqzQa1yV6zgWIPNaXhFdCp/0l73VTvO9h/eCmXCe25JryqNx2GslrfuQgK+QVto/uiGpa4mGIyRqi4bB9cC3zQzRi5H7F2aWDUY3trBdfRwXVO8/AUTGfkf6S31pNWd9Ecm9ZJUv0mLUXHySmymfA88pWjGpd5bt2RKViW8w87Mqv3fA5jz7GDBS7bYGb1AvRvCRPHBzB+0fRb2XMmqFXx8bcYIXVJEcECI+YG3wH09vy22Txpo6umz+SM77Y0I504LUHi+0zXITI51sxsImxWHhS90j7Nmb7LXwVi8eNSYakvTDBKmfJyCW+2IaW5DeV2a0Uyd9ZnscwztZSou1mTbNab6w57yr2tuvnxD7dgtbs7xvNwn3RdhmEogwXzOG2tjPBSmepvM0Oxp1909G+Bj9YUWIyMG02BLtfS79d/QGF2fC7tQTNzcX8jKwlOg7thYZsm1JlGl6Fs0N+0bi+sNt33wBg5MzRasZhvA0X+cBseJ5fiaEtrIhYe/IAAPHMSURBVCTqHWsaVp2xjKQNLz1S8f7oYnS0JEJcFKaCCRq36YgqRBtqNpqJ5+VVpeSe/s9JZ6yhVP5aNsfIDfdR/G2klC/Y0Y2cM7GFdF8h4sIIbovSVlu9JdcYlEE5xXA83p4/gPWrVmGVyNZuwZFnfOuZG+0Jx22rcfC6u9S8pUL43NqJLVuP4UOs1LuWH1CYFYIHh7Zi7yW37xx3Tsh7XNyzjrv/2s1HcdcjChmx77F/83YceSo98ycVXo/PYOd6Pr7r7I/itksYN2+SpxAxn+/i4EbhedafwYuARK7xir4wEqYaWui834MfKf4FMsLe4OwOPo6rVh3CzQ9hvNMgpHo/xnGSTuy5zYcu41N4KhLdLmD11kN45C+8BmFHhrmt1QbjwOlLOLGLv9bGnefwPECyShbFeeHyvtXYccVVYrsxlqwwV1w5uhXrV/PPt377EVx//Q3svHiO/BT4vb2BYzs3CXFdh21HrsFN+pVdGeQnBZEKvBq7zr1ApNTbrRJyEfrhJo5s3YDVwn12HL2Ct/7s6xWevORAvLl+EjtEebFuC45eF/8CVsnWaiN2nIDDmT1Yy4bbsB0XH/uV3vPLjcTrKwexibvnWmw9cRPeCZKNeE6kOxy2rsahG5/4UQ4RRQXwvrGdlNvjcIkV/00yPO8ex0b2mqs348gNd8Qn+sJx33bYO7kLX8srH7mxbnDcu0lIk71weuFf8oquMAkf753A1jXsudXYfMAB74qdU/nJi/Mg91jPp+mmfbjuHoucKBdc2LMahx8H8ulWmAW3S5uwZfcFFE/3SvyKm4dWY6vDa0SWsz3mKUKcxwMc3b6Wu+eaTftx+U2oVB3KRuCL89iw+TxcIkrrQZVNTshbXNi7kX+mzXtwyYV0g7Lj8c5hPdYfvgIfqcHmZK9r2GW/BpfckvmRYREF0fhw6yS2r+Xr4+r1W3Hk8nP4J+SUCNjykOaHu8d3COVxL256+hMRMRtGcnUw9ZL0nNFUfHnqgD32gn8gZWjf2bvwCEsT7lmI0NcO2LF6Dx76J0ikW26yL67ar8e+c2+ldsnJR6TrbRzdsYG/5qr1pH454vWXkvqV+OUhDq3exH3RsbTsTPl6D4c28Xm2ftc5vAtLR5z3AxxYvQ23Psfw8SiKw+uT27B123V8K8ee8SxFOcnwcXbE4eK6vwbbjt+Fl/gnzERkBOOFw2HYr2PDEdu0A6dvv0WY1Gvc7OBXOLOLf9aNu8/C2eMzHq5pzs0ZLt5nmCMfYe+uYC/nU9Zh14UnCIpPg/+D7Vi39ww+Sq9CTf6KBxf283Wb2Dr7Pbh4zwORoq9xZofj5Xl7rD5yB98k+nCFSPe8ivVbtuPSR6lZu+n+eHpun9BuroH94cv4EJJCfiFGUSxcb5/CjnVCOVy3FYcdn8IvPvvXyiHJnw/Xj8F+LR//rYeuwVXKl6e92IBWZuzc1CO4eOEYtnJtwybsv/zqh/U8M+wDrhwmaSaky8Ydx3Dj7VekiCpTvDeu7l+N7U7vEV2Kiyok5fbawY18/m/YjcsfIpEd64kr5Dd77/ogWaxSpvg9xBFR3dhyAg+4DlM83jjswerdN/AtQfJ5Ur4+xomdgn9bvxuXXn37rnx/e7APWzcfgLOU/8wiz3XefjWO3P0sbOGajwS/t7h8bCc2CM+6ftth3HGNkcyvclAQ640rxMfuvuaCOPFKXJTDdTC2bD8ruZC+mEJEf7xH2mTBv5G6vO2wA176sHvQ/wrp8HtyBvZc/m7AwSsuiM+KxhvHvVh94D5CU/knKkyPwIe7Z7Fnk0ivkLLg+BKhpZSFjKC3uEh0magcbCbt8J13QVJf/Mslvv0idnGaawP2XX6NwKgoOJ8g5ePkI/5N0C+Q6PMEx7fzcVu9nvh658DiAQ2OnAS4OG3EugMX4SXRgJOy7nMb+7asxvkP8eVOu1+bM/xXkIhL42pBr9pw3AuTbMb/I4gtoHtWnlfifwUlW6vNviXxjpJC+bNIccXWHuZQqtIHx3x+qSdB+UfE44n0bhKUUmGnSXAL6FZ+v9MOhfK3Q8WwNIl3MbaKIVotfozkX+qa/yaIGN7SxxqM9QTck9pa7e+FiOG9Q2DBmGLaZamt1SiU/xYJb7Fz9ngMHjIEQzgbiK7NqkKNUUWLeZfF3mxQ/m3kR+Hh4gZgjFtgIxXDZZL2fB2aGzFouOSx1NZqFAqFimFpsiLh7uyMrzG/+Jrqd5Hvjs09LcBYjMNdPyqGeQrxYfdAmDCGmOz0mYphyp9BzF3YSc2RZrTrYdjGq/CK+cV3gpR/Rn4kHiysC0a/Kda/oGK4LNKerUETPQb1Fj1CFBXDFIoEVAz/aRRlIjrgM1w/hyAl51dnK/3vkhEbCC9XT4QmZf13OikUijQFpK4GfoXnR1e4urL2EV5+YUj+L8yu+mspykNqhC9cPb8iOp36y7IoSIvCF09X+EakIo86UQpFAiqGKRQKhUKhUCh/LVQMUygUCoVCoVD+WqgYplAoFAqFQqH8tVAxTKFQKBQKhUL5a6FimEKhUCgUCoXy10LFMIVCoVAoFArlr4WKYQqFQqFQKBTKXwsVwxQKhUKhUCiUvxYqhikUCoVCoVAofy1UDP/J+F3B7PEDMeWkKzLoV63+JXIDbmLuiFGYdPg9/YIdhUKhUCiUYn6jGC6C3411GNyqL7Y+9scvfZnf7xLG922DpnMcEJcpHPvTyAnBg00D0bT9VJx4lyAc/NfJj/PBgXGt0G/GIXhmCwdFvF4DKw0GhlOvIylPOPbHEwKHuUPQpukkOAYlC8f++2S5bEJlWXnojrv83xHDgdcxY2g79NnyCPE5wjEKhUKhUCj/dX7ryPCng4NgwGhg7MXPvyY43HejqaUSmC47EZEmHPvTyPqK8xMrg1Fvg7X3ooSD/zpFMS6YXYWBVpP5eCMteN/bo565MqrOv4OUfOHYH88X7OpWA0pMC+z2iROO/ffJ/rgTDXX1YT39hnDkP4zPATQxYqA25gLiCoVjFAqFQqFQ/uv8ohguQGZqEhLi4xFPLCE5DdmCSMvLSsXz7YNQkTHC6CPPES4Kk5aDoqIiFGSlIC4xBTmcSs5FaiJ/PjUzD0VZ8fDz9oBncALyOKFQhPzMZMQnpvIjzEXZSEkQ3TMDP9SFuelIEu6bmJKJ7Mw0JCckII1EUkKc52UgWbh/fHwiUtJz8FN9UpiDxFAfuH8OQGy6MGehMBdpSQmIT+djlJ+ZIqRNAlKzfq5ei8jvk30eYHptBiYtZuJ2iBCnhBRksQnxYQsnhqsvfoQskobZqYlCnJORmfeD7kZRDh8n4dnKEw+OQpK3yXFISuWHpwvEniUlS3KORlEByY84km5ZfKrlpifx90vJQB7Jq/hAX3h8CkBCjvTcjnxkJIuegcQtUzpuRSRryLVIOeHzPUcoJ4lIY8sJF6Ys8pCeLHr2BCSnZZESy8OLYQNUnn2P/CWWlglJyPguLQuQm5GKJKHMicKl/+B5EpL5od58UgeK00zs2YryspDyZhtaWCnAcNRhfA7jr5lAyrfEJUm6iuoF98zZkqWyqICkBzknunZeRjJ/v+R05Bb8PHUoFAqFQqF8T/nFcF4iPl5ehZ6NTKAsIwMZmQrQqNgUw9ZcRWBmPD4cGg8rGQYMw5Bz7HnetEafQ05WOvwPD4Bm5WaYf/41nu6ZhPr6cuS8MvrYPyOC0An9m1qg8bK7SOTa/xR83NkTGpVaYuG5F7i1eQRqaPD31KrcE6udfJAuoRMKkRXhjMNzOsJEvgJ3X82a3TCsXzvUNrHG5NMeSBdCZoe/wqF5XVFZS5GPo5wWqrWfgF0PfMoefc0OwKU5TWDYYhwcfAQFk/AQ01pWhnbnNXh89zyW9qgG1QoyqCCni8YjNuBFQBYf7gdkRT7CnBqykCFpxjAlaSaj0RXbX8YDX/agkYUqKk85iWeXd2JQPR3IkfOyqlXQZ9FF+KRKRjgv8Stu7xyP5qZq/HUq6KL+wBV49C21WBT+iMKEr9jSTRNV2k7CsbsOWNKrJtTJNSrIqqPBkLW4G5hRLEZTQ0+jj24lNJ94DK9fHcGEFqZcvFQ6LMWLRJJO49rAovpM3AvLEH5ByI+D84kl6FRZGxW4uGmjbv8lOP8hAjmivCzMxMsNrWBWvRFWX/XFtc0jUUePTRNzDNvyGGVNusjPDMb9/XPR1lKLi4tMBXVUajEE6696IZM8fL7nbjTWN4D1+KNwubYdg+vrcPGQVbdG7yXn4ZcsNixf4I49vRrDVF2hOE8qqJvDdsJmPPuWQiS3CHdsbFcHZrWm4fyNE1jStz405El4WW3UH7Ac976lcWmW/WYrOleV4eoGI1yPNW2rfnAI4a+Uk+QNh3XkefWFe8rroOnYrXgoVoZS/Z0w1tQQLUbsxiOvc5hta83Xxcaz8cCv7LJGoVAoFAqldMophnPgc9IOtfRUYWRZBbVq10bt2jVR1dIIakaNMPbie/hfW4O2JlpQYOSgY15ZCFMbzZbeRm52Kr7s6wVGVg6aRJyaGFujRi32fGPMPP4BaZ+OoYV5BZhMdkI8p9qS4bqtCyce5FQ0oUPC12TD16oKA1U5MPq9cdQtvng0Nzf8Mea10SBCQwWmlWtw961TsxpMNBXINTQx9rg7WFlWlOqO7b0toKRhjCo1anHhateoBgt9VWh2mo3bAWWMrmV9wcnR5mAse+HYJ0GEJtzFuLp6nJBVVdNDxUr8vatVNIQKo4RGow/gSxnzQ3Ni32Jz18rQU2Igr6oH65p8mtVuOhmn3JKIGN6LJhZKYOQVoaJlAutq/HlrIy3IMpbov+kJ0kSJkOWLg8OqQ0VBFxZVavLXqVkFJjqKMG4yBddDpSckS1IY74vNHVlRLgtlHT1yDf5ZalYxgnIFBib9tsM1gZfUqSEn0F1OHnLqxrAyNoJ1df5+Nna74JryBUd6VEEFtWG4EsR3QYoKk/B651AYkfxUMRLKRs3KMFAheanXGZufhvJinYjhZ6sbQ1Gegb55FeibVEINNmztjlh4/B1+NIOmMCMAZ6c3I2kiC00zoXzWqo7KZtqQt10Bt0iSX36H0UpXmaSlCrS1SJyFtKxkpAl5xhSDtj6G8Hgoyn+PTV1boS53b95qWBlCXY6BZfeleBorBIQbVjU248qporouLIX8r1XJGOqyDKr0XIM37FsEz5OY2MEEqgoykNM2QzUhn5t3noV7cUSoJ7nCflBVyCjpwLKaUC5rVoWJmix0OyzDyygh3b86YIR+BSgoGcCimgEJK+TzkM14HUInIlMoFAqF8k8onxgu/Ig1rStCRmswrgaUiKqM4Nc4dmg39t0O4v72PDYGlYiwmOLkIzkSWZSKz3t7g5FTgXHzUdh+9ysyxXWn+240s1JCxelXisWw245uRLiowrzNeOx5GCAsyEvD8/U9YUJESQf7t/xIYWEK3th3gKysOppPOgz3BEEd5sXj1vIuMKqgiFHHPLnfZ75YBnMlbdSafle4HqEoA18fHMT6g+fwIUxiuFmSrK84Pd4aTJV+OOEhEsP3MaGBERgNS3SfdwTvQvi0yQ56gMVNVcBU6o4DbmWvfCuMccPiBgzMbZfhXXGkBD5sRUMzBSiZNsSEXXcRkMIfjnp5AD11GWi3n48n3LTcAvifHouqphXRa/1jiM9oDrqzDLU0TdFpxWOUJYcL47/CnohhBXVL9Fp0Ai5RQugUF2wZVB2KTEXMvxPMdUAyw06hF+nYqOg3wOgNV+EnMUL9BTu7VoeSzihcC+ZHK9O8T6CzmgyUaw3A4Tfx3DEgHk/32aG6qiz0+u2GVypbIHLwYl1TyCkowdJ2Mg49CcTP11PmIejuUlQnnTDDdjPh6CUaP85F7CdHrD14E/4xuSj0PYgWmopQMm6CSTtuISCVDxX7ag96m8hCod0yvIgsozOU4YXDo6wgq9oKa+5FCAdJvWhSEXJKpuiy8DhcQoTR2TgX7BttDYUKtTHjjC8/refLUdhWUSQdPkfEiSdXURo+HBoLS81KGLPvOUgXqBj/C5NQT1MT/Q5+5tPd3wljjGSgolMbQ9ech2eC+IUoFAqFQqH8E8onhvO9Yd/JHIxaeyx3eIkvYYklYlIM9yOjYM2YYLKDl+R5IoY9t3cCo1cbs+8kCgfFKEUMu2xqC8agIZY8EXvVzkLCtraqgIpTiKgg2qUo9T0W1FKAQcMpeCoIHBFBF+1QW1EWww57EplFROrbtaiiIAfz/hvx1O0LYqSmGZRJqWL4LsbVMwDTbjskB17j8WydLRj1plh6p+zFdvlRLlhYn4GZ7RK8kX7TLVpAt+gRF/9iMryxb4gOmFpDcfEreyAUB/vXgop5d6w97ogrl53g5MTaZVw9sQkDqquhZr9d8ClD67Mjw2tbMDBuOhMvpeKR/nQZGhkyqLP4Cdgkzgk7ho4VdFFn9MVSpi6IieEwthTkwWt3FzCqlhhyxJ8PUkwIDg+rA3mFLjjmw165AM9X1IOqSVWsecOH+Ck50bg+3Royxs2x4bVUWRFDtICu0kx2zrAY+V7YMcgSjNUoXPWRfPCChGB4vHuBe3fv4NZ1B9hPaQt1pjamn/MRQrhiZeOKUKs0H2+lbh3zahtak7LXYpYjItkDvodhW1kRxpMuIlo8M5O9sHuAAVRq9MT689ck8+7ianQ21UFFO0ewMcsKcMAgVXnU6X+Y5Hj5yYjywfPLl3Dp0k/syl289v9zdgChUCgUCuU/QTmnSRQi4OZa9LKSA8MowqpxJ4yYuhib9pzHI69YIUwRPh4eyYnhSRc9JEchOTHcGYx+Lcy+JQovRqlimIhJg/pYdF9KPPseQ4eqijAYdw6xRNwVxJ5HLyUdVB9wSmJElOXb2XGoxYlhD36EMecbztm1gR47d1PDCq17jcHsFVtwwOkFgoRR1x9SmhiOF8Rw+y0IlPh9Ipy39QKj1AjzrpUtW/IiiJhnxXDbxXCW1nIiMbzgruR8ZnbKxjgi4KoMwGlWlxW9xSLbKsLc49LNtMMyvC3jTTonhlsyMGo8BY+l9ZD3YbStrAxDu4tE5pNkDD9OxLAearM7I/AhxCgRw9fDWTGcgTvzqkDRvC42v+dDlJCNx8vbwYipg/UuMeTvQrwgYliNFcMv+RA/JSUQ2zpVgF7dUbgrGnQuheLdJGbcFI6I+ILDI2uBMRkCB09hZnlOGB6d2IipPRvDRFUqLRWaY/4FXz6cSAxbzcLzRMk3ABmeFzHEhEGt0UfB9Vd8D5E0JGJ44gVEimnuvNA3WG4rdQ9p63eMK785gQ4YrKZIxPAhBPI/LxffrsxFtdKu+53Jo9lGF+FXFAqFQqH8HZR/AR1yEfDiPLYvnY2JQ3uicWVNrgHVaToJJ1x4wep2cASsGFNMcvixGJ51kxU9UpQhhhfek9rT1/sI2ldRhOH489zIcH70CU6Y1RxB/haCiCgRw59K5pum+ePWoQ1YON0OAzo3grECKwKM0G7VVSlBK0VZYridPQKSxV+xJ+DVlh5glBtj/vUw4Vjp5IW/w/y6PxHD8+9AfH0XMn1xfExFMFUH4gyrywpfYFYLMzAW7TFj0SqsWiVlq1fjwKVXiJSYuyKJuBh+JP6unsXnMNqQNDea6ECeTEwMjz6P77s234vh23MrQ8m8HrZ84EOUkIMnRAwbM7W/E8OrX/AhfkZRcgA2tWWgX380pIuKOOJbq0lMhijyxcERNcGYDsUlL1ZyFuDziZGwYMWhbgN0Hz4Bs2YvxMpVS2HXow6UZetjVili+FmC5LuSDM8LGGrEkDQ6im/sAZ8DaF1J4TsxnBP0ArPrkXpUtQOmrFpdSt6tgf01T27RXob/RV4M9zuIAP7n5SLZ/yXObJC6bmm2YQ8ufSilflIoFAqF8j/ML4hhMQozEPLZGefWD0ZlRhmNJ1/nXp9/OzsB1YmwnOrgLbbinvBvEcP8yHBh4m2M1lVGxbZr4CU15TPCaTLqKlbA0EOfuPhJk5scAtenJzCrnSUYtY7Y4VyGmvo3iWF2zvDKlgowa7cU76VHbssjhr3ZA77Y1Nka8sbjvxfU5UQkho1tpuOZ1Eq12OuzUEeTgc3qV1ynIpubJvFzMcxPk8iF+7b2JH2tMfKUsHVCMZE4OaY+FGU74NBntifCT5P4FTGMzAicHaUHWbM22OYqKUjFyXL7mRgeBkdvNgP8sLaJHpQNumDb068SHzsJIeXJgKmGqdJi2HouXqVI9jTC7q1CbXkltFt4le+kBZ5F92pqMJ/iiFixaBbGumFdO3moN5sN5zI6KyzJXy/8IzFMoVAoFArlx5RPDKd5wPHwOVx+6cftyiAi4dU6VGXUYTPRkTsefX0hmijIoe7cKwjng/D8W8TwWUSzmjQ3FEf6q0NGpRamnvtSvHAv3e8BNgyuBY0Kahh7woOfc+nqgM2n78MzUnxZVihOTqgBRrEDdjwvZQqHiH+TGEayD3b3VYWCZU/s+yilht/9XAyf/sxOBCaCc2dfmMoqo/qAzXjmJza0WxCL907ncd7RuRThWkJh/Besb81Ao8YgnP5aMnSZ9fkKprXSQQWmEba8iuMWcqWHHC2fGBYWlKW4H0ArBQbqDUfh3CdRCcqAy9k5aKgtB42uW/Axmb1yDp7+qhguyoYPEakm7PSd3itwL7AkDdO/3cfec48QHJ+LAq895RTDblhQ3QCqev1xVWzeTdq3J9g0xBoKTH3MLhbD7G4SFaFiMBgXvEvKaYrPLcxtZghGpzlW3I3k0gxxtzCqti6Uas/Cc/GFeoWJeLa9J9RltGAzfi+eCYswObLj4HLjAI488OU6l+n/cGSYQqFQKBTKjymfGE68gwk2VaBjVh02LdugXbt2xFqgnrU2FExaYd1TfrJm7ueTGFpHCYy6Beq1ZMO0Q89Nj5CXkwbfnZ2IOKiOGTdKEcMfd8LGQg5mUy8Xi+EPG1qD0a2D+XelxPDnw2hrLQu9sWcQwemGQgTdX4qGcgzkdaujORe31rCpbgJVWXYKhD4mnuZ3k0i9NA7quoaoXLcJWrfl49euWS0Yq8mhzohd+JRWxtBc1hecGksEqHVvHBdtrRZ/B2OIwGHabIK/lBh+ubkrGPkGmHvtJ2I4PxoP17cnYlMe+lWb8nHqsQiXPFMArx2oayKPSnNvS4lhHxwbZQamUn+c8uLjXJj8AVv6WJLnVYBp9YZoZcs/X5vm9WGpbYa2Y49DelxWHHY3iS1dGMgoaMKiNkkf7ve2aFJFBzKMEjosuIHwXE7WISXoCNox2qgx8lwpYtgX2ztVgZzmCFwVba1WEIfHa3pAg2GgWckGbdlnbGsDKw1ZMCotsPxOAP8moSgTT5bVhpJhJax8zv20XOSnfsa+4dXJs8vCsGZT2HLXb0XKgCHk2yyFSzi5uu9e1NPSQcWp16XEsA/2D6sGxmgwHLxY8Z6Bl+s6Qk9WFqa1m/JxtW2NxrUqQouUMYZ0CuacFy2g+4g1zaygUEEdFWs2Qis2bLu2aFTVGPKMFlrNcUSYqN+V/w17elcjYloV1g1acHnTa9gKPE0kRSvmFZZ3Y7doU4RpraZow13HFq2a1oeVvgoar3zMld+sgIsYqCSLmr33Q3opIoVCoVAolH9G+cRwQTLcrmzBqNaVoVK82KYCjJuNwH72YxUiDZmfik+Xl6GzNRHEQjiLaZdRkJOOr3u7oYJhHcy+VdrI8B60qKQCqxlXS0aGNxOBaNQQi+5LjwwfRcdqyjC2O4cI0QBmfho+nluNnlUUhfsqo+GY7di5pDeqK+lgwllvbjeGwqh3OLx4KOqYsvsPC88hZ44eMw7gQ1QaP4L3I7K+4oxdZVSoNgAni0eG72F8AyNU6LDlu5Fh5629UEG1CRbc+IkYJndlPxhiP7oR1ERx0u+Ngx+IGPbdg0YVVVF9wd3vRoZPjLVCheqDcUYQwyxZEW64Yj8BNubKJc+nYIKWg1fB0SVccuqKFOzI8KYOMtAyrYm2nZtCR/R77Xqw23wDgRnCMxNSgo+hs5wB6o65UOrI8K7uNaGiNxrXg0WfOiHXzw7D3R1T0cSgghC3CqjYfir2P/qGNFHE2H2GVzaABul0lXsBnUBOvAdOrx6GulpCvInpNBiAVY6fwH6wLd9zDxrrk47QjJvfjQwfGlkbFcyHwVFYQFeY5omzi7txW/hx11KpiaEb92AXKU96snUx82LJyPCaZtZQVWuArh1rQreCEF67PkZuvAn/pJI0Y/M55ZMjZnW0gpwQP63qJI246lCE9AgXnF09Eg0M2UWqwnXULGA7eg2ufU7k4pzm74ChGsqoN+AQHRmmUCgUCuU38QtzhvOQnhCFkCB/+PsTCwhGRHwpArIwCwkRwUKYIEQkZpK2vhC5yZHwDwpFfEYpo685yQgPCUBIXLowzaEQOUkRJHwYEtjPh4mTm4oIEjYoNg35EqoGyE6KQUREBLFYpGQX4MOuvrBQqIs1z8JKBFBOGmJI/AID+OcIDI5EcpbUhUqjKA9psSHwD4lGKv9NadJJyERsWBD8I5KEz0iLKEBWUhR5/nDyvOKC6MfkpcUgmE0zYgFhsUjPJffITUZYcABC4zNQKB7FolyksnEJjUaa9DTZggzERYYgULhWUEgEEkignz1h8ZzhxhNxMyQB4UI+B4XFQDrLCkmnJ9I/CKExacXTUkrIRXJkKAKCyO/ypUoHEbtx4SS9uLgFIZItGxIUISsxjORJKBJLZmqUnzySt2x+CNcPj00tLiNFpIyFkcIeEic9qToXKTGh8A+OQXrxp/AIWYkkDQK4awWGkvwgp4pykkgehSCuONH5OcPqFafjflA4wkleidIsrdRsL0JGQgSCuPiRfI1MgMSXrkn8Y8OFukPOB4VGIlH41DdLITkfHRiAsGjxr+BRKBQKhUL5V/hnC+j+MIrys5AUE4XYhEQkJSURi4PPXXv0tJKFQrMleM6+JqeUSfFuEjbT8OwfLsL7+xAtoJuDVz/6PB6FQqFQKJQ/mv8JMZwZdh+zaohev4tMAZqGzbD0kqfEoj9K6RTGeWNZfQaqNcbgXinfRaGUxnssqqEDRm8SHsVLD9FTKBQKhUL5/8D/hBjOS/qMCwv6oX3r5rCxsSHWFF2HL8P51xH8p3ApP6UwJRgnp7RAr/Hb4EJHOcvJFxwb3x8dB+7CxxT69oFCoVAolP+P/E+IYQqFQqFQKBQK5Z9AxTCFQqFQKBQK5a+FimEKhUKhUCgUyl8LFcMUCoVCoVAolL8WKoYpFAqFQqFQKH8tVAxTKBQKhUKhUP5aqBimUCgUCoVCofy1UDFMoVAoFAqFQvlroWKYQqFQKBQKhfLXQsUwhUKhUCgUCuWvhYphCoVCoVAoFMpfCxXDFAqFQqFQKJS/FiqGKRQKhUKhUCh/LaWK4by8PCQnJ1OjRo3ab7eUlBTOSjtHjRq1/39G6zS1/w+WlJSErKwsQelKUqoYTk9PR0BAAMLDw6lRo0bttxrrdFgr7Rw1atT+/1lgYCCCg4NLPUeN2p9ibDmNjo4WlK4kPxTD7A9pT48aNWq/01ifEhUVxRn1L9So/f83th6zeiEmJobWaWp/rLFlky2jrJXGD8VwWFgYdwF2WJkaNWrUfoexPiUyMpIz6l+oUfv/b2w9ZsUwO+JG6zS1P9XYssmWUSqGqVGj9l831qdQMUyN2v+OsfWYimFqf7qxZZOKYWrUqP0RxvoUKoapUfvfMbYeUzFM7U83tmxSMUyNGrU/wlifQsUwNWr/O8bWYyqGqf3pxpZNKoapUaP2RxjrU6gYpkbtf8fYekzFMLU/3diyScUwNWrU/ghjfQoVw9So/e8YW4+pGKb2pxtbNqkYpkaN2h9hrE+hYpgatf8dY+sxFcPU/nRjyyYVw9SoUfsjjPUpVAxTo/a/Y2w9pmKY2p9ubNmkYpgaNWp/hLE+hYphatT+d4ytx1QMU/vTjS2bVAxTo0btjzDWp1AxTI3a/46x9ZiKYWp/urFlk4phatSo/RHG+hQqhqlR+98xth5TMUztTze2bFIx/KcZSVc2bTkr7Ty1P9PE8y25lPPUfmps2lExTK0sK6ljtHz8fzA2n6gY/jeZWF3497Q54tf/38479vmoGP6RkedLSUn5of3z5ycFq/g65N9S51LTM5GZlYXMzAykpYif+xOs7DTh7H+9XJRqJF3SMrh8yyKWkZ5K8jWxlHDUyjK2TlEx/B+0n/g4zj/9SR275FSkZ2ZydSwzIx2pyYlIJMeTk8XiTDuif5Sx9fiPEsM/KfP/n/wO1+Zksm1OptDmlB6uLBOvO9J1PTk1Xbg+26al/U/XLTbfqRj+oZX0iL43tvCkIjWVFKBSf1u2iV+r+BhbIJN9cdl+FsYOGYCRk+bi5MsE/h5/UCEUj3vpVvrv/mctJR3ZCd/w/MRqjOw3EAMH9MHc3ffhHZmLzLRSwlP7obHlh4rh/6SVVn9LjG0gU1NT/4BGkB0kSEFUwBPsmTUSQwb2w6Rl+/DkSy6y0sl5iXhL/5baf9PYPPmzRobFy4q0kTaYlPc/rc2VtmSiPVISYvH69DKMGj4Q/XqPwtxNjvDIzkB6KeHLNPHnFx0j189IiMaXy5sxfNhgDOg7BDPXnMK78GxkpIr99n/I2OenYvg7S0VWbhTcH+3C5E7d0LNvP/Tp3Qs9e3RHd2I9evbB4JHTsO7ILbhHJJLKU35BnJqZjagv77F7Vjd07dwJ/WZswh33aORmkl4dW8CT3bB3bGvUMDdE5YbtsOZGAtLSyLn/esVMQUZWEgJcLmLF0G7o3rsv+vbpjZ49e6B79x7o0YNYt67o1L0PRtvfQFwCabxS/hIxk5qJvARv3NwwCvWsqqBKJQv0mH8RbmEFyGYb6tJ+Q61UY30KFcP/CSONXXYivr4+jcWDu5bUZ1KPu3dn/VwP9Oo/FJMX7cTVN35I5HxTadf5T1ky0jJTEOZzCbNaV4a5sT4a9pqDS+6kQSqKwPNTKzC2Vyd069kbK856ISI+iwia0q5D7T9tbD3+U8RwelY+PG7swvShHdGtF1vme3FtF9uG9ewzCKMnL8IOh0f/x95fQNeRa/+66BvvjXfveOfc89/Qe/fu3k0hM8fsmCGGMDMzM3SYmZmZmZmZyXFihpiZGb6nWl5ObMcdTrft6OsxR9patWqpVJqaP6lUEs/DEkmrFJ3Aii05JY1UIVZPz2mNsb4GNX8xxqv3Cm7nZpFRwfEVWzrZ+cFc2jaJTi71cfdsy/Rd9whLyiItPY2shEierOqDvp4WtWto49ZlNudD88iqpgM8St2UYvgtSyO7IIJbB8fg9lMNamtroWtggpmFNdZWFpga6aGtrYdBXVua9F3IheCk148SlMcV6WllxXGq+vF5ZmYmOflFxPneYELTGvz603/RbTiYfQ8SRYMuKllmhhCQj1jd1x0z7doY2Xox63ii+G626ryvHw2+JTKVR/TpZIjzK79RbKKHWF6kCwdSjlHOlak88hABLj1DOVbkW6RnKKK79PFlLIXMnCReXl1BF9Ma1NTQQkffEFNzS1EmVlgpZmGOiaUtjSbsIS5ROJOqPJRzF+el5Fwprx+9iN/OSFPVo2SR/9fHirylqR7/qPOqmi7y5pqTk0UgL/XoJjUlhTTlOl6XffH0hJTUNPX1ifOUlEkFHQulE5KeUfx7ZcpPHPu6MRR5TH2rjEWZKfdDKefEBGKjIggLCxMWSnhkLPGJb3raZX5DdU3KYy0l76XvZcl1lEyRSSE1vVQ5iLJKrbY+V2xKXZBi+M+wVDJzE/E+t5D2xr8Kf9YW/mz02p8tzUww0NVFV8+Iel6dWXzKX7Qxb3xHGUFLU9fN11ZR2ySOq9hvSup+Kd9X/FdpJxKV7yqDDMr3itOVtkkRw+EvDjDK3QhtjZrYth7D/idKRIrm7OLu2NX5L7/V1qT78mfEpEFezptpZkqb8VZ+hY9V90e/lcEUP64sYjgjp4g7W8fgVfdHatQRdd7AGAtLJX5ZYm5qgqG+Etet8Og6jl03g0kXdSS1VP0obseL609xTCmum+Xr0AfFFMUU/xD18q3YrdYQySnCB0p8Q/mu+veVv5W6HRsVXhxzQsMIj4gmXjm3yjeVY5R4mi5iqToOqv4ujjtKHhKF6C0klDPLe2L9n5/4pYYpA9bcJiIL8oXvpIvzJ0RHEKqKaWG8iohSDXK9jmkVtAGqeFiqDUgUMU25vmL/Vsc04e8leqliPfPXmFI3pRh+y4QYzo/gzpEJNKyjg5Z2LTz6r+TC83RSYoK4c2AObV3M0NPSQMvMhQErLxMZ6o+3jzfe3n4ER8SSmKquNEoBh/nzQnz2/MVzAsKj8b54kBFNddHW0qRu476sOfGIkICX+IZECgH1iDX91GLYriHzzginiAnD74UP3s+f8yIgjNhEUaHE+VV5VYShCCwJ0aEE+L7ARxzz/LkPL3wDeRWTJCqrUtmUaxLHR4vzvPThmbcPvsFR4ruxvAr0VX/nJUEi38lCQKaUKYsSKxbDvtfX0Kuejsi7BmatRrH3Rggp8VGqxq7YIoiKiSM+5hV+z57w7LkoEx9/wqISRDAV1yIcOjEqRFyPt8jHM575BBEdH0/sq0CRh+JjQ15FEhUeyEsf9bX4BROVKIKZCJQpyYnEx70iQOTZ+9lz/JUyS0ogIkhch7iuwFfRJIhAnyYaIiVfIQG+ouyV8zzH54Vyb+JUHQelIVHmGiqOmpooyiHIj5fi/ijHPffx4aVvACHhMeJ+KA2S6ESIvMdHhuL/uoyFvXiJf1AoUbEJ4phE4sQ1B/v54+8fSJgQwwlKoBemdIYykuNUv/E6Lz4vCQiJIF6cWyXQVWUcTaj/S54/8xb3T5SLENOxr4LU5fAc36Bw4pRrK7n31dCUNkWK4T/DisXw8wtL6WqlhZZoiyzbT+TI3TBSEuMIfnKepX29MDPUoo6mGQ0GrOOR0kkV90TlP6lJol0LxFe0S8U+8wK/oFfEirYzQ10/lbZECeqx4cH4i3bH57Ufirov6nJ0fKKo96ITGRYg0oXvP/clSPhvogiOSqCNCQ/C1+eZSPfBLzSa1IwUIkqL4TZjOfQ4l/TEx+yY2hknQ00hbozoMusM954G4OvnS0iUMhiRLkR2PBEhIk3k93Ub+dJP/F4ksQkVlY+0L2WKH1ceMVzIvR0TaGZdEw1dQyx6LOKxXxjxsWF43zjMooHNsDTQRkNTE/sOkzn6OF6ItlTxXWWajogpCaKNFjGzTEwJF3GzJKaIeKGKKUmivQ/2LxNTXigxRdTvOFVnr3i+b3paMjGijfd7+SZ2v/QTxykaQsS62MhgfL2FbzzzUcXnhIQYESNeiON8CY2KJzE6nMAAf/wCAsV3YoTviBgZH02Y0BPPxPee+4YQFSUErYiPL1Tnf6GKmYnKb4t8JMbfYevMrtjXFm2Arg295x3m1nMlP36ERSeQEBtBsDi/v584v8h7vCJcxfdUeRcxL1L41JtrfKlqA5QYpcxfVg3SidgaLuLec+UangcSKTq5car4X/ydlwGhRCsxTaVR/lpT6qYUw29ZOTGsVROvwZu4HaYM4CqjF/Ecm9EaGxMtNAztadl/LhsWdsFcTw8dHUf6LTlBQGYemUK8paUFsXN0U6wNdDBz8qDX3Im01dVFz9CYunXrYmJkiJ6ONnVq/opVn5U8CH7ElsGemOloYGLnwfCFe5g3qAmWoseqK75j06A78w7eI0rkMV0EnTSRl6AHp1k9uQcN7UyFQNcU4l0PC6em9Ju6nnOPw1ST4NMVRz63iJYu5mjpm+PaYTxr10+lS31z9PX0MTK1p9XgZULwx4mgk/a69/fGyolhzdqYtZ/M+YBcVZ0oKipS/Yv4pzAvjeiXp5jV0QkTPW1067rRb/FJgjLFhxnBHJ3XHWcz0RnQNafxsK14h4Vwf3kvjAz10bPwonO/EYzo6YGprjZ6+nWxcGvHpA0XCYgVPUwRwIMer6JbXWN0derSsNvvLF6/mL4NLdD4yZBuiy8QnFFEcuh9Dq6YQOcGNhjraqKhpY2RpRvthy3g6B1/0WiIxks4bFy4N6c2z6JvSzesTMS9Fo2glrY2JlaudByzhgsvE8hLTyDg5hGWju5GA3szdLW10FSOMzTFvkkP5u26TyIRXN85Ck8NbbR1rOg1/xS+iaIOiJ5vYqQv13YvpH+L+lgYaqOpoYWusRUNugxj6f6b4rpSVD33tLQLzGrrhqmWHpZObZm8Zj0Tu3tSV9x7fSNTHFoMZM0Zb+JFQ5RWbiSiupjSpkgx/GdYeTGsgWWn6Zz3SYaCHLKzsgjaMxZnKwPq1DLBue1sLom6nCnakbSkCB6c3sSEXk2wrSt8RkMTbUMzXFr2Z97OCwRGi3YpTRl9isL76l5mDemAu40Retqawm+00DM2w63lIJaceklmfBj3l/bE0EAXLSNPBq+6QER+FtnZ+dzaOJJGVnXQEX7WesZxooW4jvY99EYMt5/C+TvP2Ta0Ado1tDA0Ee2piTK6p4Nm7Rpomzox9WgC6QnB3D60jJFdGon8GqIjfFdDU1e0eQ406TOFAw/CRXugPKGqqJykfa4pflxpxbCIuYFRyeTlZJKRlU1K2B3WjvDAQMQLTQ0rus8/youUPOEPacSFPebomql0b2Qr4ppSh7QxsHCmzaDZHLj+goRkZRQ2lfjIF5zfPp8BbdyFRlAGjkS9FzHF2NKJtsOXcepZtKjfmSTHhXDvzGam9G2Dm6UxOloirmjpYmztTvcpO3mWFM39IxNppKWDjq4VHUbPZ+mSCbS2MxB+5MK0g9682DEOO3Pxt4EDHaYeIFAJw77nmN/TjTpCB5g4dWHM2AG097JEX1sXAxNr3DuNZfuNcHLCHrB5oBs/1dbBWGiRuibGwnd00axTR/hzQxac8efFsTk0MjVAu441bcZs5lFBNpnCt5Nig4U+WsPIzg1V16jETW0jS9xa92futnO8iEwkTZRnftRt1g1rgYm4BkPjFozbsJKZw1thbaiDnoExtl7dmHvgHhFJ6X8wCPfnmVI3pRh+y94Ww56D1nMjqJCcTNHryUrn+rJu2JkKEatXj5YTNnLp8jLam2hQu3Zt7LrN5bxvhogpWST57mawpxVaNXWxbjKSXXcPML1ja1ysDTE0NMTE2okmbbrQvUsHBi0+zMvwR2wa6IGFaNANTcywr9+ENl2606VtExwtDITD1EbfYxA7boeSmZ9L1L1tDG1sJQSaqOgWTrTo2I2ubZrgZKEvHEYb2zYTOfIohqy8HFLPzKepvYlwEn2MLRxo2KIt3bp3ooWXPXX1dNCobUr7aXt5miAq/Fvz7cqKYR0h4E0b9WbR9tPcuHqR8+fPc+7cOc5fuMSjgEQyMpIIvrKO3g4G1KpZEwPXTqw484ynh+fT2sGQmjXrYOE1lF2PE8hJDOfuoq7C4Ysfy1rYutOyUw+6d2qOq3Vd9HWE4xi7M2bPU1JyUgh5soJOBspUFUOs7Nxo3rEznbt0pVOHPiw8+IRQ0WitHdYAMyHE9c2dadG5G906tqS+jbEIkhpYtRjLftHjz88N4uD0ztgZKCNKZtRv3pkevXvRo1snmrtYYOrRkWWXI0l9uJMhjc1U5Wni4EW7Lr3o3asnnds2wM7KngaDtxFMJNe3D8f1t1rUEuXYbc4JfJMKyU0O5MgcUVeE8+voGWPn1UZV5s3dbTHWqoOmSX2GrL3Aq7Q8UbcuML2lI0ail65vbI5jgxa079qdji0bYGsqOloatbFQ3c84skU9LHt/qocpbYoUw3+GlRPDmnWw7DKba0HFndvc1EguLOhJvbra1NIypfGI7bzMzCYnLYabuyfT3FqLOrpCADduQ9ce3WjjaYeRquPrytCN90jJT8X/0hp6Ool2SHTurJwa0a57H3r37kbHFo1wtDGl2cwzJEe/4v6Sbuho16Gmriv9V5x7LYZvrB+Kp+mv1NYxpPnUo2+L4XaTOHUvlIvrxtDM0RozY0OMjI1x8GpHp06d6TloLLuuhnB7+xjcjYS40TMTn7WiW5/e9O7ehdZN3LA2cWb8Ph+iUzLLPA6X9uVM8eNKK4Z7L8f3Vbzo5In2VIjZnPw4Hp+cSQtDbSFia1GvyyzOv8gmL+Ex60c3xVJfdOZMHWnasSvdOrXBw7YuWrXrYNZ4GNvvxFCQH8aJ+b1xNhLiUM8U16Yd6d67Nz1Fm9/STdRRt5bMPhYK2ZGcWyPqt5kiukVcsfOkdafu9BDHNXa2xcGtH/uCYnhwZByeNTXQ0q0rtEADWnfuKmJdF7r1GMOOq/683DoKS2Mtamjb0GbSPrUYPsOcro78WkeIdQNTHDxb0LGbiCMt6mNlpC98R1fEwN85evMZV9YMx92lHuYGQo8YmeHUoDUdu3SjR58J7L8bzIsj0/EQZVHrVzNajNjIw8J8CtNecXHNMNxF3rU0DbBxb0bHrp1p28gBY6ELNI3s6Tr7AP6phRRF32bNoCbo19IU4tcMW7eGIn52pWuHpjiYGaCroYWZRx823IghO/3NVMq/wpS6KcXwW1ZODGvWoMHwHTyJV64+n6TQG8zp7oSpTh20jB3ot+kJqcG3WNbbDm3RQ6pt1Z5Fx5+RSR6PNw+jvqU2GvrmtJp+itgcSA66y/Q2OqIHVpu6LUdy6EmyOG8BOdlZpKnnDJvraGBg6cyw9Q+IEvEpP/wGy/u7FfceNRsy8ch9Yojm4O/NhYMKUWVoTovf9xGQVEBe7AM2jWtCXSHeNDQs6Db/OH6pwv8uLKS5kym1tY2wbTaeoy+ixdVk8vzEQtpaKgGxFtadp3POO4m8zPIVs6wY1jUyxURfmxo//8j3//mBH374ge///U/+86smfTeEkJCWS25KJDc3j8XDXIc6Gvp4tGpJowbumIjAa+jYjgXHn5OckUt+fCh3FndHXxnR0bWj89S9+GYpFS2E/VM7Yy8aFi09A2x7r8E/KY4w79V0EYFPS0MP186TOOqbRm5uHnm54jeFWL69ZgBOJuI7Rg70WXKdWOW2idI6v7IPdkrQ1RIBe9NN4vyOMLJJPTREo2Fk5sKIzXcIzyiAolwSnl1k5/adXPZ/zqU1/XEWZaOtp4dN55mcfRon7qy4J5kh3D25hw27rhNdFM61HSNxr6WBhqYFPeadwj+liIRbK+jsVFfVAJm5dGPFrQhVmfscW0wnW33R0aqFQYNh7LkXRU7BVWa1dsGktmgcbZowRfT84/NFMbw4w8wOVmhqi7pl2Z75J56QnJf1l/ekv4YpbYoUw3+GlRXD2qLDaS46t/PWH+D0yQNsWzaBtg5mqhEyq2YDWXMlkNw80fl+cICxzYyoUVMLx05zOB2oeAKkem+mt6sZWnUMsG8/n7uv/Dk/pxMGGqITqKWPV//FnA/MEK1ckcrfbx9dz7oTj0mNDuXekh6ql3TqGLgzcOX512L45obhNLCoiaa+CS2nH3tbDL+eMxzLxRX9cDOojba+Ef3W+BCfqcoWqSEPWdzDHE0lSOs50mPWPl6KjidFRSRHPOPEhtUcuhlEjGjz5dzhr2OKH1cJMZyULD7PJujWLgbV10BbtLcaDYdy+EEY/nt+F+JP/K1nTde5FwgvVGpXEtc3DsJRV4Oamo70XXmJ2KAzTGplr4ophkIbDFp7lZBUxUfySH5xjb07NnPyqYjcNzbSp74+tTV10bNuxMStV4hIyyc/NwW/m8fYvHw7t2MiuXd4PA3qKDFf+MCY9dyJFPEyL48c4Yu5qXEEbBmOVV1dauvZ0W7KfrUYPsu87i4iT0K4W4g4e9KbZJGe5HuOSa3riU6riCOmbgxYdYdCoSEuKfGyRh00dGwZJjqy0UKjFBbkkpcex8vDU/E01kOjpiWtRm1Ccbf0+7sZ1tSM2kLE61m1Eed/RlpBNhG3d9DbzQRdEd8NXDqz5EK0+NF7rB3SDKM6mujqeTBy+yXCswvJjnnI8p5CPIuyq2XVgJGb7pCfnf7W/fozTambUgy/ZWXFsI6eNg4thzBr1V52b17DrGGtsTHWoVYtLRw6TubkS9HyZoVxdcNQHLQ0hMg1oePsIwQkB7N9WCMstDUwrNeelbciycgtIvr5FeEwyuPFOtRtLoTQ3WgKREVQJsenJJd6gc6uAXNPCRGalUtRkg9HZ3bFVEOcv7YX4w8/IDr5HBOb2mMgKppxvcbMPS3On55FXlEcD49Oo7mBCHJCbNn3Wsz1wBzyrywWYrgutbRNcOm5ggfJqeI6i3h17ygjGwlnEOe26DCFM0/jhRguP/JYbmRYT5+6Tk3oPXwiM6dPZfLkyUyaNIHJ02ax90ZU8cT5jGwy4vw4uqAXLub66Orqi6Cnh6F1Q0ZuuU5UagYZGRnkxIUUi2FVQPRg8JpLRBdmkyWcJvLcIjq4GVJHBFSL+mM5ERtJ8PM1QgwbiHLWp0HvxVyJUFZtUJaBUl42eMia/l6Ya2liaOFKv5mb2bZtJ7v2bWLx1F64G+qJgK1Li3H7ef7kEpNb26BRWwsDEzMcm/dg5KQ5LFm5jp2HL/IsLE3U9kQurxmCi3YN0aFRRvI96dR/NDMXLGXt1j2cuvWC2AzR0hSFcnn7iDdieP4pAkUH5M6qnjiKRrSOnjnuAzbgl54mGtwCsgKus7SvI7WVx3FaTZh89JEI6TeZJ8SwsahXZo5dWXcniXQhCgh/yO4xTUTjI+69WVtmH39MghDDqWXuT/UwpU2RYvjPsLJiWOncKoHp5x/+zX+Ul4ZFR1pXCMt6on3aftWPxKwscvJjuS/alRZK51vHiAbdJ7Js8z527dgmfGwmPetbYyg66xb1e7L9ehBXV/TEpFYdcR5DzJwa0XnwROYsXMHGbfs4fzeI5HwR/BPUHeFPFMMHVGI4nNOLe+NqUEclhnsvf0R4Qo5oP7JJDn3Cuv71RGdcB30DExy8WjNg/EwWLF/Llj0nuOUfR1ZW8XsVyjsEFZeVtM8xxY+rihhOz84l5PZ+hnoJMSzqcm3PYRx5dI1DE1pjpamBgakjPadsYOu2Xezau4lls/vhJcSilhC/jYdv48nTm8zpbI9mTU0MjE2xa9qV4RNmsXjFOnYcPM/j4BRRX2O5JLSCh5aor7raOA7eyJPwDPKUucmifJSX37Jz8ikoCuf2wXFCDAsRrmFK5xlH8EksJCstWTUfPyMp9t1iWEMIUMeBbHsYTGp+LplJcVxd1BEzoV00NOvReuxegong/PK+ONUUsUWnnoi9NwhJzlW9ZJeZEltODG/Bh1we755MM/NaaOrqYdljCfdDElQdZeV9qq0jnDHU16KmcX36rb5OTtoj1gsxbFhHQ8T/Niy67UtCUT4Z8ZGcmNkSE31Nalo0YNj6G1IMV04rK4YNTJURkhr8999/5x///I5///c3tIVTtB8yi323Q0XlFRUzL4PQW9sZ7G4oAkktTNvO4tjBdYxsUQ8tTT2c+67naVwi2bn5RHqXE8N3osjPSlO9gVpGDKtWk0ggLTOHggRvDk3vXCyG6zRgwtGHxAQeYohXPXQ0dDF36MaGe/GkCIGZnZ/EszML6WylWfxiTNeZXPFLEWJ4yWsx7Nx9KXcTksnKKyT0zhGGNywWw5Ydp36QGC6ZM3zOT3QjBYWFhWoTwjSjuF4kJorzFxUQ/WgvwzyEQ+kZY2ygi5HXOE4qQSg3U/W2bFkx/CYgpmfkkHx1DV09zYUQ1MPMZiC7o8MJer6Wrmox7NVrIZdeFS/3kpysiOGLzO1QX5STEN3imDo//5vvvvsn/xT37fsffuK3WrX55Yd/YNtjFTfD0/HeN4MOjkbC2WtS47df+fVXYTVqUkfXgkaDF3DqpRDZwVdYMbwR5jp1qFnjN34Tx/3yaw1qigbExKk9EzfcIrYooszIcE9FDAstfXZuGxxMalHHyJrGUw+TpnQSMnMRhc5Wcc5aosHVqeXJuEP3iCothh06s/pmHClZeRS9us+uUY2LxbB5O+ZIMSzts63cyLAIbGbu7Rk7az6jO7piZlj8pr1D+0mc9U8iJ0OI4cJQru8RdbyGtmgT66Kn8Ss//Osfqjbxu+/+w8+/1eS3n39Aw9SN2efTiPc9zfxu7hhr1xJ+U4Pffv2F38S/NWrrYOnZhRlHnpASV3ZkeNCqC0R+tBh+xakyYvghr+KzVfM3M1Pi8Du/nt4NrdCpXYsawn9//eVXVT5qaRvj2m4Uu24EkZAiR4a/lil+XDXEsDI4pPjEIjqYKgNJIsa1m8kl/6tsHNgEs9q6GJoYovHr969jyr//UxJT/o5lh/lcDM3C9+h8urmYoFmrJjVLxZTaOmZ49V3AmaDHnF3TH8dfFb/TpO2M07yILhAxrPQmTelkF5QVw52mHcQ7Pr94CqPQCh8khh36s/leIMm52WQlRvNwTT/MTfSEWDen6aBNeL8lhq8TnJSjeqn7bTG8jRckC78chpfwNS1dXTxEmk+YKLdsEY+iQzg0VQhffW3q6LvSc8lFEtIes+G1GG7N/Os+xBXkkR77iqPTW7wWw8M33JRiuHLaH4wMr9zDzq2b2LRlG7uPnOdJcIJqVEF5XJ2cmkN23GO2T2opxIwQoRbN6dKuEa72huL7jozY9Yh4IdayRM9TEcMTW2qrxLBpyxEcuB9LYfbHieHxR8qODJvYNmHB+TjRo8v+oJHhzxbDoldr1uZ31fzVAiXvoi68NvV3UkReMuL9X48M6+jooaeMDFvUp9fikwQkpKl2k3pLDCsBsSBbdBwK8D08g5YOutTRNsCs8WQuxkURIsRwychwWTEsOiVZD1jV1wtzTU0MzR3oOXUTO3fsYOuWzWzeskX06HewY8d2jl15THBCIeTG43PjBLvXL2fBzAkM6dkOd5u6GAknraHhIPJ5DmV2TMarp5w7uJmVS+cyefQgujZxFI2KIdq1NbBoMIJjYTHc3l1qmsRbI8MWeAzdSlDaB44MSzGs+v+KjpH2JaysGFbNGe46l1uReaQ9XE8fN9Piufr6pjQdsoo7YbkUFsVy78gUmukpgVAf9y7jWLZ5P7t3bGHz5s1s2bqN7du3s+/ISe4GZJCfn0tyyH1O7NzA6sWzmDBqAG08HDAXwVVbSwfz5rO4+SqQe8t6inZB+L5efQYoc4aLcsgV/cU7m0fS8IPEcBgnF/V6LYb7rX5GZGIuaamJJKdninNl8urxefZsWs+SOVMZO6gzDZysMNZXVvTRw33sHkJjUsgotfyjtC9nih9XZjHsFy7ieEaaiLN55Kb4cWh2WyxFu1yntjkdZxwmICuQnSObYqmpgb6pLV0mrmP7jp1sKxNTtnH04gMC4wogLxHf26fYs2EFi2ZNYljvjnjWM8XIQAg/EVP6rtzFoX3jaFgyMjyo7MiwsgNtRSPDnyqGt9wPIlUI0MykKI5Nb4apkbg2HXH85ENEiY7kmWV9cKqhiGFbhq2/TWhKrmq5uPeODIt4btlrOU9Ck8jLE77+3pFhKYaroL1rznDxCGiBuPlKb/LNqgspqhHZBwdm0tK0DjoGphibGGFopE/dhmM49SJaVPJ00rNyiHp+lSlt9NBSRgXtO7LwxEuyxZnzs5W1Az9QDB+6i7htqjnDFvq10TKypO1E4bhl5gyLAPPWnOEvJYaVXvNETvsoUwnyycnJUZsQscpqFKmZZCZHcm3TaDzMtaklnLlpt860be5BXY1aaFs3Y/ZRb5KF2Hs9Z1gExNoG9Rm06gqJ4qxZ0Q9ZM7Il1sJhtPWMaDb5GK9EQxD6TJkz/LYYVvKYlpHIzdXKnGEtNA2saDt2J4+i0pUbpyI3yY/Lu7ew68RDwh5fZsvazRy45S9Epwj2uRlEPbvI3G526IvebS0NV/qv2ioauV3iuJM8i0kjV1kPOvkV97ePwcPSGG3RUFl7DuZAYAx3lFGzd8wZtnDvxdo7b88Z1i83Z1iKYSmGv76VE8PKahKK7z8Tnpcfz+21w3AzM0BHW3k/wIl+S68QI9q92AcHGNPUmJq1tbBuPIJNl4JQpverKEjG/85Jdm46yP3nftzZt5aFu64SFJ9OYX4OWUkRnFvaX/UOhaaWARaNpnApPIiH6wZgqqeLlmgjWoxcz4PUIgozIzk2uzsuJkIwGLxPDEdzVgR0N8NaaOkZ0nD0Xl7E5VIk/ksK8+HAunlsu+hNbGo++aKNSo25w5rhLbDREe2Kvj4uI7YTEi2EUpqsb1/DFD+utGK43xrC4kUNFu16YtgDDs4fTKN6RiK21MHUcwjbbkWQU5TBg00jcDfTEt8xp8XwTdwNEwFVTV5qINf2b2Xn0buEPr3OzrUb2X3tBUmZIqbkZRLz4jpL+jqpRkxradjTdcFx7j/cwcCSOcO2TZi07SoRqXlCV6QSeve0as7wrddzhj9PDG99FIGQ+SLO72ZII0sMhAjXs23OlP2BxesMr+yHs4hb2rpGNJ+wF5+EfIqK8t8/Z7iOtjhPB5ae8ia9IJvw13OGa781Z1iK4SprxWL49uFxeNXUpE6dX6k/YB3XldUk3rGjWIqo/Gk+J5nZxR5NbX2MjIww0K9Lh7nnCInPUK2/mZyeRUb4U3b93hgdTWWhezPsvVrQsUsnhqhXk9jQvz4mGjXQt/ZgxrE3Yvjg1I5CKNWidk0Pfj9wi0jR2Mfe265aTUJPWxfDilaTaDup3GoSRvymYYhD1yXcKRHDtw8z1KsmtcS5lakPp98lhq+tpoeVpqpXaGTlTNO2XenVozvdunWjW9cudOzai+Grzwvhn0DgpRV0sdGnZg1x3oaD2H4zhJcnF9He0Yg6wvksvESv9Y4QgQnh3F0ixLC+AfpG5jh4tKCzslpDmwbYmhmhqyx15taPzffDycxPIfixspqEaABq6uDRYwEXX4thUaFTMkSjdpuVQxtiJsS1tr459Zu2oXO3HnTv1oX2rTyx1jGmleg4+F4UzutljZHyJm/HLvTs1Yfe3TvSyFGIV01NTBsMZffT2xxe0AW7Oua4NW9H5+496d2nF11beWBhqCsEdz3Rwz5AWF4k13cM+4PVJLpjb1S8moT9W6tJuDNkXdnVJAx+q4OJbUdW3SgRw/fYOaIhNZR7X7cNs45JMSztc00ths8vobN5HdHGvfH9gtwc0qN92Dq2mWq6hJaWNvq2rZh68Clp2QncVlaTEB3i2hoGWDl50aZTV7p3706Xjq3wsLPA2rUfe68+5bjokNc2tqdRq3Z07d6LPn360LGpM+aKLxjZ0mPRRaKE3wbdWCPaCdHBFm1YXWvRpnQQbUmndjRytqausgqLfunVJA4ywlUfjVq/Yt1yFPufFFJYkIXfsXmiXdGjjpbSLrnQvG17+gyfxJq9N5jaWhcTO3datO1Mt5596NunC83d6mGso4WBZQtmHhNCOSVdribxlUzx48okhu9uH0cTy9/Q0DHAyNaTDp270VPEsA6tvLCrK+q16OiZeXRh0bEnxKUpm2pkkBz5kPVjmmGlLzqOuma4NmlFp65KTOlKh9YNsNEzoumoXfhcPcjQJvWESPSgVQd1TOnRmSbOZuhqaWLi3p0V58PJy47k/NqheJorKzLoUNdeiUHdVKtJNHd1wFHEu72vV5OoLWKzMR2mHHhbDG8eKvyp/GoSJS/Q6WJsZk+D1h3p1qMLrRo6qFaN0tQxo9Hg1dyJzSQvP4NnR+fRrp4GdYT/Gdu40aJdZ3r2ncj+O+9aTWI4HmbKSluGb60moby4Xn41Cb2aoqOq1ZK5196I4SPKlAqd2vxq6slQOWe4spp6ZPjoRBprKS9+1aHBkA3cfI8YVpZmycsN4fTy/jjraqJnaICBWXuW3wokISuzWLyIMlMW2g5/cpI5A5thb14XI1FB64iek/OQ9TwJfcTWIQ2w0BOOY9+Q2SfeiOHDM7piLoShjlZDxh+6TXhBLtmp8QQ/PMOaCtYZ7j91A+efiPukLDr/ep1hMzSUJV96Lis1MnyUkY2FcBTntu48jbPvEsM31tLHTl/1wpmpiRF6ukqwVEaWhGnUoYZwDpcxOwnzOc3cTk4YiXS9ek0Zt/0WccpbqhkhHJ/fAxdzXbR1THDrvow7IUGqR6UGynq6pvZ4NW5BY1czVX4M69rQtM90dl31JVY0Slk5iQSq1hk2EuVgSMM+i7hcSgwrpqyTHBvymFMbptOrhSuWxsoIrBDwWjromdvSrPNoNl4U5wu8w+YZfWjoYENdfeUJQHHZmdk3ofeElRy/F0xydjRPTq5maCt37CwM1WsMi7IyssSz7UDmbbuAd1iS6HmHcXXHH60z7Mf1PYsYUGadYWsadhnOMtGpKb/OcF1lFNmpK2tuvRkZ3j2mqWqtSh3LDsw9IcWwtM81tRi+uIzuNrqijSvl+1lpwocyiXt5jEltHDA1NhB+ro9dmzEcep5Mbno0zy7sYOagdrhZm7xZd9ugLnae7Ri/7CjeQvw8OTiP7i3cqSfaCR3VGsOa6JvY0rDTSJbtv4pvRJKo80KEJgZzdeskOrrZYCzaAB0hoLtO2cqKaf1oaFP8ct+bdYYPM8bTRHT+62Df9ncOPikgN1OcI8GfsxvG0a5+Peoa6aNZpyZG9s2ZtdeXE8uG0M5LCAFjcW6lHVBEggj67YbOYveFp4Qnpsi69hVNKdtKNTK8cyItbDXQNxYxTNRtHdGuaipPaQ3MsPdoy5A56zl7P5A4Ec+VtfyVFytTREyJD3vGuS2z6dfaHetSMUXXrB6NOgxn7ennIu48YNfcATR2qoepQUlM0cHUthHdxy7h8C1fohNSVRoqJT6Eu8fWMb5XK1ysTEQ+FD/SFZ25+nQdv4WHyW/WGdbWNqfL9ENvi+GtI7ExK7/OcCkxbONF6+ZC5JuL/IrYZm7XgH6zd3LTP0ZcUyrJqRmkxvtxdu1o2rhaY2IojhNx3MCiDcsvBP7hOsPJsSLvRytaZ3gA87af40VU2XWGjUWH2sCgLQtuvBHDx2a0wlR0dutYNWLkxltSDFdOS0bZUSw2KqR49xfvZ6rdv2ISlEazouNLLI2cwkiubBiOl76GEEW62PdZwf3QBCGKSs1HS04hJSWJWNUua+odkcS/fsqOZAlxhKt2U1N2rFN2mSm+SSlJcUSGBqjSvb19CVZ2OFPt1KRsz5ha8Q500aJCintVfgc6b28fXio72Ym8JKekkBAbRZCvcl5vfPxDiI4Tzl/BdSrXruwsF/hC5E38ho+S99Kmuo4X+CrXoexA5/1UtQuO98tAIsQ5lV3zklNFXtU70Cm/9+xFCInRwdxRv0SjYejOgMXH8IkWZa8+X2CYaESVoKm63iQSSnag836Ob2BYBfclWbUDXWpiDGGBys5yJbtkiTwqu06FRRKr7CyXFE9MZBhB/r5v7oOq7AJUO+YpOwmli4YnIS6aVyGBxbsEieNU51J2nwtW77ilbG+ZkkBMRJC6vvgQEBZFvOhAlOxAl/4xO9Ap9+FFAK9iEovrSkIsEcG+qvJSdugLjYoTjWH19D2lrksx/OeYyp9FmxCg9sUyvq+0OamJRCptkVLfRRvo7aPs6FbsF8qUghjVznKKTxTXacUn/AJDiIxJEN8XfiPalbBgZde3N8f4iDatuN6nq3Z1VPKRItqg5IQogv1eiN9RzuPPK9FBTBB5839RsgOdskKNECbxkQT7Kr7/jBf+wUTGKT4mrkXxoTjxmeI/Sl6EKX6stIFx0eGEiHbgRbnd54LDY0hWNhFR75gn7euY4seVRQwrOxvGRqjjT6kYpooNSuwSdSo8VsRNET/SyrSxxTvQpQkB+ipI2VmudEzxJSg0QrWToWpHRVVMKY47pWNKaGQ8Kco51DvVKTs5pgsfiworuwOdaqc6UTcTSu9AJ2KKsnNcnCqmqK8lKZF4EXOUmOKt3lkuITOPopdvpknoOfRj3eWH+AvtoOxA9+KlEleUnWmFoFWfR7XNuuI7iv+p8qAcF0i48OP4qFB8lfM/Ez4YHE6cEoNf70CXoNrVsfwOdLGio13RDnTPn/sTFhOv2iUvOTGBqFA/cc1CA4h2JUhcb8pfXjekGK7YFLEkhErxvuBZqpurbAVc4bEllpZDXsQt1g1vgqEyeqjnytidd4lMzVbt813mWOGUinOV7OldvGe4qJSiTFXpyr7dmcWOoxyvBAJFVKn2F89SRJoIJCKPxecTlU441lv7m4tjSiq8ypTrUX4rS3z+2hkSVQ1EekbJXuHvfqtatee6al/x0r9VYiJd/KtMvi8W6SX7o5dtWFJSS/YmF9/JFmUmesilX6AbtPoSsRSSJ45Rzltc9qXyoGxBrd7bXCVE1enlreL94ZXzpZGqqrtKmYpyU/ZtL3OMKLvXArX4POX3YFeszD7siYp4ENeluj/KPvJly75MXtRlp8pHmQZXmfOsfF5874s7Mep7L36/orKsbqbUfymG/zxTtXFqX3rb99/Ux+LPSzrWwpT26602R5g4Rtk2Xan77/S/cnVYyYfyMq3qd9Rtl+JPxXkT31ELZ2X7+dfHKfkp1Sartn9W+3Lx58W+kqJKL5+PYh9/V1sn7cuY4seVRQyr4p2oDyX1qmydEKbUmfJxs5S9v04Xx4E/jCnl6psSe9+OLW/ij7LaUrEGUXxASSurQZTdZUtiqerzjNwyYljXYQBbH4WRWZRPTinfKn99xWVS/PvFPqgefHrdPijXKM7/WnNUnPcyMVGYaonVktgldIsqdqnPoQhqVduiztNfvbShUjelGP4ilkJGTjo+xxfSzvIX/vvzL2g2GMPxp1GiEqT/oXN98yacOTcumFvz2lOzxs/8UMuOXkvOEF6QJXrhFRwvrVqb0qZIMSxNWvUxxY8rjxiu5paRBy9OMaO9Nf/+8b/8Zt6ddXcCSM7JqJabNH1JU+qmFMNfwpLTyU4P4fruOfRt2Yo2bdowcvlpfKOKHylW+B1pqtHqrPhwnu6cTvt2rWnZfjDz990mSjhvdZwTK+3dprQpUgxLk1Z9TPFjKYb/JFM23Qq8ybbpA2gmdEjbvnM59iyU5MziJWAr/I40lSl1U4rhL2hvHu1lqZZek4/hPsSSVXOCix+lZJabAiLtWzKlTZFiWJq06mOKH0sx/OdZomr6QskURWUqkSzzDzGlbkox/CVNlIlSLsVWwefSKjZZbtKEKfdfimFp0qqPKX4sxfCfa8VxtNgq+lza26aUlRTD0qRJqxSmtClSDEuTVn1M8WMphqVVdlPqphTD0qRJqxSmtClSDEuTVn1M8WMphqVVdlPqphTD0qRJqxSmtClSDEuTVn1M8WMphqVVdlPqphTD0qRJqxSmtClSDEuTVn1M8WMphqVVdlPqphTD0qRJqxSmtClSDEuTVn1M8WMphqVVdlPqphTD0qRJqxSmtClSDEuTVn1M8WMphqVVdlPq5ieLYdWe8uIE0qRJk/YlTGlTSsSwbF+kSav6pvhxiRiWPi2tsppSNxUh/NFiODQ0lPj4eNWH0qRJk/YlTGlTlMCpmGxfpEmr+qb4sTJ4pnRwpU9Lq6ym1M2IiIiPF8PKB8oXpUmTJu1LmtLRVqyiz6RJk1b1LCQkhLCwsAo/kyatsphST2NjY9VKtywViuHU1NQ/VM8SiUTyOSQkJJCYmKj+SyKRVHUUgaHoBomkMqMM9H7UyLAUwxKJ5GshxbBEUr2QYlhSFZBiWCKRVBqkGJZIqhdSDEuqAlIMSySSSoMUwxJJ9UKKYUlVQIphiURSaZBiWCKpXkgxLKkKSDEskUgqDVIMSyTVCymGJVUBKYYlEkmlQYphiaR6IcWwpCogxbBEIqk0SDEskVQvpBiWVAWkGJZIJJUGKYYlkuqFFMOSqoAUwxKJpNIgxbBEUr2QYlhSFZBiWCKRVBqkGJZIqhdSDEuqAlIMSySSSoMUwxJJ9UKKYUlVQIphiURSaZBiWCKpXkgxLKkKSDEskUgqDVIMSyTVCymGJVUBKYYrGwWx3D+xh72nHhFfpE77WuTEcPfgGtbtOYtvYqE6sYRMfC/sZ/PGPdwJz1KnVU+SX5xn84atHL0XxVtFnuTP+b3rWHPwHrG56jTJV0OKYYmkeiHFcOUmOfA2hzbv5sarZPLVad8iUgxXMopyHzC7mSmWrRfyrLw+/ZIU5eB/bBJudY1pOeXgW2I45dlWejka4tR9EbcqFMMFhN7cz/b9V4lI/0zVXpRHQtBdTu3cxLKli1m4YDFLV23k6O0gctSHfBr5xPre5NjO9SxbspCFixazZM1WTt0LJVt9hEKyzzFGN61L3WZjOR1SrjkQYvjw1JYYmTgz4UgAOV+7g/KNI8Vw9SYvJYQHZw+wYeUyFi4UPrl4BZsPXSYgqUB9hKS68S2J4ciHx9mwdBmnnyeRp06rFBSKeH9xO6s3HuFZuebV79BEXGrUZcx5P6r3sNe7kWK4klGU+4QlnV2o32MVPl9RDGdFnWeilw2OfVbzLE2dWEKWP1sGe2HRYBgngiseDs0KOsO0NsaYtpvH45jPUYiFpLw6ydQWrphq1uCH7//FP//5L/7zc21MXdswee99kksr1w+mkFTvg4xq4YxxnV/4z7//yT+/+xff/6KBhWs75hx8REKpS0t+toVerla0mnCcV+UvJ/UlG4e4Us9rDKdCMt8ePZZ8MaQYrs6EcHRWP7yMtPnlx+/57rvv+O5fP1LTwIa2v6/lZugnObqkkvMtieEH6/tgU1uLIXuCyFSnVQry0zk13h0j2+7sDlCnqQk8MZtmJs5MvRJYZpDoW0OK4UrGnyKG89K5vbYzNrZtWXbt7UYq7PQ0mlk7MGTHi3LOUUSsz3EWDe1K+6ZuWOjXpt6AdfjEfY48zCHsyTK6i7yMWrqVY+evce3aBfYtG05Dc0006g3lSEjKJwjQHKLOzKFto15MX7eHs5eU817jxIYptLHVoI7775wOLH3tadxZ0BELp46se1S+dwAZt1fT3s6KTqtuk/4tP0v6ykgxXJ25yfzunek5eA67jl9U+eO1M7uY068+GjUcGLT+NsnqIyXVh29JDD/ZPgJPM0vGHQ6tZKOsuVyZ0wbHhkM5Fq5OUhOgFsPTroXIaRJSDFce/kgM56cEcnrDVAZ27UiHth3o2m8imy4Fvp5GkJfyip0T+zBuwT5uep9k8ag+dGjfjo49RrHmjB/ppc6Vk3CT6U1scB+4Ab+3an8wO4Y3xtprLNeiy48KFxF8ZSEtdb7n59q66Gpr4jj4c8VwITmZsbwKjCK1dF7yw9g/pRWWtZqw+FnUJzhpoSiTGMJexZdrlILY/XsjtIy7s9M7Tp1WTGbgIfq72dJx9jkS1GmvyXvFjpENsG8yhasJnzd5Q/LHSDFcnUknOiyCuJSy7Ur0naU01zKl/dxTRKnTJNUHKYbfpjAthLMbpzO4ewfaizjdtc841l8MeB3Pi5IC2DtjAKOW7ufKnXOs+L0PHdu1o1P34aw4+YK0cgNl6WE32DxjGN06ivN16Mn4xYuYOWYovaftJTwxi7ubhtLC2ZS65vY0aNWRjm1b0qTPFA4/yyD24gKam7ox7fh5zuxfyrCeHWjTrguDJq/jRlilmuzxVZFiuJJRkRguiLzP2hGNsTA2wtBAH309ffT0DDC3b87MY4EqoViQ6M/8NtroGNXD1dMBSxMj9PX10NbSxti+N5vuRannMBWQcH0hTe08GLPbT0jGcgQdZGhjG1rMvE5CBX6Ql5lEZHAAgd4nmNXRAdsey/H+LDH8R6RzeWEnbM27ss0v4bOnJhTk5ZKTk4z/lXUMb+pAs9E78UkuN08xK5wdg91wbDeT6xXosYA9o/G0bcTcqwmiFCVfAymGvxEK84U/5pAUep+dMzrj6tWDNVc/pdMrqexIMVyWopj7rBvdCktDw+J4LuK0nq4+dZ1aMvmAT/FBsUIHdDWnjojnzvVdsKor4rmeHjpaOtS168Sam/GvfSXZ/xRT29hjYmggzqWczxAzKwuMdTTQbLcQ/+gMzk7zxMxQB0ND4+Lf1KrFT/Xai/OkknR1GW3q6WLl7Iqzg5U4j9AXOtpoaFvQYthmvL+RuRNSDFcyyohhJaEwhhvLemNu7MrABUfxiU4lNS2VkHsHGNvSnnodFvFUeF1hSijLu+qjbexAp7EbuOYbIxqhSG5tGolX3Tq0mneTOJW4zSZ4U3/q1e/MhodvS8zYCwtpZV+fcSeC3z1/qMCHDf3csO267KuI4Ty/w4xobk/D0XsITn1Lsn8URfG+bBndAFNzS2zsGzFw/hH8UiqQs0VpPFvXCwfP3mx/+vZvFj7bSg8PO/qu9yfra+h/iRTD3wQFJB2fgYeTDeaWNnh2msDeO+HIxVqqJ1IMl0LE86tr+2Nn6ESf+Qd4GpFKWloa4Q+PMKGFEw6tZnNXidMJPqzuX4/aevYinq/mok+EKMcY7u0cg5eVIY1nnCdDHFaUEc6e0a7omTjTe/5RnobFquK+7/1djGxhj3GbBfglFJCTFsnBCU2x8+jLlvvKMTFExyeRkVtEyKkFtLH5FQOX7izYfZMgcb9iA26wrKcNJk7tWHvv2xj6kWK4klFaDPuJvwtiHjK7dV2cusznfEA4UTFKRY4lOvIV5xb3xMmuAxte5JObHMzCVmZ49VnNk/xSSi3qHBNbWuM4eAevFO8hk/MzW+PQeCTHI1VHlMF712i8bJqz/Gn0u0c/0x+xurcrtt2+vBjODr/EvJ4e2LWdzoXgdHXqp1OU4MeOCS2wc3TFxckWt1ZDWHU5iIzS5aQim5DTE2ng0IbFl+LVaaWIP824Jk60mXmeNDmE9VWQYvhboIDk03Np5uWGs5MD9o4N6TPzAN6JUg5XR6QYfkNR1B0WdLbCutNczni/eh3PYyJDubu0F3ZOLVn5UByY4M2SrvVw6bWS+yml4lT2Zaa0cMSm12ZSi4rIithPHwsLmozcQWCZgO3PlkGNMGs+R71SVCGX57RWzRk+WuGcYUcmnHtZ6qW/Al7tH4WdXSOmlP9CNUWK4UpGaTHsL/7ODrnDlJZ10NTRR1dbGy1NTTQV09JGs3ZNNPW8WHIvn5ykECGGzWk0YBO+xacqJvE6szs44TJoq1oMZ3B6anvqt53LLdUBZfHeMQKvhr3Y5feeV1m+khhOeXmcyd08cGo9iaPPv9zrNEVFhRQWFpIacI5ZPR3RsxvIQZ+EctNE8kQPfQFthRheeClWnVaam8xpXZ/2085IMfyVkGL4G0EEcsUfCzNecXXrWJwM69FjyXniPu8hkKQSIsXwG/ICLzGloym1tHTR1SkbzzVq/YJGXSfmXhUHJgox3KUe9fttKDdN4Q7z2rph13MTqeSTFryW5mbuDNz8SP15Cb7lxHA252e2wqHBYA4GFR9RQvFqEi5Mvx5S6ulMHtGnpuJu35gpx0LVadUbKYYrGeXFcE7oHSY11cHcrQ29Bg+gb5/e9O6tWB/69hvA8LELOCu6hDmJQSwQYrhh/w3F0ytKSLjGrPaOuA7e9loMn5zSFrfWs7hewdDv0x3D8XTvxna/9wiSLy6G0wk6v57BrZzx6LuQCwGqzH4Vnu0ejuuvjky64l+uwRJi+P58Wtu3ZuHFaHVaKYpuMLtVfdpNPS3F8FdCiuFvj8KYx0z2rIFLn7U8+vwHQZJKhhTDb8gPuszUdmYYOrei54CB9CsVz/v07cuw8bM4oYxmJTxTiWG3vut4UiYU3mauIoaVkWEhhlODV9PcpD791j9Qf15CMDuHNcG82ew3YnhGKxwbDuNoWPERJVS8tFoukSenqMTw1GPlvlBNkWK4klFaDCs+UZTynNXdnbDvMJ9rb22BlkF0QBgJRUXkKi/QtXy3GA5TOVUWt+Z1wE44xeEK6rjfgfE0tGnGonuR73mZJYDN/esLp1xHaEVPN/MziXh2mQMnrvAs7F0jvEXkJAdzccMUujZqzMClpwh9x/yMvJxwHp06xtkrDwl/l14uyCM24AlPgmPILq3VU16yd0pLjOs0Yt6NkHILo2cRcmI8Xs7tWXG9gsY77iRjmjjScd5N0r+NaVR/OlIMV2MSgnn63J/wlNJel03gpfW0N9OiwbCtvJQLtVQ7vj0xbM3Uc0nqlHJkerO2nyv2bWZz6VV5uZxJXFgosSK5KPYJizu/SwxvIrWokKyIQ/S2qIvH4LV4lzouI/w8szo6Y9xqHn5qMXxuRlMs63djs3fZwauA41IMK0gxXMkoLYZ9VHU2Qwi0OXiZ6GLbfAgLN+xk95497N66jllje9PabQj704QYTgtmwXvEcKhq1CWf6MNjcXFuzZJrby8LnnFnPV1cnBi805+MCgZ806KecX7fNnZsns/AJrZYNurHwnVKnk7wKCLr9bSD/BhxHW1r8a+67Vh57V31JYfwC7PxqKOFuTjXou2HOLh/L3t272a3sF07d7LnkjfpKsFdQPy9RdT/tSY2Hefz8F0aOyeFU9Nb4tiqF5PmrWWr6nxbWDiyNfU0fsOk4yKuR5a7/vxkbsxvi12jIRwstzC5QsaN5bR1cWD47vDXS+BIvixSDFdjhP+0b9GMNkOmsnpLsX9vWT6Zrm561NBpyNRDL5EDw9WPb0sMj8TL3JA2Y1eyTR3DVLZzO1v2n+JeWCxBlxbTwlgP62b9mSdi5x4Rz/dsW8fs0X3o0LIv21Qjw8XTJP5YDG8gUelTZoWzb7Qruga2dJ6wQvVbOzYsZHRHLywNtNDrspSABCUq5/N0fTeMDc1oOngBO0R+Nh84y7MoEX/PzpNiWCDFcCWjeDtmMyzbLHqzHXN2LPf3zaKzhwW1fvgHf/vb//A/331PHX0nOozYyFPhFHlJ/kyrr4F95xU8U39NRdxFJjQywbz7eoJTipNS/bfT096JXstuvr1LTvIVprdzoP6QA7zKKslACUUEnJ+B+3/+3/zf/+df/PDzb9T45Uf+8T//h7/9w5TxJ6PVI61FJPjtpZepNo1GbcXvnVvxZOC/ewRm//2Zn3/+gX//8x/8/e9/L7a//Y3/87//N981mU2IKu85PF/bEwOLBozdE/z2snClKczF99Q8ujWwQfu3H/juH/8jyu0f/KxpRdPeszn2NOotQVuY9oKlHe2o33slz95aSiOfe6t742zXgfXeKe/+bcknI8VwNSb8GitGdcDKoBb//fffhD/+jX/8pwZ1nTsyffsVdWddUt34lsTww40DsNcS9fqf/+QfJXFMsf/1f/H/+q8lg7crr8Un8ODwArq7W1JbHc//JuJ5DQN72o9cXTzIE/uI2c31sOi4jAdl/OI6UxpYYNhuBbGqJY0KSfE7y9ROzuj8+E/+53/+xr9+NsSrX1+6NHLBvN08fIuXkSIn+ALTu7ii/eN3/J//9X/z/9VtzMqb6SSImO5S07Tcdsy5hB8ejZWRI2MOhKjTqjdSDFc2CuJ5euEIxy55k1hmZLaA6Be3OHV4r+hJip7mvoOcvfKYkKTi6luYncKj0/s4cfUFZaREdiQPzh3m6DVf0tTTGQoy/Fjfw5567aZx/a3dJVI4N7sj9Ww7sefF29EpLcqbC/t3sHPPXvbuLTZVz3bvSR6/HhnOJODIaBzMmzDtaOi7V6VQzXu6y1HRo1XOU3JOlSnnFen7Lj8nQ/hzYU4k2wc6YdtyAuffyncFFKQR7nOX8ycOs3+vcv69HDl9E7/4iiaAFJF4ZwWtHVwYuvlZqR6ymtSHLOzmhEvPdbzMlHMkvhZSDFdnCsiKDeb+ldMcOSB8W/H3g8e59uRVhfMrJdWDb0kMJ/jd4sT+7ezcXSqOKbZ7J9sOnuZeYEnblk/si9ucOrRPFc/37D/IqasPCYpXe0JWgtABBzl6xYf4Yi2rJoZHZ49y6PILskuthpQW9oCzqnPt5eCJ6wRG3WZl30bYdV1OYOKbeJUiYu3pg/vYJeLq3tM3CE5Splo85tTeI9yLTCkVqwvICL3HsUMnuRfy9o6s1REphr9FCvMJOj8ZTzM3hm/1eUv4ZTzfSl9XG5pPPknMp+i+rEiO/d4Muw4zuKoejf4SZMadYJi7A90XXHt7RPtzyQ9h9xBPbBuP5mR0+YsuIODgeBpYuDH+RBB5FUwfkXwZpBiWSKoX35IYriwEHJ1NKwsdWs2+Sqyc0/dBSDH8jVKU4ce2gfWp23AY+73LNVRF6Vxf0o16to2Ze+7VR08JyI66w7SubvRaefvtEdZPRvSkL8ymRf3ebHn+hb27KIsnu4bhbuvM8C0v3hqlSvU+yMgmdXHrtwmfFDlB4msixbBEUr2QYvhrkkdc4CGmde5C1x496NmzJz26tcfD2hDD+v3Y8yRJRE7JhyDF8DdM0vO9DPYwxX3Acm5Flh0NLUy6w8IuLjg1G8GhFx/3mKQgN5XwkACiUss83/lMishLiCQwKIr0L6xHY66vprO7LQ1HbiegvBKOusuqge7UdR/IHu8vt+6xpGKkGJZIqhdSDH9NCoh5sYV+1kbo6WqjoVEHLW1TPLpOYte9CHLkU8wPRorhb5p80qJDCQmPIS33ba/JSozmVegrEqr5HNm81BhCQ8OJTa2gD52bRkx4CKHRaaXmU0m+FlIMSyTVCymGvy6F+ZkkxUYRGRFBeHi4sCjiUrKQOvjjkGJYIpFUGqQYlkiqF1IMS6oCUgxLJJJKgxTDEkn1QophSVVAimGJRFJpkGJYIqleSDEsqQpIMSyRSCoNUgxLJNULKYYlVQEphiUSSaVBimGJpHohxbCkKiDFsEQiqTRIMSyRVC+kGJZUBaQYlkgklQYphiWS6oUUw5KqgBTDEomk0iDFsERSvZBiWFIVkGJYIpFUGqQYlkiqF1IMS6oCGRkZHyeGFfWsfBAZGSlNmjRpX9RCQ0MJCwur8DNp0qRVPZM+La0qmFJPlY5bRVQohtPS0lRfzM7OliZNmrQvakpjpFhFn0mTJq3qWVRUlOppT0WfSZNWWUypox89TeKP1LNEIpF8DkqDlJSUpP5LIpFUdRQRoQyiSSSVmY+eJiHnDEskkq+FnDMskVQv5JxhSVVAvkAnkUgqDVIMSyTVCymGJVUBKYYlEkmlQYphiaR6IcWwpCogxbBEIqk0SDEskVQvpBiWVAWkGJZIJJUGKYYlkuqFFMOSqoAUwxKJpNIgxbBEUr2QYlhSFZBiWCKRVBqkGJZIqhdSDEuqAlIMSySSSoMUwxJJ9UKKYUlVQIphiURSaZBiWCKpXkgxLKkKSDEskUgqDVIMSyTVCymGJVUBKYYlEkmlQYphiaR6IcWwpCogxbBEIqk0SDEskVQvpBiWVAWkGP5Y8lIID/LFNzSe7EJ1WnWkKIuYYD/8gyNJ/4uvsygzjpCAlwRGpVKgTquWiLr1yt+PwLB4ctVJ3xrfnBjOSyUq+AW+4p5nV+vKLUG0XpkJ4fg+DyAmLU+dVv2RYlhSFZBi+KPIxnffeNxtHOmy4CyR2erk0mQnEPDyJeEpOeqEz6Agi/hwf3yePOLhgwc8fPSE54HRZKo//mTyM4gN88dbnPfBg4c8fPiUFyGxZKk/VpEfxtFpHbC3aszMk2H8ZU13YQqXF3fH1s6LsbufklGkTi9PdjyBz+9z72UE2Xl/dNB7KMonI8pPlIko64dKubyxBw/u8yw4jpzPFCyF6bGEvPDm8aOH3L93T5R7PFkl50x6wOq+Xlg59mLz42R14rfFtyWGc/A9OJmG9azpOP8M4RU5dkGG6CD5EBiTzmf3SYvySI4JxvfZYx6p6vgjnvm+Iulze15FOSRFBfNCnFfxnQcPHuPtH07KF240sqJecP/RMwKi09Upn0B+GpH+3jy4d7+sjwv/vqc6d5r6wE+lgJTIIHyeFpfFw8fehCeX3Lksgi4uoY25JU3H7iWgWo+mvOGvFcM5xCux7nFxDH3w6DFPffyIiM9Qf15ZER2nxGCePHxBZPIX0BKfTT6pMQE8euxHXHpZxy5ICOHx4yf4vEpSp1RNpBj+CLJDDjHc0xr3fht5kVFRQ5bDy0NTcHdoyfwroXyiJFNRlJfBk0Oz6d3MBoMaP/PD9//mx59rYeLamem77xCdna8+8uMoKkjkwc7pdGtghU6Nn/j++x/44cc6mHl2ZdbBe8RkllJ7yY9Y1d0Dy0ajORHx1zhk0q0VdLCtR+tZZ4j9IyFalMrDzcNxMfiZX1vPJyDuE6N7XgLPlnWhVs0a/PqTKJcfSuw//Pu7f2DSdxNBn6xR84h7fo7VE3viUVdbnP9H/vH//P+w7beNZ6XOmRt8itHN7XHqtRTvb3Aw5VsSw1khJxjb0BqH3utEHajIn4uIvrWRDq71GbT1oWhdPociQi9vYHQXV8w0fuO/338v/P4XdKybMnTZKfyTKurZfwiZBJxezfC2ThjV+YX//Oc/wmqgZ9uMketOi/N+mWccBVF3WNTJjP/oOdBn7X116ieQfItFXV2p/Z8f+PG/pXz8X//gf/1qQvslN9UHfjxF6RHcPbqcYa1cMKr9C//+1z/5oaYJvx8tJd6LEnm0dQS2Fu6M3/+MrG9AD/9VYjg/yZ9LO+fQt6kdOr/+zI/fi7r531+pZWhF894T2Xg5kJz8z4nSX5M0nh0ZhplOUxaeC1On/ZUkcnNDDwyMOrD9Xqw6TaGItD0D+a2mBvXGHlOnVU2kGP5QRCN2emYHrB06suNJOcfOSuTFzRPsWDeTPs2sqGPcmdW3X32WGM6ND2ZhJwNsvDrQf8R4pkyZwoSRvWlsa0Bt3QbMORv8SdM0clOvMa2pDa7NujJ47ETVeaeMG0gbZ2NqGbdi0fkQSofFzMfraW1fj05zrwj3/FiKSA1/zJXLtwhJ+oQh1Qxf1g5yp17jcVyK/KNhplzCTs2jfVNnLIzMMO+8CP/4TxXDiTxd1hkDSxc6DRblopSNyiYzaeJ4Fh64S0KZ4fMPJ/HZboZ46lNTy5wmPYYyfuIUJo4bzdJ994goNyIYdnoc7lZujNwdWL2nhVTANyOG8+I5u7AT1rYd2Xw/seyob34WoY/OsX/rUkZ2dUFTpwHj9j35PDFckMPu4XbYuTam+6CxTBL1evK4IbStb0qtWjYM3nCbxE8ayfVjbZ/6uLq3pLe6nZoyaQTdG4l2UNuFEZvv89kyKN2fPZNaYm3ngImZB4M2PlB/8Amk3GFJD3dM7Voy9PdSPi78e+z0hey4FqI+8CPJiuXSmr7YaPyKvkNz+oqymDxxAlNmzufo03J3LvUF6wfYY95kBpf/okGGP5O/QgwXpr9g16jm6P9Wi7qubRk4Sh3rJo1j9MCeNHU1Q6/zYsIr7IRWBgoJvTQRW5N2rL2Tok77K8nFe98gzC16ccSvbHzN9T7F0hWr2HzBV51SNZFi+APJDTzAYE9LvCaeIb6c/xSF32VGs1/5//yvf/LzbzWobdOLdXc+TwznZyZz/9w+Lj+NLDV9IYnbG8bgbvwrLWbdIuoT2tH8nFfcPnWSO/6JvLmMfLz3TsG9tg5dl9+g9N0tKojg2Oim2DUZxfFodeIHU8jLo2Np1qgbu558vIpMvLKEtrZW9Nj6hOwKCzOX8Gsr6ODekAHrVzKnb0vsWs/F9zPE8KMFrTFrNJijX7AzXpjjx+aejugaOjNoxWl8Et4tcQsznrCkozMuPZfw7DOeCFdFvhUxnOV3jFEexnhMPsxbeig9iu0D6/K//8/f+eGnn/nNuBkTP1cMF+bz4upBzt3xJfG1e+Tid2IJ7Sx/wmnQdp5+0lPORJ5cPMm1x2GUrqrRNzbRzqAODUfu4oU67ZPIDOTQjK64tezP4j3zaGftycANnzEyLMTw4q5OOA3cTvQXG5XNI+rKSjrUrUPdpiPYesPvPR2APF6dnktjS1fGHnhRdnpaNeRPF8P5mTzc1gtrLX1cu8/i8O2QsmWck4z/vTPsPvuA1JI5ajlRPDx3iG1bNrBp0xb2Hr9BUErpdrqIwOuH2Lf/KiFpkTy9fJTt4tgNm3Zz9n7I21MXi1IJunuOfTu2snHTRrbvPcZN7+jifOQm4X/nPHvFZ1s2bxK/t4ltu45zwzdWPfiRQ9zzMywa3hJzEzd6TVjCZnHchvU7uewT97odyIp6xoXDu9i6caP4jV0cV+pdqTgZ8+w8+7ad4Hl8FP4PLrB320Y2bNzO4UtPiS/d8c2MxfvaKXZv31Kcn42b2bH3NPeCSxqEDMIfHWFGn4bUNWvA0BkrVPnZuGkft4NSyU4M4Nrp09wJKPvYNDfam3MHd4jzbWDz1t2cuP6S0kfkZ8Ry8+B2Tlx7QXSyP1cO7xTHbmTzzmPcD/3zA58Uwx9EHs93jMTdrgmLbsaUEpFqMuJ4fGEPGzdvZM7Q5lhadWTlrc8Tw39E7tNd9HTRptW828R+qU5tQSznV4jGw8yT2aeCyjXOhcTdmImHTQN+3xusTvtQCvE/PY1O7QdywPtjH8MmcWZuZ2yd+nI8MK3Cskx8vI1+DVxoOfEYr4Tg3CNEu3nzOV9ADA/iaKg67bMpIuX2QhpaWNJ6yrEPG10vyuHFlr7YOXdg1e3PncNYtfg2xHAWzw6Ox828MUsuVjAfXwTzgFuH2bJ1C0undsPBzIuxez9TDP8RkbeZ2kIb58G78Pli8SeDx4em4mFuxYC1d8oEwI8jlitLeuLk3ot1t4KJf7WBNhbu9P8iYngb0V/qsYsQ7AcnNkbHrC2b7n9gIcbdYE47a1yH7CCgmrv4ny2Gc9PuMtPLCFP3fuwIeH/cKUh6zr4pPalvUot//eN/+Pvfv+MXHWtajNzAnfCSucVFHB7jgom+I52GdqZ+3dqqY//23U8YuAxgw5VSgrsohusbJtLBwYBfv/+Ov/39b/z7x1rUbT6GncpT5eQ7LOhkxf/8z9/45z/+Ln7v7/zrBw2sWg5kxbVX4gTJPFrdHc1//oa+sR61fvo3//jb/+F//V816Lrqocqfkp8eYHIvT4xq/sB3f/ub+I0f0bBozMSt1wlXZ+Temp7U0zKiRf9uNHMy5Kfv/sb//P17apu3ZtquJ6Ibqyb4FGMaG4v8/I86P//g3z/pYN95DFsfxosDorgwoxU1/lkDA2Mdfv3xX/xN5Of/+T96jNgfSOztVTQ2sxB5e1R8PqGQ4rxPMKebB0a1fuDvf/sf/vGvn9Cp14wRKy8RpW7wsiMfM8mjNnWd2tCrfxNMa3wvjv0b//pZl/rdlnI9MuOraKg/QorhDyKSw5NbYdtwIrei3+1cgUd+x8OqFUtufg0xnMnjrSNwtmrKgkuhn7niQCYRt/cyc8wYRgzqSbd+I1hy5BExGW9HiMzo84xs6ED72ac/8pFnEQFnisXwwecfGcqzHrK8pyvOvTeKHvrbJZkRcIZJ7TxpPnwzL1XBJJAtgxph3mIufgmf9LxXJYZV0yQsnOkwcAITJoxj4qTpLNp0iueJn9jzKMrj2aoe2Dh5MmLVEXavmMnkiePEuScwe+V+7pW0XGUoJOnpWto6ejJs2zN12rfBNyGGC19xYmZLbBpO4GLwu+tVypPVtLN2ZcSeryGGC4i4tJjmlo4M3Xr/M1eNKSDd9zRLlMfQQ/rSvVd/pm2+RNCbYeiPJJVHe8bT2KUtc84EqdrS1KC1tDQXYvhLTJOwbc6g0YqPj2fyjAVsPS7avk/MamHYVWa2qYtllyls3LGHZTMnMH78OCZNm8uG409IUB9XhsIIjk9rg1WT8dwM/SrdnErDnyuGi0jxXkOruvVoNnY/ipR7JwV53NvYAytdA1y7T2fL4eMcO7KLhYObYqqlR6MpB3ilzvrpmU2wMKiNvojv45fu5Nix4+xaNBxPwxq4DdvKc/VxAadminqqgbHnABZuO8Rxcdy+1ZNp16kb43Z4C7Uex/ObZzl0/DTnL1zk4qVLnD28lmFN6+HYZQV+ImakBN9i4+QOWJp4MnjuFvFbRzly+DQPglMojLrNnI526Js1YuziHRw9cYITB9Yztq1Iq9eVtbeL5/Q+3ToMT/NfqG3owYCp6zgg8nFo4yw62mpg2Woi56NUh0HaKx5cOc3hE2de5+fU3iX0crfBc8hOwpSRat+LLB3enLrmTRm/TLn2oxw9ep5nERmk3ltNW2c3Bm4qjlX5CS/ZOLgedbQd6T51g7hOUaY7lzOsmSXaJvUZe8hHdVxezEsWdtKmpoYhTs2HsmznUY4dP8iSYc0w0zVi4A5f0r9Uh/UDkGL4Q8h4yMrebjj0WE1A0rskbg6Pd43Azao1S7+CGA6/uZZujo50mX2SsM9d1oAknmzoi87f/yl6rTUwqt+T1RdDKgy4BclBLOtiR8OBm3ipTvtQQi/MpEvHwRz1+8jSCDnJWOE8TaddJqpc/yM9/BrzOzWgUc9FvJlOFcT2IY0xbzmf4E8daVFeoFvehdq1avLbz//lxx9/5L8//UodQ2sadZvDad+kj5/DW5jNsSkNsDavi72jA4aav/HTf3/kx//+lxpaJrh2ncsZ37fFX0bUWdEBcaLj3LOfP+eyCvFNiOHkp2zsZ49tz7U8qlAplVBE2I3FtFLmj38FMZzif4wxjRxpNHA9Tz579Zt84s5NxfaXH/jX9z+hZd2SKbvvk/JJfchMnh2cJTqDDRmz48nrdxjSQ9bTytyDgVueqlM+AeUFum5u1Pnhv8K3i338599qoW/hSZ+pO3j2CVUv+clRhnoJ8WPjhK2lCXV+Ff4tzvvTLzWKX1BcfoHot5q/PO5vHoSzczd2er9XslVp/lwxXEjS5XnUt3Siw5Lr6rQ/pkDE9jnNrbFtNZUzpQJNfsJtVg1wRsuiD3t9ip9tnJrSGHv7Diy9G8zrtSgyvNnUvx5GzSZyQfXg1J81vepjYteTLQ+iSsWLbKLCggiOfFMOCS+vsm/DUhbNn8WUMQNo6WBJPbfhHIkr/jzs0kTs6rZ/a85w4J5huFo1YNIh/zIDYplP99HXzZ7OCy+K6A7Ptw7Gw8yZMYfuEff60uK5MqsZxs6dWX+rdKAUHeMn59m1djEL5s1k0ojeNLIyx6nFVC6pHnbk8mzvYCwse3PEt2xbkXV3OW2cFDH8XPV3zP31dKhbl5bTDxNcav5IkvcmeruYYdNlNcHCH/LjfZjVXAjhzrM5F/LmGgt8dtDPwxj3cSeIqWis6CshxfCHkHyHhZ0daDHuNK/eeXO+lhjOIej8arrXd6TtaNEDTfsS3aUCMuND8X70mMe3j7NoSGvsLNuw8Lxfmbl/KjLC2T6oIZ69VvPOccrcTM4u7UOn9m1p36EjHTt2pGUjZ2xs7GjQor3q7w4d2tO+fQfmH49495vUfocY1siV7mseUab/kZfC84390KulgZlTEzp270oncd6OHVviYW+JiWgEm7XtxMRdj8n52JGuonwyowN5/PgxT548EfaIe5cPMLtPY0xqadJ63oWPd86CbPaOcsLSyoW+87Zx+sb94nPfOc/aMe2x1K5D48kHCS0XK3JjnzOrgz1tpp9A3TZ+E3wTYjjuHqu61cdjzAEC36lBv54YTnh8iNEtXWjYdQ5XIr5ExCkiPzWSl0+f8PjBBTZP642zmSdjNt+i9LvnH0T4Baa0s+aXWiZ4tu5M186dhH93oG3L+ljVtaCeswfth4nO6YtPWB6rII2owBc8fviIxyofv8uFvSsY6GlELbOGTDoSqD7ww4l7sJ9+jr9h03Ioi/df4N4j5byPuXZwDf09jdGv14zFl9/2Yt+Dk2jk3p51j6t3PP2zxXDyjUV4mjvQdu6Ft6c0liMn6QD97Z1oMe1suXidzT3RWXGs5c7M6yGqqUxnJjXBxW0U50rHlcJwTk9riVnDUZwJEn+nXWRCM3tch+z5w2mM2eG32TC+Cx521pga6aKjrYWmhgYamnpYufZjj+o9tCx8TozBtm4bll1Upk684fLC9tib18WjTXe6dVF8Q8S/TsJP2jfDVs+QlhMOorzy8mLbICGGW7EhrLToTeelEMk2Dh1Ydb24nU0LuMCS4W1xs7XAxEDJj6bIjyYadfRxaDqWk+HKUcnc2dIPc8vu7H5Qti5n3l2hFsPK2wG5+F+YgKNhc+adLf/ijT/re9bH1nEEZ4WEyYt/zvRGZjQfu58yVxh7icmtHHEfsYfoz15H9sORYvhDSCkWw20nXSLinbMkvoIYLkjgwd7ptHL0pPvUvfh+ESH8NhkPd9HD7lfqi95YcPkYkxHBrmHN8Oq95t1iOCeNncPqYainjZ6+AQYGBhgaGmFsbIyRYfHf+vp66Orp039jIBWuTleCIoYbe9Jnw2PK9ItzE3iyvCeGdc2wMKuLkTincl4DA0OMxO8YG+qja2BM24VX36zf+5nkBR7n92YWaLZZiO/HLttWmMOZaY2xc+3O9nIv2xZFXWVeRys0mk3nfnhZqZMX58/cLg5SDFdH4hUx7EWjcYcIeWe0/gpiuCiL4Etr6O3lQauBK7hV/rHLl+LVDaY0qYNFl6Xc/tgK7H+U39s7oWNUF1NjI7V/C1PaEhMTDLRroefZi233vpTAyiP82hw8DerRWvjbx75HmO5zjKFuejSddEwlQt5QQOThCThY2dJlxV112hsCjkyliWd71j/+6O5CleLPnjOcEXWQ/lZmuHRZyP33NNc5SfvoY+9Cq9kX1Ckl5PBg+1Bca7ow9WqQagRWEcPOrkM5Vnqd3fxQTkxpgUWjMZxVRoaTzjOumR2eYw+RUOFvJ3Bz4xDsauvi2XMqm09f4cajF4QEBXJ0ehsc6vdgu2oWQYkYbsvySyo1+ppLC9phb6qFgbEJxkaGr/3DUPiKkaEtveecQPlGsRhuzsqXcaVGqFPw3jIIO8eOrL6pDHtFc2ZhDyzrGNJs8Dx2nr/GrSe+hAY8Z/vIhtg3HsExVaVWi2GrHuxRzSN+Q1kxnIPfuXHYmSgrU5UV8UJSsqWvO3a2gzkh2j1FDM9obEqTETuETC5F9Hkmt3TAc9Q+KYYrHal3WdLVCc/BOwl+j0/77B9Nfas2rLxfcQNXmJ9FSnwCyWmZb784U5qiQrLjfDg4rweeDTsyYcudNxPeK6AgO42ExCRSMt4dMovysskQx5TXiWmP99LX9VdcRx0lsNzQcFFqKBv61ser7zqKH4T8AUVFZKUmqCpNscVwd+842rXuzZbr4aXS40jJLHh3ZyHgKCOb1KPtgtvElS4oUS55GcnEljpXsd1iRR8vzJpM5rZvJEkZuerzFwk9mkFCfKIom2zepb+LCnPJyhD3pVzGigKPMbqJOSY91hBYskScOCY3M0lV5mlZ71I0+QRsG4CNrTsTD4WXHamIvsac9pYYdVzM09iyOcuOuSN6x6IDNvPUO+97deObEMMJD1nb01H1EpfPe6b0xNxbTmur+ow5+AdrMojOVpoor6TkNHLe6VBFwm8iubpxNM0bN6f/vBOEvKOzWJSbSVJSIompWe/0GWXJtkzhV3nlDioIv83M1ppYdFrEjVLhIi8rleTEeOGL+X/s//nZpCbFCxFV2r+j8buzkKbmbvRcco64xBSyShy1KI/M1GTi40VawTtzS35OFplZOeWuKZ/IC7NwM3agy5Jrr9vlovwc0lPiiU/OIO9dZRWtDJaYYdphHjciSh9YRPThcTjYODFwa/E8ydJ47xmNp1snNj+RYvhLUpgdzq6hduiYuDJo421Sct+uaYV5WaRn5pCTcpmJnvVw6bqUR6WXLCoI5MDk5hgadmLj4zhVXT31PjGsjAzn3mFWW0dMG0ziUmRZJZeXm012ui+HxjXGWJznuG/pjmgBNxZ1KiOGn58YTT2DFiw8X7aL9WRDH1zqtWb+ZT9iE5JJTUsnPS2NlOR4ol69IjohTVWHH23+AzG8eSC2ihi+kyWqqA8b+rth2nQqN8JLe0UqJyY1LSOGbyti2KQzW+/9kRhWMl5I+K3FNNOzoefyKySULtL40/ze2BablvN5JtLz3yGGJ0kxXEkpCmHP782wbTGTx7EVSFgREFLiIggNC+Tsqv44WzZjxpG7hImKGZWYQUFJhSjKIOD4FFz17Ok2+2i5UYSy5KeKSjrACXObBoxYdwG/sAiioiIIF+d8pVhYDKm56iqel8rVhe0wsWvMmG3P/jjIiIqadm8Tw3pPYPn+8zz1C1Wdy+/OAab0dEarVj1GbH1IYrkT5MTdYUpLe1pNPvLRjzxDz8+kc4fBHPF9d5B6i+TbLOjiiMfQ3YR+0BzgwDdzhku3u3kJ3F/VHcO6jRi9+d47V3NIjbzA/AF9mL3jAo/91WVz9wizenpiqFWXgRsfkaRWs4VCWGwf4oC5eycWX3r3mnNZoYcY7FIXY8f2zBP1IkS5f3632Dq+C1ba+nReeOmtZfJSA3bSzaU+/dfde8f9rH58E2I4L5hDE5pg12oG18MruLtFBWQkRon2I4w7h6fR1NKZAavPERgWRkRcCiVur4it1IdraGdlT+N+q3j2rlGwolhOzGiNvaUtnWfu51HwKyKjItXtSRhhoVEkZua+Fol+u0bg4uhA+zkX3542VZqgI0wdMIYZ6w9xzydI5TMhTy+wYmwzDGsa02nG8VKj3/Ecn9YeF2snxh3++F0t04LXqecMP1GnFFMYeIIJ7R0w9pjAuYh35hbf4yv5fcQI1p26j5/q2gO4d3Q1vZyNMBACYeWNkkBfRMS19fRy0cJ+6BZeJryj/RJle2PDIGxr6+E1ZAlnnyptRwhPzm1hsKc5dZ07s/lR+UGKBC4s6IKN1wguBlb23dA+jz9bDCudm7jba+hko4+msTM9pmzl6pPiuvkqxI9nV0+yetZA2k/cSWx8AhfnNsPIsB7tpu3mYYg4JvQ5p1cMxbOuJpZ9VvJMPVBx4j1i+EyA4phpXF7SHVs9PVz7LeWM+nf9bu5jytTprD1wmuuLO2Og14jJu24RFhFOuO9djq6ZSGsnCyyde7NL9WKOMsI6jfq/GdN64nYehL4SPhpOfGoueS/2M9DTFrsWo9l5+RkhMbHExkTh9/gsa36fwrKDt1VPN7zfJ4ZvK0ozmJ0jG6Fv0o5Fxx8RLvIT9vw6+xaPpLGNGXZNRnNcNcCbzoM9I7D/1Zzu8w/jLa4pTGiSxIw80u+upK1KDBc/N1amgcxpb0htyzZM33WDYKXcvS+xZlgjTI0t6bT8usr382OfMV2K4apGPg82DcLVqQObniW+JU6Koh6yuFtdfvy1FhoadahTpw4awmrVrInbuMPElkzJy4rl9MT6/GbRgrlnwt4pcjKizzDasSa//FYLTW2d4nlFmpoq06hdk5o1WrLMO0p1jqKM5yxoaaBaSmaf37tFZ9azXfT3ssNETwctLXEuZa6SOL+RaT1aj9vCw+jyo5yFJD5dTvN69RmiruwfzucsrRbD0altsGswRgiGD5nT+Jy1QtBre0zBp9RUhoIkP1Z20UOnfl92eGe+s8yzYq8xt50tJvq6xeWsIcpbSxtDMzuaj9rIw5g315AZdZRBlgbYt53JneR3nVUhB+/DM2jtYomBjjIXS5kfpi0aIGsaDlzKlZDyEj2PkAOjcHZoybwL1XvUqDzfhBgWgeXhzuE41evA5ruxb9fJjBgO/O5KjZq1RFuioWpP6gg/rfXrfzHtsZSnMepvCNH8fG1XDEwd6Lfx6WshWyEFT1nS1oTav/xCbVH3Srcnmpo1+Pl7Z8YefaIWvvHsHuqCmYUXi26+pycacYFpnbwwE+2Jck5Ve6Klg56ROV5953L6ZSmhl36Vqc1tMbYdzumoj558T/zLJXhq16PrqjvqtGLCTs+mmVkN3KecoNxg3Fu8uriKXu7aou3TLp6nKXxcS3RITRybM3zVxVJrrCdzc10/rH82Y/iOx7zPxQui77NubGusjXTR1hTnrSPKVccAc5c2jN50U7UcVhlSH7KihwP2PVfjU370oZrx54thQWE6zw7PpXMDByxM9NFVtecaoj3XQle/LhZ2LjSffpiUnELyws4xo0N9LAx0RLssYreoE9q6htg0G8Oeh8UxVollh0e7YmHVh4NppcVwMIfHeqDjPJjjvsVxpyjyCosHtcLeWB9tLaWOaYg6oY2ue2/WXA8i6fFOhjQwQUulFcRvGZrh4N6Uxo7mGNt0Ysvz4l9MCTjPjHbm4rvKcbVEzLdmxM7nKh8NPDaLjl71MNYXdVmpb+I3tHR1MTBsweT991XHPFnbE1stdxY9L1m/WCFZpPfASIjkJVcUyVyE3/ll9HQxEP6gtDOa6AjB6uLZFC8bE0zdBnNYvcxo7OODjG1qLOp2bWoLq6PpyoxTYcTfWSU67Nb0WPO4+EAy8TuzhO5OZujrKG1CHdHGaKFnUo9mQzfwKKm4/LIjHzHeRRPX/psoM4Mw8jSjPU2xG7iTyD+xnyjF8AeS+nADXZ0t6bD07dHFosRAji4ZSufuvejbtx/9+/enX58+9OrZk4nbbguHKz4uL+EJs1rWxaXHYh6+Z1OZnOTHbJ88gD59+4pz9qWPOF+J9e7dk5495nA8tHh2W07IdrrZ2NJ68sn3zy/NSyPg9hHWzBrP0IH96NW7N32GjWPZvhtEVRhI0rgnerL1hCNv8/nYsZxCXh77nWaNP23TjZCjU2hs5ciYE0FlpxdUyCvOrZzEoOl7CU8tObqIlKDDDLA3o9XEA2Un6VdEYSZhD06wfuYEBvXvK+5fH/oNHsPC3VfL7RKXT9ylWXhYujJww9N3Cuw35BJ6+wALxg+iT49e9O43nJkbzxCYUoGEyY1g73Av7NtM5sq3pYW/ETEMiQ930Nu+Lu2WXuatQcccIcS2TqBHz17C39XtiWgDenXvwrBlxwgpUWYFsWwf5IJto6Hql1zeQWEoJxaNYkAfpY0q25706dODrh3Hs/VOcPHKDemXmNjEDteua/F9E0UrpiiXSO+LbF88jZGD+4u2qTe9B41k9oYT+CaU9drse+vp7GxFs3mXSX+/Q5ejkNSIE0wfNI7lp/3UaQrpXFnREzvTZqy6G/3+diIjikentzB3/DD6ibz26tWPIWPnsuNauReHc1+yY7gHRu7jOBf07tHmEgqTgzm3dQ6j+veiV4++DPp9LntuFr98VR7lCV0XRxv6rLv3XqFd1flLxLAaZYmyPSunMWZAP3r36k3f/oMYPWUJO888JKrUtIi8yPvsWTSBAX17iDrcj1Ez1nPRP7lU217E3W1TGD12DbdLT4sTPnh3+3QGT9rIg4hS6alBXN66gJGDRB3r2ZvBY2az7cJzElVaIJewW7uZNaIPPXr0YfDkpRy9EyTE+wLGjF/MhbCSX80l+uERFv7en55KW9B/CrvuRqpXVyki9ulZVs4YycB+vegp6vLgUTPYoDyRTisW5QHnVjJ+4DSOvUop1VHOIESkDx81lxPPS5RMBr7nNzJlaC/R5vRj+My1nHsQxL2d0xk1ZR3qldoEWYTc2M3MUX1FfnrTf8hcjvskkh5whjljfmelatJ0CSLvD46waPxgUe49RN6HM2PdSXxL7QqSmxTMzskDmbLuIhHqNBVJj9g2fSTj118j6d2zPr8oUgx/KLmBbBvaCPMGI7n06mNFoUIhCU9X076eO0M2+3yAuPtQ8gnZNRInl7Ys/grbNhaGn2VYQxuajjpQtsJ+EEVEPznEqhWbufspZRZzk+kdbHHotgKfT2pLswk/MR5XZX7VpS9YZwtyuDmvLfUaDXrda/6SJD9aRQd7B7ovv/v2zkbVnG9FDJMRyK4xXph5Def0u5eU+EPy444z0sORttMulH3J9DPJvLqEFk71GX4w4AM7eh9CPo83D8LVsS2bHiaXCs6fSfYj1VJW9t3X8uILbq2b63eakY2saDX3HNHvmn7yKeRHc2J6cyxchnDA98u32ZWNv1IMSyQfihTDH0H83ZV0srWk/awL71/MuzwFqTxe2Qtbj2Ece98ozkdQlBfHruFuOPdcid+naPR3URjNmSltMXPswtpHH/uO9Zcgn4BD42lg7sKQnc9Vb/R+FFki6IxtiE3HBTx+z9Pej6Eg3Zs5ra1pPvFExQvqfw5pPqzpXx+rZqM5F/a+YbnqxzcjhgVxDzbQ3c6SFtNPE/PRt7qIuOOTcLNrx8qHX/JZYh7XFrbDtskYLsV8wQalyI8NvV3x6LuJgM/b3aMMGQ8308XNlaG7fL5gxzEP38OTaODYkpW3479gh0Ahn5hLS2lez4quSy/zsYvTVEWkGJZUBaQY/ijiubywG+ZGLgzdcpuP2vW3IJPQG8fZffrpRy/d8y6K8pO5f3onx+6/dxLAx1EQw7WVfbHTt6Hvqrtvz3n7s8gKYseIBhhat2L+mQBKv/D7XnJSeHBuL4duhnzBkXhRNNn+XN6/m8t+X7iBT/Nl37jmGBs3YuqJoC83elaF+JbEMIUJXFveE3NjewZuuFlqYfwPoYjkp+fZefAWr75onykX36v72Hf5Oe9cJOVjKQrn9uE9nHsQq37M+2VID7nD/oOnePb6xYwvQS6RT09x6Og1Xn3BTrTy7kDk/S30sjPCov1Cbsd+yZKovEgxLKkKSDH8sSS+5NzhXew9/xz1PPDqiQjUj07tY+/hSwT9xS87Z726x/F9QvDfVTaGrMZkBHPlwB4OnHxA/LeohAXflBgWFCb6ceXINnYr8wm/gVHCb5tcYl9cYc+m/dz0S/hmOrtSDEuqAlIMSySSSsO3JoYlkuqOFMOSqoAUwxKJpNIgxbBEUr2QYlhSFZBiWCKRVBqkGJZIqhdSDEuqAlIMSySSSoMUwxJJ9UKKYUlVQIphiURSaZBiWCKpXkgxLKkKSDEskUgqDVIMSyTVCymGJVUBKYYlEkmlQYphiaR6IcWwpCogxbBEIqk0SDEskVQvpBiWVAU+SQwrlVsikUi+NIoQTkr6K7b+lkgkXwNFRChCQyKpzGRmZn6cGFYqdVhYmGoER5o0adK+pEVERKisos+kSZNW9ezVq1dERUVV+Jk0aZXFIiMj/3Cg951iWBnBkSZNmrQvaSViuKLPpEmTVvUsPDxcJYYr+kyatMpiSh39KDEsp0lIJJKvhdIoyWkSEkn1QU6TkFQFPnqahHyBTiKRfC2Ux1WKIJZIJNUD+QKdpCrwSS/QSTEskUi+BlIMSyTVCymGJVUBKYYlEkmlQYphiaR6IcWwpCogxbBEIqk0SDEskVQvpBiWVAWkGJZIJJUGKYYlkuqFFMOSqoAUwxKJpNIgxbBEUr2QYlhSFZBiWCKRVBqkGJZIqhdSDEuqAlIMSySSSoMUwxJJ9UKKYUlVQIphiURSaZBiWCKpXkgxLKkKSDEskUgqDVIMSyTVCymGJVUBKYYlEkmlQYphiaR6IcWwpCogxbBEIqk0SDEskVQvpBiWVAWkGJZIJJUGKYYlkuqFFMOSqoAUw9WFghTubxtDi/aDWX4mkHwlLeoWq0a3p/XUvQQnF6kOKyosoKCggMLiP8tRRKH4LL+gUPyfOuX18aW+IP6/sCC/+LiS5MJA9k7sTfc+i7mRWahOrIgsHu+eQo/2XZh/OpgCder7KBK/V6D6rUKinu5g7qi13EtRfaTKc0HFF/ROlGsrfa2Sv55KLYaT77N6eDc691/E1Sil5qbjd3gWLdoNY/3l0OJjVL6h1MeK61VRUSEF+cKfSuqr+vjy9bC4bpY6TpD29DATezdiyNoHxOeoEz+YQtIuLqVL997MPhagTiv244I/8gElr6V9qyK/FxSJay1QzlPK7WN99jOueTvGb7tBrDrtY0i4vY1RPZoydsdLUlWNmdrPPzSvguJrK9vWqcpfldei1+fJSjrD9A7dGDz/FJHqtA+nkFd3NzO8cUdmHHpEsjq1pN2sOK/qcn+dB/F3Be1ySV0p07bFXmfJsO60nbiXmGwlIZNn+ybTpl0/Fhz3E7mpfFRVMVxSrxU/VNUttVWaMlblr2ydUShdx0soro9v+44qXWmPSjv0N4oUw9WCIuIfrKdzPWuajNyOT3J2caUPO8uEJvrodF7Gi4Ti4x5vHUbLdl1YfaMCGZr2mE2jOuDSezkv45QIVMjdtX1xa9iSqYeDio8R5AZdYVZPRzrMOElgujqx0JcV7W2wsB3GyZx3NReFZMTcYGFnJ2w9hnMo9EOieiHhZ5czYfEBniYn4ndzEf2bTuZifDZRN7cwY/46LvuVZOTDyHx+gN+7NMK14wKux2WqUyV/NZVXDKdxdVl3HC3dmXjAh+RcxcNSeLyxNxo6nsI//IsPCz7HzD6NaTb1EBFpxUlvyCLo5mI62HdixlFvVDXf/zjjOrtj2W8toUl5qqMoSMVvy3Bc2w5k402V46pIvb2e9vV+wmPyVaJUQuhjKCT50CgszG3ovemZKqUo+gmrBrvSfORmHsWrkkohxPP9jXQVgnbIhjvFKRF3WdLXHtsec7kWrM6rwP/QFDq0acX8s6niW8VE3l9F61q6tJl7iih12scQf34ejS1/o+WCJ6QoRZ0dz64xjWnTew6Xo4uPKcPz/Yzs0phOi86TpmQiM4YtQ2xxbz+M/c+LD1EIu7iKvo09mXRAiGx1WmbcHrqbmOI2aDvqLs1HUETQhdk0/MWA7uuuUXy3ojk+qxetG4/laMLbbUtu8FXm9nKg3dSj+KvqyCsOTOxAQ/cubHiQrhYsWQSLutLRsTMzj6jrikL0KUZ6WqDbfrmoX8qFFpIZepOF3UXb22QER3ze3JfKQtUUw1k8OTiT7l4OOLu54erqiouLC+6NWtN36iZuBmW8rut/DfnEHZ1Ky4592HhXnaQm/PIG+nrp0HnhTaJUFSeX03O60r7bXK7nlRa9CdzaOZoGWs2ZdeGF6Np/20gxXB3ICGXTQGdsm4zmdFgpF025z9JujjQYtpcgVU0v5Nbi1phZOzL9jHq4pTTJt1jQwZbfPCbxOCpXJBRyb8MgGrRoL4J3YPExgpyXRxnkok+jSScJLTlNUTb7xjbAre0sbquEwrvJfrGb3q62NJt4hLj3H05G4EWWjupJjxETmLN4MoNbDWTOqrn0a9+RsWsvE/HO0eiy5EddZkHfRhhr1EHHbSxnojLUn0j+aiqrGM57vI2eblY0mX6cWMU1VGThd34iHjbtWHZV3Sb6HmSwpz5GfTcRUjJM+JpMXp79Hdv/2jNo2z1Uetb/JBN7NMJ28AbCktQnzk/i8YKW6Dp1YtPDN53WIr/DDG1sR6el90j40EcqpUi7vojWLl5MPhqn+rso/DbTWtTAuP1Cbr4lMIV4vjoPZ2MbWs69VJwScZ/lA4Uo6LuAGyGvC4Fnm/pib92A+dfeqP8Un5MMdLOh79pbr0Xnx1D0eCs9PBzpt/mlKDVBZjQrO+lj6TGMY69Uh5TlwXraOepjP/YQyUrZZMaybYQzjbqO4qBP8SEKAUem4qVjxe/n/MTdKyY36SLjm7nQasap12kfQ+zd7XR1dGDEnifq779i5xB3LPQ7sz3m7bYlx/ckw91/wrrvdrxVdeQVh6Z2pUWjnmx+LYYz8T07FmvtBkw/FqBOExTeY2Gn+ngO2UlMqcwm+eymv6MlLSYfJvQT6sbXpGqK4UxubxyEi2YN9K3scHRywkmYo701pgYmOLUbx7GAv7bjkbR7IGb2DVl0U52gJvzKZgY2NaLHkltqMQyHRrpi6zqaYk8uIZFbu8fRzKAN8y69lGJYiuGqThHx1+bTyMaV/hufqtPUZD5maed6NB1+nGBV5C3gzvKO1HN0Z875CsRwyh2WdHNBq8l0nkQWe1Fe4ite+gUQnfZGseb4nmC4lwVtZp0lvKThLczj0Hgv7Dst5OkHtREZXJjTBkeXnmx/8Xrc4z1k8nT/DFpZG6KpqY9D+0mcDPg4IZuX/JA1g1rQsOcoRnZvjlvTsZyWYrjSUCnFcFE8J6a1xtauN/uKe5VqcvG/OJHGNq1ZdUsd7P2OMKKpGZaDtxGqnsbzBiFwLkzCpZYbw3c+KBbDeWlEBfni9yqB3BJfyk/m6ZL2mHr2YmfxIG4xwUcY6u5K99UPSFInfQxp95fQ1s6dGWeKhawy0ju7nTZWXZdy+60mvZAUIZ49rZxov/BKcVJ+FvGhL3kREktGKR9/vnUw9Z1as/zOm7JJf3GK/g1s6bPxviilT+D5dro7uTN4p29xOWXGsLaHGfaiw38yXHVEWR5tpou7GW4Tj5KoNCdF+SSF++MbGEFKqQwEHp9JMxNnpl0NLD6vIDfxFhNa2grRf0Gd8nEk3d9Jx/pOjNz/XD3tK5w9IxtjZ9aTXbEViGG/M4xpXBvHwbt4rhLDRaRGBeHnG0piXkmnPlPV0XI0acH8MyHqNIXHLOnoQJNRB4ktuQCF/DguzWuLmVtvdjyuXLKmqorhu1sG41rblSkXX5KWl0eesOTw++ye1AwjI0f6rLpF2VCXTWJkKIH+/vj7BxISmfBmRF9QkJNGZFAQ0cmZ5OalEhUaiL+fP4Fh0aRVEI4LsxKJCAkkwN8P/4BgopLfnC0rMZS7S3tg5diASXsCVMf4+ocQnZJDXnYSoX4vCBF1L1/8lxLpx+p+Lti7DWDbC5E3P3G+kAiSs/PISY7A/0UgMWk5bzpcgoKMeCKCRf7EtQQEhRIjzluGrGTCQwKITM0nNyOZSJFP5VqCwmJEWamPqWJIMVzVKUjm5OSm2DcawuG3nvFFcXHtFBZtvEeMytkUMdyBek6eb/UmVRQ+Y3UvN7QaCzEcXVyj4/YMw861KQuvlBbDxxnmaU7rmaXEsAg+3kcXMXbFSSIrcOyKyHqxmc6OznRfcfv9ATM/k2i/W+xZMpZOjVypZ2ZH055jWXHwBoExmWUc+Y8oynzB9lGtcPIYyZGXLzg+r7Pq/09JMVxpqIxiuODVCcY0tcNr7JGyAkQQ73OIpdPnctpPXelVYtgUqxH7SKjgYUXErRm41XR9I4bjrzKznSPuw3YRXqJhFDG8uJ1KDO8o3b9Ne8auabNYfy5AdCU/nuyUK6wZO52Dj4vzqhLDbbWw7rmGpxXMFCp8uJIGpcVw8jO29rfFShz/sHhwWcWzLYNwc2rFsttvRFhRzDO2LJ7Bqotvnih9FIn32DhpDttuRqgER1GGEMPdzXBoNp5Lb424C/x2093TDFchhlUjw3lxHPq9AQ4tJ3Ku1Kh3wLFiMTz1yhsxXJiRwNGVY5h/xFud8nHkv7rFynmz2XKrZMi6RAz35VBFQ82RV5nQrDYOg3bho+4wXZzbFleHvuxPLPmC6Didn4CDEMPzTger0xSE6F07nvm77pUR+QqJT0QHwtaWXquuv567XBmo2mK4PjNuBJcRvVlBm2hlIDpPU0THS51WlBnN/QMz6VLfHM1ff+XXX+pg5NqVJceeUTL7KfXlWYY5m9B88HQWLRqEu4kGv/z8G1o2TRm3/hrRpepKVuRDNk/tgatxHWr89jO/1TTEs988zvonq+YIP1rVCSN9bfT0DdDRqEGNX37kn7/aMXjHC2KDDtLfrR69Vj8UneZotvW1xUBLE31DPTRr1uDXH//FL9ZtWf84mlcnJ+Jh3YJFV0Nfx9CMyFtsmiJio4HIn7iWmjoWNB2wkLMvEt+Uw+OtdPcwo8mY1Sya0Bs3o+Jr0bVpzpSdd0j+pB7wX4sUw1WcguxbzGjuROORuz/gRZUC7q7sQj1bBwYuPs/ly5fL2om1DG9aD+0WM3mqFsOxu4Zg49SI+ZfeRPaC4HOiMbej1fQzb8TwJ1CY+YzFnZzx7LOOl+q0iiki/vZmhnftxNCFa9i5dzFjO45ny8ndTO7Rki4Tt/PkzbPrismN5tS8Hnh49GXLA2WCZBonp7XGXorhSkVlFMORZ+fSwt6NiafDyoz0VIgQwyObW2LcdiJ7T5Tzr8tn2LGkB9aaHox8LYYvM721HS5DdrwRw4Vp+KzriX15MfyFKQi/y9yOBtRtMpw1h8vn9SInVgzB3sKJDouuFn9BiOHNfawx77aK+6XE8Kv9Y/F0acPSW19vRLIgPYb1vc2xduvC/P3l8yps4wSaONTFc/Kx12L4wBgPbIV4PlNq0nL4hUW0sfRk8iX/12L4yxPO3lFNsK3bjCmHT7+V13M7FtHVuRauw3a/FsPnZ4tOum0v9iaUKKI8gq7OwsO2OXNPlhbDf0xR3GOWdbXFrf9GnlaiweGqLIZdankw90EpvVOUzGORblvXSfUkViUgc1O4t2UoTsZ61GvUif5DhjBkSD/aeVlhLMTh/MvFM8nTfC/xe6Ma1NY1x6lRO3oNUo7rS7v6lugZOzP2UPETgPykx6zp44quENwtuvUXx4jj+naivoUB1p2W8Dghj4hLaxjWxgkTcxsadRKfD+pP78HT2HYjgoQXe+jtbEn3lfeFGE7h+sbJtHcxxcyqPu0HD2Fw/74MmryCy6GJBBz9HTfzpiwQYlhFmg9rBrhhoG9Go479VL89sEdzbA21sWo1jdMh6qlQyrQxL3Nq1BbpHq3oOVDJQ0+a2Rmi69qDDXffemGi0iPFcBUn59VOejq70G15RUO95Sng3tpe2JjoUOOnf/Ldd9+VtX//RK06Guh3mo93iRjePRRblyYsuFxqmCv2Jos6edJi2unPEsPKI+JTU5rj3GwC597pO4XE3j3M9jPeqnlNYbfm0N39dy4pGjbhAYcPneBR2B+/BFeYHcu1NUNo2aQXa++WPGDO4eKcdjh4jeOafH+u0lD5xHCuat68m21HNvrGv/8JhP8RRrex47dff+I//y7nX9/9ix9//IXfTJow9rUYvsKMtg64Dd35RgyLQOy/dySNhBje/pXF8KLe9ahZswY/fV8+r9/x7x9+pWZdRzotuVb8BSGGt/Srh2WP1TwoJYbzz8+lSf32LLn59QJgQXosWwZZY6BTi18qyOt3P/6Gpq4BLWaeei2GD471wr7FBM6WEsMpd9fTxbE5ky76fVUxvO/3Ztjo/8ZP//73W3n91w+/iDKvSZMxe1+LYWXKmIt9H/a9FsMQdXclrT2bMefEh4lhcUM5Pa05di0mcz7kcxrmL0vVFcNDcde2osvsNew9dIhDh/azadFYmpoLAdh+EhdCimNihs9BRjSwpP6Q9WX8ouDVeUa3tKfRqN2qEeQMv0uMqq+JQ9eZHHseL6JaMbH3V9HN1QL7AdtJzMsk4PAoHM29+H3bozLz7YP2TqKBVUMmny+eJ5R1cDi2bi1YcU/152vSH2yjl6s1PVbefT1yfXx8A1waTuC6+u9i8ngqOrLuls1ZeC1MlZJ8ejpe1la0GL2XlyWhMjuEU8v6Yq1hQa/lV4rP+VSIYU8zrFpPYf/9MPX0oBye7RuJlbEbQzbdKzOaXhWQYriKk3l7Be1d6zN2f4Q65V0UcHdVV2ysrWk7bAnLli0ra/PH0snNHJ1Ws3n2LjEcc4MFHd1pPuUUrz6nzS1M5+mKXjg0GsrBN4tVvIcCEkNvcHznBQI+aPQjh4hrIqiYaGLVYjALN29n86ZNbNy4jFEdXLGya8HIJWvZfcWX/FKXKPlrqHxiOJkLCztj33AkF0I/oMIJMTyqhRX6nj2ZPr+cfy1byJRhzTDV8WLU+8TwnhE08OjJtifqpK+AIobndTHBwKUTY2eXz+tS5o9sj4W5Ix0XvxkZrkgM556bQ+P6bVl8/euK4Q19LbCwb8KQGeXzKmxcT9xsTGgw9fg7xXDynXV0tm/KxAu+X3dkeHRT6hm70nv2wrfyunjKMJpY18J9+J53iuHIOyto6d6U2cc/tHFM4MbaXri4D+Xoy693dR9LlRXDW0fS0OQ3fv7he/7x97/z939+z68aRjQdvpwTj0rm3hQScG4eLeua0Hr0Qjbv2KqKL5s2bWbrlnUMaVwP55azUBZ8yPQ/zxB7U7ouu/xapBaTwN5hDXFqOIlL8VGcnd4UY8cWjF26m+1bN4tzifNt3srOecNoaGdC15UvyRJ1PHHPYOq5NqPkwU0JaQ+3lxPDORwY7Ymz11jOlXm5PZdnB8qK4dvLOuNs25oN/mWlbF7IRX73qIPzwC08Ux6P+WxVTUvqsi6kjOhN8ttGDysHeiy/+kkvzv6VSDFcxcm8t4ou7g2YdfpDJum8mTO85LY6qQw+rFHNGZ72es5whWI46jLTm7jQeOYZot47VPYOijII3TgYx8bDOVz6HZEvShKP1/dB//uf+PnnH/n3P//BP/6h2L/4pY4eRvq1+dd336PdawuZVa0rWw2pfGI4hUuLuuDQfgpPI947SeL1nGHrkQcqnLcZdWcm9cvMGa5IDGfwcutAXBx7sPOFOukroIhhZc6wTa+1eFeknR6vomG5OcMViuETU3BWVtR4/DXFsHrOcPMJXKnoZwL20EOZMzzhzZzhisRw0vVlNLNuxKQLAV9x5Eo9Z9i8H0cqqjLR15lYbs5wRWL41fX5NHHyYvbpit4YrIgU7u4ciJf7MI76fkBd/ZOo2iPDFrSfvJgt27axcVoPHMzq0XnW2VIvsObx4uQs2tatwS8//cB3qthSYn/nn9/Vwsx9MrfEkYoYHupQl44LRNws/rKafE5NbYqr2zAOR4dzZEZT9LTr8PP3pc/1D/7+r+/58aef6LD8BRn5oi5/ihgus7Ta22L48lxRD237ciC11ARmQZFoK2a108Si+0pUD1dfFIvhDsuek1LqHaF4n+30tHek54prfL3W4OsgxXAVJ/POSjq4ujP+QFn3qpiPWE3iXWI4Oxaf69e55R8r3OwzKMzgxeq+ODQaxqEPHhn+WHJJDn7A6cNHOHrsGMde2w6m9fDA2qE907Yd4NzDUPWmHpK/kso4MnxRGRluMopLoR8wt/xjV5OoUAznkxryiKtXHhHxFaezq8Twx6wm8QdiuDDyOZcv3idYidBfCZUY/sDVJN4lhnPj/Llx+RYv4z7spdtP48NXk3iXGM6Me8nNqzfwi/vQt5ESubWhD27uQzj6Uorhz6PUnOGH6rdx8sI4OLk1RvouDFh6nkhVBSoi6Nx8Wppb0XXWZk6cOcXJEyc4odjJk5w8eY4rt3xVojTN75wQw6Z0WnSu7Ps9Rb6s6lkf+zbzeJQYzYUZzTFz7cScnec4fepk8bmEnTx5itNnz/AgKF3EqgJidxaL4cVl5z78gRj2wEWI4QtleoBvi+G7K7riXK+J6NiWrbdZAWcY5VoHtyHbea5Ux+d/JIa30cNOimHJX0Bu1B76urjSfZnS93wfX0gMfzA5hD3cxaRO3Zi+/SYR5dv0vFROT2mBS4vJXPzT5+1mc2G2Mmf4d65+RcEh+TgqnxjO58HmIdS378Cml2/m+f0hX0QMfwS5GVzdMIJeIyax9e3Fgt/JlxLDH04m93fPYuTAAaw4HylK9sP5UmL4w4nhzu55DGg/ik03Q0TOP4YvI4Y/mrxwTk1rjkOraVwsvd78X0xVFsOutd2YdjXg9ZSaoiQftv/eBD0DT37f8VC1qktuwAnGNbfDue8SrpSZu5fFq6fXOXH2nkqUpvudZ7iTPi1+38nLkliYHcmNjUPxsDSn5Zyr5BbkEKys8GDuwfA1l3hVOmZmR/Po9FEu+yQK3ykkYc8wzK2c6b/+aZlBqbfFcC6Hf6+PtX1LVtwrvSjj22I4/dJ8mtiY4t59OTdLAnaSN3tndqJuHVsGrLuBqso+kWJYiuFKRmHOExZ0dKbh0K2iCX4fBdxe2g5LWxdmnatIDN9mUWcHajeYyuMSMbxzEFYODZhXajWJ3NBbLBnWhD4LzxH8rgCeF8HF+a356T/WDNv2gPL7YhSkP2ReWye8BmxCvX/Xn0gsRya1wMZ1GCcjpRquLFQ+MSxiwZVltHN0Y+zRoNdB8Q/xPcTQhsaYDthCSAVi+OX58Tj86sSQ7ffVYvgy01rVw2nQdl6V+FJBGoF7JtGi9xh23H13WeQmX2eCoyZ69r3Y5fdxQqrg1R1mtq6DWafF3KpIDF9bgJuZHW3mXy5OSn7Kpt6WmHZdWWY1iaCT8+jbqzvLL6W9u7OQ95CFbeuhrdWMVU8T39+xKIUihld3NcamwQhOVLTpxsONdHQxxmnc4ddieP+o+tg0/Z0zpfZYDr+2mVGd2jD7qN+75zTG3BLtqjH/MO7C9vuxHyXclU00dg3zwtq4GzsqEsO+pxnp9Ru2A3bwXF1Hzs9qiYNNT/a8FsPZhN1bS/8mA1h0yueDnsAVxdwXebbBffBWnleil4Krqhi+s2kAjr85MflK2ZVHimLvs6yXHbr12jHvhIhceRk83z+Rhpb6mDs1onX7DnTo0IG2LRvibO9Eg4EbUWYBZvhfZlxjDQytXGnSpr3qmPatGuFoZoCp1wgOF29HSEHqS3aMbIKRoSX1m7amnTiuQ/u2tGjiLjpY9ZlwKFjIWCG1n6+jvVVdTGzq07JNK5q2G8qKC2HEv9xDL0dzui6/o94RsQDfrYPEdw2xcmlG21bNaTtoBqcC4wk8OhYX0ybMv6JeTSIriO2jGmOqb4Rjw1bF19HcDQt9fZy7LeRqlLp+Kp1PN2PaLvEuK4afb6GrtS3dll2VYljyJ1OQzoU5LbHz7MeeAHXaH1LAvdXdcXZvzIJLFTTvqfdY0ccLo9ZzeBZTLIbj9o3Cxas1S66+CV05L08xXDTm9oPeLA1UIfFPWdPTEoOW07lQwbZI6U/X0t7BlT7rHnxksPkSxHFyVkfcmvzO2WgphisLlVEME32BiS0dqD9sL5Hv05v+xxnbxhaHETsJeyv+Z+J3eTpeug0Zs+dRcYBNuMbczvVpOGoPESViOD+ZZ0vaU8e2OfPPvautLSLt2WpaW9jRbtqpjw4+BRFCPHUxxqH3Su6+tS5jIak3l9HUwYOuS9WrSaQ8Z8cQZxz6rS+zffPzLf1xqGfJ6APJ7xa4vnvo626F89A9RH/kU3zlBbqN/Wxxaz2eMxW9K/xkO70a29Jw2glSVGI4niMTm+HWbioXyq0z3MRYm97rH79z45LkR/voJzoZDSYeJeS9PaDyRLD/91a42vZnb1wFYtj/PBNa6eE+Yi8v1XXk8oJOeLkN4mDpdYYvTMTpN2cGb733QTvjxT3YQKd69vTfcKdSvbxUVcXw/R0jaKDXkNnX36xJXUKa8PPxLc0wbjiYTTdEBcsTHdhLmxjV2R0LQwP09fQxsXCm7eDZ7LsVropvab4XGe0lOmyN29G2tTN19fQwMLGhSd+5HH8eVyYG5qUEcGb1eNo4W2JkoIuegRHW7q0ZOn8PjyOzVVN8igqSuLNtMu2dzDHQ0ULTqjWzToWSHHiYwQ0c6bf2vloMC29O9WHPzN64WZqgo6WBRbPhHA5IJvTUFBo7tGPp9bDX04Zyk705uGggTWzqoivyaGjhQudxG7gZWmoL6qc76dtUiN5VL0gtlfGElzvp5+pO/zU3pBiW/NkUkXRnBS3qOdFj5R0hd9+NsltMvBAc6RUFo8JcMpITiE1MI09Z2VtJykoVxyeSXupxTVF+DqmJsSSkZr1zBYbE5/vp62BJtyWXiS8/Qa8ohbMz22BffwD7A/98KawE++y0JBISU8mRk4UrDZVSDBclc2FeB+xturDlxXu2M8jPFr4RR3xKFgVv+UYR+TlpJMQmkJqVVxx8hM+lJyWofOlNNSwkX/hpbEKS8NN3OFhRPi829sXWtR0r73y0YhMKM0/8dizxyRnkVvAzhbkZJMYnkFTi/IV5ZKbEq45/vVGaID8rRdy3eFKz35FXQeCB8TSw9WDG+Yj3tlNvUVRIZnKc2l/VaaXJyyQ5QXyell0csMXx2amJJCSllTk+PzudJBHUUjLz3iHcM3m2fwyu5s1ZcDHsHcf9EQVkid+Oj0smS92OluZ1+ynqSEn7mZMu2qKElFLHV1BX3kVBDOdmtsbaYyD7fT6hLnxFqqYYLhJVStRrUf5pufkVln92SgyRUTEkvd6OsYhs5T6K+qUIp3jhv2mZua/rT6rvWYY6mtJh7jECUpNE/RDHCf9KySg9F6IUBaItEW2Dci7FEpJSySrteArKMYnxxcckJJMhHLkoP4sU4Y/JIl+ljy7MEXU/vvjYhGTFL4rE10UdixftzOvtL4spEv6knEN1XuXz7HJOl5dFsmjnkjKUCRtvKBS/nSyuKVlc03vrbCVDiuHqQFYUe0a5U89jEAf9ysyQ/+soSufpgRG42nVly6O3h4/THmygs6M9beecq1S7JUn+WiqlGBYUvTzAQC8rPMfs4VUl0RpFOdFs7OuEe991+FX6yBPFgbGNcW43mwfxlaSN+iNy/dk9ohFOHRdz95PmRv/5xD5YTzdbazrO+f+3dx9QUWV53+/nXe+ae5+75pmZtns6d5u1zYEoCgKKiBnMoc05g5hzVsxizm3OORLMqICKYgBBkkQJkhFF4HtPFWULiqitTldV/z9r7eXiVHGqKPfZ+3f22WfXGQrNCtEKuhmGPz11GLY0oPsSD3SkWv2lSBjWC/mk3tvFQCtTbAasxCcu488/K8tN4PqWuYyZe5CHRfq+XJLDTjHVwQwLe9VXpf4Zo8JCW2lrGFbdDOO7aRg2RpaM3OjNY9VCn3+yF1k32DzJkWWnP9u6hJ9OXgB7ZzqzYOddUl8b3NI6SXfYMXMysw7cUn/Jj1bLf0FKwGmmdDDEtONU3EO076xIwnCB1PsnGWhYibZzjvM+3wog/rskDOuLvCzuH5lP/8ETWe8Z9ifMwX1f2fgfcMFpqCPrL/+h27yFHtPeMKzIvM+umaMYNmYVXjHadSla/EXlZnJP0+5vPF+wIoC2kTBcICvqBmtHD8XlwA3NKg9Cm0gYFkJoDa0Ow0KIDyZhWOgCCcNCCK0hYVgI/SJhWOgCCcNCCK0hYVgI/SJhWOgCCcNCCK0hYVgI/SJhWOgCCcNCCK0hYVgI/SJhWOgCCcNCCK0hYVgI/SJhWOgCCcNCCK0hYVgI/SJhWOgCCcNCCK0hYVgI/SJhWOiCPxSGVZVbCCE+NVUQTk5O1vwkhNB1qhCRnp6u+UkI7ZSZmflhYVhVqWNiYsjOzpYiRYqUT1pUjZHqZLu4x6RIkaJ7JTY2Vn3Fp7jHpEjRlqIaiPmgMKwaSlY9oArEUqRIkfIpS0REBI8ePSr2MSlSpOheUR3TkZGRxT4mRYq2FFU9fdusB5kzLIT4r1KNIMk0CSH0hypgyDQJoe0+eJqEhGEhxOciN9AJoV/kBjqhC2Q1CSGE1pAwLIR+kTAsdIGEYSGE1pAwLIR+kTAsdIGEYSGE1pAwLIR+kTAsdIGEYSGE1pAwLIR+kTAsdIGEYSGE1pAwLIR+kTAsdIGEYSGE1pAwLIR+kTAsdIGEYSGE1pAwLIR+kTAsdIGEYSGE1pAwLIR+kTAsdIGEYSGE1pAwLIR+kTAsdIGEYSGE1pAwLIR+kTAsdIGEYSGE1pAwLIR+kTAsdIGEYSGE1pAwLIR+kTAsdIGEYfFhclO4574Jl5V7uBqmzw3cC+LuuLFx4VIOX4/imWar+LwkDAuhXyQMf5jsJ/c4tnkjB71CeKrZ9ufIJT32CtvXbMftjv5nPgnD2io3lZBrp9iyeiFzZ89g+qzZuCzbjNutx0pMe4fMKK7tXsTIhTu5FZmh2fgp5BB/bQPdTOvQaMgarkdnarYXlkPU2V24/naOR5otf9xT4u5fZv+m5cyfNZOZM2cyb9FqDlwI5qOa1rynRN09x971S5iv7FO938XrOXj5Ia/+olySgk8wubURdW3Hciw0VbNdfE4ShnVAUgAnNy9iwpTpzJo1q6DMns1sVXn584ypTJq5ikM+j5QWQfyVaWcYDsVt3WJmTJnFyuN3ea7Z+spzwq/sx3XaBCYv3s+thCzN9s8vOWg73evWwmHmSf7cllDpy31nY1HenKG/3dJsK152mg9bp81l2ZZzRGq26RoJw9oo/zmJHkvp0KQeVSr8xPfffsPX337HT+WqYdasP6vdg0nXPLVYCb6s6VaNv/3SiV3e8ZqNH+9F8n3WDjTHrPUU3KPfbD5UAfJJ4Ckm2Zph1m4Bvpqtf1SK/17G/WpF9Upl+VH5DL755lt+KF2B2g27MWXTZf5oLYy7tpPRHQ2pWqGMst9vlf1+o+y3EnVtujN9uzfJmueppN3awQBrU5pPPUhMcdlffFIShnVAyDHGNP+Fv/9vKb5Vjh9V+fHnspQtW4afvi/4+dv//Iv/+boegzb6yFWVvzjtDMOXmG5nyM9ffU8Nu1GcjsjTbNd4cos1g6346csv+NZoIHuC/nttUkrIPgZbN6THIo8ifdF/Xw4xfotpadiCsbvvarYVLzV6PW1K/UzdlnPx1mzTNRKGtVFuJo9+c6ZFnwms2euOl68v1329ObZyNK0My1Gz1zL8HxcXRjVyMokP8eeq/0OSMj7VuEyW0gfOorGxDeP33HvjTDrPbw/jhnanTTMLapavS/M+qyj5XPLdok/Op0evnkxctg+PK774+npxdM0kWtYuT61mQ9kXkK155oe5f2ABg3t1Z9aWE1xSPltf5bM9s3M+XUwrY9R8BEfDNE9US+P88p7UN+3BFv8kJe6Lz0nCsA7ITiYiwI+r3j7KsaM6fq6xdKA19S0cmLXPW7PNm2u+dwlP/HMv9Io/n3aG4SvM72xLvZZd+bVRY/q5XlF6uJdyCD0+h66d7LC1boy55Qj2h/z3YunLMNxzydmPuwL60V6F4XF7AzTbipf7PJ6gG7e4GxTDp7wW/d8kYVgb5eeRk/KY6KQMipyvpnmzrGd9KrScivejEoJgXhxXtkxl6OSN+MVq9uC3mzFDejHnwHXcdy7GsXsH7Fs70MNpASfuJhY8pyRpoWwfaY1Zh5mcjcvXbHwl12MeTUyqU+GXKlSpZESLvh8fhnPSE4iJTySzcJ7PjsZ9aksqNezA8rN/LDRlpyYRn/CEIp9gbjx7nKwwbNSDrbc12zSeB+5jRLMGdFx4gQQZ5vqsJAzrptNT7WjYqCe7QjUbVFLvsmFsH8auO8UV7xMsHtkD+zYO9J53iLAjixg0xJEtPoVbuOcEuS9nSMt+uHqFvAon+VkEnt3M1MHd6WBvj71Ddxxd9nIn/p0TxoQW0M4w7MXsjnbYDF7JsdndaWLvxOGHmrqYdJMV/drSff585o7uiYXpYPYVCsMvntzlqOtE+nRpTxulPrbvM5q1ZwILBddoTix0ZIDzak6f2cGcUT3p0KYNbTsPxmXfDeJSkrh1aAXO/btgb9+ajt1H4HoqiKeablUVhofYNKbv3N2cO7USx24O2LdyoNugmezxiSk6EJWThM+hpTj37kz7Nsqx0aEvk9e7E1Ho0vHDoy4MGTiOHd7+nNkyi4HtWtKk2yg2XYpTjq3HXNo+j8Hd2yvHlT0dOvdlrMsOLoeoIm0usbeW0NqkDc5rT+G9x4XB3doq77kd3Z2WciY4hZdJ4HmqH5smjWTKxoskqbek4ndwJr/2mcvhMx4cWjaa7u3bYN++G2OWHOFe2psZ4s8mYVjr5ZKdmUZaUjhXd8+hZ7OmDFl1ibicEirTixAOjrOjpu0o3B5qOoxLS2lVvwbVTSyxbGiOmYkxRga1qf5LNRoPWMSlyNcuE70mLfQwwxpb0GOhe/GXbrLTiI+LJTL4JvM71cOu13Juah76tFLwmdeOGrYD2en/sZ1hHs8yM0h7EoXfqXUMbduCbpP3EPL6sHd+EL+Nakm9DgvwTyhhRF58NAnDOij/BYcnNsXC+le23H117STnoQcT7OtQzdgK22Y2mJsaU8fAmMaOmwlYN5j6DW2Z5V74Wssz/HY50vBbU0Ydu1MwwpT/lJvbxtLSwhADA0OMjIwwMjSgVo26tHFai+9j7etURVFaG4bb2dLEcQfRAQdwbtmEnku81INPoSenY2/Xnx33vZWg3BVjQ1UYTlH/Vk78VZb1s8PU0BBDpS4aGqnqZS1qmbRn1kF/zahoKL8NbUztKtUxqd8As3omyj4MqF2zJkaWtrRu0xpbM1NMVH2wUV1qVq2GUaMB/HarIMGmhR9mtG0djBpYY2NtofTVBXW+dg3l9xuPYFdAYkEIffYYtyV9sDJR3ouh6jnK+zFQjo3apnSfc5hQzbS+O5sGUb9OXSxsbbG2bIBpnRpUtO7B8n0eXFozgkbK32Ckfi/KfgzqUtuwAS2nnVA+ixzi76+ma00DTBo2oknD+piq30ttalSvieXA1dxKLOgPnyW44dzYCLtRu4lSb0nkwvoBmP5UlXqWjWis/K6Jav91alK9dgM6jt9NsJZdZpUwrOUywr2Z3aU61WrUwsS6E5O3XiXhXTMfXoRxdIoDpm0m4BmqCYxXVtLO2pBalt2Yu8+LyORU0h7fYuek1lQwbM+iM2G/n+W9STWRfgGtTVsx9chDzba3eJ7Iul5mny0MJz/Yg6ONFR2nHCD0ow+mG7j2ao5JlRrUqd+SEa7HeVjsNZ58rq0bSOMmA9kXWtAois9DwrAOelsYDj3P9C4GVKrbAsclB7j56AmpSv+RlpVF/J5RWDRuhcvZomH49r5xNC1vxYRT99V30ufc+o3eNuY06TkPtzvxZOfkkJMWxumlg7Ews2fG0QcydUnLaW8YtsF6xG6ynj7Be1kvGrUdz/GrN9kywoGO444QS7zSj7ZTwt9g9oepguozzi3sgpl5c0auPU9Y2nNycp6TcPcIUzqbYdFzId7qK7GR7HRS+hUllDo4r+bs/Til3sfjs2cWDnXK84uBLYPm7sA3PFn5XGI5t6wvloZ16LX6tjqMZ0QcYVSjGhg174fLgWs8SlGOmbQoJVyOpKlBVdrM8STtWT4p5xbQsp4FHUZtwCciXXkvOTyNv6P06R0xtujNxhvx6j49YNsIrIzrYNV+NFs87xGn9P0p6Zkk+x/FuWllrJRQ6xuv/C3Pn5EcfZtjG+fgvOyMclw9U4fhzr8oYd2uD/P2+xCVqryX+FtsdGyNURUHXP0eq18jJ9GTiS0b4jBhP9HKz0pLzuUtw7Eoa0S70cs5ffuR+tiPDzjLou4NMTRvxypv7bq1VsKwlsuKusXKkU2xa9EKu0aNaNZjHNt9I8kpqQcoLgxfXk47GzMGb3lUaHpAPo8uKSG3jg2jdvqVcKNLJsG7R9HIuhurvEpeVSE3PZpVPT5PGE4L9WB2V0ua9XPhQsynGBG6y2+j+9LW1g4728bYthvE6pMBZBbz2QYdnExLs4643n8sne9nJGFYB701DHsyoY0xbSYeIuS1fi9pb8lheOLp++p26va6fjRq0JKZh24TEhZORESEUsJ4cH47Q5rUp9Osk0R+iqZAfDbaHIathu5QT8d5Gn6EMe2b0tShM5079mXdNVU/F8neCQVh+EBEmtJbejO7TUOsu7twLjiEMHVdjCA87D5Hl/TB3KIHm24kKL8Xw/YRLbBqNxOv1FdXL3OjrjDd3oiWzjsILHw8BO1moJ0FneafV68UlRG+n8HWFnR//Spsnh8r+9pi0nEx9+NT8Jhjj3mj3qy5GExoWMF7iQgP4/aRRXRu0JBhv91W32j/YOswbKzascyr6G33uZEXmdGhNgZtxrDnWgiPouNISssqtFqVZs6wQXNG7/RXh96XIo7PoI1ZQ8YdjFCepUSOpGLC8Pr+GNYbwP5bBRMnXkq9uIAWFo0ZsumOZot2kDCsM/JJur2PiR2MqGU/k8slzRkuIQwP2x6nrrwvRV9bQad6Nji9Iww/2DGSFi0Gseu+ZtNbfJ4wnEu8/wEmdWhEy75zcXt5/eeTySc17DKuPRti3KQf2+68+UnEurnQtmE3XO/GSRj+jCQM66ASw7Apbacep+jN+rkkasLwgnOFu9jCYThAHYYvL+pCQ4PyVCxfgXLlVCtWqEo5ypUvww9fV8Bh/H6CtWuASbxGu8PwVtR5NTeNKyu7U+n7X2g/5ZCmvoayRx2Gh6jDcB4eTGxsRq1KlahQXqmD6rqolHLlKF/mB76t1gnXK6ooGMsOVRjuMAfvzFcVPz/Gl/ldzGjuqIThwrPtHu5lSDNLOrtcKBSGG9Jz8VmKDj095sjUDjS0G8+JR/Hsn9wEo5qVqVih/Kv3ohwb5ZVj48fvqtN/lY86TKvDsHUnVvm+fjNrKv5HlzKotTXmDcyoV9+alt1HsHi7J4FJqj4wl1j1DXQtGbe3aMcf576A9g0bMf5AeMlh2GwQh+8UnVj57PFe+lk0ouM8d80W7SBhWKck47m4Jwa/dGOdf5xmWzFKCMNDt0YXCr35RF11paMSht81Mhy4fQR2zfqz/XaRXu0NnzwM5yUTcGolA5rZ0MFpBVejPl8UTdw1hOr1mzH1UJHlJNSiT8+jrXlnlkkY/qwkDOugd4RhhylHCXs13KRQwvAeJ8wbt2T+2aJz8B8cm0zz8pZM0IThK4u7YmlqTueR4xg3xplRTk44KWXU6NGMHj2F9UdvkSAHpFbT9jCcoun40sLccZ2zgEO3X7Y/r4fhs0xs0oAGTX9lzMRxjB41Sl0XnZycGT1mNGNnbuK8ehpdZMHIcPvZXE1/VfHzon2Y19mMZiO3cb/wWFbwHga/EYYt6bn03GurSYSxbWQrzOxncTUmiUOTm2LWoBm9x05k7OiX78UJ59FjGDtuFrsuRqhHvQN+U4XhjqzwLn4QKSfhLmcPbGLJ7Ck4929Pw7rGOEw8zBPl3Ty+s7TYpdVUg0PtVGH44DvCcP1BHLlbNAw/vbuGjubW9FmhXYuwSRjWQnk5zwi9dYU7EYlFRnGzIs+xuL8VlVV3twaUEBg+eRh+SsjJidiad2LpuXetPJHBpj71ad5vHcGaLUWl8fDKGY7sPYLvo+wil15e9yw+kFPrxtKuVRfGrT5b8rrCT0K4fOYgO0/5Ep9VpOd9TToRAbe5fSeqyBIwLxLvs290c2o2aI2Lx5ufbeC+cbSwVE5CAhPV87rE5yFhWAd9cBjOI/nkVKxNrRiw+sbvJ5c5CffZO+dX6pWxYcqZgmkS0QfH0bS+A9NPBL7RPqVHRvAo7rVVYYTW0ZUw/KaXYXgwB8LTlb4qnLV9rWnYaz7X4l7rY/JTCQ2LJDlddXIXwdaPCsMHGGzVgG6zTxWaJvGCKK/19LUyoOnE4yRnPePO2j5YWPZh7fXXe8Z8pTsMIyolQ72/u1uKD8OZ8Y/wv3mT6CLfJ/IA125WmFiMxlPp9x/fXUarPxqGN/THyLgfu/wK3WeTEcHRaZ0wM2/Dwova9UVWEoa1UG5GIusHNaBp50FMXbCKDZs3s3n9Uib0bEqNsr/QdPI+QgvNRXrDJw/DeSQEbuZXc1sct90qdmQ0P8KHfTs2s3blEgY0M8aieV9mbVjHqh3HuB5WqNKnXmRqayPKVHFgw+30EoNlyOGpNDcoS82mg1iweSc7tm5h8+ZNbNq0ifVrN7L/zE1iNQNLMafm0qrWV9TouZHAlJKum4awZ0YvWlh0ZtS8ZWzYpHy2G1YwfVh76laqiGXvxfi+8T0lqZye1w3z5qM5GyXfvPE5SRjWQR8chpXT67DDDLGsTV2bHsxcuZlNG5YyaYA95nUrU75sK2a63StYWi3Jj+X9rKlW24aBkxexeqNyvG7aiOuCsXSxbMuodR7EqPcotJU+hOF9oQXv/5HHPNoaV1P61mHMcV2j9Eeb2bh+GXNGKgGv4zhO3VbF1+iPC8MRR3BqVAszu55MXryOTcprbFoxk16N61DJ0IFVl+PVfXBemBvj2hhRo54Do+euYJ0qJ2xcx+LZI2lv1onZHvfU36ga+JYwHH1pO4NamdDRaS4rNmxS/y3rXKfTvbERNgM2KZE+h/iPGRnePAyLig3oOHw6qzaq9r8elzHdqV+9KjaDNhBQ7M3qfx4Jw9roRTbXd06im50hlX/8ji///S+++PIbyhs0pc+0bVyPLDlEqpZW2+9sQ5VGIzn9cmm18y7YmlSn1/rIQiMpBTfQNa9qwqDNviWOsOTE+TK3kxktnLcSXEzjkXtiInXKfsn//G8pfihdjrKlf+Drf/ydv5VtzIzDr1ageO67kW6NDWjkfIzYFyXf+XJz0zCsqpbiux9+4JuvSlGq1Mvyb/6///tP6raby2V1zs7gwsoBWFS1ZJZHwYT+t8vgvtsqhjerT7WyPyj7+oJ/f/E1P1czo9PYFZy5V3Syv1raFVx6WmE5aDthaTIu/DlJGNZBShje61if2ob2rL1dKAw/PM3IRlWwcd5PyGthOD8vBb+dE2lrVp6v/vUvSn1XCeseIxg5yAHDb0xxPur/+7dspj/0ZMW4X2lQ7We++fLf/OuLL/iuTDUs24xl67Uw9aoTQntpZxi+wCRbEwx6rSf5rR3fQ7aNtKVSxR7sePkNdPkp3Dq4mCEOplT8/mtKqfrmUj9Q0aARXWbtJihR1fuEsb5vQwyaTuJSWqEwHHmFqS2rY95vA3cKV9rAbfQwr0vL6R7qMJweto9B5lWoY2ZFw1plKPXFP5X+/2fq2PZkzmE/nvy+rGo+j28eYOagNtSt+B1fKf3iv0p9yU8VDWnWbQ7HQ56oQ/Pttb0xMWzOQq+i6fNpzE02j2uDWZUyfK30g//695d8W7Y6dgNmceSe6u/NJebGHCwrNmTYa4vvR5+Yjm0dI0bsDi0Iw4mncbSsg83InZqvY1aF4RFYVzehYQMjqv38lbL/Unxb3gAHxyV4BGtbfZAwrLXyn6XxKMCXi+5nOHnsGMdPnMLz6j3i3j58+0p+BlG3L3DqvB9xGZoDJz6QCx6n8QnNKjKym5UQyMVTHtwIKzhw3iongfOLOmNo2Z/f/N6syPlx9znndoKjx45z4sSJgnLsCIfcvAiMfXVGem+7E03NmjH3Uuw7pxukhPtx7tQhZZ+a/f1ejnP08HHO+QSRpDoSM/xZP7QJpvbzuRpfdA5isfIyefzwNl5n3dT7Onb8FB6XbxCeUvwnEHd2MZ0aNGbMoUAK3Q8hPgMJw7oon0g/T864exGS8uoENy8jDr/zp7hwO4qXzVARL57wwMdTaSeOccLtIvdinpAYHcDFI2e4GZ2iDgYv5adFccvLg9MnjynH63HOeF7hXkQS2SWfTwstoJ1hOJ47Fzxw8wnl+Vs7vgzC/S5w8qQ3EerpDy/lkhBygwtnTqnr7vETbpz3DSAm9WXnnEGo71ncLt4hodD3AeRnJXL30mnO+oaSWvg108LxVvqiS/cKlil7kfEI33MeXPK5jf+1c5w4fpTjx925crfwVd1XniU8xPuCkhNOqI6NE3ic9yUoNu334yc5xAcP94s8SHztjFTpgbMSwrh12ZNTqn7w2EnOnLtCQOzLeRPK40+Ufv3kWW6GF11S9GnMPS64ueP3qOCLwfKfKcf6OTcu+BXMU1atM3x5/QBM6vdm9cGzXPE8pez/BKfPXSP4nWvD/jkkDIv3lEvKnQP0tzak47TDRL5+XL2XSHaOaY1Nl4X4J5cYvT/Is/t7GdrMmt4brvIJd1sg/QEbRzTByH4aXjHaeRDrEwnDQugX7QzD4vNSheH+GJgN5viDkq45aw8Jw+L95SZxeWVv6hu2Zf6pILLzP3BY5rE7Uzu2x3GzX/EjRX9Q6LGZdOgymH13UtVn1p9Kfl4CVzeMwLKOHeMO3iFbRoU/OwnDQugXCcN/RYlcWtuH2sb93lhnWFtJGBYfJDfeB9eBttRrN5HDdz6wkj9P53FULE+ycj9paM1OjSf6cSLZf2i0+m1yCL+4lr6W9eg87SAhcj32v0LCsBD6RcLwX1ESVzcPxdx6OEfu6EZ7LmFYfLDnmUnEPU4iPftTz0nQJvnK35lCQpzSkD+TIeH/FgnDQugXCcN/RXk8z0olMSmV7Be60X9KGBZCaA0Jw0LoFwnDQhdIGBZCaA0Jw0LoFwnDQhdIGBZCaA0Jw0LoFwnDQhdIGBZCaA0Jw0LoFwnDQhdIGBZCaA0Jw0LoFwnDQhdIGBZCaA0Jw0LoFwnDQhdIGBZCaA0Jw0LoFwnDQhdIGBZCaA0Jw0LoFwnDQhdIGBZCaA0Jw0LoFwnDQhd8cBhW/YLqgejoaClSpEj5pCUiIkJdintMihQpulfCw8N59OhRsY9JkaItRVVPVSduxSk2DKenpxMbG8vz58+lSJEi5ZMWVWOkanSKe0yKFCm6V+Li4khOTi72MSlStKWkpKTINAkhhHZQTZFQdZxCCP2gOsFVDaIJoc0yMzMlDAshtIPMGRZCv8icYaEL5AY6IYTWkDAshH6RMCx0gYRhIYTWkDAshH6RMCx0gYRhIYTWkDAshH6RMCx0gYRhIYTWkDAshH6RMCx0gYRhIYTWkDAshH6RMCx0gYRhIYTWkDAshH6RMCx0gYRhIYTWkDAshH6RMCx0gYRhIYTWkDAshH6RMCx0gYRhIYTWkDAshH6RMCx0gYRhIYTWkDAshH6RMCx0gYRhIYTWkDAshH6RMCx0gZ6G4VxS48IIuOePv/89giMSydI88peRm0lcsB837kWQnJ2v2aiPnpEYHoDfjUDis/I024SukjAshH6RMCx0gR6G4Tye3D7A1F8t+KXMN3xVqiwNOi7BV/OoNnmWHM2dax74Pogn84Vm4yfxgriLq+lmUYemo7dyJ7GYnedlEXbvOvejP0Ejlf+MpOhg/K9fw8vLSynX8PV/SMLTjwzh+U9JehSEn++r/V6/+5DEp5rH1ZLw3T4Om5pm9F5+gcRczeY/1XMSQm7jfdmHh4nPlBr5/vJzUwm97cP1e1Fkarb9lUgY1h1P4wK5cTeYtOz3r+F52clEBfnje011PCvlmi93Qh4rp7TvJz/7CRGBt/G9eoXLl724cvU6d0Lj3/v3xX+fPoXh3JzHBFy7gpdS91T19/KlC/jcCeNJturRTGICb3LlZigZz/6EgRmlv4wP9uPqzSCSsgr3vfm8eBykHCve+IUmabaJ1+lfGH4awNpBTTEwaUzPkWMZM2oi89ecJkzzsDZ55OFK89J/o2bfXdxP1Wz8BJ4/8WZZ94YYt53F+Rj1UfqafOK8N9LBtiGDNtzUbPujsgn33MDoLtbULv8T//nqK776z09UNrRj0JL9+McV9/rvI4P7p1fj2MqCqmV/5CvVfr/+kcomdoxYdoj7CTma5ylyonBb0BMj846s8opRTgX+bHHsc7am/L8q43jwkfIJvb/czGvMbGOCZe81PNBs+yuRMKwjsqPZPbEltTtMwT/mPaPo00jc1kygo2Udyv34tfqY/vqnihg374froRskvGM3LzIjcF82EvuGtSj3/TfK7/+Hb76vhGnrASw87s+TZ/p8BUx36VMYzozfRrey3/Ofb3+mQsUKfPfv/8svLSdyOkL1aCCbhjShqu007sT9CadnL0I4OLYp1ZuM4nRwof6RPFJ2DOS7n8vRYPwxzTbxOv0Lw49P4NTSgo5zrvFcs0lbpT26zbEtLuz0VM7kPtWxk5vB7Z2jaGjagrnHI4qOmOTnEXr1MNtXz2NUF3PKGjTHedttzYN/VCQ7HFvSxMae/uNm4LJwIQvnTKBPK0PKVmxAv6XnefKH+qi7rBveniaWHXGcOpeFqv3On8KQDuZUrtqQgauuUOT84fE5prc3xWrAbwRl/tnDw08JvniQreu2cTE4/QPD+X2WdWtEi+E70ebrL5+LhGHtlhX7AM9961g6pT92ZjX4pctiHjx+z8YrbB9Dm9li264vE2bOVx/Ts8f1p0Xd8lS06MFqrwTNE4uXEn4QJxtTWvRyYurcBSxatJAF04fTzqImlYx7s/l6PIUjgNAO+hSGn2f6c2j5fCb2bYmJqTWdBo9n5e6zhKj/vGj2j2+LUdvFPPqjY0AfJYGzs9tj4jCNq68dSs8CPNmwZSv7vEI0W8Tr9CsMP/bn6NLh2JgZ02bwApa7LmXVxp1cCS94OD8jjEsHf2P1CleWr1zF1oMXeJhc6HJGTib33baxZf95QlKecNdjL+uXLmbRttMEP36zdudmRXFh2xJcd5wmqEgyyyXS+yjrlm7ifGjaWy+T5yaHcvHIfs7cjFLiU4Ggc7v4bYuyv+QIrp/Zy9qVy1m+YgOHLgWR9h5XXnLibrKsizENBq7iVrpm40t5z9k5uAbflfpfvv7mZ0qbtWT0dn/Ng39UOkFeHnjdDOHJ7+8vl7CL6+hmWJkm/Vdx4w9N2E7k3tXLeN+KLDKy+uTuZrrVNsBuyEblPLywTG5vHIm1eQdWeScVCaCZ8f4cWT2ftfsuKP+vmo1v9YKkUE82rT3AlYAoYvxOs3WtUl9cV7LtqDfRv59hvSDlvhtbthzgqrLTxLue7Fy/jMWLtin/5ylEh3pxdPcp7qUXBIUX6UGc3rqFQxcDeBx5nSNb1+K6fDkrNh7C95HmPyo/FM9NM+hmZUKDlv2YuXIly5csZP0+T6U+FDylqHwSbh1hpet6DnrHaLZppATjvnUxa4/cIP5PaZj/GAnD2i363Frsq/yNv//rB8pVqkzN3svePwynPuSS+2X8whKVmquRE4Xnql7UrdSIoRuulHgVJTstFG/P89wvcrUpmyurh2FZwQDHfYFKayS0jT7OGY4/PhFrqy6s8dF0CC9iuX7clQHNGlDXqivTXJYp7bsra5T23S/uZceYTMD5Q2xatVL92KrNB/GNfDXnLzc7gnO7NrPH/R7JSvt9/sBmli1eyNaTtwmPjsH75E7Wr17JypWuuLquYsOuE/hFaTrX54kEuq1kgH1DDC3b4TxL6VuUnOO64iB+yZk8S76P24FDXHpQtCPJenSDo9vWKftbzsrVm9jveYekQjnjaZLSd276jZPewcSGXePA5tXq9776t+P4F5OJdJl+heEb62lvXpUfK1anarlv+eIf/8PXlcyYe1E5M3rsx5ZxHWlQvQzffFmKL778D2Wrm9Nh5Fq8X17SeBrPPudGVDe2o/fIATQzqsC3//g7/6duT/ZdTyx4TiF52bF4uP6KYXljBq++Qrxm+4vIs0xrWxeDNlNwD8t4axjOur2bPmaVaTntDC+jzLFJTahbrQGdB3WmsUFFvvnqC0r95weqWvRjpfvDd8wjfUG07xraK2esY7b7/R6wf5efR8T1Uxw6sJtNywZhYdKcUR89Mly83MQ7zG75C02HbuDOpxqiz0/l9uEptKhnyeC13rzevOY92M0Qu/p0XuhFaqE0/Nh/M10r/J0qrSdy6p3zZZ7ywHMSFqXr0KR9d35tUpefvymoL+Xr2NJ/wWnCnqu68ueE7x9N/eomtO49kj7NjCj77T/4f/5PXRyPBXJmx2AsKjZl+YOCYPc09gSODathbNuJvr/aUL30N5T6ohRf/1yDJoPW4KueCO2Go1FVKpavSvWq5fjuyy/53//3b5RrNIwDQerdvCaf5LtHGGrzC7UdxnPy4ctQksKNTcMwrVGf4Vt8SH7PrKINJAxrt6ePlUB7Yid79q3EuYMldTsuIOB9w3Cx8oi7uQi7yo1x2nbjw0d20x+yY7IDxhbd+e1G4gdehRH/DfoXhjN5uHc0VpYdWXpW0+une7Ooszk/f1eBWjUq8v03X/Lvf/yL7yu1ZM1d5fGnkbivGEILs+r89J8v1W3/f36uhk23KRy9m4zqWmZe2kWmNKuDoU1XRg5yoN4vP/K/f/8btXus5diRIwyxKcO/v/iSr776ki+//Jrvy9WkxcDZnApWOtiMAHYPseCfP1SmTs3K/PTtV8pr/Et5fgtWBMWR4rec5nVM6LPulvrtqvqvWL8DTO/SiJrlvqdUqS/48uufqGLWmhHL3InSHIhPHmynt3EV6rXsQu9Olvzy43+U/X7Jd+UNaD16G3dS9ScQ61cYTovE77cJ2Jkb0X7CLk64ueF58RrhcYlcWtmTOr/UpfWIpew/44mnxyFcnewxqlaH1tOP8lgV2HKecGJmayWI1KS+XQ9mbjiEm/sZTnv5E5v6lkSX85A9zq2obdyFZRfjlJ/D2Du+jVJ5hrH7dsqrEZBiPL13iBF2pnR1OYvym2pu89piWks5oMy7MmPdQTw8PDm8ZgKt65ah0fCNKLssQSp+24dgadWX366XHJuzHyknDkbNcNz68uD4lF4Qe3YpLcwb4bj5+kffCJZ39xhzJo1iYL+e9OgzHJcd5wlPKWYqxHN/Vve3w2rAeqIyXp2CxN/dRq8a/6ZOh+m4qed2lSSbh5ddsC/3C3VtOjJ66TZOKv8Hnkc2M6adGTXqNGOJl2r8KZ+Y07NoWq0qteo3pd+MDRxxc+fMaS8lHGRw9bfh2Bl3YN3DgjPx7MfKCVKLmlSuboRd72lsOeKBp+cRlo5og0ElCyYffai8chKBFzYyrFl9rDpNYLunJ+5nTnHB5z5xJXyIMV7L6WZWh1bOOwhVGrHHXivo2sCaHi5n+DOmrn0MCcO6IoZ9Y5QQ2mYO9z4mDOckccbFgQY2g9hx+z3HdfOTuX9yDWMHD2Fg31/pNXIG2y6FkC5zJLTSXyIMv0gh7NYBJndujIHtELYcOIWHuztnL94gKjWde7vHYFGnDnYD5rHr5FnOnTvHoXXjaW1WC5txB1Bf7Mj2ZWFHE6rXMKRxl7Gs2X9S3f57+UcSFx3NraueeJy7yGX1zeRenNwym45W9enicpGU3Exi7xxlZu8mGDXpzZIdZ5Ts4K6UG0RkPiPdd6Xy3CaM2KpK5sphF3+X1YNMqFijCYNddnBG6Ws8Dq5nXIf6VK1rw5j9AernpYUdxtm6MhVqmtFm8Fx2nFD1W/uZ18+W2tXscDkXrTc3r+rfnGH/LXS3q8fgHa9GcvMeX2FGq9pY9V3K5Sevxg5yk31w7adUXtNBHIlXWtK8FI5OaoFp04Fsuvb+dzjnRJxneod6mHUfh8tMJ9o164aLW7j6bK8kxYXh0zMdsLT4lVV+haYHZD9gxwhLarWZwJkiE+Nf8yyGczPsMW474R0joC94fM8V+88UhtMDD+DcohGtnbZwL+3jx2py3WZjUbMsX39fmmqm9kxYf5HYYj+GJI5O74Bl26l4FZqEnZMVT9DNq/gFPHqPUVIlDJ+fiU0NO8Zt8yG90LB+6vnldLY0puMib3LzXxBzfAqN6zVl1KZrJL623+vrB2FbOAzHnWGcnRkthq3hRvyrMfsc3y30ta5Ou/neJKpf6x5L1XOGdxCrfsb7SMdv03CsTFoxbNoCJvW2w2HEZu5nvu2ahPaSMKwrHrDVsTVG9nM/IgxncXfPROwatWDs9lukv29TkReNp0tXKpb6mh/LVsHUfgRbteLGWVGcv0QYVotin3rO8CIiCk8NTL7Fwk6mWPVZxrVC+UO1H7eFv2JhPYjD0Zm8yPFlbltzGvd04UJshuY5heQkcvvcHlbOncn0SeMY0ac9FnVNaT745ZTBeDxmqeYMT+XKaxEt46orHdRhWBVy84m5topOdYzptuAUUYUO37SAbQxsbEz97msJU56XFrafIZb1aDtxO/eTXg0IZpxdSkeL2vRaHUCaVqzg9PH0Lwx7r6WLrSn9N4bzcmWvJ0F7GGDRgD7LL/B6Fbvi2htrI1sWXssgLyeVoxNaYNl+Kuc+cAWSuKvr6N+kKqUrN2b4ygu8OaniTcWF4VMzHGjc2InThcNefjTuszti1GIUJx6U0PFkPcJtUjssei7Bu8QR5M8VhvNIvLkbp7a2tOy/lGvve5f5O+RnJBAWEsyDO1fYt3QojU2bM8T1HG/ebpPHxWU9adJ2PO4Jf/TyjRKGz03HyqAdC90iNds0XlxiettGWA7fSXbOU2KPT8LGqj2LiqksvhsGvxaGTzPazpIus04VvfEv5DijHerSapYXCapG5bkvLp2taaY0cMEFz3g/WSHsm9KBGmUrY9FlHEeCdDMaSBjWFR8ZhnNT8Nk+jjZNmjFYaS/VV+beWw6ZiVEEBz4gwPcY8wa0waJBD9Z6688olT7564ThILaNavPGMZEedZpxtrUxsmhK284dadfWAQcHB9q170RLa2NqV+/GxognPMu5zpx2VrQZvee1gRAlvF7dyvhuttQ3NcagVk1q1qhO9RrVqFLRiGa9V6JeEyo3nKNTHDBpMwGPkKKjRRnXXoZh1RpFz3lwegIWtduz5GxUwRN+F8z6vk0wtxqDZ36uOgwPtLKi70qvV4NzKv7b6dvckK7L7xWZkqjL/iJheCf9LBrS1/XSG5fsr63qQyPjxsy/pITh50oYntiChm0ncua1+5HeJfXOXkY1rch3FRozapNv0cDzFm8Lw40aDedIWqHeIfcRp2d2wKTlaE4GldDcP32E+6QOWPVezvUSrzh+hjCc94wgd1f6tWxKB6eN+CZ+UO/23vKeBDDHoQrmnWZzqZjMdFk5ubFtPx6PjwzD1nUdmH8yVLNNI/sc0xyssR6+WxOGJ2Nj2Zb5xVSW4sLwGLuGdJx2pOgqEcFHcbY3oM3sK0XD8JDNfNB9vy8e476oK1VVy+d0nYr7I812HSNhWFf88TCcmxXGqSWDad7UgTFbvEj+yKYi8dxy2puVp8Oi6ySWcOFM/Dn+cmHYYT4B8a8qdXrkScbb1qK2gTH1zEwxMTbGyMgIY+XfevUbYNXIiX0xKTxT2n5VGG7ltB3NPf8F0u6wxakFVao3ZvDszZy5eh3/hzHEhAew5NcGNO2+hOuq570Mw/YTORtaNKEWDcPPCDw1HvM6HVh+7vUwHMKmAU2wsHDGTROGB1lZ0mvp2aKZ5tZW9X0y3VwlDGt+0kLFhOHMyAtMbFqTJoPWcrPwt7E9e8CWkc0xMerNHtUyAXkpHJnwB8Lw4xssH9iMVn1HMm5UbywtuioHSfhbb5x76ZOH4ewozk61p17H6bxxwveatJA1tDVqjvOuomsy/C4ni8S4OKLjnvz+ORYvj+y0cM6udaaDfQeGuXoQU8Jlk9ynqcTHRRGTlEFuSftVXj8tLZ2s1zq37JibzGxTjYadZnHhjcz0DDeXrjRqN4kLia/CcG5OJkmxUcQlppL9zgNXE4brODDvZOEmKZd4z0W0b2hKj5U3yVNNkzg26TOEYR/md7Skab8PWWc4m+BD07C3a8/ACVMZ1KQeDqO3cf/1M7/nGcTHxhLzWGl4NZu0jYRhXRHBLmel42+7QLOs1HtQTpjTQi6x0qkz9p0Gsvp8RIn3VBSVr7Qd6aSkPn1tOkQe0e5LaF9fCcMLfCm8/LjQDvoXhvOIOjwOa6vOrPQqfK1ZOUF0ao2h3TSux7/qBHMTfJndth52w9Zz43EyWc+e8+LFC3KeZ5ORkkBM5GPScnLJSb/CrOLCcKQnMzrUpd6QnTwo/HIZkazoXr9QGA7j6GR7DOzGcCakaCf8Kgyr+vt8Ir2W4FDDjD6qK6yFgkpOzBGcm5tRv9MyAtXTJPZJGFboTRgmM4ZTc9pSpWoDus/Yiff9IIKDfDkwvw9WtWtiPWIbEars9CKJwx8ahnOiOO3Sg3qNerH22hPyE64x/1dTDDtOxSOs5MjxycOwehWBAVjaDGTHreJGRpXKHRem/O33uXpqOs0Nm9Bv8TEeBAYQGpVIVqFK/cxrBR2sTWjYczV3n5cU66M4Or2rcpZpRNdZu7ge+JDQ0BDlNYIICnpAYFA4sSlPNZ3eC25vG01zkxo4zPfgbfckqgUcYsao4Tgu2cnFGwHKvoK4d+04y0e1okZFY7rOOMZrkxiUzymQjUOV/78+KwlPf9UYJATsYYhZaSx6zufsG7/0OiUMX5yNXRVLeszYjs/9B+rXvn5mI8ObG1PbvBdb76hSZi5RRyZ++jCcG8DKbkr9Me/CklO31P83DyNiKVwdXpfkv5NhNg1pP+kQUfmZ3N01GstaNozY4kuh+whJcZuDXf16NBu+XSu/hEZFwrB2e5GVQlRoAIEP3FjcrxmGzcdy6updgoJDiHvX5MGI00xSrUBh2p55+6/x4GEIoSHB6uMr6EEgQeExpL712+yyiDy9mD49JrDqoDt+d1XtSxC+p9YwxN6YylVbsMAt4s0VdMSfTp/CcF5uKjEP/fFwHYiFeRumbPMiJDKBTPVJWCT7JrbF8JemTNpxnvsPHhD88BHJ6U/wXj0AEyNrek3bxqU7wYSHhxMSeAO3XUsYNWoZF+IzyMn2YXZxYTj+Kkt71aeS9SA2uN/hYXAw/lcPsXJ8DyxrGNG0x/KCaRL5MbjN70q1Sk1wXn+ae0r/++DBI548f0G6z4oiN9BlR/mw4NfaVDBsy+QtngQEKcehzwmWDmpK7Tr16bfhunowLy1kLwMlDOtoGPZaTiuzqnRdFUrhbyRMCXZjXk8bDKpVolyZMpQuU5ZK1Y2w6TKdk8GaA/XpY/Y4NqSOrRPH3zGyqpKXk4T3xqGY17Zh1LZbSnNdIObqanrWr4x5b1d84rLfOkKc5b+Hfg2q0nrGq6XVjo5vgrFxX/YVToq54Ryb0IwqlkM4ElBSGH5B1NXltDWzY+r++28uU5SXwz5nMyqX/o6fSpejfPnylC9Xlh+++ifG3RZy6feJSvn4rumDhaEhg3co+ylx+OYmS7pYUPGr7ylTQbW/cpRVPt8yqvLTt5T62ZJhm300nVQou0e3waBqa1ZdS3hthOc1UedYPEQJvtV+oVJ51f5KU6ZcRarWMqPtMBfOPCwmHYYdwrFlA9rO8iSl0MMftrSaEoYvzadt1VrUNTakTpXylCldhrLlf6Fuw9aM+c2HZPUbf0b4XidM69oyvZjKcnVlD8x+aYbry6XVYo4xtEEdmo/dV3Q+WOABBttUpPGkC8Sp3/Nzbm53ws60KmVLl1Yv0WPQdhKvz9gokE9GmBsT2xhh0Xk2l18elunB7J7QnMq1mzHzaIDmq75fcM6lHSbGDRl3tEhTq1UkDGu32Eub6Wb8T776oSzlVO1H+XKU/ukHSleuifO+1Le2dWo+q5W2qRL/+aE0FZTfLVe2bEE7oZSfvi1FmUb92XmzmBuH1HKI91pHz0am1KpSSd1ulVZ+r2ylqhg2aMqgZaeJkEWGtZI+heHMhF30rVaBn38qra7/P339T+q2n/77tLSgEwvoYV1Vqdul+fH7n6lq0p1tD5UuPPkuOyZ1wtKkJpXLK/VeadvLlC1PlZqGNOq5DO/kZ+RmezGpqSFWAzcpPWVhydzYO5OOxlWU7PKzUu/LUaVOA5rad6OJQTXM27vgo35eDmGX1jLIsgYVlNf/+aeflOOjG5tCE0i56UpLw3r0W/9yKdUsHnquYpCtCdUrl6e06v2Uq0BVAyu6jN/B/fSCTj85cCu/Gtalw7wzFLkN6cZ6OplXps0Cf1IkDGspJfQumTGO1Z7xqJeDLeRp7A32LZ/OaEdHhjs5M2PZHrwL3/b5PA3vHXOY7LKTW+/RH7/ICOHwotFMWnaAwCJteBLXdi7EedAMDt5/8tbQ9zzSm42zxrH08J3fK9rNvS5Mm7YRn8LDtHmJ+O1byNg5W7kZU/J1wOzIK8y2N6Cx0xYCX8/N+bn47JrJGMdhjHQchbOzs3JW6sSIwf2ZtuYkD36v7Y/Y7ticBk0ccStIaCWI4MyaOYwdMhzHUaNwcnJ6VUYOZZDjHLZdCi34NsCEs0zvaI55n40EFxq5Ld4zkoKusW/9QqaOd8LRcSSOY6ewdIsbwcVOyM4ldP8k7Cxa4nI2ruD1NNIiL7N2bF/GK/9P/u+8s1EJw+dnYWfUjAFTFrNmzjgcRzriPHEuWzwCC408PSfBZyfTJ7twqJjK8tBjHTPGLsQ9rqBi5KT4sXXWZBbt8SnaqMT68tv80czbH0jKy//aZ9Fc2rGY8c7DGT58JHPXnyKw2PqYT+zlzUwaP4MtXi+vLRTICPZk1fi+TNhwgRhVFc97wKo+jWloP40rqSWe3fypJAxrt5QHl1gzrT+DRzgpbYez0oaMUo6PETiOmcgunyzNFaC3CD3LilljGTrCkVGF2wmljBw6CKd5m7ga/va5/vnPU3jgdYh1LjMYN3qU0oY54TzVhR2e94us+iK0iz6F4WfpV9k43pmRSp8wSuk/Rw7tz+QVh7j78h7q3CT8jitt/7iRStvtzJT52/FN0BwVz+PxPryK6crvO40YiZPzBOav2YPXg4IvicrLDmT/ginM3Xzh9+8seCWZm0fXMN1J6ROcxjBn9SF8QhLwXDOZWcuPv7q/JC+NAI8tzB4zQnl9J8bN2Ib3k0yywtxYPGUGG88Xvpkkh4TbJ1k1a7zy9wzHafRkFm8/S1ihSJQRq/SdUyaz4vid3wf71MLOs3LWGJadjCTrXV25jtC/MPxXl/OEq2v6Y9KgAysvJLxzebdixR1jTAtr2s0+R+onrOhpF1bQ0dqaMYeCKTx1+5NIu8myPg0x776C26kfM3GwYM6wVd22LHCP1mzTA6E7GWDTmJ4rrr95xUCLSBgWQr/o35xhoY8kDOuhrBhPZrQxxaL3Km6lffiQSfyRyTRp3JnVvgXfjPNpZHBuUTcatx6Le/QfXenhbVK4sXEE5mbNmHUyhGcfFbQ1N9DVdWDeCf35HvdH24fT0LYfu964XKBdJAwLoV8kDAtdIGFYLz0l5NhsmhnUxn7qfoKSPyzSJgSc55CbD7HZn/L6RwYPrx7n1OUHn/ibolK4c2g6zWrWofWUw0R+9JDzUx64jcOwvA1TDxf7Hcg6Kfq2O4c8b5FU4hIefz4Jw0LoFwnDQhdIGNZX2Qncu3CQ/e43iS68pIDeyST8xlkO7ffgwSdZ2ziX9Dh/3E9c4G603JHz3yZhWAj9ImFY6AIJw0IIrSFhWAj9ImFY6AIJw0IIrSFhWAj9ImFY6AIJw0IIrSFhWAj9ImFY6AIJw0IIrSFhWAj9ImFY6AIJw0IIrSFhWAj9ImFY6AIJw0IIrSFhWAj9ImFY6AIJw0IIrSFhWAj9ImFY6AIJw0IIrSFhWAj9ImFY6II/FIZVlVsIIT41VRBOTk7W/CSE0HWqEKEKGkJos6ysrA8Lw+np6eoHEhMTpUiRIuWTlsjISHUp7jEpUqToXomIiCA6OrrYx6RI0ZYSFRVFXFycJukWVWwYfvHiBSkpKerRGylSpEj5lCU1NVVdintMihQpulfkmJaiK+Xp06eapFtUsWFYCCGEEEKIvwIJw0IIIYQQ4i9LwrAQQgghhPjLkjAshBBCCCH+sgrCcAL/P94JMcTXM3UvAAAAAElFTkSuQmCC)"
      ],
      "metadata": {
        "id": "XN8AmTIGj4Lp"
      }
    },
    {
      "cell_type": "markdown",
      "source": [],
      "metadata": {
        "id": "sxNoQgS4j6n6"
      }
    },
    {
      "cell_type": "markdown",
      "source": [
        "![image.png](data:image/png;base64,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)"
      ],
      "metadata": {
        "id": "Dovxuaj0UZAE"
      }
    },
    {
      "cell_type": "markdown",
      "source": [
        "##  **Mutable Datatypes in Python**\n",
        "\n",
        "We will see List, Sets, Dictionaries in python"
      ],
      "metadata": {
        "id": "ymrA8LNWTUbd"
      }
    },
    {
      "cell_type": "markdown",
      "source": [
        "![image.png](data:image/png;base64,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)\n",
        "\n"
      ],
      "metadata": {
        "id": "VxkEN8o-TdBe"
      }
    },
    {
      "cell_type": "markdown",
      "source": [
        "###  **List datatype in Python**"
      ],
      "metadata": {
        "id": "uoDuqu8XUmJF"
      }
    },
    {
      "cell_type": "markdown",
      "source": [
        "* The list is a most versatile datatype available in Python which can be written as a list of comma-separated values between square brackets.\n",
        "\n",
        "* Lists are similar to arrays (dynamic arrays that allow us to store items of different data types) in other programming languages.\n",
        "\n"
      ],
      "metadata": {
        "id": "bHNQdRmRjb7C"
      }
    },
    {
      "cell_type": "code",
      "source": [
        "# list creation\n",
        "\n",
        "lis_1 = [1,2 ,3]\n",
        "print(lis_1)\n",
        "print(type(lis_1))\n",
        "\n",
        "lis_2 = [1,\"Tonu\" ,3.14]\n",
        "print(lis_2)\n",
        "print(type(lis_2))\n",
        "\n",
        "# empty list\n",
        "lis_3 = []\n",
        "print(lis_3)\n",
        "print(type(lis_3))"
      ],
      "metadata": {
        "colab": {
          "base_uri": "https://localhost:8080/"
        },
        "id": "OW2tDlM4TuS3",
        "outputId": "72707f60-fd18-4eb6-d3fc-4bf60ef98063"
      },
      "execution_count": null,
      "outputs": [
        {
          "output_type": "stream",
          "name": "stdout",
          "text": [
            "[1, 2, 3]\n",
            "<class 'list'>\n",
            "[1, 'Tonu', 3.14]\n",
            "<class 'list'>\n",
            "[]\n",
            "<class 'list'>\n"
          ]
        }
      ]
    },
    {
      "cell_type": "markdown",
      "source": [
        "List Characteristics\n",
        "\n",
        "In Python, lists are:\n",
        "\n",
        "1. Ordered - They maintain the order of elements.\n",
        "2. Mutable - Items can be changed after creation.\n",
        "3. Allow duplicates - They can contain duplicate values.\n"
      ],
      "metadata": {
        "id": "ciL0VWWTUZ1n"
      }
    },
    {
      "cell_type": "code",
      "source": [
        "# Creating a list\n",
        "fruits = [\"apple\", \"banana\", \"cherry\", \"date\"]\n",
        "\n",
        "\n",
        "######### ORDERED###############\n",
        "# Printing the list\n",
        "print(\"Original list:\", fruits)\n",
        "\n",
        "# Accessing elements by index\n",
        "print(\"First element:\", fruits[0])\n",
        "print(\"Last element:\", fruits[-1])\n",
        "\n",
        "############ MUTABLE ################\n",
        "# Modifying an element\n",
        "fruits[1] = \"blueberry\"\n",
        "\n",
        "# Adding elements\n",
        "fruits.append(\"elderberry\")\n",
        "\n",
        "# Removing an element\n",
        "fruits.remove(\"cherry\")\n",
        "\n",
        "print(\"Mutable - Modified list:\", fruits)\n",
        "\n",
        "\n",
        "############## DUPLICATES ################\n",
        "\n",
        "# Adding duplicate elements\n",
        "fruits.append(\"apple\")\n",
        "print(\"Duplicate -Modified list:\", fruits)\n"
      ],
      "metadata": {
        "colab": {
          "base_uri": "https://localhost:8080/"
        },
        "id": "M_nxXd81UkfV",
        "outputId": "00dd3d93-d6c6-4e5b-adff-28ca640b8a32"
      },
      "execution_count": null,
      "outputs": [
        {
          "output_type": "stream",
          "name": "stdout",
          "text": [
            "Original list: ['apple', 'banana', 'cherry', 'date']\n",
            "First element: apple\n",
            "Last element: date\n",
            "Mutable - Modified list: ['apple', 'blueberry', 'date', 'elderberry']\n",
            "Duplicate -Modified list: ['apple', 'blueberry', 'date', 'elderberry', 'apple']\n"
          ]
        }
      ]
    },
    {
      "cell_type": "code",
      "source": [
        "# Negative indexing in List\n",
        "\n",
        "languages = ['Python', 'Swift', 'C++']\n",
        "\n",
        "# access the last item\n",
        "print('languages[-1] =', languages[-1])\n",
        "\n",
        "# access the third last item\n",
        "print('languages[-3] =', languages[-3])\n",
        "\n",
        "# reverse list\n",
        "print(languages[::-1])"
      ],
      "metadata": {
        "colab": {
          "base_uri": "https://localhost:8080/"
        },
        "id": "KgGizlK-WJ_T",
        "outputId": "c74e371e-2b1f-4a96-f0b9-927f8e0d7e27"
      },
      "execution_count": null,
      "outputs": [
        {
          "output_type": "stream",
          "name": "stdout",
          "text": [
            "languages[-1] = C++\n",
            "languages[-3] = Python\n",
            "['C++', 'Swift', 'Python']\n"
          ]
        }
      ]
    },
    {
      "cell_type": "markdown",
      "source": [
        "![image.png](data:image/png;base64,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)"
      ],
      "metadata": {
        "id": "ASgQDH3PW0l6"
      }
    },
    {
      "cell_type": "code",
      "source": [
        "# List methods implementation ##\n",
        "\n",
        "lis_4 = [1 , 2, 3 , 4]\n",
        "print(\"address of list:\" ,id(lis_4))\n",
        "# append\n",
        "lis_4.append(5)\n",
        "print(lis_4)\n",
        "print(\"address of list after append:\" ,id(lis_4))\n",
        "\n",
        "# extend\n",
        "lis_5 = [\"Tonu\" , 3.14 , \"New list\"]\n",
        "lis_4.extend(lis_5)\n",
        "print(lis_4)\n",
        "print(\"address of list after extend:\" ,id(lis_4))\n",
        "print(lis_5)\n",
        "\n",
        "\n",
        "# insert\n",
        "lis_4.insert(-1, 6)\n",
        "print(lis_4)\n",
        "print(\"address of list after insert:\" ,id(lis_4))\n",
        "\n",
        "# remove an item from List using value - Remove \"Tonu\"\n",
        "lis_4.remove(\"Tonu\") # only one item can be removed at a time using remove(); for multiple use del statement\n",
        "print(lis_4)\n",
        "print(\"address of list after remove:\" ,id(lis_4))\n",
        "\n",
        "# remove element using index - pop()\n",
        "print(lis_4.pop(7))\n",
        "print(lis_4)\n",
        "print(\"address of list after pop at index 7:\" ,id(lis_4))\n",
        "\n",
        "\n",
        "# sort\n",
        "lis_4.sort()\n",
        "print(\"Sorted list\", lis_4)\n",
        "\n",
        "#\n",
        "lis_4.reverse()\n",
        "print(\"Reversed list\", lis_4)\n"
      ],
      "metadata": {
        "colab": {
          "base_uri": "https://localhost:8080/"
        },
        "id": "7O4NhTFgW3cq",
        "outputId": "38170d1a-ff9e-4cc6-c056-fb075637f5fa"
      },
      "execution_count": null,
      "outputs": [
        {
          "output_type": "stream",
          "name": "stdout",
          "text": [
            "address of list: 138994673449408\n",
            "[1, 2, 3, 4, 5]\n",
            "address of list after append: 138994673449408\n",
            "[1, 2, 3, 4, 5, 'Tonu', 3.14, 'New list']\n",
            "address of list after extend: 138994673449408\n",
            "['Tonu', 3.14, 'New list']\n",
            "[1, 2, 3, 4, 5, 'Tonu', 3.14, 6, 'New list']\n",
            "address of list after insert: 138994673449408\n",
            "[1, 2, 3, 4, 5, 3.14, 6, 'New list']\n",
            "address of list after remove: 138994673449408\n",
            "New list\n",
            "[1, 2, 3, 4, 5, 3.14, 6]\n",
            "address of list after pop at index 7: 138994673449408\n",
            "Sorted list [1, 2, 3, 3.14, 4, 5, 6]\n",
            "Reversed list [6, 5, 4, 3.14, 3, 2, 1]\n"
          ]
        }
      ]
    },
    {
      "cell_type": "markdown",
      "source": [
        "**Built in functions usefull for List** (these buil in functions are suitable for Tuple as well)"
      ],
      "metadata": {
        "id": "uilNv-7nvjVC"
      }
    },
    {
      "cell_type": "markdown",
      "source": [
        "![image.png](data:image/png;base64,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)"
      ],
      "metadata": {
        "id": "a4hzTrRMv0cM"
      }
    },
    {
      "cell_type": "code",
      "source": [
        "print(\"Length of list :\" , len(lis_4))\n",
        "print(\"Sum of list :\" , sum(lis_4))\n",
        "print(\"min of list :\" , min(lis_4))\n",
        "print(\"max of list :\" , max(lis_4))\n",
        "print(\"any-  Returns True if at least one element is truth.:\" , any(lis_4))\n",
        "print(\"all-  Returns True if all elements are truth\" , all(lis_4))\n",
        "lis_4[1]=0\n",
        "print(\"all-  Returns True if all elements are truth\" , all(lis_4))"
      ],
      "metadata": {
        "colab": {
          "base_uri": "https://localhost:8080/"
        },
        "id": "iq0CzpFgwU28",
        "outputId": "c078b99a-eb54-492d-fe14-14e317eae08b"
      },
      "execution_count": null,
      "outputs": [
        {
          "output_type": "stream",
          "name": "stdout",
          "text": [
            "Length of list : 7\n",
            "Sum of list : 24.14\n",
            "min of list : 1\n",
            "max of list : 6\n",
            "any-  Returns True if at least one element is truth.: True\n",
            "all-  Returns True if all elements are truth True\n",
            "all-  Returns True if all elements are truth False\n"
          ]
        }
      ]
    },
    {
      "cell_type": "markdown",
      "source": [
        "**Enumerate()** - returns an enumerate object - contains index and value for all items"
      ],
      "metadata": {
        "id": "0lowKqDsyce9"
      }
    },
    {
      "cell_type": "code",
      "source": [
        "print(enumerate(lis_4))"
      ],
      "metadata": {
        "colab": {
          "base_uri": "https://localhost:8080/"
        },
        "id": "Uhdsv20bx-fz",
        "outputId": "fa6cefd3-04ad-45ef-c93b-cd50e8b4f815"
      },
      "execution_count": null,
      "outputs": [
        {
          "output_type": "stream",
          "name": "stdout",
          "text": [
            "<enumerate object at 0x7e6a03bfc540>\n"
          ]
        }
      ]
    },
    {
      "cell_type": "markdown",
      "source": [
        "When you use enumerate(lis_4), it returns an enumerate object, which is an iterator.\n",
        "\n",
        "To view the actual data, use methods like convert to list, or for loop to print etc.."
      ],
      "metadata": {
        "id": "5Y7StemBybJ4"
      }
    },
    {
      "cell_type": "code",
      "source": [
        "# displaying enumerate\n",
        "\n",
        "for val in enumerate(lis_4):\n",
        "  print(val)\n",
        "\n",
        "# converting to list\n",
        "lis_6 =list(enumerate(lis_4))\n",
        "print(\"enumerator converted to list :\" ,lis_6)"
      ],
      "metadata": {
        "colab": {
          "base_uri": "https://localhost:8080/"
        },
        "id": "-2pDPBVRzK6k",
        "outputId": "98fc2181-6133-447f-b35f-70d450c46088"
      },
      "execution_count": null,
      "outputs": [
        {
          "output_type": "stream",
          "name": "stdout",
          "text": [
            "(0, 6)\n",
            "(1, 0)\n",
            "(2, 4)\n",
            "(3, 3.14)\n",
            "(4, 3)\n",
            "(5, 2)\n",
            "(6, 1)\n",
            "enumerator converted to list : [(0, 6), (1, 0), (2, 4), (3, 3.14), (4, 3), (5, 2), (6, 1)]\n"
          ]
        }
      ]
    },
    {
      "cell_type": "code",
      "source": [
        "# reversed() returns an iterator that produces elements in reverse order\n",
        "lis_7 =list(reversed(lis_4))\n",
        "print(\"enumerator converted to list :\" ,lis_7)\n"
      ],
      "metadata": {
        "colab": {
          "base_uri": "https://localhost:8080/"
        },
        "id": "7-uzqHr9zzvU",
        "outputId": "d4caa297-e408-4b66-8c36-00f6cbaa94fb"
      },
      "execution_count": null,
      "outputs": [
        {
          "output_type": "stream",
          "name": "stdout",
          "text": [
            "enumerator converted to list : [1, 2, 3, 3.14, 4, 0, 6]\n"
          ]
        }
      ]
    },
    {
      "cell_type": "code",
      "source": [
        "# zip() – Combine Multiple Iterables\n",
        "# zip() pairs elements from multiple iterables together.\n",
        "# Useful when working with related lists (like names and ages) and processing them together.\n",
        "\n",
        "names = [\"Alice\", \"Bob\", \"Charlie\"]\n",
        "ages = [25, 30, 35]\n",
        "\n",
        "for name, age in zip(names, ages):\n",
        "    print(name, \"is\", age, \"years old.\")\n",
        "\n"
      ],
      "metadata": {
        "colab": {
          "base_uri": "https://localhost:8080/"
        },
        "id": "WIvKpLJv0Tpr",
        "outputId": "ac1bb3a6-11d4-42a1-e1de-09068a940522"
      },
      "execution_count": null,
      "outputs": [
        {
          "output_type": "stream",
          "name": "stdout",
          "text": [
            "Alice is 25 years old.\n",
            "Bob is 30 years old.\n",
            "Charlie is 35 years old.\n"
          ]
        }
      ]
    },
    {
      "cell_type": "markdown",
      "source": [
        "**Tricky questions - List**"
      ],
      "metadata": {
        "id": "Ek60GahN6Pyi"
      }
    },
    {
      "cell_type": "markdown",
      "source": [
        "Q :What is the difference between list.append() and list.extend()?\n",
        "\n",
        "Ans : append() adds the entire object(or entire list if object is list), while extend() adds each element separately.\n",
        "\n"
      ],
      "metadata": {
        "id": "T5_fkYep6Utf"
      }
    },
    {
      "cell_type": "code",
      "source": [
        "a = [1, 2, 3]\n",
        "b = [4, 5]\n",
        "\n",
        "a.append(b)  # Adds the list itself\n",
        "print(a)  # Output: [1, 2, 3, [4, 5]]\n",
        "\n",
        "a = [1, 2, 3]\n",
        "a.extend(b)  # Adds elements individually\n",
        "print(a)  # Output: [1, 2, 3, 4, 5]\n"
      ],
      "metadata": {
        "colab": {
          "base_uri": "https://localhost:8080/"
        },
        "id": "rBVGzmTq-pQb",
        "outputId": "ca130dc3-20cc-4977-bdc1-79a001a87972"
      },
      "execution_count": null,
      "outputs": [
        {
          "output_type": "stream",
          "name": "stdout",
          "text": [
            "[1, 2, 3, [4, 5]]\n",
            "[1, 2, 3, 4, 5]\n"
          ]
        }
      ]
    },
    {
      "cell_type": "markdown",
      "source": [
        "Qtn :  List Slicing Trick - reversing a list\n",
        "\n",
        "difference between list[::-1] and reversed(list)"
      ],
      "metadata": {
        "id": "zCFavC8d_HIZ"
      }
    },
    {
      "cell_type": "code",
      "source": [
        "lst = [1, 2, 3, 4]\n",
        "\n",
        "rev_lst = lst[::-1]\n",
        "print(rev_lst)  # Output: [4, 3, 2, 1]\n",
        "print(type(rev_lst))\n",
        "\n",
        "\n",
        "\n",
        "rev_iter = reversed(lst)\n",
        "print(list(rev_iter))  # Output: [4, 3, 2, 1]\n",
        "print(type(rev_iter))\n",
        "\n"
      ],
      "metadata": {
        "colab": {
          "base_uri": "https://localhost:8080/"
        },
        "id": "2m1yETr1_Smn",
        "outputId": "e8e56041-1073-4299-af25-367b25228f6c"
      },
      "execution_count": null,
      "outputs": [
        {
          "output_type": "stream",
          "name": "stdout",
          "text": [
            "[4, 3, 2, 1]\n",
            "<class 'list'>\n",
            "[4, 3, 2, 1]\n",
            "<class 'list_reverseiterator'>\n"
          ]
        }
      ]
    },
    {
      "cell_type": "code",
      "source": [
        "# Tricky case - Default list is shared across function calls.\n",
        "def add_item_1(item, my_list=[]): # default list is shared\n",
        "    my_list.append(item)\n",
        "    return my_list\n",
        "\n",
        "print(add_item_1(1))  # Output?\n",
        "print(add_item_1(2))  # Output?\n",
        "\n",
        "\n",
        "\n",
        "def add_item_2(item):\n",
        "    my_list=[]\n",
        "    my_list.append(item)\n",
        "    return my_list\n",
        "print(add_item_2(1))  # Output?\n",
        "print(add_item_2(2))  # Output?\n"
      ],
      "metadata": {
        "colab": {
          "base_uri": "https://localhost:8080/"
        },
        "id": "-l2gZ_oeCrva",
        "outputId": "a3e6e806-e38c-4725-eb1c-f311472afd6e"
      },
      "execution_count": null,
      "outputs": [
        {
          "output_type": "stream",
          "name": "stdout",
          "text": [
            "[1]\n",
            "[1, 2]\n",
            "[1]\n",
            "[2]\n"
          ]
        }
      ]
    },
    {
      "cell_type": "markdown",
      "source": [
        "qtn : Unpacking in Lists\n"
      ],
      "metadata": {
        "id": "3eaXqVOiE2Zp"
      }
    },
    {
      "cell_type": "code",
      "source": [
        "# to understand this learn about * as unpacking operator\n",
        "a, *b, c = [1, 2, 3, 4, 5]\n",
        "print(a, b, c)\n"
      ],
      "metadata": {
        "colab": {
          "base_uri": "https://localhost:8080/"
        },
        "id": "O14FPhPJE1Zh",
        "outputId": "461059d7-2373-4585-fe2c-fa88a1344306"
      },
      "execution_count": null,
      "outputs": [
        {
          "output_type": "stream",
          "name": "stdout",
          "text": [
            "1 [2, 3, 4] 5\n"
          ]
        }
      ]
    },
    {
      "cell_type": "markdown",
      "source": [
        "* using extended unpacking syntax, where the asterisk (*) acts as a \"catch-all\" operator\n",
        "\n",
        "* The asterisk operator (*) tells Python to pack all the \"leftover\" values into a list at that position"
      ],
      "metadata": {
        "id": "_cAuOzsFFJl4"
      }
    },
    {
      "cell_type": "markdown",
      "source": [
        "#### Note : **asterisk operator - different use cases**"
      ],
      "metadata": {
        "id": "PId3FN3JIIao"
      }
    },
    {
      "cell_type": "markdown",
      "source": [
        "\n",
        "* General Usage : as * for multiplication and  as ** for power\n",
        "\n",
        "* Asterisks in Functions\n",
        "        1. * operator is used to call a function by unpacking an iterable"
      ],
      "metadata": {
        "id": "mF85E0Ri7zxj"
      }
    },
    {
      "cell_type": "code",
      "source": [
        "# General Usage : as * for multiplication and as ** for power\n",
        "\n",
        "a, b = 2,3\n",
        "\n",
        "## multiplication\n",
        "print(\"Multiplication of 2 and 3 is {}\".format(a * b))\n",
        "\n",
        "## as power operator\n",
        "print(\"2 power 3 is {}\".format(a ** b))\n"
      ],
      "metadata": {
        "colab": {
          "base_uri": "https://localhost:8080/"
        },
        "id": "ODxIGtZD8xFp",
        "outputId": "6bb88ce6-751c-4ebe-ab8e-9c4c0804ec02"
      },
      "execution_count": null,
      "outputs": [
        {
          "output_type": "stream",
          "name": "stdout",
          "text": [
            "Multiplication of 2 and 3 is 6\n",
            "2 power 3 is 8\n"
          ]
        }
      ]
    },
    {
      "cell_type": "markdown",
      "source": [
        "* Unpacking Using *\n",
        "        \n",
        "        1. Unpacking the elements from a list/tuple/set using the *\n",
        "        2.  above unpacking feature to combine iterables into list/sets/tuples\n",
        "        3.   ** is used to unpack the elements from a dictionary\n"
      ],
      "metadata": {
        "id": "jeFP5o1697nl"
      }
    },
    {
      "cell_type": "code",
      "source": [
        "## unpacking from list/tuple/set\n",
        "\n",
        "# define a list\n",
        "\n",
        "lst_1 = [i for i in range (1, 10)]\n",
        "print(type(lst_1))\n",
        "\n",
        "firs_val , *mid_val , second_last_val , last_val = lst_1\n",
        "\n",
        "print(firs_val)\n",
        "print(mid_val)\n",
        "print(second_last_val)\n",
        "print(last_val)\n",
        "\n",
        "\n",
        "\n",
        "#### Combining Different Iterables\n",
        "\n",
        "## combining a tuple, list, set\n",
        "nums = [1, 2, 3]\n",
        "nums2 = (4, 5, 6)\n",
        "nums3 = {7, 8, 9}\n",
        "\n",
        "## we convert the combined elements into any iterable we want\n",
        "## here i am converting into a list\n",
        "_list = [*nums, *nums2, *nums3]\n",
        "_tuple = (*nums, *nums2, *nums3)\n",
        "_set = {*nums, *nums2, *nums3}\n",
        "\n",
        "print(_list)\n",
        "print(_tuple)\n",
        "print(_set)\n",
        "\n",
        "\n",
        "# ** is used to unpack the elements from a dictionary\n",
        "\n",
        "## sample dictionary\n",
        "person = {\"name\":\"John\", \"age\":19, \"year_of_passing\":\"2021\"}\n",
        "string = \"Name:-{name} Year Of Graduation:-{year_of_passing} Age:-{age}\".format(**person)\n",
        "print(string)\n",
        "print(id(string))\n",
        "#### OR ####\n",
        "\n",
        "#using f-strings (formatted string literals)\n",
        "string = f\"Name:-{person['name']} Year Of Graduation:-{person['year_of_passing']} Age:-{person['age']}\"\n",
        "print(string)\n",
        "print(id(string))"
      ],
      "metadata": {
        "colab": {
          "base_uri": "https://localhost:8080/"
        },
        "id": "rTtYnyiW2YvW",
        "outputId": "3bcac497-c8d1-4b32-c954-93a95486022b"
      },
      "execution_count": null,
      "outputs": [
        {
          "output_type": "stream",
          "name": "stdout",
          "text": [
            "<class 'list'>\n",
            "1\n",
            "[2, 3, 4, 5, 6, 7]\n",
            "8\n",
            "9\n",
            "[1, 2, 3, 4, 5, 6, 8, 9, 7]\n",
            "(1, 2, 3, 4, 5, 6, 8, 9, 7)\n",
            "{1, 2, 3, 4, 5, 6, 7, 8, 9}\n",
            "Name:-John Year Of Graduation:-2021 Age:-19\n",
            "132337790546256\n",
            "Name:-John Year Of Graduation:-2021 Age:-19\n",
            "132337790543184\n"
          ]
        }
      ]
    },
    {
      "cell_type": "markdown",
      "source": [
        "**Asterisks in Functions** -Asterisks in unpacking and packing in Function calls\n"
      ],
      "metadata": {
        "id": "BoPZ2UxYIVf9"
      }
    },
    {
      "cell_type": "code",
      "source": [
        "list_1 = [1,2,3,4,7,9]\n",
        "\n",
        "print(*list_1) # pass list to fucntion call with unpacking operator *\n",
        "\n",
        "def find_avg (*list):\n",
        "  return (sum(list))/len(list)\n",
        "\n",
        "print(find_avg(*list_1))"
      ],
      "metadata": {
        "colab": {
          "base_uri": "https://localhost:8080/"
        },
        "id": "DVETDkAJJAYO",
        "outputId": "826e08f8-0d50-421b-fb21-6ec5b433b4d8"
      },
      "execution_count": null,
      "outputs": [
        {
          "output_type": "stream",
          "name": "stdout",
          "text": [
            "1 2 3 4 7 9\n",
            "4.333333333333333\n"
          ]
        }
      ]
    },
    {
      "cell_type": "markdown",
      "source": [
        "Qtn : What’s the difference between list1 = list1 + list2 and list1 += list2?\n",
        "\n",
        "Ans : += modifies the original list, but + creates a new one."
      ],
      "metadata": {
        "id": "Bax11lbbF7eh"
      }
    },
    {
      "cell_type": "code",
      "source": [
        "# += modifies the original list\n",
        "\n",
        "list1 = [1, 2, 3]\n",
        "list2 = [4, 5]\n",
        "\n",
        "print(id(list1))\n",
        "\n",
        "list1 += list2\n",
        "print(list1)\n",
        "print(id(list1))\n"
      ],
      "metadata": {
        "colab": {
          "base_uri": "https://localhost:8080/"
        },
        "id": "YzJq_319F_M8",
        "outputId": "eca339da-0d3d-4088-ed6c-93b76cbce644"
      },
      "execution_count": null,
      "outputs": [
        {
          "output_type": "stream",
          "name": "stdout",
          "text": [
            "138994029944320\n",
            "[1, 2, 3, 4, 5]\n",
            "138994029944320\n"
          ]
        }
      ]
    },
    {
      "cell_type": "code",
      "source": [
        "# + creates a new one\n",
        "\n",
        "list1 = [1, 2, 3]\n",
        "list2 = [4, 5]\n",
        "\n",
        "print(id(list1))\n",
        "list1 = list1 + list2\n",
        "print(list1)\n",
        "print(id(list1))\n"
      ],
      "metadata": {
        "colab": {
          "base_uri": "https://localhost:8080/"
        },
        "id": "W6tY-qlvGMOK",
        "outputId": "fc19749c-645c-43f4-d399-5ecea9982056"
      },
      "execution_count": null,
      "outputs": [
        {
          "output_type": "stream",
          "name": "stdout",
          "text": [
            "138994036649152\n",
            "[1, 2, 3, 4, 5]\n",
            "138993782655296\n"
          ]
        }
      ]
    },
    {
      "cell_type": "markdown",
      "source": [
        "###  **Set datatype in Python**"
      ],
      "metadata": {
        "id": "_34OsB9xBa0I"
      }
    },
    {
      "cell_type": "markdown",
      "source": [
        "* Set is one of 4 built-in data types in Python used to store **collections of data**, the other 3 are List, Tuple, and Dictionary, all with different qualities and usage.\n",
        "\n",
        "* A set is a collection of unique data, meaning that elements within a set **cannot be duplicated**.\n",
        "\n",
        "* In Python, we create sets by placing all the elements inside **curly braces {}**, separated by commas.\n",
        "\n",
        "* Create an **Empty Set** in Python -Creating an empty set is a bit tricky. Empty curly braces {} will make an empty dictionary in Python. To make a set without any elements, we use the **set()** function without any argument.\n",
        "\n",
        "* Set is an **unordered** and unindexed collection of items in Python. Unordered means when we display the elements of a set, it will come out in a random order.\n",
        "* **Unindexed** means, we cannot access the elements of a set using the indexes like we can do in list and tuples.\n"
      ],
      "metadata": {
        "id": "z4VDDuZDDBat"
      }
    },
    {
      "cell_type": "code",
      "source": [
        "# create a set of integer type\n",
        "student_id = {112, 114, 116, 118, 115}\n",
        "print('Student ID:', student_id)\n",
        "\n",
        "# create a set of string type\n",
        "vowel_letters = {'a', 'e', 'i', 'o', 'u'}\n",
        "print('Vowel Letters:', vowel_letters)\n",
        "\n",
        "# create a set of mixed data types\n",
        "mixed_set = {'Hello', 101, -2, 'Bye'}\n",
        "print('Set of mixed data types:', mixed_set)\n",
        "\n",
        "# Duplicates not allowed\n",
        "dup_set = {\"apple\", \"banana\", \"cherry\", \"apple\"}\n",
        "print(dup_set)"
      ],
      "metadata": {
        "colab": {
          "base_uri": "https://localhost:8080/"
        },
        "id": "Tb7a1lVIEYbp",
        "outputId": "2eaccd08-b4fa-49e7-e7b4-62cf7101f29f"
      },
      "execution_count": 11,
      "outputs": [
        {
          "output_type": "stream",
          "name": "stdout",
          "text": [
            "Student ID: {112, 114, 115, 116, 118}\n",
            "Vowel Letters: {'e', 'o', 'i', 'a', 'u'}\n",
            "Set of mixed data types: {'Bye', 'Hello', 101, -2}\n",
            "{'apple', 'cherry', 'banana'}\n"
          ]
        }
      ]
    },
    {
      "cell_type": "code",
      "source": [
        "# empty dataset python\n",
        "empty_dtype = {}\n",
        "print(type(empty_dtype))\n",
        "\n",
        "single_element_dtype = {1}\n",
        "print(type(single_element_dtype))\n",
        "\n",
        "# empty Set creation\n",
        "empty_set = set()\n",
        "print(type(empty_set))\n"
      ],
      "metadata": {
        "colab": {
          "base_uri": "https://localhost:8080/"
        },
        "id": "lJ4h7pGlE7e8",
        "outputId": "bcce57b1-ebba-43cf-ed66-4b21c4355a44"
      },
      "execution_count": 14,
      "outputs": [
        {
          "output_type": "stream",
          "name": "stdout",
          "text": [
            "<class 'dict'>\n",
            "<class 'set'>\n",
            "<class 'set'>\n"
          ]
        }
      ]
    },
    {
      "cell_type": "code",
      "source": [
        "# Order and iterating over list\n",
        "\n",
        "# Creating a set\n",
        "fruits = {'apple', 'banana', 'orange', 'mango'}\n",
        "print(fruits)  # Output might be in any order, like: {'mango', 'apple', 'orange', 'banana'}\n",
        "\n",
        "# Creating another set with same elements but different order\n",
        "fruits2 = {'banana', 'mango', 'apple', 'orange'}\n",
        "print(fruits == fruits2)  # True - because order doesn't matter in sets\n",
        "\n",
        "print(\"address 1 : \", id(fruits), \"address 2 : \" ,id(fruits2)) # check address of two sets\n",
        "\n",
        "# Trying to access elements by index (this will raise an error)\n",
        "try:\n",
        "    print(fruits[0])  # TypeError: 'set' object is not subscriptable\n",
        "except TypeError as e:\n",
        "    print(f\"Error: {e}\")\n",
        "\n",
        "# The only way to access elements is through iteration\n",
        "for fruit in fruits:\n",
        "    print(fruit)  # Elements will be printed in random order\n",
        "\n",
        "# Adding elements - notice how order is not preserved\n",
        "fruits.add('grape')\n",
        "print(fruits)  # New element might appear anywhere in the output\n",
        "\n",
        "# Even if you create a set from an ordered sequence, the order is not maintained\n",
        "ordered_list = [1, 2, 3, 4, 5]\n",
        "number_set = set(ordered_list)\n",
        "print(number_set)  # Might print in any order: {1, 3, 2, 5, 4}"
      ],
      "metadata": {
        "colab": {
          "base_uri": "https://localhost:8080/"
        },
        "id": "0jxqDutoHpp6",
        "outputId": "c629b327-63ae-48e3-cf96-2a7d0bdee758"
      },
      "execution_count": 21,
      "outputs": [
        {
          "output_type": "stream",
          "name": "stdout",
          "text": [
            "{'mango', 'apple', 'orange', 'banana'}\n",
            "True\n",
            "address 1 :  133773049257248 address 2 :  133773049260608\n",
            "Error: 'set' object is not subscriptable\n",
            "mango\n",
            "apple\n",
            "orange\n",
            "banana\n",
            "{'mango', 'orange', 'grape', 'apple', 'banana'}\n",
            "{1, 2, 3, 4, 5}\n"
          ]
        }
      ]
    },
    {
      "cell_type": "markdown",
      "source": [
        "###  **Dictionary datatype in Python**"
      ],
      "metadata": {
        "id": "DKd_IjIQLNZr"
      }
    },
    {
      "cell_type": "markdown",
      "source": [
        "* A Python dictionary is a collection of items, similar to lists and tuples. However, unlike lists and tuples, each item in a dictionary is a **key-value pair** (consisting of a key and a value).\n",
        "\n",
        "* We create a dictionary by placing **key: value pairs inside curly brackets {}, separated by commas.**\n",
        "\n",
        "* A dictionary do **not allow duplicates keys**\n",
        "*  Python 3.7 and later versions, dictionaries are ordered by insertion."
      ],
      "metadata": {
        "id": "KyL5Fpd7LQOB"
      }
    },
    {
      "cell_type": "code",
      "source": [
        "# empty dictionary\n",
        "\n",
        "dict_0 = {}\n",
        "print(type(dict_0))\n",
        "\n",
        "# create and assign values to dictionary\n",
        "dict_1 = { \"Ireland\": \" Dublin\"}\n",
        "print(dict_1)\n",
        "\n",
        "\n",
        "# insert element to dictionary\n",
        "dict_1[\"India\"] = \"Delhi\"\n",
        "print(dict_1)\n",
        "\n",
        "\n",
        "# accessing dictionary elemets\n",
        "print(dict_1[\"India\"])\n",
        "\n",
        "# Dictionary with mixed keys\n",
        "dict_1[1] = [\"Countries\"]\n",
        "print(dict_1)\n",
        "\n",
        "# adding duplicates - Duplicate values will overwrite existing values\n",
        "dict_1[\"India\"] = \"New Delhi\"\n",
        "print(dict_1)\n",
        "\n",
        "\n",
        "# length of dictionary\n",
        "print(len(dict_1))\n",
        "\n",
        "#  Python 3.7 and later versions, dictionaries are ordered by insertion\n",
        "# if add new item the same will be added to the end of dictionary\n",
        "dict_1[2]=\"Capitals\"\n",
        "print(dict_1)\n"
      ],
      "metadata": {
        "colab": {
          "base_uri": "https://localhost:8080/"
        },
        "id": "N-Wy6pPRODjR",
        "outputId": "aa3d3694-1fdc-4fb7-f0c6-405f63181cf8"
      },
      "execution_count": 59,
      "outputs": [
        {
          "output_type": "stream",
          "name": "stdout",
          "text": [
            "<class 'dict'>\n",
            "{'Ireland': ' Dublin'}\n",
            "{'Ireland': ' Dublin', 'India': 'Delhi'}\n",
            "Delhi\n",
            "{'Ireland': ' Dublin', 'India': 'Delhi', 1: ['Countries']}\n",
            "{'Ireland': ' Dublin', 'India': 'New Delhi', 1: ['Countries']}\n",
            "3\n",
            "{'Ireland': ' Dublin', 'India': 'New Delhi', 1: ['Countries'], 2: 'Capitals'}\n"
          ]
        }
      ]
    },
    {
      "cell_type": "code",
      "source": [
        "#Iterate Through a Dictionary\n",
        "\n",
        "for val_key in dict_1 :\n",
        "  print(val_key)  # for printing Key\n",
        "  print(dict_1[val_key]) # for printing values"
      ],
      "metadata": {
        "colab": {
          "base_uri": "https://localhost:8080/"
        },
        "id": "Ts3KTW5sR-0U",
        "outputId": "9cec01b3-d163-4c33-b203-ae968e2737aa"
      },
      "execution_count": 36,
      "outputs": [
        {
          "output_type": "stream",
          "name": "stdout",
          "text": [
            "Ireland\n",
            " Dublin\n",
            "India\n",
            "New Delhi\n",
            "1\n",
            "['Countries']\n",
            "2\n",
            "Capitals\n"
          ]
        }
      ]
    },
    {
      "cell_type": "markdown",
      "source": [
        "**Dictionaries Practical Applications :**\n",
        "\n"
      ],
      "metadata": {
        "id": "WVPJbFIQTKsr"
      }
    },
    {
      "cell_type": "code",
      "source": [
        "# Key-value relationships are extremely common in programming\n",
        "# Database-Like Storage (User Profiles)\n",
        "\n",
        "# User profiles\n",
        "user = {\n",
        "    'id': 12345,\n",
        "    'name': 'John Doe',\n",
        "    'email': 'john@example.com',\n",
        "    'active': True\n",
        "}\n",
        "\n",
        "# Configuration settings\n",
        "config = {\n",
        "    'db_host': 'localhost',\n",
        "    'db_port': 5432,\n",
        "    'timeout': 30\n",
        "}\n",
        "\n",
        "# Caching results\n",
        "computation_cache = {\n",
        "    'input_1': 'result_1',\n",
        "    'input_2': 'result_2'\n",
        "}"
      ],
      "metadata": {
        "id": "lX1KgH7JTQhZ"
      },
      "execution_count": 37,
      "outputs": []
    },
    {
      "cell_type": "markdown",
      "source": [
        "**JSON Parsing (API Responses & Configuration)**\n",
        "Why use a dictionary?\n",
        "* JSON is natively converted into Python dictionaries.\n",
        "* Easy data extraction & manipulation."
      ],
      "metadata": {
        "id": "7JKck7uwWqbP"
      }
    },
    {
      "cell_type": "code",
      "source": [
        "# JSON-like data structures (commonly used in web APIs and configs)\n",
        "\n",
        "# API response handling\n",
        "api_response = '{\"status\": \"success\", \"data\": \"items\" ,\"total\": 100}'\n",
        "\n",
        "# JSON configuration\n",
        "import json\n",
        "\n",
        "\n",
        "data_dict = json.loads(api_response)\n",
        "\n",
        "print(data_dict[\"status\"])  # Output: Alice\n",
        "\n"
      ],
      "metadata": {
        "colab": {
          "base_uri": "https://localhost:8080/"
        },
        "id": "LTpQbWqMTUlk",
        "outputId": "066fb32f-a344-462c-f204-a3e4ed584bce"
      },
      "execution_count": 51,
      "outputs": [
        {
          "output_type": "stream",
          "name": "stdout",
          "text": [
            "success\n"
          ]
        }
      ]
    },
    {
      "cell_type": "code",
      "source": [
        "# Caching/Memoization to store expensive computation results\n",
        "# Storing previously computed results to speed up expensive function calls.\n",
        "\n",
        "cache = {}\n",
        "\n",
        "def fibonacci(n):\n",
        "    if n in cache:\n",
        "        return cache[n]\n",
        "    if n <= 1:\n",
        "        return n\n",
        "    cache[n] = fibonacci(n-1) + fibonacci(n-2)\n",
        "    return cache[n]\n",
        "\n",
        "print(fibonacci(10))  # Output: 55\n"
      ],
      "metadata": {
        "colab": {
          "base_uri": "https://localhost:8080/"
        },
        "id": "2jMjWgTjUZXU",
        "outputId": "8ce59d3b-077d-4fa0-c445-e49e132fcf9f"
      },
      "execution_count": 38,
      "outputs": [
        {
          "output_type": "stream",
          "name": "stdout",
          "text": [
            "55\n"
          ]
        }
      ]
    },
    {
      "cell_type": "markdown",
      "source": [
        "**Grouping Data (Organizing Lists by Category)**\n",
        "\n",
        "Organizing people, products, or transactions based on categories."
      ],
      "metadata": {
        "id": "zt-6-3gTW_RG"
      }
    },
    {
      "cell_type": "code",
      "source": [
        "from collections import defaultdict\n",
        "\n",
        "transactions = [\n",
        "    (\"electronics\", 200),\n",
        "    (\"grocery\", 50),\n",
        "    (\"electronics\", 300),\n",
        "    (\"fashion\", 150),\n",
        "]\n",
        "\n",
        "grouped = defaultdict(list)\n",
        "for category, amount in transactions:\n",
        "    grouped[category].append(amount)\n",
        "\n",
        "print(dict(grouped))\n",
        "# Output: {'electronics': [200, 300], 'grocery': [50], 'fashion': [150]}\n"
      ],
      "metadata": {
        "colab": {
          "base_uri": "https://localhost:8080/"
        },
        "id": "g4iB8Lc2UlSZ",
        "outputId": "556632d7-fe47-4580-b03c-cfe4477ff92c"
      },
      "execution_count": 52,
      "outputs": [
        {
          "output_type": "stream",
          "name": "stdout",
          "text": [
            "{'electronics': [200, 300], 'grocery': [50], 'fashion': [150]}\n"
          ]
        }
      ]
    }
  ]
}