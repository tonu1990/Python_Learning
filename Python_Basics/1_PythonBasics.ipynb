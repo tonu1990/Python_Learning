{
  "nbformat": 4,
  "nbformat_minor": 0,
  "metadata": {
    "colab": {
      "provenance": [],
      "authorship_tag": "ABX9TyN7b0ZHdSg6/cNhpeebPnI1",
      "include_colab_link": true
    },
    "kernelspec": {
      "name": "python3",
      "display_name": "Python 3"
    },
    "language_info": {
      "name": "python"
    }
  },
  "cells": [
    {
      "cell_type": "markdown",
      "metadata": {
        "id": "view-in-github",
        "colab_type": "text"
      },
      "source": [
        "<a href=\"https://colab.research.google.com/github/tonu1990/Python_Learning/blob/main/Python_Basics/1_PythonBasics.ipynb\" target=\"_parent\"><img src=\"https://colab.research.google.com/assets/colab-badge.svg\" alt=\"Open In Colab\"/></a>"
      ]
    },
    {
      "cell_type": "markdown",
      "source": [
        "Python is **interpreted programing language** and at the same time a **scripting language** .\n",
        "\n",
        "\n",
        "1.   A high-level programming language that is interpreted by another program at runtime (interpreted programming language )\n",
        "\n",
        "2.  Python is a scripting language -  a type of programming language specifically designed for automating tasks.  But remeber python is not a client side scripting language because it doesn't run directly in the browser, as like JavaScript run on the user's browser. However Python is a powerful **server-side scripting language**.\n",
        "Server-side scripting refers to scripts that run on a web server, often used to handle user requests, interact with databases, or generate dynamic content for web pages.Frameworks like **Django and Flask** make Python popular for web development, enabling database manipulation and dynamic content delivery.\n"
      ],
      "metadata": {
        "id": "Ic6VXJVwnR_v"
      }
    },
    {
      "cell_type": "markdown",
      "source": [
        "**Python comments** - Single line comments and multi line comments ;\n",
        "\n",
        "\n",
        "1.   Using # , which is the appropriate one for comment\n",
        "2.   using string literals - A string literal, whether it spans one line or multiple lines, is not ignored by the Python interpreter.\n"
      ],
      "metadata": {
        "id": "abTkqzHetPXK"
      }
    },
    {
      "cell_type": "code",
      "source": [
        "# this single line comment using #\n",
        "\n",
        "\n",
        "'''This is an\n",
        "examaple of string literal comment\n",
        "using single quotes '''\n",
        "\n",
        "\n",
        "# This is an\n",
        "# examaple of multi line comment\n",
        "# using #"
      ],
      "metadata": {
        "colab": {
          "base_uri": "https://localhost:8080/",
          "height": 35
        },
        "id": "mRyDdEKaulpD",
        "outputId": "fdd1baad-c679-45da-b40d-e01c107fd07e"
      },
      "execution_count": 4,
      "outputs": [
        {
          "output_type": "execute_result",
          "data": {
            "text/plain": [
              "'This is an \\nexamaple of string literal comment \\nusing single quotes '"
            ],
            "application/vnd.google.colaboratory.intrinsic+json": {
              "type": "string"
            }
          },
          "metadata": {},
          "execution_count": 4
        }
      ]
    },
    {
      "cell_type": "markdown",
      "source": [
        "**Assigning values to Variables in Python**"
      ],
      "metadata": {
        "id": "1W3K7eNRNXSh"
      }
    },
    {
      "cell_type": "code",
      "execution_count": 6,
      "metadata": {
        "colab": {
          "base_uri": "https://localhost:8080/"
        },
        "id": "WQHQJ9MqK-fo",
        "outputId": "736737cd-d23a-4e7e-caf2-2e1da6e9a4c9"
      },
      "outputs": [
        {
          "output_type": "stream",
          "name": "stdout",
          "text": [
            "Dublin\n"
          ]
        }
      ],
      "source": [
        "# assign value to site_name variable\n",
        "\n",
        "site_name = 'Dublin'\n",
        "\n",
        "print(site_name)"
      ]
    },
    {
      "cell_type": "code",
      "source": [
        "#Triple Quotes in Python -  write strings that span multiple lines\n",
        "\n",
        "mul_line_statement = \"\"\" Hello All ,\n",
        "this is an example of ....,\n",
        "Multiline Statement...\n",
        "Lets print it now ...\"\"\"\n",
        "\n",
        "print(mul_line_statement)"
      ],
      "metadata": {
        "colab": {
          "base_uri": "https://localhost:8080/"
        },
        "id": "fMvn96_tmqm-",
        "outputId": "fbef87e7-b765-43b8-f385-d92d5a4d8060"
      },
      "execution_count": 5,
      "outputs": [
        {
          "output_type": "stream",
          "name": "stdout",
          "text": [
            " Hello All ,\n",
            "this is an example of ....,\n",
            "Multiline Statement...\n",
            "Lets print it now ...\n"
          ]
        }
      ]
    },
    {
      "cell_type": "code",
      "source": [
        "# Assigning multiple values to multiple variables\n",
        "\n",
        "a, b, c , d = 5, 3.2, 'Hello' , \"Tonu\"\n",
        "\n",
        "print(a)\n",
        "print(b)\n",
        "print(c)\n",
        "print(d)"
      ],
      "metadata": {
        "colab": {
          "base_uri": "https://localhost:8080/"
        },
        "id": "0rT_TC8Pzrcb",
        "outputId": "59ce2310-78b2-4a0b-a5dc-bb2d67b0d52e"
      },
      "execution_count": 8,
      "outputs": [
        {
          "output_type": "stream",
          "name": "stdout",
          "text": [
            "5\n",
            "3.2\n",
            "Hello\n",
            "Tonu\n"
          ]
        }
      ]
    },
    {
      "cell_type": "code",
      "source": [
        "# concatenation operator + on variables\n",
        "\n",
        "print (a+b)\n",
        "print(c+d)\n"
      ],
      "metadata": {
        "colab": {
          "base_uri": "https://localhost:8080/"
        },
        "id": "P_O7i_58z8bP",
        "outputId": "683416f9-c4d4-4c04-a161-b6d22f4f84df"
      },
      "execution_count": 9,
      "outputs": [
        {
          "output_type": "stream",
          "name": "stdout",
          "text": [
            "8.2\n",
            "HelloTonu\n"
          ]
        }
      ]
    },
    {
      "cell_type": "code",
      "source": [
        "# concatenate + with string and integer\n",
        "\n",
        "# this will give error\n",
        "\n",
        "print(b+c)"
      ],
      "metadata": {
        "colab": {
          "base_uri": "https://localhost:8080/",
          "height": 176
        },
        "id": "Xox90D3O0Sr1",
        "outputId": "56d2e113-f856-41a9-a0bc-b0db1556c827"
      },
      "execution_count": 10,
      "outputs": [
        {
          "output_type": "error",
          "ename": "TypeError",
          "evalue": "unsupported operand type(s) for +: 'float' and 'str'",
          "traceback": [
            "\u001b[0;31m---------------------------------------------------------------------------\u001b[0m",
            "\u001b[0;31mTypeError\u001b[0m                                 Traceback (most recent call last)",
            "\u001b[0;32m<ipython-input-10-47d27f90e239>\u001b[0m in \u001b[0;36m<cell line: 0>\u001b[0;34m()\u001b[0m\n\u001b[1;32m      1\u001b[0m \u001b[0;31m# concatenate + with string and integer\u001b[0m\u001b[0;34m\u001b[0m\u001b[0;34m\u001b[0m\u001b[0m\n\u001b[1;32m      2\u001b[0m \u001b[0;34m\u001b[0m\u001b[0m\n\u001b[0;32m----> 3\u001b[0;31m \u001b[0mprint\u001b[0m\u001b[0;34m(\u001b[0m\u001b[0mb\u001b[0m\u001b[0;34m+\u001b[0m\u001b[0mc\u001b[0m\u001b[0;34m)\u001b[0m\u001b[0;34m\u001b[0m\u001b[0;34m\u001b[0m\u001b[0m\n\u001b[0m",
            "\u001b[0;31mTypeError\u001b[0m: unsupported operand type(s) for +: 'float' and 'str'"
          ]
        }
      ]
    },
    {
      "cell_type": "markdown",
      "source": [
        "**\"*In Python everything is an object*\"**\n",
        "\n",
        "It means that almost everything that you use: is an instance of a class and has attributes.I say \"almost\" because this doesn't hold for keywords (such as for, if, def etc).When you define a variable, Python creates a pointer to an object in memory. This object is an instance of a class. You can use the function type() to see the class your variable belongs to.\n",
        "\n",
        "NOTE: You will also see similar sentances like ;\n",
        "\n",
        "\n",
        "1. **Python is a dynamically typed language**- *You don’t need to declare variable types explicitly; the type is determined at runtime*\n",
        "2. **Python is a strongly typed language**- Y*ou cannot perform operations between incompatible types without explicit conversion (e.g., adding a string and an integer will raise an error).*\n",
        "3.**Python is an interpreted language** - *Python code is executed line by line, without the need for compilation into machine code*\n",
        "4. **Python is platform-independent** - *Python code can run on multiple operating systems with minimal or no modification, thanks to its interpreter.*\n",
        "\n",
        "5. **Python supports multiple programming paradigms** - *You can use procedural, object-oriented, and functional programming styles in Python.*\n",
        "\n",
        "6. **Python uses automatic memory management**- *Python has a built-in garbage collector to manage memory, so you don’t need to handle allocation and deallocation manually*.\n",
        "\n",
        "7. **Python supports list comprehensions**- *A concise way to way to create and manipulate lists in a single line of code by iterating over sequences and applying conditions.*\n",
        "\n",
        "8. **Python supports first-class functions**- *Functions in Python are treated as objects and can be passed as arguments, returned from other functions, or assigned to variables*\n",
        "\n",
        "and many more.."
      ],
      "metadata": {
        "id": "0zHL3fwRYJEh"
      }
    },
    {
      "cell_type": "markdown",
      "source": [
        "**Datatypes in Python**"
      ],
      "metadata": {
        "id": "ZyrUAfTZ0hyx"
      }
    },
    {
      "cell_type": "markdown",
      "source": [
        "As already mentioned everything in Python is an object and what every newcomer to Python should quickly learn is that all objects in Python can be either mutable or immutable. Simple put, a mutable object can be changed after it is created, and an immutable object can’t.\n",
        "\n",
        "\n",
        "The data types in Python are divided in two categories:\n",
        "1. Immutable data types - if you can’t change the object’s state after you’ve created it.\n",
        "2. Mutable data types - allows you to modify its internal state after creation.\n"
      ],
      "metadata": {
        "id": "D6ufy9yOVqDr"
      }
    },
    {
      "cell_type": "markdown",
      "source": [
        "Immutable data types in Python are:\n",
        "1. Numbers\n",
        "2. String\n",
        "3. Tuple\n",
        "\n",
        "\n",
        "Mutable data types in Python are:\n",
        "1. List\n",
        "2. Dictionaries\n",
        "3. Sets\n"
      ],
      "metadata": {
        "id": "_AgCYn2ZdCDA"
      }
    },
    {
      "cell_type": "markdown",
      "source": [
        "###  **Python Numbers**"
      ],
      "metadata": {
        "id": "2UMInM_Kd8GP"
      }
    },
    {
      "cell_type": "code",
      "source": [
        "# Python supports integers, floats and complex numbers , boolean(which has value 1 for True and 0 for False).\n",
        "\n",
        "# intergers\n",
        "x = 3\n",
        "\n",
        "# float\n",
        "y = 3.14\n",
        "\n",
        "# Complex\n",
        "z= 10 + 3j\n",
        "\n",
        "#bool\n",
        "b = True\n",
        "\n",
        "\n",
        "print (x , type(x))\n",
        "print (y , type(y))\n",
        "print (z , type(z))\n",
        "print (b , type(b))"
      ],
      "metadata": {
        "colab": {
          "base_uri": "https://localhost:8080/"
        },
        "id": "V7MwFRkseOXX",
        "outputId": "8d799b0c-08a7-489a-c0c8-cf2dc972801f"
      },
      "execution_count": 4,
      "outputs": [
        {
          "output_type": "stream",
          "name": "stdout",
          "text": [
            "3 <class 'int'>\n",
            "3.14 <class 'float'>\n",
            "(10+3j) <class 'complex'>\n",
            "True <class 'bool'>\n"
          ]
        }
      ]
    },
    {
      "cell_type": "markdown",
      "source": [
        "*Q : Can we add an Interger and boolean???*"
      ],
      "metadata": {
        "id": "aoF6cieVfsnI"
      }
    },
    {
      "cell_type": "code",
      "source": [
        "# add integer and boolean\n",
        "print(x +b)\n",
        "\n",
        "# add float ad boolean\n",
        "print(y + b)\n",
        "\n",
        "# add complex and boolean\n",
        "print(z +b)"
      ],
      "metadata": {
        "colab": {
          "base_uri": "https://localhost:8080/"
        },
        "id": "6ro-RzInfm10",
        "outputId": "17c9003c-a0e8-48ee-e139-4c33f19262b7"
      },
      "execution_count": 6,
      "outputs": [
        {
          "output_type": "stream",
          "name": "stdout",
          "text": [
            "4\n",
            "4.140000000000001\n",
            "(11+3j)\n"
          ]
        }
      ]
    },
    {
      "cell_type": "markdown",
      "source": [
        "We use the id() function to check the memory address of an object before and after modification. If the id changes, it means the object is immutable, as a new object is created for the new value."
      ],
      "metadata": {
        "id": "yy0tjRiohn48"
      }
    },
    {
      "cell_type": "code",
      "source": [
        "# checking immutability of Numbers\n",
        "\n",
        "# current x value and address\n",
        "print(x ,id(x))\n",
        "\n",
        "x= x+ 1\n",
        "print (x , id(x))\n",
        "\n",
        "# now again bring back the value to same old value\n",
        "x= x-1\n",
        "print (x , id(x))\n",
        "\n",
        "# lets assign a different variable with value 10 and check its address\n",
        "n = 5\n",
        "print (n , id(n))"
      ],
      "metadata": {
        "colab": {
          "base_uri": "https://localhost:8080/"
        },
        "id": "G5qHw_B3hWkd",
        "outputId": "54b0d01f-cf59-4537-8396-a982ca958d15"
      },
      "execution_count": 13,
      "outputs": [
        {
          "output_type": "stream",
          "name": "stdout",
          "text": [
            "4 10750952\n",
            "5 10750984\n",
            "4 10750952\n",
            "5 10750984\n"
          ]
        }
      ]
    },
    {
      "cell_type": "code",
      "source": [
        "# but there is a difference if value is not between -5 and 256\n",
        "n1= 257\n",
        "n2 = 257\n",
        "print(id(n1) , id(n2)  )"
      ],
      "metadata": {
        "colab": {
          "base_uri": "https://localhost:8080/"
        },
        "id": "9YAK0mRbkf4o",
        "outputId": "f097ec79-e3ab-4cb5-edf8-3ba97cac97eb"
      },
      "execution_count": 18,
      "outputs": [
        {
          "output_type": "stream",
          "name": "stdout",
          "text": [
            "134124338244624 134124338238000\n"
          ]
        }
      ]
    },
    {
      "cell_type": "markdown",
      "source": [
        "Note : in above , **Caching Behavior**:\n",
        "\n",
        "When you assign a variable to a commonly used small integer (like 4 or 5), Python checks if it already has an object with that value in its cache. If it exists, the same object is reused, and id() returns the same address."
      ],
      "metadata": {
        "id": "bjqVedBGi2nA"
      }
    },
    {
      "cell_type": "markdown",
      "source": [
        "In Python, integer caching is managed internally by the interpreter, and the range of cached integers is implementation-dependent. By default, CPython (the most common Python implementation) caches integers in the range -5 to 256.\n",
        "\n",
        "In CPython:\n",
        "\n",
        "Numbers between -5 and 256 will have consistent id values for repeated occurrences.\n",
        "\n",
        "Numbers outside this range will have different id values for the same value if reassigned."
      ],
      "metadata": {
        "id": "ItQWPEmQjgYr"
      }
    },
    {
      "cell_type": "code",
      "source": [
        "# Check cached integer range\n",
        "for i in range(-10, 260):\n",
        "    obj_id = id(i)\n",
        "    print(f\"Value: {i}, Address: {obj_id}\")\n"
      ],
      "metadata": {
        "colab": {
          "base_uri": "https://localhost:8080/"
        },
        "id": "7FB6VuIbi7WY",
        "outputId": "2ca022c2-5ee8-4156-9b90-49eda237848a"
      },
      "execution_count": 15,
      "outputs": [
        {
          "output_type": "stream",
          "name": "stdout",
          "text": [
            "Value: -10, Address: 134124338235760\n",
            "Value: -9, Address: 134124338234832\n",
            "Value: -8, Address: 134124338242288\n",
            "Value: -7, Address: 134124338241968\n",
            "Value: -6, Address: 134124338234832\n",
            "Value: -5, Address: 10750664\n",
            "Value: -4, Address: 10750696\n",
            "Value: -3, Address: 10750728\n",
            "Value: -2, Address: 10750760\n",
            "Value: -1, Address: 10750792\n",
            "Value: 0, Address: 10750824\n",
            "Value: 1, Address: 10750856\n",
            "Value: 2, Address: 10750888\n",
            "Value: 3, Address: 10750920\n",
            "Value: 4, Address: 10750952\n",
            "Value: 5, Address: 10750984\n",
            "Value: 6, Address: 10751016\n",
            "Value: 7, Address: 10751048\n",
            "Value: 8, Address: 10751080\n",
            "Value: 9, Address: 10751112\n",
            "Value: 10, Address: 10751144\n",
            "Value: 11, Address: 10751176\n",
            "Value: 12, Address: 10751208\n",
            "Value: 13, Address: 10751240\n",
            "Value: 14, Address: 10751272\n",
            "Value: 15, Address: 10751304\n",
            "Value: 16, Address: 10751336\n",
            "Value: 17, Address: 10751368\n",
            "Value: 18, Address: 10751400\n",
            "Value: 19, Address: 10751432\n",
            "Value: 20, Address: 10751464\n",
            "Value: 21, Address: 10751496\n",
            "Value: 22, Address: 10751528\n",
            "Value: 23, Address: 10751560\n",
            "Value: 24, Address: 10751592\n",
            "Value: 25, Address: 10751624\n",
            "Value: 26, Address: 10751656\n",
            "Value: 27, Address: 10751688\n",
            "Value: 28, Address: 10751720\n",
            "Value: 29, Address: 10751752\n",
            "Value: 30, Address: 10751784\n",
            "Value: 31, Address: 10751816\n",
            "Value: 32, Address: 10751848\n",
            "Value: 33, Address: 10751880\n",
            "Value: 34, Address: 10751912\n",
            "Value: 35, Address: 10751944\n",
            "Value: 36, Address: 10751976\n",
            "Value: 37, Address: 10752008\n",
            "Value: 38, Address: 10752040\n",
            "Value: 39, Address: 10752072\n",
            "Value: 40, Address: 10752104\n",
            "Value: 41, Address: 10752136\n",
            "Value: 42, Address: 10752168\n",
            "Value: 43, Address: 10752200\n",
            "Value: 44, Address: 10752232\n",
            "Value: 45, Address: 10752264\n",
            "Value: 46, Address: 10752296\n",
            "Value: 47, Address: 10752328\n",
            "Value: 48, Address: 10752360\n",
            "Value: 49, Address: 10752392\n",
            "Value: 50, Address: 10752424\n",
            "Value: 51, Address: 10752456\n",
            "Value: 52, Address: 10752488\n",
            "Value: 53, Address: 10752520\n",
            "Value: 54, Address: 10752552\n",
            "Value: 55, Address: 10752584\n",
            "Value: 56, Address: 10752616\n",
            "Value: 57, Address: 10752648\n",
            "Value: 58, Address: 10752680\n",
            "Value: 59, Address: 10752712\n",
            "Value: 60, Address: 10752744\n",
            "Value: 61, Address: 10752776\n",
            "Value: 62, Address: 10752808\n",
            "Value: 63, Address: 10752840\n",
            "Value: 64, Address: 10752872\n",
            "Value: 65, Address: 10752904\n",
            "Value: 66, Address: 10752936\n",
            "Value: 67, Address: 10752968\n",
            "Value: 68, Address: 10753000\n",
            "Value: 69, Address: 10753032\n",
            "Value: 70, Address: 10753064\n",
            "Value: 71, Address: 10753096\n",
            "Value: 72, Address: 10753128\n",
            "Value: 73, Address: 10753160\n",
            "Value: 74, Address: 10753192\n",
            "Value: 75, Address: 10753224\n",
            "Value: 76, Address: 10753256\n",
            "Value: 77, Address: 10753288\n",
            "Value: 78, Address: 10753320\n",
            "Value: 79, Address: 10753352\n",
            "Value: 80, Address: 10753384\n",
            "Value: 81, Address: 10753416\n",
            "Value: 82, Address: 10753448\n",
            "Value: 83, Address: 10753480\n",
            "Value: 84, Address: 10753512\n",
            "Value: 85, Address: 10753544\n",
            "Value: 86, Address: 10753576\n",
            "Value: 87, Address: 10753608\n",
            "Value: 88, Address: 10753640\n",
            "Value: 89, Address: 10753672\n",
            "Value: 90, Address: 10753704\n",
            "Value: 91, Address: 10753736\n",
            "Value: 92, Address: 10753768\n",
            "Value: 93, Address: 10753800\n",
            "Value: 94, Address: 10753832\n",
            "Value: 95, Address: 10753864\n",
            "Value: 96, Address: 10753896\n",
            "Value: 97, Address: 10753928\n",
            "Value: 98, Address: 10753960\n",
            "Value: 99, Address: 10753992\n",
            "Value: 100, Address: 10754024\n",
            "Value: 101, Address: 10754056\n",
            "Value: 102, Address: 10754088\n",
            "Value: 103, Address: 10754120\n",
            "Value: 104, Address: 10754152\n",
            "Value: 105, Address: 10754184\n",
            "Value: 106, Address: 10754216\n",
            "Value: 107, Address: 10754248\n",
            "Value: 108, Address: 10754280\n",
            "Value: 109, Address: 10754312\n",
            "Value: 110, Address: 10754344\n",
            "Value: 111, Address: 10754376\n",
            "Value: 112, Address: 10754408\n",
            "Value: 113, Address: 10754440\n",
            "Value: 114, Address: 10754472\n",
            "Value: 115, Address: 10754504\n",
            "Value: 116, Address: 10754536\n",
            "Value: 117, Address: 10754568\n",
            "Value: 118, Address: 10754600\n",
            "Value: 119, Address: 10754632\n",
            "Value: 120, Address: 10754664\n",
            "Value: 121, Address: 10754696\n",
            "Value: 122, Address: 10754728\n",
            "Value: 123, Address: 10754760\n",
            "Value: 124, Address: 10754792\n",
            "Value: 125, Address: 10754824\n",
            "Value: 126, Address: 10754856\n",
            "Value: 127, Address: 10754888\n",
            "Value: 128, Address: 10754920\n",
            "Value: 129, Address: 10754952\n",
            "Value: 130, Address: 10754984\n",
            "Value: 131, Address: 10755016\n",
            "Value: 132, Address: 10755048\n",
            "Value: 133, Address: 10755080\n",
            "Value: 134, Address: 10755112\n",
            "Value: 135, Address: 10755144\n",
            "Value: 136, Address: 10755176\n",
            "Value: 137, Address: 10755208\n",
            "Value: 138, Address: 10755240\n",
            "Value: 139, Address: 10755272\n",
            "Value: 140, Address: 10755304\n",
            "Value: 141, Address: 10755336\n",
            "Value: 142, Address: 10755368\n",
            "Value: 143, Address: 10755400\n",
            "Value: 144, Address: 10755432\n",
            "Value: 145, Address: 10755464\n",
            "Value: 146, Address: 10755496\n",
            "Value: 147, Address: 10755528\n",
            "Value: 148, Address: 10755560\n",
            "Value: 149, Address: 10755592\n",
            "Value: 150, Address: 10755624\n",
            "Value: 151, Address: 10755656\n",
            "Value: 152, Address: 10755688\n",
            "Value: 153, Address: 10755720\n",
            "Value: 154, Address: 10755752\n",
            "Value: 155, Address: 10755784\n",
            "Value: 156, Address: 10755816\n",
            "Value: 157, Address: 10755848\n",
            "Value: 158, Address: 10755880\n",
            "Value: 159, Address: 10755912\n",
            "Value: 160, Address: 10755944\n",
            "Value: 161, Address: 10755976\n",
            "Value: 162, Address: 10756008\n",
            "Value: 163, Address: 10756040\n",
            "Value: 164, Address: 10756072\n",
            "Value: 165, Address: 10756104\n",
            "Value: 166, Address: 10756136\n",
            "Value: 167, Address: 10756168\n",
            "Value: 168, Address: 10756200\n",
            "Value: 169, Address: 10756232\n",
            "Value: 170, Address: 10756264\n",
            "Value: 171, Address: 10756296\n",
            "Value: 172, Address: 10756328\n",
            "Value: 173, Address: 10756360\n",
            "Value: 174, Address: 10756392\n",
            "Value: 175, Address: 10756424\n",
            "Value: 176, Address: 10756456\n",
            "Value: 177, Address: 10756488\n",
            "Value: 178, Address: 10756520\n",
            "Value: 179, Address: 10756552\n",
            "Value: 180, Address: 10756584\n",
            "Value: 181, Address: 10756616\n",
            "Value: 182, Address: 10756648\n",
            "Value: 183, Address: 10756680\n",
            "Value: 184, Address: 10756712\n",
            "Value: 185, Address: 10756744\n",
            "Value: 186, Address: 10756776\n",
            "Value: 187, Address: 10756808\n",
            "Value: 188, Address: 10756840\n",
            "Value: 189, Address: 10756872\n",
            "Value: 190, Address: 10756904\n",
            "Value: 191, Address: 10756936\n",
            "Value: 192, Address: 10756968\n",
            "Value: 193, Address: 10757000\n",
            "Value: 194, Address: 10757032\n",
            "Value: 195, Address: 10757064\n",
            "Value: 196, Address: 10757096\n",
            "Value: 197, Address: 10757128\n",
            "Value: 198, Address: 10757160\n",
            "Value: 199, Address: 10757192\n",
            "Value: 200, Address: 10757224\n",
            "Value: 201, Address: 10757256\n",
            "Value: 202, Address: 10757288\n",
            "Value: 203, Address: 10757320\n",
            "Value: 204, Address: 10757352\n",
            "Value: 205, Address: 10757384\n",
            "Value: 206, Address: 10757416\n",
            "Value: 207, Address: 10757448\n",
            "Value: 208, Address: 10757480\n",
            "Value: 209, Address: 10757512\n",
            "Value: 210, Address: 10757544\n",
            "Value: 211, Address: 10757576\n",
            "Value: 212, Address: 10757608\n",
            "Value: 213, Address: 10757640\n",
            "Value: 214, Address: 10757672\n",
            "Value: 215, Address: 10757704\n",
            "Value: 216, Address: 10757736\n",
            "Value: 217, Address: 10757768\n",
            "Value: 218, Address: 10757800\n",
            "Value: 219, Address: 10757832\n",
            "Value: 220, Address: 10757864\n",
            "Value: 221, Address: 10757896\n",
            "Value: 222, Address: 10757928\n",
            "Value: 223, Address: 10757960\n",
            "Value: 224, Address: 10757992\n",
            "Value: 225, Address: 10758024\n",
            "Value: 226, Address: 10758056\n",
            "Value: 227, Address: 10758088\n",
            "Value: 228, Address: 10758120\n",
            "Value: 229, Address: 10758152\n",
            "Value: 230, Address: 10758184\n",
            "Value: 231, Address: 10758216\n",
            "Value: 232, Address: 10758248\n",
            "Value: 233, Address: 10758280\n",
            "Value: 234, Address: 10758312\n",
            "Value: 235, Address: 10758344\n",
            "Value: 236, Address: 10758376\n",
            "Value: 237, Address: 10758408\n",
            "Value: 238, Address: 10758440\n",
            "Value: 239, Address: 10758472\n",
            "Value: 240, Address: 10758504\n",
            "Value: 241, Address: 10758536\n",
            "Value: 242, Address: 10758568\n",
            "Value: 243, Address: 10758600\n",
            "Value: 244, Address: 10758632\n",
            "Value: 245, Address: 10758664\n",
            "Value: 246, Address: 10758696\n",
            "Value: 247, Address: 10758728\n",
            "Value: 248, Address: 10758760\n",
            "Value: 249, Address: 10758792\n",
            "Value: 250, Address: 10758824\n",
            "Value: 251, Address: 10758856\n",
            "Value: 252, Address: 10758888\n",
            "Value: 253, Address: 10758920\n",
            "Value: 254, Address: 10758952\n",
            "Value: 255, Address: 10758984\n",
            "Value: 256, Address: 10759016\n",
            "Value: 257, Address: 134124338234832\n",
            "Value: 258, Address: 134124338239216\n",
            "Value: 259, Address: 134124338241968\n"
          ]
        }
      ]
    },
    {
      "cell_type": "markdown",
      "source": [
        "Note : \"is\" operator in python for identity comparison\n",
        "\n",
        "The operator a is b returns True if a and b are bound to the same object"
      ],
      "metadata": {
        "id": "yP4Bu9Gl_I8s"
      }
    },
    {
      "cell_type": "code",
      "source": [
        "#What will be the output of the following code?\n",
        "\n",
        "a = 256\n",
        "b = 256\n",
        "print(a is b)  # Line 1\n",
        "\n",
        "c = 257\n",
        "d = 257\n",
        "print(c is d)  # Line 2\n"
      ],
      "metadata": {
        "colab": {
          "base_uri": "https://localhost:8080/"
        },
        "id": "iNT_x5Yz_bK8",
        "outputId": "ec61acec-fcdd-440d-95d0-5cccf4088c7c"
      },
      "execution_count": 1,
      "outputs": [
        {
          "output_type": "stream",
          "name": "stdout",
          "text": [
            "True\n",
            "False\n"
          ]
        }
      ]
    },
    {
      "cell_type": "markdown",
      "source": [
        "Line 1: True (256 is within the cached range of -5 to 256 in CPython).\n",
        "\n",
        "Line 2: False (257 is outside the cached range, so separate objects are created for c and d)."
      ],
      "metadata": {
        "id": "OMSLU4lT_qy_"
      }
    },
    {
      "cell_type": "markdown",
      "source": [
        "Additional Notes:\n",
        "\n",
        "Performance of Integers - Are Python integers slower than integers in languages like C? Why?\n",
        "\n",
        "Yes, Python integers are slower because:\n",
        "\n",
        "-They are objects with metadata (e.g., reference count, type information).\n",
        "-They support arbitrary precision, unlike fixed-size integers in C.\n",
        "\n",
        "However, this abstraction makes Python integers easier to use.\n"
      ],
      "metadata": {
        "id": "Pox-sWO5BPOh"
      }
    },
    {
      "cell_type": "code",
      "source": [
        "# represent integers in different bases (binary, octal, hexadecimal)\n",
        "print(0b1010)  # Binary\n",
        "print(0o12)    # Octal\n",
        "print(0xA)     # Hexadecimal\n",
        "\n",
        "# example addition\n",
        "a= 0b1011 # number 11 in binary\n",
        "b= 0o12  # number 10 in Octal\n",
        "\n",
        "print(a+b) # sum = 11 + 10 i decimal"
      ],
      "metadata": {
        "colab": {
          "base_uri": "https://localhost:8080/"
        },
        "id": "svZqyoy7mbHm",
        "outputId": "9da855df-8f2e-4a5d-f028-4313c30ba202"
      },
      "execution_count": 5,
      "outputs": [
        {
          "output_type": "stream",
          "name": "stdout",
          "text": [
            "10\n",
            "10\n",
            "10\n",
            "21\n"
          ]
        }
      ]
    },
    {
      "cell_type": "markdown",
      "source": [
        "**Qtn** :  What happens if you assign a very large integer in Python? Will it cause an overflow?\n",
        "\n",
        "Python integers have arbitrary precision, so they won't overflow."
      ],
      "metadata": {
        "id": "eY_Mt9bfnTYA"
      }
    },
    {
      "cell_type": "code",
      "source": [
        "# Type Conversion and Integer Operations\n",
        "\n",
        "print(5 / 2)    # Division  / always returns a float.\n",
        "print(5 // 2)   # Floor division // performs floor division and returns an integer (or float if one operand is a float).\n"
      ],
      "metadata": {
        "colab": {
          "base_uri": "https://localhost:8080/"
        },
        "id": "vkyhhX6knlkK",
        "outputId": "4f862316-2522-4389-aead-329aaf172120"
      },
      "execution_count": 6,
      "outputs": [
        {
          "output_type": "stream",
          "name": "stdout",
          "text": [
            "2.5\n",
            "2\n"
          ]
        }
      ]
    },
    {
      "cell_type": "markdown",
      "source": [
        "\n",
        "Python offers the **random module** to generate random numbers or to pick a random item from an iterator.\n",
        "\n",
        "Python offers the **math module** to carry out different mathematics like trigonometry, logarithms, probability and statistics"
      ],
      "metadata": {
        "id": "2lhBvtqnoZK2"
      }
    },
    {
      "cell_type": "code",
      "source": [
        "import random\n",
        "\n",
        "# Random float between 0.0 and 1.0\n",
        "print(\"Random float (0 to 1):\", random.random())\n",
        "\n",
        "# Random integer between 10 and 20\n",
        "print(\"Random integer (10 to 20):\", random.randint(10, 20))\n",
        "\n",
        "# Random float between 5.5 and 10.5\n",
        "print(\"Random float (5.5 to 10.5):\", random.uniform(5.5, 10.5))\n",
        "\n",
        "\n",
        "###########  Generate Random Numbers from Distributions   ##########\n",
        "# Gaussian distribution with mean=0, std dev=1\n",
        "print(\"Gaussian random number:\", random.gauss(0, 1))\n",
        "\n",
        "# Exponential distribution with lambda=1\n",
        "print(\"Exponential random number:\", random.expovariate(1))\n",
        "\n"
      ],
      "metadata": {
        "colab": {
          "base_uri": "https://localhost:8080/"
        },
        "id": "CtmogDkdoy8J",
        "outputId": "2325d9f5-6b0c-49db-8f85-b0b2f1251eec"
      },
      "execution_count": 8,
      "outputs": [
        {
          "output_type": "stream",
          "name": "stdout",
          "text": [
            "Random float (0 to 1): 0.509355978915773\n",
            "Random integer (10 to 20): 13\n",
            "Random float (5.5 to 10.5): 7.714991043940374\n",
            "Gaussian random number: -1.857230923917967\n",
            "Exponential random number: 0.7598524181709091\n"
          ]
        }
      ]
    },
    {
      "cell_type": "code",
      "source": [
        "import math\n",
        "\n",
        "print(\"Square root of 16:\", math.sqrt(16))\n",
        "print(\"2 raised to the power of 3:\", math.pow(2, 3))\n",
        "print(\"Ceiling of 3.7:\", math.ceil(3.7))\n",
        "print(\"Floor of 3.7:\", math.floor(3.7))\n",
        "print(\"Absolute value of -5:\", math.fabs(-5))\n",
        "\n",
        "print(\"Logarithm base e of 10:\", math.log(10))\n",
        "print(\"Logarithm base 10 of 100:\", math.log10(100))\n",
        "print(\"Logarithm base 2 of 8:\", math.log2(8))\n",
        "\n",
        "\n",
        "angle = math.radians(30)  # Convert 30 degrees to radians\n",
        "print(\"Sine of 30 degrees:\", math.sin(angle))\n",
        "print(\"Cosine of 30 degrees:\", math.cos(angle))\n",
        "print(\"Tangent of 30 degrees:\", math.tan(angle))\n",
        "print(\"Convert π/6 radians to degrees:\", math.degrees(math.pi / 6))\n",
        "\n",
        "print(\"Factorial of 5:\", math.factorial(5))\n",
        "print(\"GCD of 48 and 18:\", math.gcd(48, 18))\n",
        "\n"
      ],
      "metadata": {
        "colab": {
          "base_uri": "https://localhost:8080/"
        },
        "id": "zGmetti2pEVK",
        "outputId": "5b5b74a5-8536-449d-edaf-47e1759a1adb"
      },
      "execution_count": 11,
      "outputs": [
        {
          "output_type": "stream",
          "name": "stdout",
          "text": [
            "Square root of 16: 4.0\n",
            "2 raised to the power of 3: 8.0\n",
            "Ceiling of 3.7: 4\n",
            "Floor of 3.7: 3\n",
            "Absolute value of -5: 5.0\n",
            "Logarithm base e of 10: 2.302585092994046\n",
            "Logarithm base 10 of 100: 2.0\n",
            "Logarithm base 2 of 8: 3.0\n",
            "Sine of 30 degrees: 0.49999999999999994\n",
            "Cosine of 30 degrees: 0.8660254037844387\n",
            "Tangent of 30 degrees: 0.5773502691896257\n",
            "Convert π/6 radians to degrees: 29.999999999999996\n"
          ]
        }
      ]
    },
    {
      "cell_type": "markdown",
      "source": [
        "### **Python Strings**"
      ],
      "metadata": {
        "id": "JQ4hwUTdlBaW"
      }
    }
  ]
}