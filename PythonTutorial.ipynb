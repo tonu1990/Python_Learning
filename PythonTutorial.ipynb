{
  "nbformat": 4,
  "nbformat_minor": 0,
  "metadata": {
    "colab": {
      "provenance": [],
      "authorship_tag": "ABX9TyO/Q5CslHN/8jdMxroCmHrm",
      "include_colab_link": true
    },
    "kernelspec": {
      "name": "python3",
      "display_name": "Python 3"
    },
    "language_info": {
      "name": "python"
    }
  },
  "cells": [
    {
      "cell_type": "markdown",
      "metadata": {
        "id": "view-in-github",
        "colab_type": "text"
      },
      "source": [
        "<a href=\"https://colab.research.google.com/github/tonu1990/Python_Learning/blob/main/PythonTutorial.ipynb\" target=\"_parent\"><img src=\"https://colab.research.google.com/assets/colab-badge.svg\" alt=\"Open In Colab\"/></a>"
      ]
    },
    {
      "cell_type": "markdown",
      "source": [
        "Assigning values to Variables in Python"
      ],
      "metadata": {
        "id": "1W3K7eNRNXSh"
      }
    },
    {
      "cell_type": "code",
      "execution_count": 1,
      "metadata": {
        "colab": {
          "base_uri": "https://localhost:8080/"
        },
        "id": "WQHQJ9MqK-fo",
        "outputId": "8ada4337-d203-4706-8618-7cac4f624bbd"
      },
      "outputs": [
        {
          "output_type": "stream",
          "name": "stdout",
          "text": [
            "Dublin\n"
          ]
        }
      ],
      "source": [
        "# assign value to site_name variable\n",
        "\n",
        "site_name = 'Dublin'\n",
        "\n",
        "print(site_name)"
      ]
    },
    {
      "cell_type": "code",
      "source": [
        "#Triple Quotes in Python -  write strings that span multiple lines\n",
        "\n",
        "mul_line_statement = \"\"\" Hello All ,\n",
        "this is an example of ....,\n",
        "Multiline Statement...\n",
        "Lets print it now ...\"\"\"\n",
        "\n",
        "print(mul_line_statement)"
      ],
      "metadata": {
        "colab": {
          "base_uri": "https://localhost:8080/"
        },
        "id": "fMvn96_tmqm-",
        "outputId": "cc705f91-e7ac-499f-8da1-d83f940a7424"
      },
      "execution_count": 2,
      "outputs": [
        {
          "output_type": "stream",
          "name": "stdout",
          "text": [
            " Hello All , \n",
            "this is an example of ....,\n",
            "Multiline Statement...\n",
            "Lets print it now ...\n"
          ]
        }
      ]
    }
  ]
}