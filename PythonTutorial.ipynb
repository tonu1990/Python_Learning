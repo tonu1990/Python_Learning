{
  "nbformat": 4,
  "nbformat_minor": 0,
  "metadata": {
    "colab": {
      "provenance": [],
      "authorship_tag": "ABX9TyPacUwYJZ4tHuUlAxhMb5fM",
      "include_colab_link": true
    },
    "kernelspec": {
      "name": "python3",
      "display_name": "Python 3"
    },
    "language_info": {
      "name": "python"
    }
  },
  "cells": [
    {
      "cell_type": "markdown",
      "metadata": {
        "id": "view-in-github",
        "colab_type": "text"
      },
      "source": [
        "<a href=\"https://colab.research.google.com/github/tonu1990/Python_Learning/blob/main/PythonTutorial.ipynb\" target=\"_parent\"><img src=\"https://colab.research.google.com/assets/colab-badge.svg\" alt=\"Open In Colab\"/></a>"
      ]
    },
    {
      "cell_type": "code",
      "source": [
        "!git clone https://github.com/tonu1990/Python_Learning.git\n"
      ],
      "metadata": {
        "colab": {
          "base_uri": "https://localhost:8080/"
        },
        "id": "g5vt9ncJ1ZMB",
        "outputId": "6d9d9117-258c-4494-b65c-c7d04c649726"
      },
      "execution_count": 8,
      "outputs": [
        {
          "output_type": "stream",
          "name": "stdout",
          "text": [
            "Cloning into 'Python_Learning'...\n",
            "remote: Enumerating objects: 7, done.\u001b[K\n",
            "remote: Counting objects: 100% (7/7), done.\u001b[K\n",
            "remote: Compressing objects: 100% (5/5), done.\u001b[K\n",
            "remote: Total 7 (delta 0), reused 0 (delta 0), pack-reused 0 (from 0)\u001b[K\n",
            "Receiving objects: 100% (7/7), done.\n"
          ]
        }
      ]
    },
    {
      "cell_type": "code",
      "source": [
        "cd Python_Learning\n"
      ],
      "metadata": {
        "colab": {
          "base_uri": "https://localhost:8080/"
        },
        "id": "rGH0pvi010Lv",
        "outputId": "e61f989c-f0ea-4137-fbf8-9cebda1ccad9"
      },
      "execution_count": 9,
      "outputs": [
        {
          "output_type": "stream",
          "name": "stdout",
          "text": [
            "/content/Python_Learning\n"
          ]
        }
      ]
    },
    {
      "cell_type": "code",
      "source": [
        "!mv /content/PythonTutorial.ipynb Python_Basics/"
      ],
      "metadata": {
        "colab": {
          "base_uri": "https://localhost:8080/"
        },
        "id": "ULQGpnOV7ExH",
        "outputId": "2596d2fc-26f8-4a9b-8364-cbbc974b476c"
      },
      "execution_count": 12,
      "outputs": [
        {
          "output_type": "stream",
          "name": "stdout",
          "text": [
            "mv: cannot stat '/content/PythonTutorial.ipynb': No such file or directory\n"
          ]
        }
      ]
    },
    {
      "cell_type": "markdown",
      "source": [
        "Assigning values to Variables in Python"
      ],
      "metadata": {
        "id": "1W3K7eNRNXSh"
      }
    },
    {
      "cell_type": "code",
      "execution_count": null,
      "metadata": {
        "colab": {
          "base_uri": "https://localhost:8080/"
        },
        "id": "WQHQJ9MqK-fo",
        "outputId": "8ada4337-d203-4706-8618-7cac4f624bbd"
      },
      "outputs": [
        {
          "output_type": "stream",
          "name": "stdout",
          "text": [
            "Dublin\n"
          ]
        }
      ],
      "source": [
        "# assign value to site_name variable\n",
        "\n",
        "site_name = 'Dublin'\n",
        "\n",
        "print(site_name)"
      ]
    },
    {
      "cell_type": "code",
      "source": [
        "#Triple Quotes in Python -  write strings that span multiple lines\n",
        "\n",
        "mul_line_statement = \"\"\" Hello All ,\n",
        "this is an example of ....,\n",
        "Multiline Statement...\n",
        "Lets print it now ...\"\"\"\n",
        "\n",
        "print(mul_line_statement)"
      ],
      "metadata": {
        "colab": {
          "base_uri": "https://localhost:8080/"
        },
        "id": "fMvn96_tmqm-",
        "outputId": "cc705f91-e7ac-499f-8da1-d83f940a7424"
      },
      "execution_count": null,
      "outputs": [
        {
          "output_type": "stream",
          "name": "stdout",
          "text": [
            " Hello All , \n",
            "this is an example of ....,\n",
            "Multiline Statement...\n",
            "Lets print it now ...\n"
          ]
        }
      ]
    }
  ]
}