{
  "nbformat": 4,
  "nbformat_minor": 0,
  "metadata": {
    "colab": {
      "provenance": [],
      "authorship_tag": "ABX9TyPYuxvrQpaWxf7Nrg7mJkxa",
      "include_colab_link": true
    },
    "kernelspec": {
      "name": "python3",
      "display_name": "Python 3"
    },
    "language_info": {
      "name": "python"
    }
  },
  "cells": [
    {
      "cell_type": "markdown",
      "metadata": {
        "id": "view-in-github",
        "colab_type": "text"
      },
      "source": [
        "<a href=\"https://colab.research.google.com/github/tonu1990/Python_Learning/blob/main/Python_Basics%20/1_PythonBasics.ipynb\" target=\"_parent\"><img src=\"https://colab.research.google.com/assets/colab-badge.svg\" alt=\"Open In Colab\"/></a>"
      ]
    },
    {
      "cell_type": "markdown",
      "source": [
        "Python is **interpreted programing language** and at the same time a **scripting language** .\n",
        "\n",
        "\n",
        "1.   A high-level programming language that is interpreted by another program at runtime (interpreted programming language )\n",
        "\n",
        "2.  Python is a scripting language -  a type of programming language specifically designed for automating tasks.  But remeber python is not a client side scripting language because it doesn't run directly in the browser, as like JavaScript run on the user's browser. However Python is a powerful **server-side scripting language**.\n",
        "Server-side scripting refers to scripts that run on a web server, often used to handle user requests, interact with databases, or generate dynamic content for web pages.Frameworks like **Django and Flask** make Python popular for web development, enabling database manipulation and dynamic content delivery.\n"
      ],
      "metadata": {
        "id": "Ic6VXJVwnR_v"
      }
    },
    {
      "cell_type": "markdown",
      "source": [
        "**Python comments** - Single line comments and multi line comments ;\n",
        "\n",
        "\n",
        "1.   Using # , which is the appropriate one for comment\n",
        "2.   using string literals - A string literal, whether it spans one line or multiple lines, is not ignored by the Python interpreter.\n"
      ],
      "metadata": {
        "id": "abTkqzHetPXK"
      }
    },
    {
      "cell_type": "code",
      "source": [
        "# this single line comment using #\n",
        "\n",
        "\n",
        "'''This is an\n",
        "examaple of string literal comment\n",
        "using single quotes '''\n",
        "\n",
        "\n",
        "# This is an\n",
        "# examaple of multi line comment\n",
        "# using #"
      ],
      "metadata": {
        "colab": {
          "base_uri": "https://localhost:8080/",
          "height": 35
        },
        "id": "mRyDdEKaulpD",
        "outputId": "fdd1baad-c679-45da-b40d-e01c107fd07e"
      },
      "execution_count": 4,
      "outputs": [
        {
          "output_type": "execute_result",
          "data": {
            "text/plain": [
              "'This is an \\nexamaple of string literal comment \\nusing single quotes '"
            ],
            "application/vnd.google.colaboratory.intrinsic+json": {
              "type": "string"
            }
          },
          "metadata": {},
          "execution_count": 4
        }
      ]
    },
    {
      "cell_type": "markdown",
      "source": [
        "**Assigning values to Variables in Python**"
      ],
      "metadata": {
        "id": "1W3K7eNRNXSh"
      }
    },
    {
      "cell_type": "code",
      "execution_count": 6,
      "metadata": {
        "colab": {
          "base_uri": "https://localhost:8080/"
        },
        "id": "WQHQJ9MqK-fo",
        "outputId": "736737cd-d23a-4e7e-caf2-2e1da6e9a4c9"
      },
      "outputs": [
        {
          "output_type": "stream",
          "name": "stdout",
          "text": [
            "Dublin\n"
          ]
        }
      ],
      "source": [
        "# assign value to site_name variable\n",
        "\n",
        "site_name = 'Dublin'\n",
        "\n",
        "print(site_name)"
      ]
    },
    {
      "cell_type": "code",
      "source": [
        "#Triple Quotes in Python -  write strings that span multiple lines\n",
        "\n",
        "mul_line_statement = \"\"\" Hello All ,\n",
        "this is an example of ....,\n",
        "Multiline Statement...\n",
        "Lets print it now ...\"\"\"\n",
        "\n",
        "print(mul_line_statement)"
      ],
      "metadata": {
        "colab": {
          "base_uri": "https://localhost:8080/"
        },
        "id": "fMvn96_tmqm-",
        "outputId": "fbef87e7-b765-43b8-f385-d92d5a4d8060"
      },
      "execution_count": 5,
      "outputs": [
        {
          "output_type": "stream",
          "name": "stdout",
          "text": [
            " Hello All ,\n",
            "this is an example of ....,\n",
            "Multiline Statement...\n",
            "Lets print it now ...\n"
          ]
        }
      ]
    },
    {
      "cell_type": "code",
      "source": [
        "# Assigning multiple values to multiple variables\n",
        "\n",
        "a, b, c , d = 5, 3.2, 'Hello' , \"Tonu\"\n",
        "\n",
        "print(a)\n",
        "print(b)\n",
        "print(c)\n",
        "print(d)"
      ],
      "metadata": {
        "colab": {
          "base_uri": "https://localhost:8080/"
        },
        "id": "0rT_TC8Pzrcb",
        "outputId": "59ce2310-78b2-4a0b-a5dc-bb2d67b0d52e"
      },
      "execution_count": 8,
      "outputs": [
        {
          "output_type": "stream",
          "name": "stdout",
          "text": [
            "5\n",
            "3.2\n",
            "Hello\n",
            "Tonu\n"
          ]
        }
      ]
    },
    {
      "cell_type": "code",
      "source": [
        "# concatenation operator + on variables\n",
        "\n",
        "print (a+b)\n",
        "print(c+d)\n"
      ],
      "metadata": {
        "colab": {
          "base_uri": "https://localhost:8080/"
        },
        "id": "P_O7i_58z8bP",
        "outputId": "683416f9-c4d4-4c04-a161-b6d22f4f84df"
      },
      "execution_count": 9,
      "outputs": [
        {
          "output_type": "stream",
          "name": "stdout",
          "text": [
            "8.2\n",
            "HelloTonu\n"
          ]
        }
      ]
    },
    {
      "cell_type": "code",
      "source": [
        "# concatenate + with string and integer\n",
        "\n",
        "# this will give error\n",
        "\n",
        "print(b+c)"
      ],
      "metadata": {
        "colab": {
          "base_uri": "https://localhost:8080/",
          "height": 176
        },
        "id": "Xox90D3O0Sr1",
        "outputId": "56d2e113-f856-41a9-a0bc-b0db1556c827"
      },
      "execution_count": 10,
      "outputs": [
        {
          "output_type": "error",
          "ename": "TypeError",
          "evalue": "unsupported operand type(s) for +: 'float' and 'str'",
          "traceback": [
            "\u001b[0;31m---------------------------------------------------------------------------\u001b[0m",
            "\u001b[0;31mTypeError\u001b[0m                                 Traceback (most recent call last)",
            "\u001b[0;32m<ipython-input-10-47d27f90e239>\u001b[0m in \u001b[0;36m<cell line: 0>\u001b[0;34m()\u001b[0m\n\u001b[1;32m      1\u001b[0m \u001b[0;31m# concatenate + with string and integer\u001b[0m\u001b[0;34m\u001b[0m\u001b[0;34m\u001b[0m\u001b[0m\n\u001b[1;32m      2\u001b[0m \u001b[0;34m\u001b[0m\u001b[0m\n\u001b[0;32m----> 3\u001b[0;31m \u001b[0mprint\u001b[0m\u001b[0;34m(\u001b[0m\u001b[0mb\u001b[0m\u001b[0;34m+\u001b[0m\u001b[0mc\u001b[0m\u001b[0;34m)\u001b[0m\u001b[0;34m\u001b[0m\u001b[0;34m\u001b[0m\u001b[0m\n\u001b[0m",
            "\u001b[0;31mTypeError\u001b[0m: unsupported operand type(s) for +: 'float' and 'str'"
          ]
        }
      ]
    },
    {
      "cell_type": "markdown",
      "source": [
        "**Datatypes in Python**"
      ],
      "metadata": {
        "id": "ZyrUAfTZ0hyx"
      }
    }
  ]
}